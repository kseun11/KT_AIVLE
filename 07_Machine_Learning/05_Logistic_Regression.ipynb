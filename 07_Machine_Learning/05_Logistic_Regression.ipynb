{
 "cells": [
  {
   "cell_type": "markdown",
   "id": "c4369c78",
   "metadata": {},
   "source": [
    "## Logistic Regresion"
   ]
  },
  {
   "cell_type": "markdown",
   "id": "be9ccfba",
   "metadata": {},
   "source": [
    "### 1. 환경준비"
   ]
  },
  {
   "cell_type": "code",
   "execution_count": 1,
   "id": "53b36994",
   "metadata": {},
   "outputs": [],
   "source": [
    "import numpy as np\n",
    "import pandas as pd\n",
    "import matplotlib.pyplot as plt\n",
    "import seaborn as sns\n",
    "\n",
    "from sklearn.model_selection import train_test_split\n",
    "\n",
    "import warnings    # 경고메시지 제외\n",
    "warnings.filterwarnings(action='ignore')"
   ]
  },
  {
   "cell_type": "code",
   "execution_count": 2,
   "id": "88efc6e4",
   "metadata": {},
   "outputs": [
    {
     "data": {
      "text/html": [
       "<div>\n",
       "<style scoped>\n",
       "    .dataframe tbody tr th:only-of-type {\n",
       "        vertical-align: middle;\n",
       "    }\n",
       "\n",
       "    .dataframe tbody tr th {\n",
       "        vertical-align: top;\n",
       "    }\n",
       "\n",
       "    .dataframe thead th {\n",
       "        text-align: right;\n",
       "    }\n",
       "</style>\n",
       "<table border=\"1\" class=\"dataframe\">\n",
       "  <thead>\n",
       "    <tr style=\"text-align: right;\">\n",
       "      <th></th>\n",
       "      <th>Attrition</th>\n",
       "      <th>Age</th>\n",
       "      <th>DistanceFromHome</th>\n",
       "      <th>EmployeeNumber</th>\n",
       "      <th>Gender</th>\n",
       "      <th>JobSatisfaction</th>\n",
       "      <th>MaritalStatus</th>\n",
       "      <th>MonthlyIncome</th>\n",
       "      <th>OverTime</th>\n",
       "      <th>PercentSalaryHike</th>\n",
       "      <th>TotalWorkingYears</th>\n",
       "    </tr>\n",
       "  </thead>\n",
       "  <tbody>\n",
       "    <tr>\n",
       "      <th>0</th>\n",
       "      <td>0</td>\n",
       "      <td>33</td>\n",
       "      <td>7</td>\n",
       "      <td>817</td>\n",
       "      <td>Male</td>\n",
       "      <td>3</td>\n",
       "      <td>Married</td>\n",
       "      <td>11691</td>\n",
       "      <td>No</td>\n",
       "      <td>11</td>\n",
       "      <td>14</td>\n",
       "    </tr>\n",
       "    <tr>\n",
       "      <th>1</th>\n",
       "      <td>0</td>\n",
       "      <td>35</td>\n",
       "      <td>18</td>\n",
       "      <td>1412</td>\n",
       "      <td>Male</td>\n",
       "      <td>4</td>\n",
       "      <td>Single</td>\n",
       "      <td>9362</td>\n",
       "      <td>No</td>\n",
       "      <td>11</td>\n",
       "      <td>10</td>\n",
       "    </tr>\n",
       "    <tr>\n",
       "      <th>2</th>\n",
       "      <td>0</td>\n",
       "      <td>42</td>\n",
       "      <td>6</td>\n",
       "      <td>1911</td>\n",
       "      <td>Male</td>\n",
       "      <td>1</td>\n",
       "      <td>Married</td>\n",
       "      <td>13348</td>\n",
       "      <td>No</td>\n",
       "      <td>13</td>\n",
       "      <td>18</td>\n",
       "    </tr>\n",
       "    <tr>\n",
       "      <th>3</th>\n",
       "      <td>0</td>\n",
       "      <td>46</td>\n",
       "      <td>2</td>\n",
       "      <td>1204</td>\n",
       "      <td>Female</td>\n",
       "      <td>1</td>\n",
       "      <td>Married</td>\n",
       "      <td>17048</td>\n",
       "      <td>No</td>\n",
       "      <td>23</td>\n",
       "      <td>28</td>\n",
       "    </tr>\n",
       "    <tr>\n",
       "      <th>4</th>\n",
       "      <td>1</td>\n",
       "      <td>22</td>\n",
       "      <td>4</td>\n",
       "      <td>593</td>\n",
       "      <td>Male</td>\n",
       "      <td>3</td>\n",
       "      <td>Single</td>\n",
       "      <td>3894</td>\n",
       "      <td>No</td>\n",
       "      <td>16</td>\n",
       "      <td>4</td>\n",
       "    </tr>\n",
       "  </tbody>\n",
       "</table>\n",
       "</div>"
      ],
      "text/plain": [
       "   Attrition  Age  DistanceFromHome  EmployeeNumber  Gender  JobSatisfaction  \\\n",
       "0          0   33                 7             817    Male                3   \n",
       "1          0   35                18            1412    Male                4   \n",
       "2          0   42                 6            1911    Male                1   \n",
       "3          0   46                 2            1204  Female                1   \n",
       "4          1   22                 4             593    Male                3   \n",
       "\n",
       "  MaritalStatus  MonthlyIncome OverTime  PercentSalaryHike  TotalWorkingYears  \n",
       "0       Married          11691       No                 11                 14  \n",
       "1        Single           9362       No                 11                 10  \n",
       "2       Married          13348       No                 13                 18  \n",
       "3       Married          17048       No                 23                 28  \n",
       "4        Single           3894       No                 16                  4  "
      ]
     },
     "execution_count": 2,
     "metadata": {},
     "output_type": "execute_result"
    }
   ],
   "source": [
    "path = \"https://raw.githubusercontent.com/DA4BAM/dataset/master/Attrition_simple2.CSV\"\n",
    "data = pd.read_csv(path)\n",
    "data.head()"
   ]
  },
  {
   "cell_type": "markdown",
   "id": "ffbe1fc0",
   "metadata": {},
   "source": [
    "### 2. 데이터 준비"
   ]
  },
  {
   "cell_type": "code",
   "execution_count": 3,
   "id": "1223f97c",
   "metadata": {},
   "outputs": [],
   "source": [
    "# EmployeeNumber drop\n",
    "data.drop('EmployeeNumber', axis=1, inplace=True)"
   ]
  },
  {
   "cell_type": "code",
   "execution_count": 4,
   "id": "5c6b8822",
   "metadata": {},
   "outputs": [],
   "source": [
    "# x, y 나누기\n",
    "target = 'Attrition'\n",
    "x = data.drop(target, axis=1)\n",
    "y = data.loc[:, target]"
   ]
  },
  {
   "cell_type": "code",
   "execution_count": null,
   "id": "13f077f7",
   "metadata": {},
   "outputs": [],
   "source": [
    "# NA 조치"
   ]
  },
  {
   "cell_type": "code",
   "execution_count": 5,
   "id": "c8127535",
   "metadata": {},
   "outputs": [],
   "source": [
    "# 가변수화\n",
    "cat_cols = ['Gender','JobSatisfaction','MaritalStatus','OverTime']\n",
    "x = pd.get_dummies(x, columns=cat_cols, drop_first=True)"
   ]
  },
  {
   "cell_type": "code",
   "execution_count": 6,
   "id": "c03e2408",
   "metadata": {},
   "outputs": [],
   "source": [
    "# train, valid 나누기\n",
    "x_train, x_val, y_train, y_val = train_test_split(x, y, test_size = .3, random_state = 2022)"
   ]
  },
  {
   "cell_type": "code",
   "execution_count": null,
   "id": "98ad1a51",
   "metadata": {},
   "outputs": [],
   "source": [
    "# Scaling"
   ]
  },
  {
   "cell_type": "markdown",
   "id": "a2c87228",
   "metadata": {},
   "source": [
    "### 3. 모델링"
   ]
  },
  {
   "cell_type": "code",
   "execution_count": 8,
   "id": "2c3eb935",
   "metadata": {},
   "outputs": [],
   "source": [
    "from sklearn.linear_model import LogisticRegression\n",
    "from sklearn.neighbors import KNeighborsClassifier\n",
    "from sklearn.metrics import * "
   ]
  },
  {
   "cell_type": "code",
   "execution_count": 9,
   "id": "96c38582",
   "metadata": {},
   "outputs": [],
   "source": [
    "# 모델 선언\n",
    "model = LogisticRegression()"
   ]
  },
  {
   "cell_type": "code",
   "execution_count": 10,
   "id": "aaf658f5",
   "metadata": {},
   "outputs": [
    {
     "data": {
      "text/plain": [
       "LogisticRegression()"
      ]
     },
     "execution_count": 10,
     "metadata": {},
     "output_type": "execute_result"
    }
   ],
   "source": [
    "# 학습\n",
    "model.fit(x_train, y_train)"
   ]
  },
  {
   "cell_type": "code",
   "execution_count": 12,
   "id": "01ca97f3",
   "metadata": {},
   "outputs": [
    {
     "name": "stdout",
     "output_type": "stream",
     "text": [
      "['Age', 'DistanceFromHome', 'MonthlyIncome', 'PercentSalaryHike', 'TotalWorkingYears', 'Gender_Male', 'JobSatisfaction_2', 'JobSatisfaction_3', 'JobSatisfaction_4', 'MaritalStatus_Married', 'MaritalStatus_Single', 'OverTime_Yes']\n",
      "[[-3.84351776e-02  3.84109660e-02 -7.07163728e-05 -2.82800745e-02\n",
      "  -3.93205061e-02  2.30389163e-01 -2.18808054e-01 -1.05153540e-01\n",
      "  -3.11618983e-01 -4.12369946e-01  8.41629589e-01  1.26840274e+00]]\n"
     ]
    }
   ],
   "source": [
    "# 예측\n",
    "print(list(x_train))\n",
    "print(model.coef_)"
   ]
  },
  {
   "cell_type": "code",
   "execution_count": 13,
   "id": "063de281",
   "metadata": {},
   "outputs": [
    {
     "data": {
      "text/plain": [
       "array([0, 0, 0, 0, 0, 0, 0, 1, 0, 0, 0, 0, 0, 0, 0, 0, 0, 1, 0, 0, 0, 0,\n",
       "       0, 0, 0, 0, 0, 0, 0, 0, 0, 0, 0, 0, 0, 0, 0, 0, 0, 0, 0, 0, 0, 0,\n",
       "       0, 0, 0, 0, 0, 0, 0, 0, 0, 0, 0, 0, 0, 0, 0, 0, 0, 0, 1, 0, 1, 0,\n",
       "       0, 0, 0, 0, 0, 0, 0, 0, 0, 0, 0, 0, 0, 0, 1, 0, 0, 0, 0, 0, 0, 0,\n",
       "       0, 0, 0, 0, 1, 0, 0, 0, 0, 0, 0, 0, 0, 0, 0, 0, 0, 0, 0, 0, 0, 0,\n",
       "       0, 0, 0, 0, 0, 0, 0, 0, 1, 0, 0, 0, 0, 0, 0, 0, 0, 0, 0, 1, 0, 0,\n",
       "       0, 0, 0, 0, 0, 0, 0, 0, 0, 0, 1, 0, 0, 0, 0, 0, 0, 0, 1, 0, 0, 0,\n",
       "       0, 0, 0, 0, 0, 0, 0, 0, 0, 0, 0, 0, 0, 0, 0, 1, 0, 0, 0, 0, 0, 0,\n",
       "       0, 0, 0, 0, 0, 0, 0, 0, 0, 0, 0, 0, 0, 0, 0, 0, 0, 0, 0, 1, 0, 0,\n",
       "       0, 0, 0, 0, 0, 0, 0, 0, 0, 0, 0, 0, 0, 0, 0, 0, 0, 0, 0, 0, 0, 0,\n",
       "       0, 0, 0, 0, 0, 1, 0, 0, 0, 1, 0, 0, 0, 0, 0, 0, 0, 0, 0, 0, 0, 0,\n",
       "       0, 0, 0, 0, 0, 0, 0, 0, 1, 0, 0, 0, 0, 0, 0, 0, 0, 0, 0, 0, 0, 0,\n",
       "       0, 0, 0, 0, 0, 0, 0, 0, 0, 0, 0, 0, 0, 0, 0, 0, 1, 0, 0, 0, 0, 0,\n",
       "       0, 0, 0, 0, 0, 0, 0, 0, 0, 0, 0, 0, 0, 0, 0, 0, 0, 0, 0, 0, 0, 0,\n",
       "       1, 0, 0, 0, 0, 0, 0, 0, 0, 0, 0, 0, 0, 1, 0, 0, 0, 0, 0, 0, 0, 0,\n",
       "       0, 0, 0, 0, 0, 0, 0, 0, 1, 0, 0, 0, 0, 0, 0, 1, 0, 0, 0, 0, 1, 0,\n",
       "       0, 0, 0, 0, 0, 0, 0], dtype=int64)"
      ]
     },
     "execution_count": 13,
     "metadata": {},
     "output_type": "execute_result"
    }
   ],
   "source": [
    "pred = model.predict(x_val)\n",
    "pred"
   ]
  },
  {
   "cell_type": "code",
   "execution_count": 14,
   "id": "d66f3d9c",
   "metadata": {},
   "outputs": [
    {
     "data": {
      "text/plain": [
       "0.8551532033426184"
      ]
     },
     "execution_count": 14,
     "metadata": {},
     "output_type": "execute_result"
    }
   ],
   "source": [
    "# 평가\n",
    "# 정분류율\n",
    "accuracy_score( y_val , pred )"
   ]
  },
  {
   "cell_type": "markdown",
   "id": "cb191c9c",
   "metadata": {},
   "source": [
    "### 4. 분류 모델 평가"
   ]
  },
  {
   "cell_type": "code",
   "execution_count": 15,
   "id": "26f00e5d",
   "metadata": {},
   "outputs": [
    {
     "data": {
      "text/plain": [
       "array([[293,   7],\n",
       "       [ 45,  14]], dtype=int64)"
      ]
     },
     "execution_count": 15,
     "metadata": {},
     "output_type": "execute_result"
    }
   ],
   "source": [
    "# Confusion Matrix\n",
    "confusion_matrix(y_val , pred)"
   ]
  },
  {
   "cell_type": "code",
   "execution_count": 16,
   "id": "38733e1e",
   "metadata": {},
   "outputs": [
    {
     "name": "stdout",
     "output_type": "stream",
     "text": [
      "              precision    recall  f1-score   support\n",
      "\n",
      "           0       0.87      0.98      0.92       300\n",
      "           1       0.67      0.24      0.35        59\n",
      "\n",
      "    accuracy                           0.86       359\n",
      "   macro avg       0.77      0.61      0.63       359\n",
      "weighted avg       0.83      0.86      0.83       359\n",
      "\n"
     ]
    }
   ],
   "source": [
    "# classification_report\n",
    "print(classification_report(y_val , pred  ))"
   ]
  },
  {
   "cell_type": "code",
   "execution_count": 17,
   "id": "a4fce732",
   "metadata": {},
   "outputs": [
    {
     "data": {
      "text/plain": [
       "0.8551532033426184"
      ]
     },
     "execution_count": 17,
     "metadata": {},
     "output_type": "execute_result"
    }
   ],
   "source": [
    "# 정분류율\n",
    "accuracy_score(y_val, pred)"
   ]
  },
  {
   "cell_type": "code",
   "execution_count": 18,
   "id": "ff23df4e",
   "metadata": {},
   "outputs": [
    {
     "name": "stdout",
     "output_type": "stream",
     "text": [
      "0.8668639053254438\n",
      "0.6666666666666666\n"
     ]
    }
   ],
   "source": [
    "# 정밀도\n",
    "print(precision_score(y_val, pred, pos_label = 0))\n",
    "print(precision_score(y_val, pred, pos_label = 1))"
   ]
  },
  {
   "cell_type": "code",
   "execution_count": 19,
   "id": "d3b1fc9c",
   "metadata": {},
   "outputs": [
    {
     "name": "stdout",
     "output_type": "stream",
     "text": [
      "0.9766666666666667\n",
      "0.23728813559322035\n"
     ]
    }
   ],
   "source": [
    "# 재현율\n",
    "print(recall_score(y_val, pred, pos_label = 0))\n",
    "print(recall_score(y_val, pred, pos_label = 1))"
   ]
  },
  {
   "cell_type": "code",
   "execution_count": 20,
   "id": "b1a8b728",
   "metadata": {},
   "outputs": [
    {
     "name": "stdout",
     "output_type": "stream",
     "text": [
      "0.9184952978056425\n",
      "0.35\n"
     ]
    }
   ],
   "source": [
    "# f1_score\n",
    "print(f1_score(y_val, pred, pos_label = 0))\n",
    "print(f1_score(y_val, pred, pos_label = 1))"
   ]
  },
  {
   "cell_type": "markdown",
   "id": "e241f2fc",
   "metadata": {},
   "source": [
    "#### cut-off에 따른 성능 그래프 : precision recall curve"
   ]
  },
  {
   "cell_type": "code",
   "execution_count": 21,
   "id": "805b85d6",
   "metadata": {},
   "outputs": [
    {
     "data": {
      "image/png": "[encoded data removed]",
      "text/plain": [
       "<Figure size 576x576 with 1 Axes>"
      ]
     },
     "metadata": {
      "needs_background": "light"
     },
     "output_type": "display_data"
    }
   ],
   "source": [
    "plt.figure(figsize = (8,8))\n",
    "pr_curve = plot_precision_recall_curve(model, x_val, y_val, ax = plt.gca())\n",
    "plt.grid()\n",
    "plt.show()"
   ]
  },
  {
   "cell_type": "markdown",
   "id": "42a9d4b3",
   "metadata": {},
   "source": [
    "- plot_precision_recall_curve의 결과를 저장하고\n",
    "- .average_precision 속성을 불러오면 계산된 아래 면적을 알 수 있음."
   ]
  },
  {
   "cell_type": "code",
   "execution_count": 22,
   "id": "4e88777d",
   "metadata": {},
   "outputs": [
    {
     "data": {
      "text/plain": [
       "0.5169763388954318"
      ]
     },
     "execution_count": 22,
     "metadata": {},
     "output_type": "execute_result"
    }
   ],
   "source": [
    "pr_curve.average_precision"
   ]
  },
  {
   "cell_type": "markdown",
   "id": "e8940745",
   "metadata": {},
   "source": [
    "### 5. 실습 : 이동통신 가입 고객 이탈 예측"
   ]
  },
  {
   "cell_type": "markdown",
   "id": "b0df238b",
   "metadata": {},
   "source": [
    "* 변수설명\n",
    "    * COLLEGE : 대학 졸업여부\n",
    "    * INCOME : 연수입\n",
    "    * OVERAGE : 월평균 초과사용 시간(분)\n",
    "    * LEFTOVER : 월평균 잔여시간비율(%)\n",
    "    * HOUSE : 집값\n",
    "    * HANDSET_PRICE : 스마트폰 가격\n",
    "    * OVER_15MINS_CALLS_PER_MONTH : 월평균 장기통화(15분이상) 횟수\n",
    "    * AVERAGE_CALL_DURATION : 평균 통화 시간\n",
    "    * REPORTED_SATISFACTION : 만족도 설문조사 결과\n",
    "    * REPORTED_USAGE_LEVEL : 사용도 자가진단 결과\n",
    "    * CONSIDERING_CHANGE_OF_PLAN : 향후 변경계획 설문조사 결과\n",
    "    * CHURN : 이탈(번호이동) 여부 (Target 변수)"
   ]
  },
  {
   "cell_type": "markdown",
   "id": "8ef0495f",
   "metadata": {},
   "source": [
    "#### (1) 데이터 전처리"
   ]
  },
  {
   "cell_type": "code",
   "execution_count": 23,
   "id": "3de94dc7",
   "metadata": {},
   "outputs": [],
   "source": [
    "path = 'https://raw.githubusercontent.com/DA4BAM/dataset/master/mobile_cust_churn.csv'\n",
    "data = pd.read_csv(path)"
   ]
  },
  {
   "cell_type": "code",
   "execution_count": 24,
   "id": "07f0d018",
   "metadata": {},
   "outputs": [],
   "source": [
    "# id drop\n",
    "drop_cols = ['id']\n",
    "data.drop(drop_cols, axis = 1, inplace = True )"
   ]
  },
  {
   "cell_type": "code",
   "execution_count": 25,
   "id": "09009355",
   "metadata": {},
   "outputs": [],
   "source": [
    "# x, y 나누기\n",
    "target = 'CHURN'\n",
    "x = data.drop(target, axis = 1)\n",
    "y = data.loc[:, target]"
   ]
  },
  {
   "cell_type": "code",
   "execution_count": 26,
   "id": "c6126d80",
   "metadata": {},
   "outputs": [],
   "source": [
    "# 가변수화\n",
    "cat_cols = ['REPORTED_SATISFACTION','REPORTED_USAGE_LEVEL','CONSIDERING_CHANGE_OF_PLAN']\n",
    "x = pd.get_dummies(x, columns = cat_cols, drop_first = True)"
   ]
  },
  {
   "cell_type": "code",
   "execution_count": 27,
   "id": "24cbfcaa",
   "metadata": {},
   "outputs": [],
   "source": [
    "# train, val 나누기\n",
    "x_train, x_val, y_train, y_val = train_test_split(x,y,test_size = 0.3)"
   ]
  },
  {
   "cell_type": "markdown",
   "id": "e9ef0a83",
   "metadata": {},
   "source": [
    "#### (2) 모델링 : 로지스틱 회귀"
   ]
  },
  {
   "cell_type": "code",
   "execution_count": 29,
   "id": "c428d71c",
   "metadata": {},
   "outputs": [],
   "source": [
    "model1 = LogisticRegression()\n",
    "model1.fit(x_train, y_train)\n",
    "pred1 = model1.predict(x_val)"
   ]
  },
  {
   "cell_type": "code",
   "execution_count": 30,
   "id": "1f4b8f37",
   "metadata": {},
   "outputs": [
    {
     "name": "stdout",
     "output_type": "stream",
     "text": [
      "[[1822 1135]\n",
      " [1056 1987]]\n",
      "--------------------\n",
      "              precision    recall  f1-score   support\n",
      "\n",
      "       LEAVE       0.63      0.62      0.62      2957\n",
      "        STAY       0.64      0.65      0.64      3043\n",
      "\n",
      "    accuracy                           0.63      6000\n",
      "   macro avg       0.63      0.63      0.63      6000\n",
      "weighted avg       0.63      0.63      0.63      6000\n",
      "\n"
     ]
    }
   ],
   "source": [
    "print(confusion_matrix(y_val, pred1))\n",
    "print('-'*20)\n",
    "print(classification_report(y_val, pred1))"
   ]
  },
  {
   "cell_type": "markdown",
   "id": "8ae3d4e8",
   "metadata": {},
   "source": [
    "#### (3) 모델링 : KNN"
   ]
  },
  {
   "cell_type": "code",
   "execution_count": 31,
   "id": "a1d6f6e8",
   "metadata": {},
   "outputs": [],
   "source": [
    "from sklearn.preprocessing import MinMaxScaler\n",
    "\n",
    "scaler = MinMaxScaler()\n",
    "x_train_s = scaler.fit_transform(x_train)\n",
    "x_val_s = scaler.transform(x_val)"
   ]
  },
  {
   "cell_type": "code",
   "execution_count": 32,
   "id": "a33ec1f2",
   "metadata": {},
   "outputs": [],
   "source": [
    "from sklearn.neighbors import KNeighborsClassifier"
   ]
  },
  {
   "cell_type": "code",
   "execution_count": 33,
   "id": "3c0e6144",
   "metadata": {},
   "outputs": [],
   "source": [
    "model2 = KNeighborsClassifier(n_neighbors = 50)\n",
    "model2.fit(x_train_s, y_train)\n",
    "pred2 = model2.predict(x_val_s)"
   ]
  },
  {
   "cell_type": "code",
   "execution_count": 34,
   "id": "26d85257",
   "metadata": {},
   "outputs": [
    {
     "name": "stdout",
     "output_type": "stream",
     "text": [
      "[[1586 1371]\n",
      " [ 893 2150]]\n",
      "--------------------\n",
      "              precision    recall  f1-score   support\n",
      "\n",
      "       LEAVE       0.64      0.54      0.58      2957\n",
      "        STAY       0.61      0.71      0.66      3043\n",
      "\n",
      "    accuracy                           0.62      6000\n",
      "   macro avg       0.63      0.62      0.62      6000\n",
      "weighted avg       0.62      0.62      0.62      6000\n",
      "\n"
     ]
    }
   ],
   "source": [
    "print(confusion_matrix(y_val, pred2))\n",
    "print('-'*20)\n",
    "print(classification_report(y_val, pred2))"
   ]
  },
  {
   "cell_type": "code",
   "execution_count": 35,
   "id": "ba3899f3",
   "metadata": {},
   "outputs": [
    {
     "name": "stdout",
     "output_type": "stream",
     "text": [
      "[[1822 1135]\n",
      " [1056 1987]]\n",
      "--------------------\n",
      "              precision    recall  f1-score   support\n",
      "\n",
      "       LEAVE       0.63      0.62      0.62      2957\n",
      "        STAY       0.64      0.65      0.64      3043\n",
      "\n",
      "    accuracy                           0.63      6000\n",
      "   macro avg       0.63      0.63      0.63      6000\n",
      "weighted avg       0.63      0.63      0.63      6000\n",
      "\n"
     ]
    }
   ],
   "source": [
    "print(confusion_matrix(y_val, pred1))\n",
    "print('-'*20)\n",
    "print(classification_report(y_val, pred1))"
   ]
  },
  {
   "cell_type": "code",
   "execution_count": null,
   "id": "c70b9be2",
   "metadata": {},
   "outputs": [],
   "source": []
  },
  {
   "cell_type": "code",
   "execution_count": null,
   "id": "732786eb",
   "metadata": {},
   "outputs": [],
   "source": []
  },
  {
   "cell_type": "code",
   "execution_count": null,
   "id": "efe1364b",
   "metadata": {},
   "outputs": [],
   "source": []
  }
 ],
 "metadata": {
  "kernelspec": {
   "display_name": "Python 3",
   "language": "python",
   "name": "python3"
  },
  "language_info": {
   "codemirror_mode": {
    "name": "ipython",
    "version": 3
   },
   "file_extension": ".py",
   "mimetype": "text/x-python",
   "name": "python",
   "nbconvert_exporter": "python",
   "pygments_lexer": "ipython3",
   "version": "3.8.8"
  }
 },
 "nbformat": 4,
 "nbformat_minor": 5
}

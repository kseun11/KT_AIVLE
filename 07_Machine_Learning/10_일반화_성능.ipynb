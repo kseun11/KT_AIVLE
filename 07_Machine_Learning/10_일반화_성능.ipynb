{
 "cells": [
  {
   "cell_type": "markdown",
   "id": "cbb65871",
   "metadata": {},
   "source": [
    "## 일반화 성능"
   ]
  },
  {
   "cell_type": "markdown",
   "id": "eeafdf39",
   "metadata": {},
   "source": [
    "### 1. 환경준비"
   ]
  },
  {
   "cell_type": "code",
   "execution_count": 1,
   "id": "b4b0a43a",
   "metadata": {},
   "outputs": [],
   "source": [
    "import numpy as np\n",
    "import pandas as pd\n",
    "import matplotlib.pyplot as plt\n",
    "import seaborn as sns\n",
    "\n",
    "from sklearn.model_selection import train_test_split\n",
    "from sklearn.preprocessing import MinMaxScaler\n",
    "\n",
    "from sklearn.linear_model import LogisticRegression\n",
    "from sklearn.tree import DecisionTreeClassifier, plot_tree\n",
    "from sklearn.neighbors import KNeighborsClassifier\n",
    "from sklearn.svm import SVC\n",
    "from sklearn.metrics import * \n",
    "from sklearn.model_selection import RandomizedSearchCV, GridSearchCV\n",
    "\n",
    "import warnings\n",
    "warnings.filterwarnings(action='ignore')"
   ]
  },
  {
   "cell_type": "markdown",
   "id": "dd7d28eb",
   "metadata": {},
   "source": [
    "### 2. 데이터 준비"
   ]
  },
  {
   "cell_type": "markdown",
   "id": "cf873645",
   "metadata": {},
   "source": [
    "* 변수설명\n",
    "    * COLLEGE : 대학 졸업여부\n",
    "    * INCOME : 연수입\n",
    "    * OVERAGE : 월평균 초과사용 시간(분)\n",
    "    * LEFTOVER : 월평균 잔여시간비율(%)\n",
    "    * HOUSE : 집값\n",
    "    * HANDSET_PRICE : 스마트폰 가격\n",
    "    * OVER_15MINS_CALLS_PER_MONTH : 월평균 장기통화(15분이상) 횟수\n",
    "    * AVERAGE_CALL_DURATION : 평균 통화 시간\n",
    "    * REPORTED_SATISFACTION : 만족도 설문조사 결과\n",
    "    * REPORTED_USAGE_LEVEL : 사용도 자가진단 결과\n",
    "    * CONSIDERING_CHANGE_OF_PLAN : 향후 변경계획 설문조사 결과\n",
    "    * CHURN : 이탈(번호이동) 여부 (1-이탈, 0-잔류, Target 변수)"
   ]
  },
  {
   "cell_type": "code",
   "execution_count": 2,
   "id": "4425652a",
   "metadata": {},
   "outputs": [
    {
     "data": {
      "text/html": [
       "<div>\n",
       "<style scoped>\n",
       "    .dataframe tbody tr th:only-of-type {\n",
       "        vertical-align: middle;\n",
       "    }\n",
       "\n",
       "    .dataframe tbody tr th {\n",
       "        vertical-align: top;\n",
       "    }\n",
       "\n",
       "    .dataframe thead th {\n",
       "        text-align: right;\n",
       "    }\n",
       "</style>\n",
       "<table border=\"1\" class=\"dataframe\">\n",
       "  <thead>\n",
       "    <tr style=\"text-align: right;\">\n",
       "      <th></th>\n",
       "      <th>id</th>\n",
       "      <th>COLLEGE</th>\n",
       "      <th>INCOME</th>\n",
       "      <th>OVERAGE</th>\n",
       "      <th>LEFTOVER</th>\n",
       "      <th>HOUSE</th>\n",
       "      <th>HANDSET_PRICE</th>\n",
       "      <th>OVER_15MINS_CALLS_PER_MONTH</th>\n",
       "      <th>AVERAGE_CALL_DURATION</th>\n",
       "      <th>REPORTED_SATISFACTION</th>\n",
       "      <th>REPORTED_USAGE_LEVEL</th>\n",
       "      <th>CONSIDERING_CHANGE_OF_PLAN</th>\n",
       "      <th>CHURN</th>\n",
       "    </tr>\n",
       "  </thead>\n",
       "  <tbody>\n",
       "    <tr>\n",
       "      <th>3178</th>\n",
       "      <td>3179</td>\n",
       "      <td>0</td>\n",
       "      <td>119512</td>\n",
       "      <td>51</td>\n",
       "      <td>31</td>\n",
       "      <td>248566</td>\n",
       "      <td>229</td>\n",
       "      <td>5</td>\n",
       "      <td>2</td>\n",
       "      <td>very_sat</td>\n",
       "      <td>very_high</td>\n",
       "      <td>considering</td>\n",
       "      <td>1</td>\n",
       "    </tr>\n",
       "    <tr>\n",
       "      <th>14926</th>\n",
       "      <td>14927</td>\n",
       "      <td>1</td>\n",
       "      <td>142144</td>\n",
       "      <td>192</td>\n",
       "      <td>15</td>\n",
       "      <td>774317</td>\n",
       "      <td>581</td>\n",
       "      <td>29</td>\n",
       "      <td>4</td>\n",
       "      <td>unsat</td>\n",
       "      <td>very_little</td>\n",
       "      <td>never_thought</td>\n",
       "      <td>1</td>\n",
       "    </tr>\n",
       "    <tr>\n",
       "      <th>15116</th>\n",
       "      <td>15117</td>\n",
       "      <td>1</td>\n",
       "      <td>142308</td>\n",
       "      <td>0</td>\n",
       "      <td>79</td>\n",
       "      <td>306426</td>\n",
       "      <td>497</td>\n",
       "      <td>1</td>\n",
       "      <td>1</td>\n",
       "      <td>sat</td>\n",
       "      <td>little</td>\n",
       "      <td>considering</td>\n",
       "      <td>0</td>\n",
       "    </tr>\n",
       "    <tr>\n",
       "      <th>12733</th>\n",
       "      <td>12734</td>\n",
       "      <td>1</td>\n",
       "      <td>113385</td>\n",
       "      <td>0</td>\n",
       "      <td>0</td>\n",
       "      <td>333599</td>\n",
       "      <td>819</td>\n",
       "      <td>1</td>\n",
       "      <td>6</td>\n",
       "      <td>very_unsat</td>\n",
       "      <td>very_high</td>\n",
       "      <td>considering</td>\n",
       "      <td>1</td>\n",
       "    </tr>\n",
       "    <tr>\n",
       "      <th>14032</th>\n",
       "      <td>14033</td>\n",
       "      <td>1</td>\n",
       "      <td>90348</td>\n",
       "      <td>209</td>\n",
       "      <td>10</td>\n",
       "      <td>637286</td>\n",
       "      <td>360</td>\n",
       "      <td>26</td>\n",
       "      <td>4</td>\n",
       "      <td>unsat</td>\n",
       "      <td>little</td>\n",
       "      <td>actively_looking_into_it</td>\n",
       "      <td>0</td>\n",
       "    </tr>\n",
       "  </tbody>\n",
       "</table>\n",
       "</div>"
      ],
      "text/plain": [
       "          id  COLLEGE  INCOME  OVERAGE  LEFTOVER   HOUSE  HANDSET_PRICE  \\\n",
       "3178    3179        0  119512       51        31  248566            229   \n",
       "14926  14927        1  142144      192        15  774317            581   \n",
       "15116  15117        1  142308        0        79  306426            497   \n",
       "12733  12734        1  113385        0         0  333599            819   \n",
       "14032  14033        1   90348      209        10  637286            360   \n",
       "\n",
       "       OVER_15MINS_CALLS_PER_MONTH  AVERAGE_CALL_DURATION  \\\n",
       "3178                             5                      2   \n",
       "14926                           29                      4   \n",
       "15116                            1                      1   \n",
       "12733                            1                      6   \n",
       "14032                           26                      4   \n",
       "\n",
       "      REPORTED_SATISFACTION REPORTED_USAGE_LEVEL CONSIDERING_CHANGE_OF_PLAN  \\\n",
       "3178               very_sat            very_high                considering   \n",
       "14926                 unsat          very_little              never_thought   \n",
       "15116                   sat               little                considering   \n",
       "12733            very_unsat            very_high                considering   \n",
       "14032                 unsat               little   actively_looking_into_it   \n",
       "\n",
       "       CHURN  \n",
       "3178       1  \n",
       "14926      1  \n",
       "15116      0  \n",
       "12733      1  \n",
       "14032      0  "
      ]
     },
     "execution_count": 2,
     "metadata": {},
     "output_type": "execute_result"
    }
   ],
   "source": [
    "path = 'https://raw.githubusercontent.com/DA4BAM/dataset/master/mobile_cust_churn.csv'\n",
    "data = pd.read_csv(path)\n",
    "data = data.sample(1000, random_state = 2022)\n",
    "data['CHURN'] = data['CHURN'].map({'LEAVE':1, 'STAY':0})\n",
    "data.head()"
   ]
  },
  {
   "cell_type": "code",
   "execution_count": 3,
   "id": "b6409996",
   "metadata": {},
   "outputs": [],
   "source": [
    "# id drop\n",
    "drop_cols = ['id']\n",
    "data.drop(drop_cols, axis = 1, inplace = True)"
   ]
  },
  {
   "cell_type": "code",
   "execution_count": 4,
   "id": "ac0dec14",
   "metadata": {},
   "outputs": [],
   "source": [
    "# x, y 나누기\n",
    "target = 'CHURN'\n",
    "x = data.drop(target, axis = 1)\n",
    "y = data.loc[:, target]"
   ]
  },
  {
   "cell_type": "code",
   "execution_count": null,
   "id": "08004bc0",
   "metadata": {},
   "outputs": [],
   "source": [
    "# NA 조치"
   ]
  },
  {
   "cell_type": "code",
   "execution_count": 5,
   "id": "9446f6e8",
   "metadata": {},
   "outputs": [],
   "source": [
    "# 가변수화\n",
    "cat_cols = ['REPORTED_SATISFACTION','REPORTED_USAGE_LEVEL','CONSIDERING_CHANGE_OF_PLAN']\n",
    "x = pd.get_dummies(x, columns=cat_cols, drop_first=True)"
   ]
  },
  {
   "cell_type": "markdown",
   "id": "d85ab30c",
   "metadata": {},
   "source": [
    "### 3. Random Sampling\n",
    "\n",
    "- 데이터를 랜덤으로 분할해 모델링 & 예측을 여러번 반복적으로 수행"
   ]
  },
  {
   "cell_type": "code",
   "execution_count": 7,
   "id": "f84da7b8",
   "metadata": {},
   "outputs": [
    {
     "data": {
      "text/plain": [
       "0.67"
      ]
     },
     "execution_count": 7,
     "metadata": {},
     "output_type": "execute_result"
    }
   ],
   "source": [
    "# 아래 셀을 반복 실행\n",
    "x_train, x_val, y_train, y_val = train_test_split(x, y, test_size=.2)\n",
    "\n",
    "# DecisionTree 모델링\n",
    "model = DecisionTreeClassifier(max_depth = 3)\n",
    "model.fit(x_train, y_train)\n",
    "pred = model.predict(x_val)\n",
    "accuracy_score(y_val, pred)"
   ]
  },
  {
   "cell_type": "markdown",
   "id": "0b23348d",
   "metadata": {},
   "source": [
    "- accuracy 값이 달라짐을 볼 수 있음.\n",
    "- 값이 달라진다면 모델의 성능을 어떻게 신뢰할 수 있는지?"
   ]
  },
  {
   "cell_type": "code",
   "execution_count": 8,
   "id": "4b9f1b68",
   "metadata": {},
   "outputs": [],
   "source": [
    "# 여러번 반복해 평균을 계산하기\n",
    "result = []\n",
    "for i in range(100):\n",
    "    x_train, x_val, y_train, y_val = train_test_split(x, y, test_size=.2)\n",
    "    model = DecisionTreeClassifier(max_depth = 3)\n",
    "    model.fit(x_train, y_train)\n",
    "    pred = model.predict(x_val)\n",
    "    result.append(accuracy_score(y_val, pred))"
   ]
  },
  {
   "cell_type": "code",
   "execution_count": 9,
   "id": "a343b0bb",
   "metadata": {},
   "outputs": [
    {
     "data": {
      "text/plain": [
       "(0.6812000000000001, 0.029130053209700787)"
      ]
     },
     "execution_count": 9,
     "metadata": {},
     "output_type": "execute_result"
    }
   ],
   "source": [
    "# 평균과 표준편차\n",
    "np.mean(result), np.std(result)"
   ]
  },
  {
   "cell_type": "code",
   "execution_count": 10,
   "id": "e0a1a2d6",
   "metadata": {},
   "outputs": [
    {
     "name": "stdout",
     "output_type": "stream",
     "text": [
      "mean: 0.6812000000000001 ,  std: 0.029130053209700787\n"
     ]
    },
    {
     "data": {
      "image/png": "[encoded data removed]",
      "text/plain": [
       "<Figure size 432x288 with 1 Axes>"
      ]
     },
     "metadata": {
      "needs_background": "light"
     },
     "output_type": "display_data"
    }
   ],
   "source": [
    "# 값의 분포\n",
    "print('mean:', np.mean(result), ',  std:', np.std(result))\n",
    "sns.kdeplot(result)\n",
    "plt.axvline(np.mean(result), color='r')\n",
    "plt.grid()\n",
    "plt.show()"
   ]
  },
  {
   "cell_type": "markdown",
   "id": "d6e3688f",
   "metadata": {},
   "source": [
    "- 정규분포에 근사"
   ]
  },
  {
   "cell_type": "markdown",
   "id": "fcb55a18",
   "metadata": {},
   "source": [
    "### 4. k-fold Cross Validation"
   ]
  },
  {
   "cell_type": "code",
   "execution_count": 11,
   "id": "e17fd6d6",
   "metadata": {},
   "outputs": [],
   "source": [
    "#  cross_val_score 함수\n",
    "from sklearn.model_selection import cross_val_score"
   ]
  },
  {
   "cell_type": "code",
   "execution_count": 12,
   "id": "62dc2dd1",
   "metadata": {},
   "outputs": [],
   "source": [
    "# 학습 및 검증\n",
    "model = DecisionTreeClassifier(max_depth=3)"
   ]
  },
  {
   "cell_type": "markdown",
   "id": "ede3011f",
   "metadata": {},
   "source": [
    "- cross_val_score(모델, x, y, cv)\n",
    "    - 여기서 x, y는 train+val"
   ]
  },
  {
   "cell_type": "code",
   "execution_count": 13,
   "id": "27ee6a0f",
   "metadata": {},
   "outputs": [
    {
     "name": "stdout",
     "output_type": "stream",
     "text": [
      "[0.66 0.73 0.64 0.68 0.66 0.72 0.63 0.69 0.61 0.73]\n",
      "0.675 0.040311288741492736\n"
     ]
    }
   ],
   "source": [
    "# train + validation set을 이용하여 학습, 예측, 평가를 한번에. (여기서는 .fit 이 아님)\n",
    "dt_result = cross_val_score(model, x, y, cv=10)\n",
    "print(dt_result)\n",
    "print(dt_result.mean(), dt_result.std())"
   ]
  },
  {
   "cell_type": "code",
   "execution_count": 14,
   "id": "2bdb68cd",
   "metadata": {},
   "outputs": [],
   "source": [
    "# knn을 이용해 kfold수행\n",
    "\n",
    "# 스케일링\n",
    "scaler = MinMaxScaler()\n",
    "x = scaler.fit_transform(x) # train, val이 합쳐져있으니 따로 나누지 않음"
   ]
  },
  {
   "cell_type": "code",
   "execution_count": 15,
   "id": "3775b079",
   "metadata": {},
   "outputs": [],
   "source": [
    "# 학습\n",
    "model_knn = KNeighborsClassifier()"
   ]
  },
  {
   "cell_type": "code",
   "execution_count": 16,
   "id": "1571b25c",
   "metadata": {},
   "outputs": [
    {
     "name": "stdout",
     "output_type": "stream",
     "text": [
      "[0.58 0.59 0.62 0.59 0.52 0.58 0.57 0.63 0.54 0.59]\n",
      "0.581 0.03112876483254675\n"
     ]
    }
   ],
   "source": [
    "knn_result = cross_val_score(model_knn, x, y, cv=10)\n",
    "print(knn_result)\n",
    "print(knn_result.mean(), knn_result.std())"
   ]
  },
  {
   "cell_type": "markdown",
   "id": "e66cee68",
   "metadata": {},
   "source": [
    "### 5. 데이터 늘리기 (Learning Curve)"
   ]
  },
  {
   "cell_type": "code",
   "execution_count": 17,
   "id": "79072c3a",
   "metadata": {},
   "outputs": [],
   "source": [
    "# 데이터 준비 (이번에는 4000행)\n",
    "path = 'https://raw.githubusercontent.com/DA4BAM/dataset/master/mobile_cust_churn.csv'\n",
    "data = pd.read_csv(path)\n",
    "data = data.sample(4000, random_state = 2022)\n",
    "data['CHURN'] = data['CHURN'].map({'LEAVE':1, 'STAY':0})"
   ]
  },
  {
   "cell_type": "code",
   "execution_count": 18,
   "id": "2106ca07",
   "metadata": {},
   "outputs": [],
   "source": [
    "drop_cols = ['id']\n",
    "data.drop(drop_cols, axis = 1, inplace = True )\n",
    "\n",
    "target = 'CHURN'\n",
    "x = data.drop(target, axis = 1)\n",
    "y = data.loc[:, target]\n",
    "\n",
    "dumm_cols = ['REPORTED_SATISFACTION','REPORTED_USAGE_LEVEL','CONSIDERING_CHANGE_OF_PLAN']\n",
    "x = pd.get_dummies(x, columns = dumm_cols, drop_first = True)"
   ]
  },
  {
   "cell_type": "code",
   "execution_count": 19,
   "id": "acc43ddc",
   "metadata": {},
   "outputs": [],
   "source": [
    "# learning_curve 함수\n",
    "from sklearn.model_selection import learning_curve"
   ]
  },
  {
   "cell_type": "code",
   "execution_count": 20,
   "id": "ffabd8d9",
   "metadata": {},
   "outputs": [],
   "source": [
    "# 데이터 양에 따른 성능 측정\n",
    "model = DecisionTreeClassifier(max_depth=3)"
   ]
  },
  {
   "cell_type": "code",
   "execution_count": 21,
   "id": "d9361475",
   "metadata": {},
   "outputs": [
    {
     "data": {
      "text/plain": [
       "4000"
      ]
     },
     "execution_count": 21,
     "metadata": {},
     "output_type": "execute_result"
    }
   ],
   "source": [
    "x.shape[0]"
   ]
  },
  {
   "cell_type": "markdown",
   "id": "2794559d",
   "metadata": {},
   "source": [
    "#### learning_curve 함수\n",
    "\n",
    "- Input\n",
    "    - 모델 x, y\n",
    "    - train_sizes : 순차적으로 학습시킬 data size의 list\n",
    "\n",
    "- Output\n",
    "    - tr_size : Input에서 지정한 값 list (train_sizes)\n",
    "    - tr_scores : 학습용 데이터에서의 성능\n",
    "    - val_scores : valid 성능"
   ]
  },
  {
   "cell_type": "code",
   "execution_count": 22,
   "id": "b99534ec",
   "metadata": {},
   "outputs": [],
   "source": [
    "tr_size, tr_scores, val_scores = learning_curve(model, \n",
    "                                                x, y, \n",
    "                                                train_sizes = range(5, 3200, 10),\n",
    "                                                cv = 10)"
   ]
  },
  {
   "cell_type": "code",
   "execution_count": 23,
   "id": "d3c2ffbb",
   "metadata": {},
   "outputs": [
    {
     "data": {
      "text/plain": [
       "array([[0.4875, 0.5175, 0.495 , 0.4575, 0.5125, 0.4775, 0.4825, 0.49  ,\n",
       "        0.5225, 0.4975],\n",
       "       [0.615 , 0.47  , 0.4775, 0.46  , 0.42  , 0.4725, 0.4875, 0.4175,\n",
       "        0.425 , 0.49  ],\n",
       "       [0.5175, 0.5825, 0.54  , 0.5075, 0.575 , 0.545 , 0.5475, 0.5875,\n",
       "        0.58  , 0.545 ],\n",
       "       [0.61  , 0.565 , 0.5775, 0.525 , 0.545 , 0.58  , 0.565 , 0.5675,\n",
       "        0.5675, 0.6   ],\n",
       "       [0.6075, 0.6075, 0.5425, 0.5275, 0.5325, 0.5925, 0.6225, 0.555 ,\n",
       "        0.605 , 0.56  ]])"
      ]
     },
     "execution_count": 23,
     "metadata": {},
     "output_type": "execute_result"
    }
   ],
   "source": [
    "val_scores[:5]"
   ]
  },
  {
   "cell_type": "code",
   "execution_count": 26,
   "id": "3c74c7ed",
   "metadata": {},
   "outputs": [],
   "source": [
    "# cv 결과를 평균으로 집계\n",
    "val_scores_mean = val_scores.mean(axis=1)\n",
    "val_scores_std = val_scores.std(axis=1)"
   ]
  },
  {
   "cell_type": "markdown",
   "id": "01155bdd",
   "metadata": {},
   "source": [
    "### 성능 평가 : Bias가 줄어드는가?\n",
    "\n",
    "- 데이터가 적으면 variance가 많다.\n",
    "- 데이터가 많아질수록 variance가 줄어든다.\n",
    "- Bias가 줄어드는가? (성능이 향상되는가?)"
   ]
  },
  {
   "cell_type": "code",
   "execution_count": 27,
   "id": "1010d32b",
   "metadata": {},
   "outputs": [
    {
     "data": {
      "image/png": "[encoded data removed]",
      "text/plain": [
       "<Figure size 720x432 with 1 Axes>"
      ]
     },
     "metadata": {
      "needs_background": "light"
     },
     "output_type": "display_data"
    }
   ],
   "source": [
    "plt.figure(figsize = (10,6))\n",
    "plt.plot(tr_size, val_scores_mean)\n",
    "\n",
    "plt.ylabel('val_accuracy')\n",
    "plt.xlabel('train_size')\n",
    "plt.grid()\n",
    "plt.show()"
   ]
  },
  {
   "cell_type": "markdown",
   "id": "3ce3aee1",
   "metadata": {},
   "source": [
    "### 성능 평가 : Variance가 줄어드는가?\n",
    "\n",
    "- Variance가 줄어드는가? (성능의 편차가 줄어드는가?)"
   ]
  },
  {
   "cell_type": "code",
   "execution_count": 28,
   "id": "d2301116",
   "metadata": {},
   "outputs": [
    {
     "data": {
      "image/png": "[encoded data removed]",
      "text/plain": [
       "<Figure size 720x432 with 1 Axes>"
      ]
     },
     "metadata": {
      "needs_background": "light"
     },
     "output_type": "display_data"
    }
   ],
   "source": [
    "plt.figure(figsize = (10,6))\n",
    "plt.plot(tr_size, val_scores_std)\n",
    "\n",
    "plt.ylabel('Variance(val_accuracy)')\n",
    "plt.xlabel('train_size')\n",
    "plt.grid()\n",
    "plt.show()"
   ]
  },
  {
   "cell_type": "code",
   "execution_count": null,
   "id": "551693e5",
   "metadata": {},
   "outputs": [],
   "source": []
  },
  {
   "cell_type": "code",
   "execution_count": null,
   "id": "e0f5ecea",
   "metadata": {},
   "outputs": [],
   "source": []
  }
 ],
 "metadata": {
  "kernelspec": {
   "display_name": "Python 3",
   "language": "python",
   "name": "python3"
  },
  "language_info": {
   "codemirror_mode": {
    "name": "ipython",
    "version": 3
   },
   "file_extension": ".py",
   "mimetype": "text/x-python",
   "name": "python",
   "nbconvert_exporter": "python",
   "pygments_lexer": "ipython3",
   "version": "3.8.8"
  }
 },
 "nbformat": 4,
 "nbformat_minor": 5
}

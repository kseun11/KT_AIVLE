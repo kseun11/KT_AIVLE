{
 "cells": [
  {
   "cell_type": "markdown",
   "id": "afe591c3",
   "metadata": {},
   "source": [
    "### Unit 1. 알고리즘과 플로우 차트"
   ]
  },
  {
   "cell_type": "code",
   "execution_count": 9,
   "id": "66aa5a66",
   "metadata": {},
   "outputs": [
    {
     "name": "stdout",
     "output_type": "stream",
     "text": [
      "이름을 입력하세요: 이정연\n",
      "안녕하세요? 이정연 님.\n"
     ]
    }
   ],
   "source": [
    "name = input('이름을 입력하세요: ')\n",
    "print(f\"안녕하세요? {name} 님.\")"
   ]
  },
  {
   "cell_type": "code",
   "execution_count": 10,
   "id": "b055dec4",
   "metadata": {},
   "outputs": [
    {
     "name": "stdout",
     "output_type": "stream",
     "text": [
      "정사각형의 한 변의 길이를 입력하세요: 5\n",
      "정사각형의 넓이는 25 입니다.\n"
     ]
    }
   ],
   "source": [
    "length = input('정사각형의 한 변의 길이를 입력하세요: ')\n",
    "print(f\"정사각형의 넓이는 {int(length) ** 2} 입니다.\")"
   ]
  },
  {
   "cell_type": "code",
   "execution_count": 13,
   "id": "02e2e74c",
   "metadata": {},
   "outputs": [
    {
     "name": "stdout",
     "output_type": "stream",
     "text": [
      "세 정수의 최댓값을 구합니다.\n",
      "정수 a의 값을 입력하세요: 1\n",
      "정수 b의 값을 입력하세요: 3\n",
      "정수 c의 값을 입력하세요: 2\n",
      "최댓값은 3 입니다.\n"
     ]
    }
   ],
   "source": [
    "# 세 정수의 최댓값 구하기\n",
    "\n",
    "print('세 정수의 최댓값을 구합니다.')\n",
    "a = int(input('정수 a의 값을 입력하세요: '))\n",
    "b = int(input('정수 b의 값을 입력하세요: '))\n",
    "c = int(input('정수 c의 값을 입력하세요: '))\n",
    "\n",
    "maximum = a\n",
    "if b > maximum:\n",
    "    maximum = b\n",
    "if c > maximum:\n",
    "    maximum = c\n",
    "    \n",
    "print(f'최댓값은 {maximum} 입니다.')"
   ]
  },
  {
   "cell_type": "code",
   "execution_count": 14,
   "id": "e850b9bd",
   "metadata": {},
   "outputs": [],
   "source": [
    "def max3(a, b, c):\n",
    "    maximum = a\n",
    "    if b > maximum:\n",
    "        maximum = b\n",
    "    if c > maximum:\n",
    "        maximum = c\n",
    "    return maximum"
   ]
  },
  {
   "cell_type": "code",
   "execution_count": 15,
   "id": "a583a2aa",
   "metadata": {},
   "outputs": [
    {
     "name": "stdout",
     "output_type": "stream",
     "text": [
      "max3(3, 2, 1) = 3\n"
     ]
    }
   ],
   "source": [
    "print(f'max3(3, 2, 1) = {max3(3, 2, 1)}')"
   ]
  },
  {
   "cell_type": "code",
   "execution_count": 59,
   "id": "fa29f35f",
   "metadata": {},
   "outputs": [],
   "source": [
    "# 미니 실습 1) 네 정수의 최댓값\n",
    "\n",
    "def max4(a, b, c, d):\n",
    "    maximum = a\n",
    "    if b > maximum:\n",
    "        maximum = b\n",
    "    if c > maximum:\n",
    "        maximum = c\n",
    "    if d > maximum:\n",
    "        maximum = d\n",
    "    return maximum"
   ]
  },
  {
   "cell_type": "code",
   "execution_count": 60,
   "id": "abc8b9cf",
   "metadata": {},
   "outputs": [
    {
     "name": "stdout",
     "output_type": "stream",
     "text": [
      "네 정수의 최댓값은: 6\n",
      "네 정수의 최댓값은: 4\n"
     ]
    }
   ],
   "source": [
    "print(f'네 정수의 최댓값은: {max4(2, 5, 6, 1)}')\n",
    "print(f'네 정수의 최댓값은: {max4(3, 4, 2, 1)}')"
   ]
  },
  {
   "cell_type": "markdown",
   "id": "d655de56",
   "metadata": {},
   "source": [
    "조건문과 분기"
   ]
  },
  {
   "cell_type": "code",
   "execution_count": 71,
   "id": "c2ab458a",
   "metadata": {},
   "outputs": [
    {
     "name": "stdout",
     "output_type": "stream",
     "text": [
      "정수를 입력하세요: 3\n",
      "이 수는 양수입니다.\n"
     ]
    }
   ],
   "source": [
    "n = int(input('정수를 입력하세요: '))\n",
    "\n",
    "if n > 0:\n",
    "    print('이 수는 양수입니다.')\n",
    "    \n",
    "elif n < 0:\n",
    "    print('이 수는 음수입니다.')\n",
    "    \n",
    "else:\n",
    "    print('이 수는 0입니다.')"
   ]
  },
  {
   "cell_type": "code",
   "execution_count": 86,
   "id": "9ea24e4c",
   "metadata": {},
   "outputs": [],
   "source": [
    "# 세 정수의 중앙값 구하기\n",
    "def med3(a, b, c):\n",
    "    if a >= b:\n",
    "        if b >= c:\n",
    "            return b\n",
    "        elif a <= c:\n",
    "            return a\n",
    "        else:\n",
    "            return c\n",
    "        \n",
    "    elif a > c:\n",
    "        return a\n",
    "    \n",
    "    elif b > c:\n",
    "        return c\n",
    "    \n",
    "    else:\n",
    "        return b"
   ]
  },
  {
   "cell_type": "code",
   "execution_count": 87,
   "id": "a1e8f18b",
   "metadata": {},
   "outputs": [
    {
     "name": "stdout",
     "output_type": "stream",
     "text": [
      "세 정수의 중앙값을 구합니다.\n",
      "정수 a의 값을 입력하세요: 1\n",
      "정수 b의 값을 입력하세요: 3\n",
      "정수 c의 값을 입력하세요: 2\n",
      "중앙값은 2 입니다.\n"
     ]
    }
   ],
   "source": [
    "print('세 정수의 중앙값을 구합니다.')\n",
    "a = int(input('정수 a의 값을 입력하세요: '))\n",
    "b = int(input('정수 b의 값을 입력하세요: '))\n",
    "c = int(input('정수 c의 값을 입력하세요: '))\n",
    "\n",
    "print(f'중앙값은 {med3(a, b, c)} 입니다.')"
   ]
  },
  {
   "cell_type": "code",
   "execution_count": 119,
   "id": "986bb59a",
   "metadata": {},
   "outputs": [],
   "source": [
    "# 미니 실습 2) 수도 요금 계산\n",
    "def waterPay(company, use): # 수도회사, 수도 사용량\n",
    "    answer = 0\n",
    "    \n",
    "    # A 회사\n",
    "    if company == 'A':\n",
    "        return 100 * use\n",
    "    \n",
    "    # B 회사\n",
    "    if company == 'B':\n",
    "        \n",
    "        # 50리터 이하의 요금 합산\n",
    "        if use <= 50:\n",
    "            answer = 150 * use\n",
    "            return answer\n",
    "        \n",
    "        # 50리터 초과일 경우,\n",
    "        else:\n",
    "            # 50리터 이하의 요금 합산\n",
    "            answer += 150 * 50\n",
    "            \n",
    "            # 50리터 초과의 요금 합산\n",
    "            answer += 75 * (use - 50)\n",
    "            \n",
    "            return answer"
   ]
  },
  {
   "cell_type": "code",
   "execution_count": 120,
   "id": "f01e2e81",
   "metadata": {},
   "outputs": [
    {
     "name": "stdout",
     "output_type": "stream",
     "text": [
      "수도 회사를 입력하세요: B\n",
      "수도 사용량을 입력하세요: 51\n",
      "수도 요금은 7575 입니다.\n"
     ]
    }
   ],
   "source": [
    "company = input('수도 회사를 입력하세요: ')\n",
    "use = int(input('수도 사용량을 입력하세요: '))\n",
    "print(f'수도 요금은 {waterPay(company, use)} 입니다.')"
   ]
  },
  {
   "cell_type": "markdown",
   "id": "56b6ff10",
   "metadata": {},
   "source": [
    "### Unit 2. 반복하는 알고리즘"
   ]
  },
  {
   "cell_type": "code",
   "execution_count": 88,
   "id": "4e6ca0a8",
   "metadata": {},
   "outputs": [
    {
     "name": "stdout",
     "output_type": "stream",
     "text": [
      "1부터 n까지 정수의 합을 구합니다.\n",
      "n값을 입력하세요: 5\n",
      "1부터 5까지 정수의 합은 15 입니다.\n"
     ]
    }
   ],
   "source": [
    "# 1부터 n까지 정수의 합 구하기 (while)\n",
    "\n",
    "print('1부터 n까지 정수의 합을 구합니다.')\n",
    "n = int(input('n값을 입력하세요: '))\n",
    "\n",
    "sum = 0\n",
    "i = 1\n",
    "\n",
    "while i <= n:\n",
    "    sum += i\n",
    "    i += 1\n",
    "    \n",
    "print(f'1부터 {n}까지 정수의 합은 {sum} 입니다.')"
   ]
  },
  {
   "cell_type": "code",
   "execution_count": 89,
   "id": "a1b77136",
   "metadata": {},
   "outputs": [
    {
     "name": "stdout",
     "output_type": "stream",
     "text": [
      "1부터 n까지 정수의 합을 구합니다.\n",
      "n값을 입력하세요: 5\n",
      "1부터 5까지 정수의 합은 15 입니다.\n"
     ]
    }
   ],
   "source": [
    "# 1부터 n까지 정수의 합 구하기 (for)\n",
    "\n",
    "print('1부터 n까지 정수의 합을 구합니다.')\n",
    "n = int(input('n값을 입력하세요: '))\n",
    "\n",
    "sum = 0\n",
    "\n",
    "for i in range(1, n + 1):\n",
    "    sum += i\n",
    "    \n",
    "print(f'1부터 {n}까지 정수의 합은 {sum} 입니다.')"
   ]
  },
  {
   "cell_type": "code",
   "execution_count": 92,
   "id": "a564ce8b",
   "metadata": {},
   "outputs": [
    {
     "name": "stdout",
     "output_type": "stream",
     "text": [
      "a부터 b까지 정수의 합을 구합니다.\n",
      "정수 a를 입력하세요: 3\n",
      "정수 b를 입력하세요: 8\n",
      "3부터 8까지 정수의 합은 33 입니다.\n"
     ]
    }
   ],
   "source": [
    "# a부터 b까지 정수의 합 구하기 (for)\n",
    "\n",
    "print('a부터 b까지 정수의 합을 구합니다.')\n",
    "\n",
    "a = int(input('정수 a를 입력하세요: '))\n",
    "b = int(input('정수 b를 입력하세요: '))\n",
    "\n",
    "if a > b:\n",
    "    a, b = b, a\n",
    "\n",
    "sum = 0\n",
    "\n",
    "for i in range(a, b + 1):\n",
    "    sum += i\n",
    "    \n",
    "print(f'{a}부터 {b}까지 정수의 합은 {sum} 입니다.')"
   ]
  },
  {
   "cell_type": "code",
   "execution_count": 93,
   "id": "852b70f2",
   "metadata": {},
   "outputs": [
    {
     "name": "stdout",
     "output_type": "stream",
     "text": [
      "a부터 b까지 정수의 합을 구합니다.\n",
      "정수 a를 입력하세요: 3\n",
      "정수 b를 입력하세요: 7\n",
      "3 + 4 + 5 + 6 + 7 = 25\n"
     ]
    }
   ],
   "source": [
    "# a부터 b까지 정수의 합 구하기 - 반복 과정에서 조건 판단하기 1\n",
    "\n",
    "print('a부터 b까지 정수의 합을 구합니다.')\n",
    "\n",
    "a = int(input('정수 a를 입력하세요: '))\n",
    "b = int(input('정수 b를 입력하세요: '))\n",
    "\n",
    "if a > b:\n",
    "    a, b = b, a\n",
    "\n",
    "sum = 0\n",
    "\n",
    "for i in range(a, b + 1):\n",
    "    if i < b:\n",
    "        print(f'{i} + ', end = '')\n",
    "    else:\n",
    "        print(f'{i} = ', end = '')\n",
    "    sum += i\n",
    "    \n",
    "print(sum)"
   ]
  },
  {
   "cell_type": "code",
   "execution_count": 101,
   "id": "da3dc3a0",
   "metadata": {},
   "outputs": [
    {
     "name": "stdout",
     "output_type": "stream",
     "text": [
      "a부터 b까지 정수의 합을 구합니다.\n",
      "정수 a를 입력하세요: 3\n",
      "정수 b를 입력하세요: 7\n",
      "3 + 4 + 5 + 6 + 7 = 25\n"
     ]
    }
   ],
   "source": [
    "# 미니 실습 3) for loop 수정\n",
    "\n",
    "print('a부터 b까지 정수의 합을 구합니다.')\n",
    "a = int(input('정수 a를 입력하세요: '))\n",
    "b = int(input('정수 b를 입력하세요: '))\n",
    "\n",
    "if a > b:\n",
    "    a, b = b, a\n",
    "    \n",
    "sum = 0\n",
    "\n",
    "for i in range(a, b):\n",
    "    if i < b:\n",
    "        print(f'{i} + ', end = '')\n",
    "        sum += i\n",
    "\n",
    "print(f'{b} = ', end = '')\n",
    "sum += b\n",
    "    \n",
    "print(sum)"
   ]
  },
  {
   "cell_type": "code",
   "execution_count": 95,
   "id": "7dc954ea",
   "metadata": {},
   "outputs": [
    {
     "name": "stdout",
     "output_type": "stream",
     "text": [
      "*를 출력합니다.\n",
      "몇 개를 출력할까요?: 14\n",
      "몇 개마다 줄바꿈할까요?: 5\n",
      "*****\n",
      "*****\n",
      "****\n"
     ]
    }
   ],
   "source": [
    "# 반복 과정에서 조건 판단하기 2\n",
    "\n",
    "print('*를 출력합니다.')\n",
    "n = int(input('몇 개를 출력할까요?: '))\n",
    "w = int(input('몇 개마다 줄바꿈할까요?: '))\n",
    "\n",
    "for i in range(n):\n",
    "    print('*', end = '')\n",
    "    if i % w == w - 1:\n",
    "        print()\n",
    "        \n",
    "if n % w:\n",
    "    print()"
   ]
  },
  {
   "cell_type": "code",
   "execution_count": 96,
   "id": "fba14f7c",
   "metadata": {},
   "outputs": [
    {
     "name": "stdout",
     "output_type": "stream",
     "text": [
      "*를 출력합니다.\n",
      "몇 개를 출력할까요?: 14\n",
      "몇 개마다 줄바꿈할까요?: 5\n",
      "*****\n",
      "*****\n",
      "****\n"
     ]
    }
   ],
   "source": [
    "print('*를 출력합니다.')\n",
    "n = int(input('몇 개를 출력할까요?: '))\n",
    "w = int(input('몇 개마다 줄바꿈할까요?: '))\n",
    "\n",
    "for _ in range(n // w):\n",
    "    print('*' * w)\n",
    "    \n",
    "rest = n % w\n",
    "if rest:\n",
    "    print('*' * rest)"
   ]
  },
  {
   "cell_type": "code",
   "execution_count": 98,
   "id": "988dfb01",
   "metadata": {},
   "outputs": [
    {
     "name": "stdout",
     "output_type": "stream",
     "text": [
      "1부터 n까지 정수의 합을 구합니다.\n",
      "n값을 입력하세요: -6\n",
      "n값을 입력하세요: 0\n",
      "n값을 입력하세요: 10\n",
      "1부터 10까지 정수의 합은 55입니다.\n"
     ]
    }
   ],
   "source": [
    "# 무한 루프와 break\n",
    "# 1부터 n까지 정수의 합 구하기 (n값은 양수만 입력받음)\n",
    "\n",
    "print('1부터 n까지 정수의 합을 구합니다.')\n",
    "\n",
    "while True:\n",
    "    n = int(input('n값을 입력하세요: '))\n",
    "    if n > 0:\n",
    "        break\n",
    "        \n",
    "sum = 0\n",
    "i = 1\n",
    "\n",
    "for i in range(1, n + 1):\n",
    "    sum += i\n",
    "    i += 1\n",
    "    \n",
    "print(f'1부터 {n}까지 정수의 합은 {sum}입니다.')"
   ]
  },
  {
   "cell_type": "code",
   "execution_count": 99,
   "id": "0e4a91c5",
   "metadata": {},
   "outputs": [
    {
     "name": "stdout",
     "output_type": "stream",
     "text": [
      "직사각형의 넓이를 입력하세요: 32\n",
      "1 x 32\n",
      "2 x 16\n",
      "4 x 8\n"
     ]
    }
   ],
   "source": [
    "# continue와 break\n",
    "# 가로, 세로 길이가 정수이고 넓이가 area인 직사각형에서 가능한 변의 길이 나열\n",
    "\n",
    "area = int(input('직사각형의 넓이를 입력하세요: '))\n",
    "\n",
    "for i in range(1, area + 1):\n",
    "    if i * i > area:\n",
    "        break\n",
    "    \n",
    "    if area % i:\n",
    "        continue\n",
    "        \n",
    "    print(f'{i} x {area // i}')"
   ]
  },
  {
   "cell_type": "code",
   "execution_count": 121,
   "id": "7158ac79",
   "metadata": {},
   "outputs": [
    {
     "name": "stdout",
     "output_type": "stream",
     "text": [
      "직사각형의 넓이를 입력하세요: 32\n",
      "1 x 32\n",
      "2 x 16\n",
      "4 x 8\n",
      "8 x 4\n",
      "16 x 2\n",
      "32 x 1\n"
     ]
    }
   ],
   "source": [
    "# 미니 실습 4) \n",
    "\n",
    "area = int(input('직사각형의 넓이를 입력하세요: '))\n",
    "a = []\n",
    "b = []\n",
    "\n",
    "for i in range(1, area + 1):\n",
    "    \n",
    "    if i * i > area:\n",
    "        break\n",
    "        \n",
    "    if area % i:\n",
    "        continue\n",
    "        \n",
    "    a.append(i)\n",
    "    b.append(area // i)\n",
    "        \n",
    "    print(f'{i} x {area // i}')\n",
    "\n",
    "a.reverse()\n",
    "b.reverse()\n",
    "\n",
    "for i in range(len(a)):\n",
    "    print(f'{b[i]} x {a[i]}')"
   ]
  },
  {
   "cell_type": "code",
   "execution_count": 194,
   "id": "11d1ba18",
   "metadata": {},
   "outputs": [
    {
     "name": "stdout",
     "output_type": "stream",
     "text": [
      "직사각형의 넓이를 입력하세요: 32\n",
      "1 x 32\n",
      "2 x 16\n",
      "4 x 8\n",
      "8 x 4\n",
      "16 x 2\n",
      "32 x 1\n"
     ]
    }
   ],
   "source": [
    "# 미니 실습 4) 강사님 풀이\n",
    "area = int(input('직사각형의 넓이를 입력하세요: '))\n",
    "\n",
    "for i in range(1, area + 1):\n",
    "        \n",
    "    if area % i:\n",
    "        continue\n",
    "        \n",
    "    print(f'{i} x {area // i}')"
   ]
  },
  {
   "cell_type": "code",
   "execution_count": 100,
   "id": "ff2955b1",
   "metadata": {},
   "outputs": [
    {
     "name": "stdout",
     "output_type": "stream",
     "text": [
      "---------------------------\n",
      "  1  2  3  4  5  6  7  8  9\n",
      "  2  4  6  8 10 12 14 16 18\n",
      "  3  6  9 12 15 18 21 24 27\n",
      "  4  8 12 16 20 24 28 32 36\n",
      "  5 10 15 20 25 30 35 40 45\n",
      "  6 12 18 24 30 36 42 48 54\n",
      "  7 14 21 28 35 42 49 56 63\n",
      "  8 16 24 32 40 48 56 64 72\n",
      "  9 18 27 36 45 54 63 72 81\n",
      "---------------------------\n"
     ]
    }
   ],
   "source": [
    "# 다중 루프 multiple loop\n",
    "# 구구단 출력\n",
    "\n",
    "print('-' * 27)\n",
    "for i in range(1, 10):\n",
    "    for j in range(1, 10):\n",
    "        print(f'{i * j:3}', end = '')\n",
    "    print()\n",
    "print('-' * 27)"
   ]
  },
  {
   "cell_type": "markdown",
   "id": "a3e28093",
   "metadata": {},
   "source": [
    "### 실습 문제"
   ]
  },
  {
   "cell_type": "code",
   "execution_count": 102,
   "id": "4ae40638",
   "metadata": {},
   "outputs": [],
   "source": [
    "# 실습 1\n",
    "\n",
    "def electricPay(kWH):\n",
    "    answer = 0\n",
    "    \n",
    "    if kWH < 100:\n",
    "        # 기본 요금\n",
    "        answer += 410\n",
    "        \n",
    "        # 전력량 요금\n",
    "        answer += kWH * 60.7\n",
    "        \n",
    "    elif 100 <= kWH <= 200:\n",
    "        # 기본 요금\n",
    "        answer += 910\n",
    "        \n",
    "        # 전력량 요금\n",
    "        answer += 100 * 60.7\n",
    "        answer += (kWH - 100) * 125.9\n",
    "        \n",
    "    else:\n",
    "        # 기본 요금\n",
    "        answer += 1600\n",
    "        \n",
    "        # 전력량 요금\n",
    "        answer += 100 * 60.7\n",
    "        answer += 100 * 125.9\n",
    "        answer += (kWH - 200) * 187.9\n",
    "        \n",
    "    answer = answer + (answer * 0.1) + (answer * 0.037)\n",
    "        \n",
    "    return int(answer)"
   ]
  },
  {
   "cell_type": "code",
   "execution_count": 103,
   "id": "44f1842d",
   "metadata": {},
   "outputs": [
    {
     "name": "stdout",
     "output_type": "stream",
     "text": [
      "전기사용량을 입력하세요: 250\n",
      "전기 요금은: 33717\n"
     ]
    }
   ],
   "source": [
    "kWH = int(input('전기사용량을 입력하세요: '))\n",
    "\n",
    "print(f'전기 요금은: {electricPay(kWH)}')"
   ]
  },
  {
   "cell_type": "code",
   "execution_count": 6,
   "id": "807ad3bf",
   "metadata": {},
   "outputs": [
    {
     "name": "stdout",
     "output_type": "stream",
     "text": [
      "몇 개를 출력할까요?: 13\n",
      "+-+-+-+-+-+-+"
     ]
    }
   ],
   "source": [
    "# 실습 2\n",
    "\n",
    "n = int(input('몇 개를 출력할까요?: '))\n",
    "\n",
    "while n != 0:\n",
    "    \n",
    "    # + 출력\n",
    "    if n == 0:\n",
    "        break\n",
    "    print('+', end = '')\n",
    "    n -= 1\n",
    "    \n",
    "    # - 출력\n",
    "    if n == 0:\n",
    "        break\n",
    "    print('-', end = '')\n",
    "    n -= 1"
   ]
  },
  {
   "cell_type": "code",
   "execution_count": 3,
   "id": "a69d7452",
   "metadata": {},
   "outputs": [
    {
     "name": "stdout",
     "output_type": "stream",
     "text": [
      "+와 -를 번갈아 출력합니다.\n",
      "몇 개를 출력할까요?12\n",
      "+-+-+-+-+-+-\n"
     ]
    }
   ],
   "source": [
    "# 실습2) 강사님 풀이 1\n",
    "\n",
    "print('+와 -를 번갈아 출력합니다.')\n",
    "n = int(input('몇 개를 출력할까요?'))\n",
    "\n",
    "for i in range(1, n + 1):\n",
    "    if i % 2: # 홀수인 경우 + 출력\n",
    "        print('+', end = '')\n",
    "    else: # 짝수인 경우 - 출력\n",
    "        print('-', end = '')\n",
    "        \n",
    "print()"
   ]
  },
  {
   "cell_type": "code",
   "execution_count": 4,
   "id": "412daf68",
   "metadata": {},
   "outputs": [
    {
     "name": "stdout",
     "output_type": "stream",
     "text": [
      "+와 -를 번갈아 출력합니다.\n",
      "몇 개를 출력할까요?12\n",
      "+-+-+-+-+-+-\n"
     ]
    }
   ],
   "source": [
    "# 실습2) 강사님 풀이 2\n",
    "\n",
    "print('+와 -를 번갈아 출력합니다.')\n",
    "n = int(input('몇 개를 출력할까요?'))\n",
    "\n",
    "for _ in range(n // 2):\n",
    "    print('+-', end = '')\n",
    "    \n",
    "if n % 2:\n",
    "    print('+', end = '')\n",
    "    \n",
    "print()"
   ]
  },
  {
   "cell_type": "code",
   "execution_count": 11,
   "id": "e933619f",
   "metadata": {},
   "outputs": [
    {
     "name": "stdout",
     "output_type": "stream",
     "text": [
      "1 2 3 4 5 6 7 9 10 11 12 "
     ]
    }
   ],
   "source": [
    "# 실습 3\n",
    "for i in range(12):\n",
    "    if (i + 1) == 8:\n",
    "        continue\n",
    "    else:\n",
    "        print(i + 1, end = ' ')"
   ]
  },
  {
   "cell_type": "code",
   "execution_count": 18,
   "id": "4497b77e",
   "metadata": {},
   "outputs": [
    {
     "name": "stdout",
     "output_type": "stream",
     "text": [
      "정수를 입력하세요.: 81\n",
      "가능한 정수 쌍: 9, 2\n",
      "가능한 정수 쌍: 3, 4\n"
     ]
    }
   ],
   "source": [
    "# 실습 4\n",
    "\n",
    "n = int(input('정수를 입력하세요.: '))\n",
    "\n",
    "def power(n):\n",
    "    root = 1\n",
    "    pwr = 2\n",
    "    answer = (-1, -1)\n",
    "    \n",
    "    for i in range(4):\n",
    "        #print(f'pwr: {pwr}')\n",
    "        \n",
    "        for j in range(n):\n",
    "            #print(f'root: {root}')\n",
    "            \n",
    "            if (root ** pwr) == n:\n",
    "                answer = (root, pwr)\n",
    "                print(f'가능한 정수 쌍: {answer[0]}, {answer[1]}')\n",
    "            \n",
    "            root += 1\n",
    "            \n",
    "        pwr += 1\n",
    "        root = 1\n",
    "        \n",
    "    if answer == (-1, -1):\n",
    "        print('정수 쌍이 없습니다.')\n",
    "        \n",
    "power(n)"
   ]
  },
  {
   "cell_type": "code",
   "execution_count": 17,
   "id": "2de42271",
   "metadata": {},
   "outputs": [
    {
     "name": "stdout",
     "output_type": "stream",
     "text": [
      "숫자를 입력하세요: 81\n",
      "3 ** 4 = 81\n",
      "9 ** 2 = 81\n"
     ]
    }
   ],
   "source": [
    "# 실습 4) 강사님\n",
    "number = int(input('숫자를 입력하세요: '))\n",
    "flag = 0\n",
    "\n",
    "for root in range(1, number + 1):\n",
    "    for pwr in range(2, 6):\n",
    "        if (root ** pwr) == number:\n",
    "            print(f'{root} ** {pwr} = {number}')\n",
    "            flag = 1\n",
    "            \n",
    "if flag == 0:\n",
    "    print('해당하는 결과가 없습니다.')"
   ]
  },
  {
   "cell_type": "code",
   "execution_count": 22,
   "id": "a4601d7d",
   "metadata": {},
   "outputs": [
    {
     "name": "stdout",
     "output_type": "stream",
     "text": [
      "10\n"
     ]
    }
   ],
   "source": [
    "# 추가실습 Q0\n",
    "a = int(input('첫 번째 수를 입력하세요: '))\n",
    "b = int(input('두 번째 수를 입력하세요: '))\n",
    "data = []\n",
    "\n",
    "for i in range(1, a + 1):\n",
    "    if (a % i == 0) & (b % i == 0):\n",
    "        data.append(i)\n",
    "        \n",
    "print(max(data))"
   ]
  },
  {
   "cell_type": "code",
   "execution_count": 51,
   "id": "287dff28",
   "metadata": {},
   "outputs": [
    {
     "name": "stdout",
     "output_type": "stream",
     "text": [
      "4\n"
     ]
    }
   ],
   "source": [
    "# 풀이\n",
    "def solution(a, b):\n",
    "    \n",
    "    # 둘 중 작은 값 ~ 1까지 찾기.\n",
    "    if a < b:\n",
    "        min = a\n",
    "    else:\n",
    "        min = b\n",
    "        \n",
    "    for i in range(min, 0, -1):\n",
    "        if a % i == 0 and b % i == 0:\n",
    "            answer = i\n",
    "            break\n",
    "            \n",
    "    return answer\n",
    "    \n",
    "a = 12\n",
    "b = 16\n",
    "c = solution(a, b)\n",
    "print(c)"
   ]
  },
  {
   "cell_type": "code",
   "execution_count": 27,
   "id": "d4e2df8b",
   "metadata": {},
   "outputs": [
    {
     "name": "stdout",
     "output_type": "stream",
     "text": [
      "첫 번째 수를 입력하세요: 2\n",
      "두 번째 수를 입력하세요: 4\n",
      "4\n"
     ]
    }
   ],
   "source": [
    "# 추가실습 Q1\n",
    "a = int(input('첫 번째 수를 입력하세요: '))\n",
    "b = int(input('두 번째 수를 입력하세요: '))\n",
    "data1 = []\n",
    "data2 = []\n",
    "\n",
    "for i in range(1, b + 1):\n",
    "    data1.append(i * a)\n",
    "    \n",
    "for i in range(1, a + 1):\n",
    "    data2.append(i * b)\n",
    "\n",
    "for i in data1:\n",
    "    if i in data2:\n",
    "        print(i)\n",
    "        break"
   ]
  },
  {
   "cell_type": "code",
   "execution_count": 70,
   "id": "126a6c8e",
   "metadata": {},
   "outputs": [
    {
     "name": "stdout",
     "output_type": "stream",
     "text": [
      "48\n"
     ]
    }
   ],
   "source": [
    "# 풀이\n",
    "def solution(a, b):\n",
    "    \n",
    "    if a > b:\n",
    "        max = a\n",
    "    else:\n",
    "        max = b\n",
    "        \n",
    "    # 두 수의 곱까지.\n",
    "    for i in range(max, a * b + 1):\n",
    "        if i % a == 0 and i % b == 0:\n",
    "            answer = i\n",
    "            break\n",
    "            \n",
    "    return answer\n",
    "\n",
    "a = 12\n",
    "b = 16\n",
    "c = solution(a, b)\n",
    "print(c)"
   ]
  },
  {
   "cell_type": "code",
   "execution_count": 52,
   "id": "4e17501b",
   "metadata": {},
   "outputs": [
    {
     "name": "stdout",
     "output_type": "stream",
     "text": [
      "26\n",
      "4\n"
     ]
    }
   ],
   "source": [
    "# 추가실습 Q2\n",
    "n = input()\n",
    "\n",
    "# 한 자리 숫자면 앞에 0을 붙힌다.\n",
    "if int(n) < 10:\n",
    "    n = '0' + n\n",
    "\n",
    "# 처음 숫자를 보존하기 위해 start 선언.\n",
    "start = n\n",
    "# 정답 idx\n",
    "idx = 0\n",
    "\n",
    "# 앞자리 숫자와 뒷자리 숫자를 합침. (문자열로써 합침)\n",
    "str_summ = n[0] + n[1]\n",
    "\n",
    "# 앞자리 숫자와 뒷자리 숫자를 합침. (정수로써 합침)\n",
    "n = str(int(n[0]) + int(n[1]))\n",
    "\n",
    "while True:\n",
    "    # 새로운 순환 숫자를 생성.\n",
    "    # 기존의 뒷자리 숫자와 계산 결과 숫자의 앞자리 숫자를 합침. (문자열)\n",
    "    str_summ = str_summ[1] + n[-1]\n",
    "\n",
    "    # 앞자리 숫자와 뒷자리 숫자를 합침. (정수)\n",
    "    n = str(int(str_summ[0]) + int(str_summ[1]))\n",
    "    \n",
    "    # 정답에 1 추가.\n",
    "    idx += 1\n",
    "    \n",
    "    # 처음 숫자와 순환한 숫자가 같으면 반복문을 종료한다.\n",
    "    if start == str_summ:\n",
    "        break\n",
    "        \n",
    "print(idx)"
   ]
  },
  {
   "cell_type": "code",
   "execution_count": 78,
   "id": "f6a6b4ad",
   "metadata": {},
   "outputs": [
    {
     "name": "stdout",
     "output_type": "stream",
     "text": [
      "26\n",
      "4\n"
     ]
    }
   ],
   "source": [
    "# 풀이 1\n",
    "n = input()\n",
    "j = n\n",
    "count = 0\n",
    "\n",
    "while True:\n",
    "    if int(j) < 10:\n",
    "        j = '0' + j\n",
    "        \n",
    "    i = int(j[0]) + int(j[1])\n",
    "    j = int(j[1] + str(i)[-1])\n",
    "    j = str(j)\n",
    "    \n",
    "    count += 1\n",
    "    \n",
    "    if j == n:\n",
    "        break\n",
    "        \n",
    "print(count)"
   ]
  },
  {
   "cell_type": "code",
   "execution_count": 79,
   "id": "a3888f3d",
   "metadata": {},
   "outputs": [
    {
     "name": "stdout",
     "output_type": "stream",
     "text": [
      "26\n",
      "4\n"
     ]
    }
   ],
   "source": [
    "# 풀이 2\n",
    "n = int(input())\n",
    "\n",
    "i = n\n",
    "count = 0\n",
    "\n",
    "while True:\n",
    "    a = i // 10\n",
    "    b = i % 10\n",
    "    sum = a + b\n",
    "    i = b * 10 + sum % 10\n",
    "    \n",
    "    count += 1\n",
    "    \n",
    "    if i == n:\n",
    "        break\n",
    "        \n",
    "print(count)"
   ]
  },
  {
   "cell_type": "code",
   "execution_count": 11,
   "id": "42abdde1",
   "metadata": {},
   "outputs": [
    {
     "name": "stdout",
     "output_type": "stream",
     "text": [
      "43\n"
     ]
    }
   ],
   "source": [
    "# 추가실습 Q3\n",
    "def solution(left, right):\n",
    "    answer = 0\n",
    "    \n",
    "    for i in range(left, right + 1):\n",
    "        \n",
    "        # 약수의 개수를 구하기 위한 list. 매번 초기화 해주기.\n",
    "        idx = []\n",
    "        \n",
    "        # 1부터 해당 숫자까지의 약수를 구해 list에 추가.\n",
    "        for j in range(1, i + 1):\n",
    "            if i % j == 0:\n",
    "                idx.append(j)\n",
    "        \n",
    "        # 약수의 개수가 짝수면 더하고\n",
    "        if len(idx) % 2 == 0:\n",
    "            answer += i\n",
    "            \n",
    "        # 약수의 개수가 홀수면 뺀다.\n",
    "        else:\n",
    "            answer -= i\n",
    "                \n",
    "    return answer\n",
    "\n",
    "left = 13\n",
    "right = 17\n",
    "c = solution(left, right)\n",
    "print(c)"
   ]
  },
  {
   "cell_type": "code",
   "execution_count": 1,
   "id": "2e308553",
   "metadata": {},
   "outputs": [
    {
     "name": "stdout",
     "output_type": "stream",
     "text": [
      "43\n"
     ]
    }
   ],
   "source": [
    "# 풀이\n",
    "def solution(left, right):\n",
    "    \n",
    "    answer = 0\n",
    "    for i in range(left, right + 1):\n",
    "        count = 0\n",
    "        for j in range(1, i + 1):\n",
    "            if i % j == 0:\n",
    "                count += 1\n",
    "                \n",
    "        if count % 2 == 0:\n",
    "            answer = answer + i\n",
    "        \n",
    "        else:\n",
    "            answer = answer - i\n",
    "            \n",
    "    return answer\n",
    "\n",
    "left = 13\n",
    "right = 17\n",
    "c = solution(left, right)\n",
    "print(c)"
   ]
  },
  {
   "cell_type": "code",
   "execution_count": 3,
   "id": "c00a68ff",
   "metadata": {},
   "outputs": [
    {
     "name": "stdout",
     "output_type": "stream",
     "text": [
      "43\n"
     ]
    }
   ],
   "source": [
    "# 다른 사람 코드 1\n",
    "def solution(left, right):\n",
    "    answer = 0\n",
    "    for i in range(left, right + 1):\n",
    "        tmp = []\n",
    "        for j in range(2, i):\n",
    "            if i % j == 0:\n",
    "                tmp.append(j)\n",
    "        if len(tmp) % 2 == 1:\n",
    "            answer -= i\n",
    "        else:\n",
    "            answer += i\n",
    "    return answer\n",
    "\n",
    "left = 13\n",
    "right = 17\n",
    "c = solution(left, right)\n",
    "print(c)"
   ]
  },
  {
   "cell_type": "code",
   "execution_count": 4,
   "id": "1b828199",
   "metadata": {},
   "outputs": [
    {
     "name": "stdout",
     "output_type": "stream",
     "text": [
      "13 17\n",
      "43\n"
     ]
    }
   ],
   "source": [
    "# 다른 사람 코드 2\n",
    "left, right = map(int, input().split())\n",
    "s = 0\n",
    "\n",
    "def return_prime_numbers(n):\n",
    "    prime = []\n",
    "    for i in range(1, n + 1):\n",
    "        if n % i == 0:\n",
    "            prime.append(i)\n",
    "    return len(prime)\n",
    "\n",
    "for i in range(left, right + 1):\n",
    "    if return_prime_numbers(i) % 2 == 0:\n",
    "        s += i\n",
    "    else:\n",
    "        s -= i\n",
    "        \n",
    "print(s)"
   ]
  },
  {
   "cell_type": "code",
   "execution_count": 9,
   "id": "bad8a1e1",
   "metadata": {},
   "outputs": [
    {
     "name": "stdout",
     "output_type": "stream",
     "text": [
      "숫자로 이루어진 문자열을 입력하세요.02984\n",
      "576\n"
     ]
    }
   ],
   "source": [
    "# 추가실습 Q4\n",
    "data = input('숫자로 이루어진 문자열을 입력하세요.')\n",
    "result = int(data[0])\n",
    "\n",
    "for i in range(1, len(data)):\n",
    "    if int(data[i]) <= 1 or result <= 1:\n",
    "        result += int(data[i])\n",
    "        \n",
    "    else:\n",
    "        result *= int(data[i])\n",
    "        \n",
    "print(result)"
   ]
  },
  {
   "cell_type": "code",
   "execution_count": 14,
   "id": "1353f49d",
   "metadata": {},
   "outputs": [
    {
     "name": "stdout",
     "output_type": "stream",
     "text": [
      "숫자로 이루어진 문자열을 입력하세요.02984\n",
      "0 + 2 x 9 x 8 x 4 = 576\n"
     ]
    }
   ],
   "source": [
    "# 풀이\n",
    "data = input('숫자로 이루어진 문자열을 입력하세요.')\n",
    "result = int(data[0])\n",
    "\n",
    "print(result, end = ' ')\n",
    "\n",
    "for i in range(1, len(data)):\n",
    "    num = int(data[i])\n",
    "    if num <= 1 or result <= 1:\n",
    "        result += num\n",
    "        print('+ ' + str(num), end = ' ')\n",
    "        \n",
    "    else:\n",
    "        result *= num\n",
    "        print('x ' + str(num), end = ' ')\n",
    "        \n",
    "print('= ' + str(result))"
   ]
  },
  {
   "cell_type": "code",
   "execution_count": 69,
   "id": "ef9c2e36",
   "metadata": {},
   "outputs": [
    {
     "name": "stdout",
     "output_type": "stream",
     "text": [
      "숫자를 입력하세요: 123402\n",
      "LUCKY\n"
     ]
    }
   ],
   "source": [
    "# 추가실습 Q5\n",
    "n = list(input('숫자를 입력하세요: '))\n",
    "\n",
    "forw = 0\n",
    "back = 0\n",
    "\n",
    "mid = len(n) // 2\n",
    "\n",
    "for i in range(mid):\n",
    "    forw += int(n[i])\n",
    "    \n",
    "for j in range(mid, len(n)):\n",
    "    back += int(n[j])\n",
    "    \n",
    "if forw == back:\n",
    "    print('LUCKY')\n",
    "    \n",
    "else:\n",
    "    print('READY')"
   ]
  },
  {
   "cell_type": "code",
   "execution_count": 75,
   "id": "d15b03c0",
   "metadata": {},
   "outputs": [
    {
     "name": "stdout",
     "output_type": "stream",
     "text": [
      "121\n",
      "144\n"
     ]
    }
   ],
   "source": [
    "# 추가실습 Q6\n",
    "def solution(n):\n",
    "    answer = 0\n",
    "    \n",
    "    for i in range(1, n + 1):\n",
    "        if i * i == n:\n",
    "            answer = (i + 1) * (i + 1)\n",
    "            break\n",
    "    \n",
    "    return answer\n",
    "\n",
    "n = int(input())\n",
    "print(answer)"
   ]
  },
  {
   "cell_type": "code",
   "execution_count": null,
   "id": "4663d58c",
   "metadata": {},
   "outputs": [],
   "source": []
  }
 ],
 "metadata": {
  "kernelspec": {
   "display_name": "Python 3",
   "language": "python",
   "name": "python3"
  },
  "language_info": {
   "codemirror_mode": {
    "name": "ipython",
    "version": 3
   },
   "file_extension": ".py",
   "mimetype": "text/x-python",
   "name": "python",
   "nbconvert_exporter": "python",
   "pygments_lexer": "ipython3",
   "version": "3.8.8"
  }
 },
 "nbformat": 4,
 "nbformat_minor": 5
}

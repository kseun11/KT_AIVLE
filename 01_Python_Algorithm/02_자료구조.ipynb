{
 "cells": [
  {
   "cell_type": "markdown",
   "id": "11086c23",
   "metadata": {},
   "source": [
    "### Unit 1. 자료구조와 배열"
   ]
  },
  {
   "cell_type": "code",
   "execution_count": 7,
   "id": "fae2ebe1",
   "metadata": {},
   "outputs": [
    {
     "name": "stdout",
     "output_type": "stream",
     "text": [
      "3\n"
     ]
    }
   ],
   "source": [
    "# 리스트 원소의 최댓값 구하기\n",
    "\n",
    "a = [1, 2, 3]\n",
    "maximum = a[0]\n",
    "\n",
    "if a[1] > maximum:\n",
    "    maximum = a[1]\n",
    "    \n",
    "if a[2] > maximum:\n",
    "    maximum = a[2]\n",
    "    \n",
    "print(maximum)"
   ]
  },
  {
   "cell_type": "code",
   "execution_count": 8,
   "id": "889ef15f",
   "metadata": {},
   "outputs": [
    {
     "name": "stdout",
     "output_type": "stream",
     "text": [
      "4\n"
     ]
    }
   ],
   "source": [
    "a = [1, 2, 3, 4]\n",
    "maximum = a[0]\n",
    "\n",
    "if a[1] > maximum:\n",
    "    maximum = a[1]\n",
    "    \n",
    "if a[2] > maximum:\n",
    "    maximum = a[2]\n",
    "    \n",
    "if a[3] > maximum:\n",
    "    maximum = a[3]\n",
    "    \n",
    "print(maximum)"
   ]
  },
  {
   "cell_type": "code",
   "execution_count": 9,
   "id": "782a4768",
   "metadata": {},
   "outputs": [
    {
     "name": "stdout",
     "output_type": "stream",
     "text": [
      "7\n",
      "t\n",
      "FLAC\n"
     ]
    }
   ],
   "source": [
    "def max_of(a):\n",
    "    maximum = a[0]\n",
    "    \n",
    "    for i in range(1, len(a)):\n",
    "        if a[i] > maximum:\n",
    "            maximum = a[i]\n",
    "    return maximum\n",
    "\n",
    "t = (4, 7, 5.6, 2, 3.14, 1)\n",
    "s = 'string'\n",
    "a = ['DTS', 'AAC', 'FLAC']\n",
    "\n",
    "print(f'{max_of(t)}')\n",
    "print(f'{max_of(s)}')\n",
    "print(f'{max_of(a)}')"
   ]
  },
  {
   "cell_type": "markdown",
   "id": "bcc84cca",
   "metadata": {},
   "source": [
    "튜플 (tuple)"
   ]
  },
  {
   "cell_type": "code",
   "execution_count": 10,
   "id": "63dc819a",
   "metadata": {},
   "outputs": [
    {
     "data": {
      "text/plain": [
       "tuple"
      ]
     },
     "execution_count": 10,
     "metadata": {},
     "output_type": "execute_result"
    }
   ],
   "source": [
    "t1 = 1, 2, 3\n",
    "type(t1)"
   ]
  },
  {
   "cell_type": "code",
   "execution_count": 11,
   "id": "e00867bb",
   "metadata": {},
   "outputs": [
    {
     "data": {
      "text/plain": [
       "tuple"
      ]
     },
     "execution_count": 11,
     "metadata": {},
     "output_type": "execute_result"
    }
   ],
   "source": [
    "t2 = (1, 2, 3)\n",
    "type(t2)"
   ]
  },
  {
   "cell_type": "code",
   "execution_count": 13,
   "id": "c132a886",
   "metadata": {},
   "outputs": [
    {
     "name": "stdout",
     "output_type": "stream",
     "text": [
      "1\n",
      "g\n",
      "AAC\n"
     ]
    }
   ],
   "source": [
    "# 미니 실습1\n",
    "\n",
    "def min_of(list):\n",
    "    return min(list)\n",
    "\n",
    "t = (4, 7, 5.6, 2, 3.14, 1)\n",
    "s = 'string'\n",
    "a = ['DTS', 'AAC', 'FLAC']\n",
    "\n",
    "print(min_of(t))\n",
    "print(min_of(s))\n",
    "print(min_of(a))"
   ]
  },
  {
   "cell_type": "code",
   "execution_count": 22,
   "id": "a5ea1fd9",
   "metadata": {},
   "outputs": [
    {
     "name": "stdout",
     "output_type": "stream",
     "text": [
      "1\n",
      "g\n",
      "AAC\n"
     ]
    }
   ],
   "source": [
    "def min_of(list):\n",
    "    minimum = list[0]\n",
    "    \n",
    "    for i in range(1, len(list)):\n",
    "        if list[i] < minimum:\n",
    "            minimum = list[i]\n",
    "    return minimum\n",
    "\n",
    "t = (4, 7, 5.6, 2, 3.14, 1)\n",
    "s = 'string'\n",
    "a = ['DTS', 'AAC', 'FLAC']\n",
    "\n",
    "print(min_of(t))\n",
    "print(min_of(s))\n",
    "print(min_of(a))"
   ]
  },
  {
   "cell_type": "code",
   "execution_count": 14,
   "id": "03bebca8",
   "metadata": {},
   "outputs": [
    {
     "name": "stdout",
     "output_type": "stream",
     "text": [
      "리스트의 최댓값을 구합니다.\n",
      "원소 수를 입력하세요: 5\n",
      "x[0]값을 입력하세요: 1\n",
      "x[1]값을 입력하세요: 2\n",
      "x[2]값을 입력하세요: 3\n",
      "x[3]값을 입력하세요: 4\n",
      "x[4]값을 입력하세요: 5\n",
      "최댓값은 5입니다.\n"
     ]
    }
   ],
   "source": [
    "# 사용자가 입력한 리스트에서 최댓값 출력하기\n",
    "\n",
    "def max_of(a):\n",
    "    maximum = a[0]\n",
    "    \n",
    "    for i in range(1, len(a)):\n",
    "        if a[i] > maximum:\n",
    "            maximum = a[i]\n",
    "    return maximum\n",
    "\n",
    "print('리스트의 최댓값을 구합니다.')\n",
    "num = int(input('원소 수를 입력하세요: '))\n",
    "x = [None] * num\n",
    "\n",
    "for i in range(num):\n",
    "    x[i] = int(input(f'x[{i}]값을 입력하세요: '))\n",
    "    \n",
    "print(f'최댓값은 {max_of(x)}입니다.')"
   ]
  },
  {
   "cell_type": "code",
   "execution_count": 15,
   "id": "0f64df96",
   "metadata": {},
   "outputs": [
    {
     "name": "stdout",
     "output_type": "stream",
     "text": [
      "리스트의 최댓값을 구합니다.\n",
      "주의: \"End\"를 입력하면 원소 입력을 종료합니다.\n",
      "x[0]값을 입력하세요: 1\n",
      "x[1]값을 입력하세요: 2\n",
      "x[2]값을 입력하세요: 3\n",
      "x[3]값을 입력하세요: 4\n",
      "x[4]값을 입력하세요: 5\n",
      "x[5]값을 입력하세요: 6\n",
      "x[6]값을 입력하세요: 7\n",
      "x[7]값을 입력하세요: End\n",
      "최댓값은 7입니다.\n"
     ]
    }
   ],
   "source": [
    "print('리스트의 최댓값을 구합니다.')\n",
    "print('주의: \"End\"를 입력하면 원소 입력을 종료합니다.')\n",
    "i = 0\n",
    "x = []\n",
    "\n",
    "while True:\n",
    "    s = input(f'x[{i}]값을 입력하세요: ')\n",
    "    if s == 'End':\n",
    "        break\n",
    "    x.append(int(s))\n",
    "    i += 1\n",
    "    \n",
    "print(f'최댓값은 {max_of(x)}입니다.')"
   ]
  },
  {
   "cell_type": "code",
   "execution_count": 19,
   "id": "87533045",
   "metadata": {},
   "outputs": [
    {
     "name": "stdout",
     "output_type": "stream",
     "text": [
      "x[0] = John\n",
      "x[1] = George\n",
      "x[2] = Paul\n",
      "x[3] = Ringo\n"
     ]
    }
   ],
   "source": [
    "# 리스트의 모든 원소를 스캔하기\n",
    "\n",
    "# 원소 수 파악\n",
    "\n",
    "x = ['John', 'George', 'Paul', 'Ringo']\n",
    "\n",
    "for i in range(len(x)):\n",
    "    print(f'x[{i}] = {x[i]}')"
   ]
  },
  {
   "cell_type": "code",
   "execution_count": 18,
   "id": "4fcbfea5",
   "metadata": {},
   "outputs": [
    {
     "name": "stdout",
     "output_type": "stream",
     "text": [
      "x[0] = John\n",
      "x[1] = George\n",
      "x[2] = Paul\n",
      "x[3] = Ringo\n"
     ]
    }
   ],
   "source": [
    "# enumerate 함수 사용: 인덱스와 원소를 짝지어서 튜플로 꺼내는 내장 함수.\n",
    "\n",
    "x = ['John', 'George', 'Paul', 'Ringo']\n",
    "\n",
    "for i, name in enumerate(x):\n",
    "    print(f'x[{i}] = {name}')"
   ]
  },
  {
   "cell_type": "code",
   "execution_count": 23,
   "id": "759b63ac",
   "metadata": {},
   "outputs": [
    {
     "name": "stdout",
     "output_type": "stream",
     "text": [
      "John\n",
      "George\n",
      "Paul\n",
      "Ringo\n"
     ]
    }
   ],
   "source": [
    "# 리스트의 모든 원소를 스캔하기\n",
    "\n",
    "x = ['John', 'George', 'Paul', 'Ringo']\n",
    "\n",
    "for i in x:\n",
    "    print(i)"
   ]
  },
  {
   "cell_type": "code",
   "execution_count": 25,
   "id": "b339aab0",
   "metadata": {},
   "outputs": [
    {
     "name": "stdout",
     "output_type": "stream",
     "text": [
      "[7, 6, 9, 3, 1, 5, 2]\n"
     ]
    }
   ],
   "source": [
    "# 원소를 역순으로 정렬하기\n",
    "\n",
    "def reverse_list(a):\n",
    "    n = len(a)\n",
    "    for i in range(n // 2): # 교환 횟수) 원소 수 // 2\n",
    "        a[i], a[n - i - 1] = a[n - i - 1], a[i]\n",
    "        \n",
    "a = [2, 5, 1, 3, 9, 6, 7]\n",
    "\n",
    "reverse_list(a)\n",
    "\n",
    "print(a)"
   ]
  },
  {
   "cell_type": "code",
   "execution_count": 49,
   "id": "11140ced",
   "metadata": {},
   "outputs": [
    {
     "name": "stdout",
     "output_type": "stream",
     "text": [
      "리스트를 역순으로 출력합니다.\n",
      "원소 수를 입력하세요: 5\n",
      "x[0]값을 입력하세요: 1\n",
      "x[1]값을 입력하세요: 2\n",
      "x[2]값을 입력하세요: 3\n",
      "x[3]값을 입력하세요: 4\n",
      "x[4]값을 입력하세요: 5\n",
      "리스트를 역순으로 출력합니다.\n",
      "x[0] = 5\n",
      "x[1] = 4\n",
      "x[2] = 3\n",
      "x[3] = 2\n",
      "x[4] = 1\n"
     ]
    }
   ],
   "source": [
    "# 미니 실습 2\n",
    "x = []\n",
    "print('리스트를 역순으로 출력합니다.')\n",
    "n = int(input('원소 수를 입력하세요: '))\n",
    "for i in range(n):\n",
    "    x.append(int(input(f'x[{i}]값을 입력하세요: ')))\n",
    "    \n",
    "print('리스트를 역순으로 출력합니다.')\n",
    "\n",
    "# reverse\n",
    "l = len(x)\n",
    "for i in range(l // 2): # 교환 횟수) 원소 수 // 2\n",
    "    x[i], x[l - i - 1] = x[l - i - 1], x[i]\n",
    "    \n",
    "# print\n",
    "for i, name in enumerate(x):\n",
    "    print(f'x[{i}] = {name}')"
   ]
  },
  {
   "cell_type": "markdown",
   "id": "b5562094",
   "metadata": {},
   "source": [
    "### Unit 2. 검색 알고리즘\n",
    "\n",
    "- 자료구조에 따라 활용할 수 있는 검색 알고리즘이 달라짐.\n",
    "- 선형 검색과 이진 검색."
   ]
  },
  {
   "cell_type": "markdown",
   "id": "6428e6b8",
   "metadata": {},
   "source": [
    "선형 검색 (Linear Search)"
   ]
  },
  {
   "cell_type": "code",
   "execution_count": 44,
   "id": "8174e8ed",
   "metadata": {},
   "outputs": [
    {
     "name": "stdout",
     "output_type": "stream",
     "text": [
      "검색값은 a[3]에 있습니다.\n"
     ]
    }
   ],
   "source": [
    "# while 문\n",
    "def seq_search(a, key):\n",
    "    i = 0\n",
    "    \n",
    "    while True:\n",
    "        if i == len(a):\n",
    "            return -1\n",
    "        \n",
    "        if a[i] == key:\n",
    "            return i\n",
    "        \n",
    "        i += 1\n",
    "        \n",
    "a = [2, 5, 1, 3, 9, 6, 7]\n",
    "\n",
    "index = seq_search(a, 3)\n",
    "\n",
    "if index == -1:\n",
    "    print('검색값을 갖는 원소가 존재하지 않습니다.')\n",
    "    \n",
    "else:\n",
    "    print(f'검색값은 a[{index}]에 있습니다.')"
   ]
  },
  {
   "cell_type": "code",
   "execution_count": 45,
   "id": "1146be0f",
   "metadata": {},
   "outputs": [
    {
     "name": "stdout",
     "output_type": "stream",
     "text": [
      "검색값을 갖는 원소가 존재하지 않습니다.\n"
     ]
    }
   ],
   "source": [
    "# For 문\n",
    "def seq_search_for(a, key):\n",
    "    for i in range(len(a)):\n",
    "        if a[i] == key:\n",
    "            return i\n",
    "    return -1\n",
    "\n",
    "a = [2, 5, 1, 3, 9, 6, 7]\n",
    "\n",
    "index = seq_search_for(a, 4)\n",
    "\n",
    "if index == -1:\n",
    "    print('검색값을 갖는 원소가 존재하지 않습니다.')\n",
    "    \n",
    "else:\n",
    "    print(f'검색값은 a[{index}]에 있습니다.')"
   ]
  },
  {
   "cell_type": "markdown",
   "id": "0c2f7018",
   "metadata": {},
   "source": [
    "보초법 (Sentinel Method)\n",
    "\n",
    "- 종료 조건을 검사하는 비용을 줄이기 위한 방안.\n",
    "- 실패하는 경우가 없음 (언제나 성공)\n",
    "    - 보초가 맨 뒤에 존재하기 때문에."
   ]
  },
  {
   "cell_type": "code",
   "execution_count": 47,
   "id": "a40dd701",
   "metadata": {},
   "outputs": [],
   "source": [
    "# 선형 검색\n",
    "def seq_search(a, key):\n",
    "    i = 0\n",
    "    \n",
    "    while True:\n",
    "        if i == len(a):\n",
    "            return -1\n",
    "    \n",
    "        if a[i] == key:\n",
    "            return i\n",
    "        i += 1\n",
    "\n",
    "# 보초법\n",
    "def seq_search_sentinel(b, key):\n",
    "    a = b.copy()\n",
    "    a.append(key) # key를 보초.\n",
    "    \n",
    "    i = 0\n",
    "    while True:\n",
    "        if a[i] == key:\n",
    "            break\n",
    "        i += 1\n",
    "        \n",
    "    return -1 if i == len(b) else i"
   ]
  },
  {
   "cell_type": "code",
   "execution_count": 93,
   "id": "c7cc1791",
   "metadata": {},
   "outputs": [
    {
     "name": "stdout",
     "output_type": "stream",
     "text": [
      "검색 횟수: 7\n",
      "검색값은 a[6]에 있습니다.\n",
      "검색 횟수: 7\n",
      "검색값은 a[6]에 있습니다.\n"
     ]
    }
   ],
   "source": [
    "# 미니 실습 3\n",
    "a = [2, 5, 1, 3, 9, 6, 7]\n",
    "key = 7\n",
    "\n",
    "# 선형 검색\n",
    "def seq_search(list, key):\n",
    "    i = 0\n",
    "    cnt = 0\n",
    "    \n",
    "    while True:\n",
    "        cnt += 1\n",
    "        \n",
    "        if i == len(list):\n",
    "            print(f'검색 횟수: {cnt}')\n",
    "            return -1\n",
    "        \n",
    "        if list[i] == key:\n",
    "            print(f'검색 횟수: {cnt}')\n",
    "            return i\n",
    "            \n",
    "        i += 1\n",
    "        \n",
    "index = seq_search(a, key)\n",
    "\n",
    "if index == -1:\n",
    "    print('원소가 없습니다.')\n",
    "    \n",
    "else:\n",
    "    print(f'검색값은 a[{index}]에 있습니다.')\n",
    "\n",
    "# 보초법\n",
    "def seq_search_sentinel(list, key):\n",
    "    list_copy = list.copy()\n",
    "    list_copy.append(key) # key를 보초.\n",
    "    \n",
    "    i = 0\n",
    "    cnt = 0\n",
    "    \n",
    "    while True:\n",
    "        cnt += 1\n",
    "        \n",
    "        if list_copy[i] == key:\n",
    "            print(f'검색 횟수: {cnt}')\n",
    "            break\n",
    "        i += 1\n",
    "        \n",
    "    return -1 if i == len(list) else i\n",
    "\n",
    "index = seq_search_sentinel(a, key)\n",
    "\n",
    "if index == -1:\n",
    "    print('원소가 없습니다.')\n",
    "    \n",
    "else:\n",
    "    print(f'검색값은 a[{index}]에 있습니다.')"
   ]
  },
  {
   "cell_type": "code",
   "execution_count": 21,
   "id": "d8843239",
   "metadata": {},
   "outputs": [],
   "source": [
    "# 풀이\n",
    "\n",
    "def seq_search(a, key):\n",
    "    i = 0\n",
    "    counter = 0\n",
    "    while True:\n",
    "        counter += 1\n",
    "        if i == len(a):\n",
    "            return -1, counter\n",
    "        \n",
    "        if a[i] == key:\n",
    "            return i, counter\n",
    "        \n",
    "        i += 1"
   ]
  },
  {
   "cell_type": "code",
   "execution_count": 22,
   "id": "cb9f4fdd",
   "metadata": {},
   "outputs": [],
   "source": [
    "def seq_search_sentinel(b, key):\n",
    "    a = b.copy()\n",
    "    a.append(key)\n",
    "    \n",
    "    i = 0\n",
    "    counter = 0\n",
    "    \n",
    "    while True:\n",
    "        counter += 1\n",
    "        if a[i] == key:\n",
    "            break\n",
    "        i += 1\n",
    "        \n",
    "    return (-1, counter) if i == len(b) else (i, counter)"
   ]
  },
  {
   "cell_type": "code",
   "execution_count": null,
   "id": "6f60a498",
   "metadata": {},
   "outputs": [],
   "source": [
    "a = [2, 5, 1, 3, 9, 6, 7]\n",
    "\n",
    "index0, counter0 = seq_search(a, 7)\n",
    "index1, counter1 = seq_search_sentinel(a, 7)\n",
    "\n",
    "if index0 == -1 and index1 == -1:\n",
    "    print('원소가 존재하지 않습니다.')\n",
    "    \n",
    "else:\n",
    "    print(f'선형검색 While 문에서 검색값은 a[{index0}]에 있습니다.')\n",
    "    print(f'선형검색 보초법에서 검색값은 a[{index1}]에 있습니다.')\n",
    "    print(f'선형검색 While 문에서 if문은 {counter0}만큼 실행되었습니다.')\n",
    "    print(f'선형검색 보초법에서 if문은 {counter1}만큼 실행되었습니다.')"
   ]
  },
  {
   "cell_type": "markdown",
   "id": "d27c198c",
   "metadata": {},
   "source": [
    "이진 검색 (Binary Search)\n",
    "\n",
    "- 데이터가 정렬되어 있어야 적용 가능."
   ]
  },
  {
   "cell_type": "code",
   "execution_count": 52,
   "id": "a5ce22f6",
   "metadata": {},
   "outputs": [],
   "source": [
    "# pc) 중앙값\n",
    "# pl) 왼쪽\n",
    "# pr) 오른쪽\n",
    "\n",
    "def bin_search(a, key):\n",
    "    pl = 0\n",
    "    pr = len(a) - 1\n",
    "    \n",
    "    while True:\n",
    "        pc = (pl + pr) // 2\n",
    "        \n",
    "        if a[pc] == key:\n",
    "            return pc\n",
    "        \n",
    "        elif a[pc] < key:\n",
    "            pl = pc + 1\n",
    "            \n",
    "        else:\n",
    "            pr = pc - 1\n",
    "            \n",
    "        if pl > pr:\n",
    "            break\n",
    "            \n",
    "    return -1"
   ]
  },
  {
   "cell_type": "code",
   "execution_count": 53,
   "id": "39325616",
   "metadata": {},
   "outputs": [
    {
     "name": "stdout",
     "output_type": "stream",
     "text": [
      "검색값은 a[6]에 있습니다.\n"
     ]
    }
   ],
   "source": [
    "a = [5, 7, 15, 28, 29, 31, 39, 58, 68, 70, 95]\n",
    "\n",
    "index = bin_search(a, 39)\n",
    "\n",
    "if index == -1:\n",
    "    print('검색값을 갖는 원소가 존재하지 않습니다.')\n",
    "    \n",
    "else:\n",
    "    print(f'검색값은 a[{index}]에 있습니다.')"
   ]
  },
  {
   "cell_type": "code",
   "execution_count": 24,
   "id": "46c3bf70",
   "metadata": {},
   "outputs": [
    {
     "name": "stdout",
     "output_type": "stream",
     "text": [
      "2 3 5 7 11 13 17 19 23 29 31 37 41 43 47 53 59 61 67 71 73 79 83 89 97 101 103 107 109 113 127 131 137 139 149 151 157 163 167 173 179 181 191 193 197 199 211 223 227 229 233 239 241 251 257 263 269 271 277 281 283 293 307 311 313 317 331 337 347 349 353 359 367 373 379 383 389 397 401 409 419 421 431 433 439 443 449 457 461 463 467 479 487 491 499 503 509 521 523 541 547 557 563 569 571 577 587 593 599 601 607 613 617 619 631 641 643 647 653 659 661 673 677 683 691 701 709 719 727 733 739 743 751 757 761 769 773 787 797 809 811 821 823 827 829 839 853 857 859 863 877 881 883 887 907 911 919 929 937 941 947 953 967 971 977 983 991 997 "
     ]
    }
   ],
   "source": [
    "# 실습1\n",
    "def prime_num(x):\n",
    "    for i in range(2, x): # 2부터 시작해서\n",
    "        if x % i == 0: # 나누어 떨어지면\n",
    "            return False # 소수가 아님.\n",
    "    return True # 나누어 떨어지지 않으면 소수임.\n",
    "\n",
    "prime_number = []\n",
    "\n",
    "for i in range(2, 1001):\n",
    "    if prime_num(i):\n",
    "        prime_number.append(i)\n",
    "        \n",
    "for i in prime_number:\n",
    "    print(i, end = ' ')"
   ]
  },
  {
   "cell_type": "code",
   "execution_count": 26,
   "id": "460a9391",
   "metadata": {},
   "outputs": [
    {
     "name": "stdout",
     "output_type": "stream",
     "text": [
      "[2, 3, 5, 7, 11, 13, 17, 19, 23, 29, 31, 37, 41, 43, 47, 53, 59, 61, 67, 71, 73, 79, 83, 89, 97, 101, 103, 107, 109, 113, 127, 131, 137, 139, 149, 151, 157, 163, 167, 173, 179, 181, 191, 193, 197, 199, 211, 223, 227, 229, 233, 239, 241, 251, 257, 263, 269, 271, 277, 281, 283, 293, 307, 311, 313, 317, 331, 337, 347, 349, 353, 359, 367, 373, 379, 383, 389, 397, 401, 409, 419, 421, 431, 433, 439, 443, 449, 457, 461, 463, 467, 479, 487, 491, 499, 503, 509, 521, 523, 541, 547, 557, 563, 569, 571, 577, 587, 593, 599, 601, 607, 613, 617, 619, 631, 641, 643, 647, 653, 659, 661, 673, 677, 683, 691, 701, 709, 719, 727, 733, 739, 743, 751, 757, 761, 769, 773, 787, 797, 809, 811, 821, 823, 827, 829, 839, 853, 857, 859, 863, 877, 881, 883, 887, 907, 911, 919, 929, 937, 941, 947, 953, 967, 971, 977, 983, 991, 997]\n"
     ]
    }
   ],
   "source": [
    "# 풀이\n",
    "prime = []\n",
    "\n",
    "for n in range(2, 1001):\n",
    "    flag = 0\n",
    "    for i in range(2, n):\n",
    "        if n % i == 0:\n",
    "            flag = 1\n",
    "            break\n",
    "            \n",
    "    if flag == 0:\n",
    "        prime.append(n)\n",
    "        \n",
    "print(prime)"
   ]
  },
  {
   "cell_type": "code",
   "execution_count": 18,
   "id": "80017753",
   "metadata": {},
   "outputs": [
    {
     "name": "stdout",
     "output_type": "stream",
     "text": [
      "리스트의 값을 입력하세요: 1 2 3 4 5 6 7 8 9\n",
      "리스트의 역순을 출력합니다: 9 8 7 6 5 4 3 2 1 "
     ]
    }
   ],
   "source": [
    "# 실습2\n",
    "array = list(map(int, input('리스트의 값을 입력하세요: ').split()))\n",
    "array.reverse()\n",
    "\n",
    "print('리스트의 역순을 출력합니다: ', end = '')\n",
    "for i in array:\n",
    "    print(i, end = ' ')"
   ]
  },
  {
   "cell_type": "code",
   "execution_count": 32,
   "id": "a02f7315",
   "metadata": {},
   "outputs": [
    {
     "name": "stdout",
     "output_type": "stream",
     "text": [
      "주의: End를 입력하면 원소 입력을 종료합니다.\n",
      "x[0]값을 입력하세요: 1\n",
      "x[1]값을 입력하세요: 2\n",
      "x[2]값을 입력하세요: 3\n",
      "x[3]값을 입력하세요: 4\n",
      "x[4]값을 입력하세요: 5\n",
      "x[5]값을 입력하세요: 6\n",
      "x[6]값을 입력하세요: 7\n",
      "x[7]값을 입력하세요: 8\n",
      "x[8]값을 입력하세요: 9\n",
      "x[9]값을 입력하세요: End\n",
      "x[0] = 9\n",
      "x[1] = 8\n",
      "x[2] = 7\n",
      "x[3] = 6\n",
      "x[4] = 5\n",
      "x[5] = 4\n",
      "x[6] = 3\n",
      "x[7] = 2\n",
      "x[8] = 1\n"
     ]
    }
   ],
   "source": [
    "# 풀이\n",
    "\n",
    "def reverse_list(a):\n",
    "    n = len(a)\n",
    "    for i in range(n // 2):\n",
    "        a[i], a[n - i - 1] = a[n - i - 1], a[i]\n",
    "\n",
    "print('주의: End를 입력하면 원소 입력을 종료합니다.')\n",
    "i = 0\n",
    "x = []\n",
    "\n",
    "while True:\n",
    "    s = input(f'x[{i}]값을 입력하세요: ')\n",
    "    if s == 'End':\n",
    "        break\n",
    "    x.append(int(s))\n",
    "    i += 1\n",
    "    \n",
    "reverse_list(x)\n",
    "\n",
    "for i in range(len(x)):\n",
    "    print(f'x[{i}] = {x[i]}')"
   ]
  },
  {
   "cell_type": "code",
   "execution_count": 14,
   "id": "ef3f19af",
   "metadata": {},
   "outputs": [
    {
     "name": "stdout",
     "output_type": "stream",
     "text": [
      "리스트의 값을 입력하세요: 1 2 3 4 5\n",
      "검색할 값을 입력하세요: 5\n",
      "원소는 리스트의 5 번째에 있습니다.\n"
     ]
    }
   ],
   "source": [
    "# 실습3\n",
    "array = list(map(int, input('리스트의 값을 입력하세요: ').split()))\n",
    "key = int(input('검색할 값을 입력하세요: '))\n",
    "\n",
    "# 선형 탐색 정의.\n",
    "def search (list, key):\n",
    "    for i in range(len(list)):\n",
    "        if key == list[i]:\n",
    "            return i\n",
    "    return -1\n",
    "    \n",
    "# 탐색 실행.\n",
    "\n",
    "index = search(array, key)\n",
    "if index == -1:\n",
    "    print('원소가 없습니다.')\n",
    "else:\n",
    "    print(f'원소는 리스트의 {index + 1} 번째에 있습니다.')"
   ]
  },
  {
   "cell_type": "code",
   "execution_count": 23,
   "id": "bdef495d",
   "metadata": {},
   "outputs": [
    {
     "name": "stdout",
     "output_type": "stream",
     "text": [
      "리스트의 값을 입력하세요: 1 2 3 4 5\n",
      "검색할 값을 입력하세요: 5\n",
      "원소는 리스트의 5 번째에 있습니다.\n"
     ]
    }
   ],
   "source": [
    "# 실습 3 이진 탐색.\n",
    "array = list(map(int, input('리스트의 값을 입력하세요: ').split()))\n",
    "key = int(input('검색할 값을 입력하세요: '))\n",
    "\n",
    "# 이진 탐색 정의.\n",
    "def bin_search(a, key):\n",
    "    pl = 0\n",
    "    pr = len(a) - 1\n",
    "    while True:\n",
    "        pc = (pl + pr) // 2\n",
    "        if a[pc] == key:\n",
    "            return pc\n",
    "        elif a[pc] < key:\n",
    "            pl = pc + 1 \n",
    "        else:\n",
    "            pr = pc - 1 \n",
    "        if pl > pr:\n",
    "            break       \n",
    "    return -1\n",
    "\n",
    "# 탐색 실행.\n",
    "index = search(array, key)\n",
    "\n",
    "if index == -1:\n",
    "    print('원소가 없습니다.')\n",
    "else:\n",
    "    print(f'원소는 리스트의 {index + 1} 번째에 있습니다.')"
   ]
  },
  {
   "cell_type": "code",
   "execution_count": 30,
   "id": "7457cedf",
   "metadata": {
    "scrolled": true
   },
   "outputs": [
    {
     "name": "stdout",
     "output_type": "stream",
     "text": [
      "리스트의 값을 입력하세요: 1 2 3 4 5 6 7 8 9\n",
      "최대값의 인덱스: 8\n",
      "최소값의 인덱스: 0\n",
      "최대값: 9\n",
      "최소값: 1\n"
     ]
    }
   ],
   "source": [
    "# 실습4\n",
    "array = list(map(int, input('리스트의 값을 입력하세요: ').split()))\n",
    "\n",
    "print(f'최대값의 인덱스: {array.index(max(array))}')\n",
    "print(f'최소값의 인덱스: {array.index(min(array))}')\n",
    "\n",
    "print(f'최대값: {max(array)}')\n",
    "print(f'최소값: {min(array)}')"
   ]
  },
  {
   "cell_type": "code",
   "execution_count": 5,
   "id": "49a3ef6e",
   "metadata": {},
   "outputs": [
    {
     "name": "stdout",
     "output_type": "stream",
     "text": [
      "10 5\n",
      "1 10 4 9 2 3 8 5 7 6\n",
      "1 4 2 3 "
     ]
    }
   ],
   "source": [
    "# 추가 실습 0\n",
    "n, x = map(int, input().split())\n",
    "a = list(map(int, input().split()))\n",
    "    \n",
    "for i in a:\n",
    "    if i < x:\n",
    "        print(i, end = ' ')"
   ]
  },
  {
   "cell_type": "code",
   "execution_count": 24,
   "id": "51f85389",
   "metadata": {},
   "outputs": [
    {
     "name": "stdout",
     "output_type": "stream",
     "text": [
      "10 5\n",
      "1 10 4 9 2 3 8 5 7 6\n",
      "1 4 2 3 "
     ]
    }
   ],
   "source": [
    "n, x = map(int, input().split())\n",
    "data = list(map(int, input().split()))\n",
    "answer = []\n",
    "    \n",
    "for i in data:\n",
    "    if i < x:\n",
    "        answer.append(i)\n",
    "        \n",
    "for i in answer:\n",
    "    print(i, end = ' ')"
   ]
  },
  {
   "cell_type": "code",
   "execution_count": 44,
   "id": "fc7230ad",
   "metadata": {},
   "outputs": [
    {
     "name": "stdout",
     "output_type": "stream",
     "text": [
      "[3, 5]\n"
     ]
    }
   ],
   "source": [
    "# 추가 실습 1\n",
    "\n",
    "def solution(lottos, win_nums):\n",
    "    low = 0\n",
    "    high = 0\n",
    "    \n",
    "    # 최소 맞춘 개수\n",
    "    for i in lottos:\n",
    "        if i in win_nums:\n",
    "            low += 1\n",
    "        \n",
    "    # 최대 맞춘 개수\n",
    "    high = low + lottos.count(0)\n",
    "    \n",
    "    return high, low    \n",
    "\n",
    "lottos = [44, 1, 0, 0, 31, 25]\n",
    "win_nums = [31, 10, 45, 1, 6, 19]\n",
    "\n",
    "# 순위\n",
    "price = [6, 6, 5, 4, 3, 2, 1]\n",
    "answer = []\n",
    "\n",
    "# 정답 추가.\n",
    "answer.append(price[high])\n",
    "answer.append(price[low])\n",
    "\n",
    "print(answer)"
   ]
  },
  {
   "cell_type": "code",
   "execution_count": 73,
   "id": "bb2f2b3c",
   "metadata": {},
   "outputs": [
    {
     "name": "stdout",
     "output_type": "stream",
     "text": [
      "[3, 5]\n"
     ]
    }
   ],
   "source": [
    "# 추가 실습 1 예전에 풀었던 방식\n",
    "def solution(lottos, win_nums):\n",
    "    answer = []\n",
    "    correct = {6:1, 5:2, 4:3, 3:4, 2:5, 1:6, 0:6}\n",
    "    result = 0\n",
    "    zeros = 0\n",
    "    \n",
    "    # lottos의 0의 개수 세기\n",
    "    for i in lottos:\n",
    "        if i == 0:\n",
    "            zeros += 1\n",
    "    \n",
    "    # 0을 제외한 나머지 숫자 비교\n",
    "    for i in range(len(lottos)):\n",
    "        for j in range(len(win_nums)):\n",
    "            if lottos[i] == win_nums[j]:\n",
    "                result += 1\n",
    "\n",
    "    return correct[result+zeros], correct[result]"
   ]
  },
  {
   "cell_type": "code",
   "execution_count": 3,
   "id": "6f01a4d1",
   "metadata": {},
   "outputs": [
    {
     "name": "stdout",
     "output_type": "stream",
     "text": [
      "(3, 5)\n"
     ]
    }
   ],
   "source": [
    "# 풀이\n",
    "def solution(lottos, win_nums):\n",
    "    count = 0\n",
    "    zeros = 0\n",
    "    rank = [6, 6, 5, 4, 3, 2, 1]\n",
    "    \n",
    "    # 0의 개수 세기\n",
    "    zeros = lottos.count(0)\n",
    "    \n",
    "    # 맞춘 개수 세기\n",
    "    for i in lottos:\n",
    "        if i in win_nums:\n",
    "            count += 1\n",
    "            \n",
    "    answer = rank[count + zeros], rank[count]\n",
    "    return answer\n",
    "\n",
    "lottos = [44, 1, 0, 0, 31, 25]\n",
    "win_nums = [31, 10, 45, 1, 6, 19]\n",
    "\n",
    "answer = solution(lottos, win_nums)\n",
    "print(answer)"
   ]
  },
  {
   "cell_type": "code",
   "execution_count": 9,
   "id": "3a00fd83",
   "metadata": {},
   "outputs": [
    {
     "name": "stdout",
     "output_type": "stream",
     "text": [
      "14\n"
     ]
    }
   ],
   "source": [
    "# 추가 실습 2\n",
    "\n",
    "def solution(numbers):\n",
    "    answer = 45 - sum(numbers)\n",
    "    return answer\n",
    "\n",
    "numbers = [1, 2, 3, 4, 6, 7, 8, 0]\n",
    "answer = solution(numbers)\n",
    "print(answer)"
   ]
  },
  {
   "cell_type": "code",
   "execution_count": 15,
   "id": "3ceeb1ec",
   "metadata": {},
   "outputs": [
    {
     "name": "stdout",
     "output_type": "stream",
     "text": [
      "14\n"
     ]
    }
   ],
   "source": [
    "# 추가 실습 2 다른 방법\n",
    "\n",
    "def solution(numbers):\n",
    "    answer = 0\n",
    "    \n",
    "    for i in range(10):\n",
    "        if i not in numbers:\n",
    "            answer += i\n",
    "    return answer\n",
    "\n",
    "numbers = [1, 2, 3, 4, 6, 7, 8, 0]\n",
    "answer = solution(numbers)\n",
    "print(answer)"
   ]
  },
  {
   "cell_type": "code",
   "execution_count": 11,
   "id": "6eab7e06",
   "metadata": {},
   "outputs": [
    {
     "name": "stdout",
     "output_type": "stream",
     "text": [
      "['yes', 'no', 'yes']\n"
     ]
    }
   ],
   "source": [
    "# 추가 실습 3\n",
    "\n",
    "# 이진 탐색\n",
    "def bin_search(a, key):\n",
    "    pl = 0\n",
    "    pr = len(a) - 1\n",
    "    while True:\n",
    "        pc = (pl + pr) // 2\n",
    "        if a[pc] == key:\n",
    "            return pc\n",
    "        elif a[pc] < key:\n",
    "            pl = pc + 1 \n",
    "        else:\n",
    "            pr = pc - 1 \n",
    "        if pl > pr:\n",
    "            break       \n",
    "    return -1\n",
    "\n",
    "# 순차 적용\n",
    "def solution(store, customer):\n",
    "    answer = []\n",
    "    for i in customer:\n",
    "        result = bin_search(store, i)\n",
    "        if result != -1:\n",
    "            answer.append('yes')\n",
    "        else:\n",
    "            answer.append('no')\n",
    "    return answer\n",
    "\n",
    "store = [2,3,7,8,9]\n",
    "customer = [7,5,9]\n",
    "answer = solution(store, customer)\n",
    "print(answer)"
   ]
  },
  {
   "cell_type": "code",
   "execution_count": 33,
   "id": "80aa22ab",
   "metadata": {},
   "outputs": [
    {
     "name": "stdout",
     "output_type": "stream",
     "text": [
      "['yes', 'no', 'yes']\n"
     ]
    }
   ],
   "source": [
    "# 숏 코딩\n",
    "\n",
    "def solution(store, customer):\n",
    "    return ['yes' if x in store else 'no' for x in customer]\n",
    "\n",
    "store = [2, 3, 7, 8, 9]\n",
    "customer = [7, 5, 9]\n",
    "answer = solution(store, customer)\n",
    "print(answer)"
   ]
  },
  {
   "cell_type": "code",
   "execution_count": 34,
   "id": "38998d5b",
   "metadata": {},
   "outputs": [
    {
     "name": "stdout",
     "output_type": "stream",
     "text": [
      "['yes', 'no', 'yes']\n"
     ]
    }
   ],
   "source": [
    "# 순차 탐색\n",
    "\n",
    "def solution(store, customer):\n",
    "    answer = []\n",
    "    for i in customer:\n",
    "        if i in store:\n",
    "            answer.append('yes')\n",
    "        else:\n",
    "            answer.append('no')\n",
    "    return answer\n",
    "\n",
    "store = [2, 3, 7, 8, 9]\n",
    "customer = [7, 5, 9]\n",
    "answer = solution(store, customer)\n",
    "print(answer)"
   ]
  },
  {
   "cell_type": "code",
   "execution_count": 30,
   "id": "73355c14",
   "metadata": {},
   "outputs": [
    {
     "name": "stdout",
     "output_type": "stream",
     "text": [
      "168\n"
     ]
    }
   ],
   "source": [
    "# 추가 실습 4\n",
    "\n",
    "def solution(arr):\n",
    "    \n",
    "    # 최소 범위 (리스트의 가장 작은 수)\n",
    "    maximum = max(arr)\n",
    "    \n",
    "    # 최대 범위 (최악의 경우 모든 수의 곱)\n",
    "    multi = 1\n",
    "    for i in arr:\n",
    "        multi *= i\n",
    "        \n",
    "    for i in range(maximum, multi + 1):\n",
    "        idx = 0\n",
    "        for j in range(len(arr)):\n",
    "            if i % arr[j] == 0:\n",
    "                idx += 1\n",
    "                \n",
    "        if idx == len(arr):\n",
    "            answer = i\n",
    "            break\n",
    "    \n",
    "    return answer\n",
    "\n",
    "arr = [2, 6, 8, 14]\n",
    "answer = solution(arr)\n",
    "print(answer)"
   ]
  },
  {
   "cell_type": "code",
   "execution_count": null,
   "id": "be6f8d51",
   "metadata": {},
   "outputs": [],
   "source": [
    "# 추가 실습 5\n"
   ]
  },
  {
   "cell_type": "code",
   "execution_count": 72,
   "id": "ac4fa200",
   "metadata": {},
   "outputs": [
    {
     "name": "stdout",
     "output_type": "stream",
     "text": [
      "[4, 3, 2]\n"
     ]
    }
   ],
   "source": [
    "# 추가 실습 6\n",
    "\n",
    "def solution(arr):\n",
    "    \n",
    "    if len(arr) <= 1:\n",
    "        arr = [-1]\n",
    "    \n",
    "    else:\n",
    "        arr.remove(min(arr))\n",
    "    \n",
    "    return arr\n",
    "\n",
    "arr = [4, 3, 2, 1]\n",
    "answer = solution(arr)\n",
    "print(answer)"
   ]
  },
  {
   "cell_type": "code",
   "execution_count": 8,
   "id": "db1baa95",
   "metadata": {},
   "outputs": [
    {
     "name": "stdout",
     "output_type": "stream",
     "text": [
      "[1, 3, 0, 1]\n"
     ]
    }
   ],
   "source": [
    "# 추가 실습 7\n",
    "\n",
    "def solution(arr):\n",
    "    answer = []\n",
    "\n",
    "    idx = arr[0]\n",
    "    answer.append(idx)\n",
    "    \n",
    "    for i in range(1, len(arr)):\n",
    "        if arr[i] != idx:\n",
    "            idx = arr[i]\n",
    "            answer.append(idx)\n",
    "    \n",
    "    return answer\n",
    "\n",
    "arr = [1,1,3,3,0,1,1]\n",
    "answer = solution(arr)\n",
    "print(answer)"
   ]
  },
  {
   "cell_type": "code",
   "execution_count": 38,
   "id": "f9c39dfe",
   "metadata": {},
   "outputs": [
    {
     "name": "stdout",
     "output_type": "stream",
     "text": [
      "[1, 3, 0, 1]\n"
     ]
    }
   ],
   "source": [
    "# 범위를 다르게 설정.\n",
    "\n",
    "def solution(arr):\n",
    "    answer = []\n",
    "    answer.append(arr[0])\n",
    "    \n",
    "    for i in range(len(arr) - 1):\n",
    "        if arr[i] != arr[i + 1]:\n",
    "            answer.append(arr[i + 1])\n",
    "            \n",
    "    return answer\n",
    "\n",
    "arr = [1,1,3,3,0,1,1]\n",
    "answer = solution(arr)\n",
    "print(answer)"
   ]
  },
  {
   "cell_type": "code",
   "execution_count": null,
   "id": "d2179288",
   "metadata": {},
   "outputs": [],
   "source": []
  }
 ],
 "metadata": {
  "kernelspec": {
   "display_name": "Python 3",
   "language": "python",
   "name": "python3"
  },
  "language_info": {
   "codemirror_mode": {
    "name": "ipython",
    "version": 3
   },
   "file_extension": ".py",
   "mimetype": "text/x-python",
   "name": "python",
   "nbconvert_exporter": "python",
   "pygments_lexer": "ipython3",
   "version": "3.8.8"
  }
 },
 "nbformat": 4,
 "nbformat_minor": 5
}

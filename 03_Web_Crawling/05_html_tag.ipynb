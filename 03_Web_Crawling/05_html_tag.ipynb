{
 "cells": [
  {
   "cell_type": "markdown",
   "id": "7a6ad994",
   "metadata": {},
   "source": [
    "### HTML\n",
    "\n",
    "- 웹 문서를 작성하는 언어\n",
    "- 구성 요소\n",
    "    - Document : 한 페이지를 나타내는 코드.\n",
    "    - Element : 하나의 레이아웃 : Element가 모여서 Document를 구성.\n",
    "    - Tag : Element의 종류를 정의 : 시작 태그 + 끝 태그 = Element.\n",
    "    - Attribute : 속성값 : 시작 태그에서 태그의 기능을 정의.\n",
    "        - id : element를 지정하는 페이지 내에서 유일한 값.\n",
    "        - class : element를 지정하는 값으로 페이지 내에서 여러개 사용 가능.\n",
    "        - attr : id, class 를 제외한 나머지 속성값.\n",
    "    - Text : 시작 태그와 끝 태그 사이의 문자열.\n",
    "- Element는 계층적 구조를 갖습니다."
   ]
  },
  {
   "cell_type": "markdown",
   "id": "679668b3",
   "metadata": {},
   "source": [
    "- p: 한줄의 문자열을 출력 (한줄 개행)"
   ]
  },
  {
   "cell_type": "code",
   "execution_count": 2,
   "id": "b6204d36",
   "metadata": {},
   "outputs": [
    {
     "data": {
      "text/html": [
       "<p>python 1</p>\n",
       "<p>python 2</p>\n"
      ],
      "text/plain": [
       "<IPython.core.display.HTML object>"
      ]
     },
     "metadata": {},
     "output_type": "display_data"
    }
   ],
   "source": [
    "%%html\n",
    "<p>python 1</p>\n",
    "<p>python 2</p>"
   ]
  },
  {
   "cell_type": "markdown",
   "id": "dd9cf56a",
   "metadata": {},
   "source": [
    "- span: 한 블럭의 문자열을 출력"
   ]
  },
  {
   "cell_type": "code",
   "execution_count": 3,
   "id": "50abf75a",
   "metadata": {},
   "outputs": [
    {
     "data": {
      "text/html": [
       "<span>python 1</span>\n",
       "<span>python 2</span>\n"
      ],
      "text/plain": [
       "<IPython.core.display.HTML object>"
      ]
     },
     "metadata": {},
     "output_type": "display_data"
    }
   ],
   "source": [
    "%%html\n",
    "<span>python 1</span>\n",
    "<span>python 2</span>"
   ]
  },
  {
   "cell_type": "markdown",
   "id": "d0947383",
   "metadata": {},
   "source": [
    "- ul, li: 리스트 문자열 출력"
   ]
  },
  {
   "cell_type": "code",
   "execution_count": 4,
   "id": "c9b8c07b",
   "metadata": {},
   "outputs": [
    {
     "data": {
      "text/html": [
       "<ul>\n",
       "    <li>python 1</li>\n",
       "    <li>python 2</li>\n",
       "</ul>\n"
      ],
      "text/plain": [
       "<IPython.core.display.HTML object>"
      ]
     },
     "metadata": {},
     "output_type": "display_data"
    }
   ],
   "source": [
    "%%html\n",
    "<ul>\n",
    "    <li>python 1</li>\n",
    "    <li>python 2</li>\n",
    "</ul>"
   ]
  },
  {
   "cell_type": "markdown",
   "id": "60ca9f43",
   "metadata": {},
   "source": [
    "- a: 링크를 나타내는 태그"
   ]
  },
  {
   "cell_type": "code",
   "execution_count": 5,
   "id": "001c6574",
   "metadata": {},
   "outputs": [
    {
     "data": {
      "text/html": [
       "<a href=\"https://kt.com\" target=\"_blink\">Click</a>\n"
      ],
      "text/plain": [
       "<IPython.core.display.HTML object>"
      ]
     },
     "metadata": {},
     "output_type": "display_data"
    }
   ],
   "source": [
    "%%html\n",
    "<a href=\"https://kt.com\" target=\"_blink\">Click</a>"
   ]
  },
  {
   "cell_type": "markdown",
   "id": "640d4dcb",
   "metadata": {},
   "source": [
    "- img: 이미지를 출력하는 태그"
   ]
  },
  {
   "cell_type": "code",
   "execution_count": 6,
   "id": "c21577c4",
   "metadata": {},
   "outputs": [
    {
     "data": {
      "text/html": [
       "<img src=\"https://cfm.kt.com/images/v2/layout/gnb-ktlogo.png\">\n"
      ],
      "text/plain": [
       "<IPython.core.display.HTML object>"
      ]
     },
     "metadata": {},
     "output_type": "display_data"
    }
   ],
   "source": [
    "%%html\n",
    "<img src=\"https://cfm.kt.com/images/v2/layout/gnb-ktlogo.png\">"
   ]
  },
  {
   "cell_type": "markdown",
   "id": "9d99589a",
   "metadata": {},
   "source": [
    "- iframe: 외부 URL 링크에 해당하는 웹 페이지를 출력"
   ]
  },
  {
   "cell_type": "code",
   "execution_count": 7,
   "id": "9000ae55",
   "metadata": {},
   "outputs": [
    {
     "data": {
      "text/html": [
       "<iframe src=\"https://kt.com\" width=\"100%\" height=\"400px;\">\n"
      ],
      "text/plain": [
       "<IPython.core.display.HTML object>"
      ]
     },
     "metadata": {},
     "output_type": "display_data"
    }
   ],
   "source": [
    "%%html\n",
    "<iframe src=\"https://kt.com\" width=\"100%\" height=\"400px;\">"
   ]
  },
  {
   "cell_type": "markdown",
   "id": "fbcbecc7",
   "metadata": {},
   "source": [
    "- div: 레이아웃의 영역을 나타내는 태그"
   ]
  },
  {
   "cell_type": "code",
   "execution_count": 8,
   "id": "08384988",
   "metadata": {},
   "outputs": [
    {
     "data": {
      "text/html": [
       "<div>\n",
       "    <p>python 1</p>\n",
       "    <p>python 2</p>\n",
       "</div>\n",
       "<div>\n",
       "    <p>python 3</p>\n",
       "</div>\n"
      ],
      "text/plain": [
       "<IPython.core.display.HTML object>"
      ]
     },
     "metadata": {},
     "output_type": "display_data"
    }
   ],
   "source": [
    "%%html\n",
    "<div>\n",
    "    <p>python 1</p>\n",
    "    <p>python 2</p>\n",
    "</div>\n",
    "<div>\n",
    "    <p>python 3</p>\n",
    "</div>"
   ]
  },
  {
   "cell_type": "markdown",
   "id": "5ad50881",
   "metadata": {},
   "source": [
    "- 행과 열로 이루어진 데이터를 출력하는 태그"
   ]
  },
  {
   "cell_type": "code",
   "execution_count": 9,
   "id": "bfa73b6a",
   "metadata": {},
   "outputs": [
    {
     "data": {
      "text/html": [
       "<table>\n",
       "    <caption>제목</caption>\n",
       "    <thead>\n",
       "        <tr>\n",
       "            <th>column 1</th>\n",
       "            <th>column 2</th>\n",
       "        </tr>\n",
       "    </thead>\n",
       "    <tbody>\n",
       "        <tr>\n",
       "            <td>data 1</td>\n",
       "            <td>data 2</td>\n",
       "        </tr>\n",
       "        <tr>\n",
       "            <td>data 3</td>\n",
       "            <td>data 4</td>\n",
       "        </tr>\n",
       "    </tbody>\n",
       "</table>\n"
      ],
      "text/plain": [
       "<IPython.core.display.HTML object>"
      ]
     },
     "metadata": {},
     "output_type": "display_data"
    }
   ],
   "source": [
    "%%html\n",
    "<table>\n",
    "    <caption>제목</caption>\n",
    "    <thead>\n",
    "        <tr>\n",
    "            <th>column 1</th>\n",
    "            <th>column 2</th>\n",
    "        </tr>\n",
    "    </thead>\n",
    "    <tbody>\n",
    "        <tr>\n",
    "            <td>data 1</td>\n",
    "            <td>data 2</td>\n",
    "        </tr>\n",
    "        <tr>\n",
    "            <td>data 3</td>\n",
    "            <td>data 4</td>\n",
    "        </tr>\n",
    "    </tbody>\n",
    "</table>"
   ]
  },
  {
   "cell_type": "code",
   "execution_count": null,
   "id": "bb5081c3",
   "metadata": {},
   "outputs": [],
   "source": []
  }
 ],
 "metadata": {
  "kernelspec": {
   "display_name": "Python 3",
   "language": "python",
   "name": "python3"
  },
  "language_info": {
   "codemirror_mode": {
    "name": "ipython",
    "version": 3
   },
   "file_extension": ".py",
   "mimetype": "text/x-python",
   "name": "python",
   "nbconvert_exporter": "python",
   "pygments_lexer": "ipython3",
   "version": "3.8.8"
  }
 },
 "nbformat": 4,
 "nbformat_minor": 5
}

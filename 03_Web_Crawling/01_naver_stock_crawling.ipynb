{
 "cells": [
  {
   "cell_type": "markdown",
   "id": "c07f20dd",
   "metadata": {},
   "source": [
    "- Kospi/Kosdaq 일별 데이터\n",
    "- USD 환율"
   ]
  },
  {
   "cell_type": "code",
   "execution_count": 4,
   "id": "6f64b40d",
   "metadata": {},
   "outputs": [],
   "source": [
    "import requests\n",
    "import pandas as pd"
   ]
  },
  {
   "cell_type": "markdown",
   "id": "407a62a7",
   "metadata": {},
   "source": [
    "#### 1. Kospi / Kosdaq"
   ]
  },
  {
   "cell_type": "code",
   "execution_count": 8,
   "id": "80a663d3",
   "metadata": {},
   "outputs": [],
   "source": [
    "def stock_price(pagesize, page, code='KOSPI'):\n",
    "    '''This function is crawling stock price from naver web page.\n",
    "    \n",
    "    Params\n",
    "    ------\n",
    "    pagesize : int : one page size\n",
    "    page : int : page number\n",
    "    code : str : KOSPI or KOSDAQ\n",
    "    \n",
    "    Return\n",
    "    ------\n",
    "    type : DataFrame : display date, price columns\n",
    "    '''\n",
    "    # url\n",
    "    url = f'https://m.stock.naver.com/api/index/{code}/price?pageSize={pagesize}&page={page}'\n",
    "    # requests\n",
    "    response = requests.get(url)\n",
    "    # json(str)\n",
    "    data = response.json()\n",
    "    # DataFrame\n",
    "    return pd.DataFrame(data)[['localTradedAt', 'closePrice']]"
   ]
  },
  {
   "cell_type": "code",
   "execution_count": 12,
   "id": "608fc3ff",
   "metadata": {},
   "outputs": [
    {
     "name": "stdout",
     "output_type": "stream",
     "text": [
      "Help on function stock_price in module __main__:\n",
      "\n",
      "stock_price(pagesize, page, code='KOSPI')\n",
      "    This function is crawling stock price from naver web page.\n",
      "    \n",
      "    Params\n",
      "    ------\n",
      "    pagesize : int : one page size\n",
      "    page : int : page number\n",
      "    code : str : KOSPI or KOSDAQ\n",
      "    \n",
      "    Return\n",
      "    ------\n",
      "    type : DataFrame : display date, price columns\n",
      "\n"
     ]
    }
   ],
   "source": [
    "help(stock_price)"
   ]
  },
  {
   "cell_type": "code",
   "execution_count": 9,
   "id": "c99a1590",
   "metadata": {},
   "outputs": [
    {
     "data": {
      "text/html": [
       "<div>\n",
       "<style scoped>\n",
       "    .dataframe tbody tr th:only-of-type {\n",
       "        vertical-align: middle;\n",
       "    }\n",
       "\n",
       "    .dataframe tbody tr th {\n",
       "        vertical-align: top;\n",
       "    }\n",
       "\n",
       "    .dataframe thead th {\n",
       "        text-align: right;\n",
       "    }\n",
       "</style>\n",
       "<table border=\"1\" class=\"dataframe\">\n",
       "  <thead>\n",
       "    <tr style=\"text-align: right;\">\n",
       "      <th></th>\n",
       "      <th>localTradedAt</th>\n",
       "      <th>closePrice</th>\n",
       "    </tr>\n",
       "  </thead>\n",
       "  <tbody>\n",
       "    <tr>\n",
       "      <th>0</th>\n",
       "      <td>2022-08-05</td>\n",
       "      <td>2,490.80</td>\n",
       "    </tr>\n",
       "    <tr>\n",
       "      <th>1</th>\n",
       "      <td>2022-08-04</td>\n",
       "      <td>2,473.11</td>\n",
       "    </tr>\n",
       "  </tbody>\n",
       "</table>\n",
       "</div>"
      ],
      "text/plain": [
       "  localTradedAt closePrice\n",
       "0    2022-08-05   2,490.80\n",
       "1    2022-08-04   2,473.11"
      ]
     },
     "execution_count": 9,
     "metadata": {},
     "output_type": "execute_result"
    }
   ],
   "source": [
    "# Kospi\n",
    "stock_price(10, 1).head(2)"
   ]
  },
  {
   "cell_type": "code",
   "execution_count": 10,
   "id": "910672cf",
   "metadata": {},
   "outputs": [
    {
     "data": {
      "text/html": [
       "<div>\n",
       "<style scoped>\n",
       "    .dataframe tbody tr th:only-of-type {\n",
       "        vertical-align: middle;\n",
       "    }\n",
       "\n",
       "    .dataframe tbody tr th {\n",
       "        vertical-align: top;\n",
       "    }\n",
       "\n",
       "    .dataframe thead th {\n",
       "        text-align: right;\n",
       "    }\n",
       "</style>\n",
       "<table border=\"1\" class=\"dataframe\">\n",
       "  <thead>\n",
       "    <tr style=\"text-align: right;\">\n",
       "      <th></th>\n",
       "      <th>localTradedAt</th>\n",
       "      <th>closePrice</th>\n",
       "    </tr>\n",
       "  </thead>\n",
       "  <tbody>\n",
       "    <tr>\n",
       "      <th>0</th>\n",
       "      <td>2022-08-05</td>\n",
       "      <td>831.64</td>\n",
       "    </tr>\n",
       "    <tr>\n",
       "      <th>1</th>\n",
       "      <td>2022-08-04</td>\n",
       "      <td>825.16</td>\n",
       "    </tr>\n",
       "  </tbody>\n",
       "</table>\n",
       "</div>"
      ],
      "text/plain": [
       "  localTradedAt closePrice\n",
       "0    2022-08-05     831.64\n",
       "1    2022-08-04     825.16"
      ]
     },
     "execution_count": 10,
     "metadata": {},
     "output_type": "execute_result"
    }
   ],
   "source": [
    "# Kosdaq\n",
    "stock_price(10, 1, 'KOSDAQ').head(2)"
   ]
  },
  {
   "cell_type": "markdown",
   "id": "b517a751",
   "metadata": {},
   "source": [
    "#### 2. 원 달러 환율 데이터 수집"
   ]
  },
  {
   "cell_type": "code",
   "execution_count": 18,
   "id": "ba69e9a3",
   "metadata": {},
   "outputs": [],
   "source": [
    "def KRW(page, pagesize):\n",
    "    '''This function is crawling Exchange Rate (KRW-USD) from naver web page.\n",
    "    \n",
    "    Params\n",
    "    ------\n",
    "    pagesize : int : one page size\n",
    "    page : int : page number\n",
    "    \n",
    "    Return\n",
    "    ------\n",
    "    type : DataFrame : display date, price columns\n",
    "    '''\n",
    "    url = f'https://api.stock.naver.com/marketindex/exchange/FX_USDKRW/prices?page={page}&pageSize={pagesize}'\n",
    "    response = requests.get(url)\n",
    "    data = response.json()\n",
    "    return pd.DataFrame(data)[['localTradedAt', 'closePrice']]"
   ]
  },
  {
   "cell_type": "code",
   "execution_count": 19,
   "id": "6b3dd9d2",
   "metadata": {},
   "outputs": [
    {
     "name": "stdout",
     "output_type": "stream",
     "text": [
      "Help on function KRW in module __main__:\n",
      "\n",
      "KRW(page, pagesize)\n",
      "    This function is crawling Exchange Rate (KRW-USD) from naver web page.\n",
      "    \n",
      "    Params\n",
      "    ------\n",
      "    pagesize : int : one page size\n",
      "    page : int : page number\n",
      "    \n",
      "    Return\n",
      "    ------\n",
      "    type : DataFrame : display date, price columns\n",
      "\n"
     ]
    }
   ],
   "source": [
    "help(KRW)"
   ]
  },
  {
   "cell_type": "code",
   "execution_count": 20,
   "id": "893c89d9",
   "metadata": {},
   "outputs": [
    {
     "data": {
      "text/html": [
       "<div>\n",
       "<style scoped>\n",
       "    .dataframe tbody tr th:only-of-type {\n",
       "        vertical-align: middle;\n",
       "    }\n",
       "\n",
       "    .dataframe tbody tr th {\n",
       "        vertical-align: top;\n",
       "    }\n",
       "\n",
       "    .dataframe thead th {\n",
       "        text-align: right;\n",
       "    }\n",
       "</style>\n",
       "<table border=\"1\" class=\"dataframe\">\n",
       "  <thead>\n",
       "    <tr style=\"text-align: right;\">\n",
       "      <th></th>\n",
       "      <th>localTradedAt</th>\n",
       "      <th>closePrice</th>\n",
       "    </tr>\n",
       "  </thead>\n",
       "  <tbody>\n",
       "    <tr>\n",
       "      <th>0</th>\n",
       "      <td>2022-08-05</td>\n",
       "      <td>1,298.50</td>\n",
       "    </tr>\n",
       "    <tr>\n",
       "      <th>1</th>\n",
       "      <td>2022-08-04</td>\n",
       "      <td>1,308.00</td>\n",
       "    </tr>\n",
       "  </tbody>\n",
       "</table>\n",
       "</div>"
      ],
      "text/plain": [
       "  localTradedAt closePrice\n",
       "0    2022-08-05   1,298.50\n",
       "1    2022-08-04   1,308.00"
      ]
     },
     "execution_count": 20,
     "metadata": {},
     "output_type": "execute_result"
    }
   ],
   "source": [
    "KRW(1, 60).head(2)"
   ]
  },
  {
   "cell_type": "code",
   "execution_count": null,
   "id": "15064abc",
   "metadata": {},
   "outputs": [],
   "source": []
  },
  {
   "cell_type": "code",
   "execution_count": null,
   "id": "f40c9611",
   "metadata": {},
   "outputs": [],
   "source": []
  },
  {
   "cell_type": "code",
   "execution_count": null,
   "id": "3c802555",
   "metadata": {},
   "outputs": [],
   "source": []
  },
  {
   "cell_type": "code",
   "execution_count": null,
   "id": "82b6a320",
   "metadata": {},
   "outputs": [],
   "source": []
  }
 ],
 "metadata": {
  "kernelspec": {
   "display_name": "Python 3",
   "language": "python",
   "name": "python3"
  },
  "language_info": {
   "codemirror_mode": {
    "name": "ipython",
    "version": 3
   },
   "file_extension": ".py",
   "mimetype": "text/x-python",
   "name": "python",
   "nbconvert_exporter": "python",
   "pygments_lexer": "ipython3",
   "version": "3.8.8"
  }
 },
 "nbformat": 4,
 "nbformat_minor": 5
}

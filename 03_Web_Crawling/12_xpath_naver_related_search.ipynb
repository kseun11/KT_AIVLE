{
 "cells": [
  {
   "cell_type": "markdown",
   "id": "bddf2109",
   "metadata": {},
   "source": [
    "## Xpath\n",
    "\n",
    "- html element 선택하는 방법\n",
    "- scrapy 에서 기본적으로 사용하는 selector\n",
    "- scrapy : 파이썬 코드로 웹페이지의 데이터를 수집하는 프레임 워크"
   ]
  },
  {
   "cell_type": "markdown",
   "id": "e9f04eeb",
   "metadata": {},
   "source": [
    "#### xpath syntax\n",
    "#### //*[@id=\"nx_footer_related_keywords\"]/div/div[2]/ul/li[1]/a/div\n",
    "\n",
    "- // : 최상위 element\n",
    "- * : 모든 하위 element : css selector(.wrap p)\n",
    "- [@id=\"nx_footer_related_keywords\"] : 속성값으로 element 선택\n",
    "    - id, class 구분이 없다.\n",
    "- / : 한단계 하위 element : css selector(.wrap > p)\n",
    "- [n] : n 번째 element : nth-child(n)"
   ]
  },
  {
   "cell_type": "code",
   "execution_count": 1,
   "id": "ce133894",
   "metadata": {},
   "outputs": [],
   "source": [
    "import scrapy, requests\n",
    "from scrapy.http import TextResponse"
   ]
  },
  {
   "cell_type": "code",
   "execution_count": 2,
   "id": "84ff84b0",
   "metadata": {},
   "outputs": [],
   "source": [
    "query = \"kt\"\n",
    "url = f\"https://search.naver.com/search.naver?query={query}\"\n",
    "response = requests.get(url)\n",
    "dom = TextResponse(response.url, body=response.text, encoding=\"utf-8\")"
   ]
  },
  {
   "cell_type": "code",
   "execution_count": 4,
   "id": "1c2e8a1b",
   "metadata": {},
   "outputs": [
    {
     "data": {
      "text/plain": [
       "[<Selector xpath='//*[@id=\"nx_footer_related_keywords\"]/div/div[2]/ul/li[1]/a/div' data='<div class=\"tit\">삼성전자</div>'>]"
      ]
     },
     "execution_count": 4,
     "metadata": {},
     "output_type": "execute_result"
    }
   ],
   "source": [
    "dom.xpath('//*[@id=\"nx_footer_related_keywords\"]/div/div[2]/ul/li[1]/a/div')"
   ]
  },
  {
   "cell_type": "code",
   "execution_count": 5,
   "id": "14c15ae8",
   "metadata": {},
   "outputs": [
    {
     "data": {
      "text/plain": [
       "[<Selector xpath='//*[@id=\"nx_footer_related_keywords\"]/div/div[2]/ul/li/a/div' data='<div class=\"tit\">삼성전자</div>'>,\n",
       " <Selector xpath='//*[@id=\"nx_footer_related_keywords\"]/div/div[2]/ul/li/a/div' data='<div class=\"tit\">kt 고객센터</div>'>]"
      ]
     },
     "execution_count": 5,
     "metadata": {},
     "output_type": "execute_result"
    }
   ],
   "source": [
    "dom.xpath('//*[@id=\"nx_footer_related_keywords\"]/div/div[2]/ul/li/a/div')[:2]"
   ]
  },
  {
   "cell_type": "code",
   "execution_count": 6,
   "id": "1e46fd21",
   "metadata": {},
   "outputs": [
    {
     "data": {
      "text/plain": [
       "['삼성전자', 'kt 고객센터', 'ky', 'kt 인터넷', 'kt 대리점', '환율', 'SKT', 'kr', 'ktwiz', '날씨']"
      ]
     },
     "execution_count": 6,
     "metadata": {},
     "output_type": "execute_result"
    }
   ],
   "source": [
    "# text 수집\n",
    "dom.xpath('//*[@id=\"nx_footer_related_keywords\"]/div/div[2]/ul/li/a/div/text()')\n",
    "dom.xpath('//*[@id=\"nx_footer_related_keywords\"]/div/div[2]/ul/li/a/div/text()').extract()"
   ]
  },
  {
   "cell_type": "code",
   "execution_count": null,
   "id": "67d0e155",
   "metadata": {},
   "outputs": [],
   "source": []
  }
 ],
 "metadata": {
  "kernelspec": {
   "display_name": "Python 3",
   "language": "python",
   "name": "python3"
  },
  "language_info": {
   "codemirror_mode": {
    "name": "ipython",
    "version": 3
   },
   "file_extension": ".py",
   "mimetype": "text/x-python",
   "name": "python",
   "nbconvert_exporter": "python",
   "pygments_lexer": "ipython3",
   "version": "3.8.8"
  }
 },
 "nbformat": 4,
 "nbformat_minor": 5
}

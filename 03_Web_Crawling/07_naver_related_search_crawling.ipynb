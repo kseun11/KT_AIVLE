{
 "cells": [
  {
   "cell_type": "markdown",
   "id": "0454b1e9",
   "metadata": {},
   "source": [
    "- 네이버 연관 검색어 수집\n",
    "- bs4 > HTML(str) > CSS Selector > "
   ]
  },
  {
   "cell_type": "code",
   "execution_count": 4,
   "id": "148422f1",
   "metadata": {},
   "outputs": [],
   "source": [
    "import pandas as pd\n",
    "import requests\n",
    "from bs4 import BeautifulSoup"
   ]
  },
  {
   "cell_type": "code",
   "execution_count": 7,
   "id": "c35602d5",
   "metadata": {},
   "outputs": [],
   "source": [
    "def related_search(keyword):\n",
    "    keyword = keyword\n",
    "    # url\n",
    "    url = f'https://search.naver.com/search.naver?query={keyword}'\n",
    "    # requests\n",
    "    response = requests.get(url)\n",
    "    # HTML(str) > BS Object > Data\n",
    "    dom = BeautifulSoup(response.text, 'html.parser')\n",
    "    elements = dom.select(\".lst_related_srch > .item\") # 하위 엘리먼트 선택\n",
    "    return [element.select_one(\".tit\").text for element in elements]"
   ]
  },
  {
   "cell_type": "code",
   "execution_count": 8,
   "id": "b7eca860",
   "metadata": {},
   "outputs": [
    {
     "data": {
      "text/plain": [
       "['삼성전자', 'kt 고객센터', 'ky', 'kt 인터넷', 'kt 대리점', '환율', 'kr', 'SKT', '날씨', 'kt 주가']"
      ]
     },
     "execution_count": 8,
     "metadata": {},
     "output_type": "execute_result"
    }
   ],
   "source": [
    "keyword = 'kt'\n",
    "related_search(keyword)"
   ]
  },
  {
   "cell_type": "code",
   "execution_count": null,
   "id": "318e9726",
   "metadata": {},
   "outputs": [],
   "source": []
  }
 ],
 "metadata": {
  "kernelspec": {
   "display_name": "Python 3",
   "language": "python",
   "name": "python3"
  },
  "language_info": {
   "codemirror_mode": {
    "name": "ipython",
    "version": 3
   },
   "file_extension": ".py",
   "mimetype": "text/x-python",
   "name": "python",
   "nbconvert_exporter": "python",
   "pygments_lexer": "ipython3",
   "version": "3.8.8"
  }
 },
 "nbformat": 4,
 "nbformat_minor": 5
}

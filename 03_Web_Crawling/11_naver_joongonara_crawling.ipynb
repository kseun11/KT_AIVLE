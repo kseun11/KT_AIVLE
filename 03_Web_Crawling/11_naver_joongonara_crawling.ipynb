{
 "cells": [
  {
   "cell_type": "markdown",
   "id": "f5dbdd56",
   "metadata": {},
   "source": [
    "### 네이버 중고나라 게시글 데이터 수집\n",
    "- selenium에서 iframe에 있는 데이터 수집\n",
    "- https://cafe.naver.com/joonggonara.cafe"
   ]
  },
  {
   "cell_type": "code",
   "execution_count": 1,
   "id": "deb8e3bb",
   "metadata": {},
   "outputs": [],
   "source": [
    "from selenium import webdriver\n",
    "from selenium.webdriver.common.by import By"
   ]
  },
  {
   "cell_type": "code",
   "execution_count": 2,
   "id": "03f168f8",
   "metadata": {},
   "outputs": [],
   "source": [
    "url = \"https://cafe.naver.com/joonggonara.cafe\""
   ]
  },
  {
   "cell_type": "code",
   "execution_count": 3,
   "id": "f06bd56f",
   "metadata": {},
   "outputs": [],
   "source": [
    "# 1. 웹브라우저 열기 및 페이지 이동\n",
    "driver = webdriver.Chrome()\n",
    "driver.get(url)"
   ]
  },
  {
   "cell_type": "code",
   "execution_count": 19,
   "id": "f14e5f2b",
   "metadata": {},
   "outputs": [],
   "source": [
    "import time"
   ]
  },
  {
   "cell_type": "code",
   "execution_count": 21,
   "id": "6711ceac",
   "metadata": {},
   "outputs": [
    {
     "name": "stdout",
     "output_type": "stream",
     "text": [
      "1\n",
      "2\n"
     ]
    }
   ],
   "source": [
    "print(1)\n",
    "time.sleep(3)\n",
    "print(2)"
   ]
  },
  {
   "cell_type": "code",
   "execution_count": null,
   "id": "ab27a18a",
   "metadata": {},
   "outputs": [],
   "source": [
    "# 2. 검색창에 \"맥북\"을 입력하고 검색 버튼 클릭"
   ]
  },
  {
   "cell_type": "code",
   "execution_count": 4,
   "id": "0f140db6",
   "metadata": {},
   "outputs": [],
   "source": [
    "keyword = \"맥북\"\n",
    "driver.find_element(By.CSS_SELECTOR, \"#topLayerQueryInput\").send_keys(keyword)\n",
    "# topLayerQueryInput"
   ]
  },
  {
   "cell_type": "code",
   "execution_count": 5,
   "id": "1b102e4d",
   "metadata": {},
   "outputs": [],
   "source": [
    "driver.execute_script(\"searchBoard();\")"
   ]
  },
  {
   "cell_type": "code",
   "execution_count": null,
   "id": "e342cc58",
   "metadata": {},
   "outputs": [],
   "source": [
    "# 3. 게시글 목록 데이터 수집 : iframe"
   ]
  },
  {
   "cell_type": "code",
   "execution_count": 7,
   "id": "cdbc3b7a",
   "metadata": {},
   "outputs": [
    {
     "data": {
      "text/plain": [
       "0"
      ]
     },
     "execution_count": 7,
     "metadata": {},
     "output_type": "execute_result"
    }
   ],
   "source": [
    "selector = \".article-board > table > tbody > tr\"\n",
    "elements = driver.find_elements(By.CSS_SELECTOR, selector)\n",
    "len(elements)"
   ]
  },
  {
   "cell_type": "code",
   "execution_count": 8,
   "id": "ab03872c",
   "metadata": {},
   "outputs": [
    {
     "data": {
      "text/plain": [
       "<selenium.webdriver.remote.webelement.WebElement (session=\"966d2ffa13cef296392c0f8a658eaad4\", element=\"866c0460-f120-4e68-8e1d-d4b8fb9f25c5\")>"
      ]
     },
     "execution_count": 8,
     "metadata": {},
     "output_type": "execute_result"
    }
   ],
   "source": [
    "# iframe으로 driver 이동\n",
    "iframe = driver.find_element(By.CSS_SELECTOR, \"#cafe_main\")\n",
    "iframe"
   ]
  },
  {
   "cell_type": "code",
   "execution_count": 12,
   "id": "fd600050",
   "metadata": {},
   "outputs": [],
   "source": [
    "driver.switch_to.frame(iframe)"
   ]
  },
  {
   "cell_type": "code",
   "execution_count": 13,
   "id": "5d1615ba",
   "metadata": {},
   "outputs": [
    {
     "data": {
      "text/plain": [
       "15"
      ]
     },
     "execution_count": 13,
     "metadata": {},
     "output_type": "execute_result"
    }
   ],
   "source": [
    "selector = \".article-board > table > tbody > tr\"\n",
    "elements = driver.find_elements(By.CSS_SELECTOR, selector)\n",
    "len(elements)"
   ]
  },
  {
   "cell_type": "code",
   "execution_count": 14,
   "id": "bdb12c66",
   "metadata": {},
   "outputs": [],
   "source": [
    "element = elements[0]"
   ]
  },
  {
   "cell_type": "code",
   "execution_count": 16,
   "id": "a47708b6",
   "metadata": {},
   "outputs": [
    {
     "data": {
      "text/plain": [
       "('14인치 M1PRO M1MAX 엠원프로 엠원맥스 맥북프로 애플노트북', 'topontopcom')"
      ]
     },
     "execution_count": 16,
     "metadata": {},
     "output_type": "execute_result"
    }
   ],
   "source": [
    "title = element.find_element(By.CSS_SELECTOR, \".article\").text\n",
    "writer = element.find_element(By.CSS_SELECTOR, \".p-nick\").text\n",
    "title, writer"
   ]
  },
  {
   "cell_type": "code",
   "execution_count": 17,
   "id": "929a7787",
   "metadata": {},
   "outputs": [
    {
     "data": {
      "text/html": [
       "<div>\n",
       "<style scoped>\n",
       "    .dataframe tbody tr th:only-of-type {\n",
       "        vertical-align: middle;\n",
       "    }\n",
       "\n",
       "    .dataframe tbody tr th {\n",
       "        vertical-align: top;\n",
       "    }\n",
       "\n",
       "    .dataframe thead th {\n",
       "        text-align: right;\n",
       "    }\n",
       "</style>\n",
       "<table border=\"1\" class=\"dataframe\">\n",
       "  <thead>\n",
       "    <tr style=\"text-align: right;\">\n",
       "      <th></th>\n",
       "      <th>title</th>\n",
       "      <th>writer</th>\n",
       "    </tr>\n",
       "  </thead>\n",
       "  <tbody>\n",
       "    <tr>\n",
       "      <th>13</th>\n",
       "      <td>2021 M1 맥북프로 16인치 스페이스그레이</td>\n",
       "      <td>흐루두두</td>\n",
       "    </tr>\n",
       "    <tr>\n",
       "      <th>14</th>\n",
       "      <td>맥북에어m1 16g 512 스페이스그레이+매직마우스2+파우치+거치대+독+허브 증정</td>\n",
       "      <td>lyc891010</td>\n",
       "    </tr>\n",
       "  </tbody>\n",
       "</table>\n",
       "</div>"
      ],
      "text/plain": [
       "                                            title     writer\n",
       "13                      2021 M1 맥북프로 16인치 스페이스그레이       흐루두두\n",
       "14  맥북에어m1 16g 512 스페이스그레이+매직마우스2+파우치+거치대+독+허브 증정  lyc891010"
      ]
     },
     "execution_count": 17,
     "metadata": {},
     "output_type": "execute_result"
    }
   ],
   "source": [
    "data = []\n",
    "for element in elements:\n",
    "    data.append({\n",
    "        \"title\": element.find_element(By.CSS_SELECTOR, \".article\").text,\n",
    "        \"writer\": element.find_element(By.CSS_SELECTOR, \".p-nick\").text,\n",
    "    })\n",
    "df = pd.DataFrame(data)\n",
    "df.tail(2)"
   ]
  },
  {
   "cell_type": "code",
   "execution_count": 11,
   "id": "3a82d23c",
   "metadata": {},
   "outputs": [],
   "source": [
    "# 원래 default frame 으로 이동\n",
    "driver.switch_to.default_content()"
   ]
  },
  {
   "cell_type": "code",
   "execution_count": null,
   "id": "e82d8d45",
   "metadata": {},
   "outputs": [],
   "source": [
    "# 4. 웹브라우저 종료"
   ]
  },
  {
   "cell_type": "code",
   "execution_count": 18,
   "id": "0992f3e4",
   "metadata": {},
   "outputs": [],
   "source": [
    "driver.quit()"
   ]
  },
  {
   "cell_type": "code",
   "execution_count": null,
   "id": "18f92ca3",
   "metadata": {},
   "outputs": [],
   "source": []
  }
 ],
 "metadata": {
  "kernelspec": {
   "display_name": "Python 3",
   "language": "python",
   "name": "python3"
  },
  "language_info": {
   "codemirror_mode": {
    "name": "ipython",
    "version": 3
   },
   "file_extension": ".py",
   "mimetype": "text/x-python",
   "name": "python",
   "nbconvert_exporter": "python",
   "pygments_lexer": "ipython3",
   "version": "3.8.8"
  }
 },
 "nbformat": 4,
 "nbformat_minor": 5
}

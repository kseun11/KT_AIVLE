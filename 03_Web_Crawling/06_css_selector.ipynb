{
 "cells": [
  {
   "cell_type": "markdown",
   "id": "e5dfa5a0",
   "metadata": {},
   "source": [
    "## CSS Selector\n",
    "- CSS 스타일을 적용시킬 HTML element를 선택하는 방법"
   ]
  },
  {
   "cell_type": "markdown",
   "id": "04ad9024",
   "metadata": {},
   "source": [
    "### 한개의 엘리먼트 선택"
   ]
  },
  {
   "cell_type": "markdown",
   "id": "a322579a",
   "metadata": {},
   "source": [
    "#### 1. Element Tag 이름으로 선택\n",
    "- span : python 3 선택"
   ]
  },
  {
   "cell_type": "code",
   "execution_count": 10,
   "id": "b68cfb9c",
   "metadata": {},
   "outputs": [
    {
     "data": {
      "text/html": [
       "<div id=\"kt\">\n",
       "    <div>python 1</div>\n",
       "    <p>python 2</p>\n",
       "    <span>python 3</span>\n",
       "</div>\n"
      ],
      "text/plain": [
       "<IPython.core.display.HTML object>"
      ]
     },
     "metadata": {},
     "output_type": "display_data"
    }
   ],
   "source": [
    "%%html\n",
    "<div id=\"kt\">\n",
    "    <div>python 1</div>\n",
    "    <p>python 2</p>\n",
    "    <span>python 3</span>\n",
    "</div>"
   ]
  },
  {
   "cell_type": "markdown",
   "id": "60a3f82a",
   "metadata": {},
   "source": [
    "#### 2. Tag의 id 값으로 선택\n",
    "- #kt2 : python 2 선택"
   ]
  },
  {
   "cell_type": "code",
   "execution_count": 2,
   "id": "e048b152",
   "metadata": {},
   "outputs": [
    {
     "data": {
      "text/html": [
       "<div class=\"kt\">\n",
       "    <p id=\"kt1\">python 1</p>\n",
       "    <p id=\"kt2\">python 2</p>\n",
       "    <p id=\"kt3\">python 3</p>\n",
       "</div>\n"
      ],
      "text/plain": [
       "<IPython.core.display.HTML object>"
      ]
     },
     "metadata": {},
     "output_type": "display_data"
    }
   ],
   "source": [
    "%%html\n",
    "<div class=\"kt\">\n",
    "    <p id=\"kt1\">python 1</p>\n",
    "    <p id=\"kt2\">python 2</p>\n",
    "    <p id=\"kt3\">python 3</p>\n",
    "</div>"
   ]
  },
  {
   "cell_type": "markdown",
   "id": "4d2dcd1b",
   "metadata": {},
   "source": [
    "#### 3. Tag의 class 값으로 선택\n",
    "- .kt2 : python 2 선택\n",
    "- .kt : python 1 2 3 선택"
   ]
  },
  {
   "cell_type": "code",
   "execution_count": 3,
   "id": "4fcf72e7",
   "metadata": {},
   "outputs": [
    {
     "data": {
      "text/html": [
       "<p class=\"kt kt1\">python 1</p>\n",
       "<p class=\"kt kt2\">python 2</p>\n",
       "<p class=\"kt kt3\">python 3</p>\n"
      ],
      "text/plain": [
       "<IPython.core.display.HTML object>"
      ]
     },
     "metadata": {},
     "output_type": "display_data"
    }
   ],
   "source": [
    "%%html\n",
    "<p class=\"kt kt1\">python 1</p>\n",
    "<p class=\"kt kt2\">python 2</p>\n",
    "<p class=\"kt kt3\">python 3</p>"
   ]
  },
  {
   "cell_type": "markdown",
   "id": "18e106dc",
   "metadata": {},
   "source": [
    "#### 4. Tag의 attr 값으로 선택\n",
    "\n",
    "- [value='no1'] : python 1 선택"
   ]
  },
  {
   "cell_type": "code",
   "execution_count": 4,
   "id": "79c7dec8",
   "metadata": {},
   "outputs": [
    {
     "data": {
      "text/html": [
       "<p value=\"no1\">python 1</p>\n",
       "<p value=\"no2\">python 2</p>\n",
       "<p value=\"no3\">python 3</p>\n"
      ],
      "text/plain": [
       "<IPython.core.display.HTML object>"
      ]
     },
     "metadata": {},
     "output_type": "display_data"
    }
   ],
   "source": [
    "%%html\n",
    "<p value=\"no1\">python 1</p>\n",
    "<p value=\"no2\">python 2</p>\n",
    "<p value=\"no3\">python 3</p>"
   ]
  },
  {
   "cell_type": "markdown",
   "id": "67308955",
   "metadata": {},
   "source": [
    "### 여러개의 엘리먼트 선택"
   ]
  },
  {
   "cell_type": "markdown",
   "id": "ce99f070",
   "metadata": {},
   "source": [
    "- not selector\n",
    "    - class no 엘리먼트를 모두 선택하고, no2 클래스를 갖는 엘리먼트만 제외\n",
    "    - .no:not(.no2)"
   ]
  },
  {
   "cell_type": "code",
   "execution_count": 5,
   "id": "0a57beb1",
   "metadata": {},
   "outputs": [
    {
     "data": {
      "text/html": [
       "<p class=\"no no1\">python 1</p>\n",
       "<p class=\"no no2\">python 2</p>\n",
       "<p class=\"no no3\">python 3</p>\n"
      ],
      "text/plain": [
       "<IPython.core.display.HTML object>"
      ]
     },
     "metadata": {},
     "output_type": "display_data"
    }
   ],
   "source": [
    "%%html\n",
    "<p class=\"no no1\">python 1</p>\n",
    "<p class=\"no no2\">python 2</p>\n",
    "<p class=\"no no3\">python 3</p>"
   ]
  },
  {
   "cell_type": "markdown",
   "id": "2bb9e64e",
   "metadata": {},
   "source": [
    "- n 번째 엘리먼트 선택\n",
    "    - .py:nth-child(2) : python 2 선택\n",
    "    - .py 엘리먼트 중에서 2번째 --> X\n",
    "    - 2번째 엘리먼트 중에서 .py 클래스를 같는 --> O"
   ]
  },
  {
   "cell_type": "code",
   "execution_count": 6,
   "id": "e87f290b",
   "metadata": {},
   "outputs": [
    {
     "data": {
      "text/html": [
       "<div>\n",
       "    <p class=\"py no1\">python 1</p>\n",
       "    <p class=\"py no2\">python 2</p>\n",
       "    <p class=\"py no3\">python 3</p>\n",
       "</div>\n"
      ],
      "text/plain": [
       "<IPython.core.display.HTML object>"
      ]
     },
     "metadata": {},
     "output_type": "display_data"
    }
   ],
   "source": [
    "%%html\n",
    "<div>\n",
    "    <p class=\"py no1\">python 1</p>\n",
    "    <p class=\"py no2\">python 2</p>\n",
    "    <p class=\"py no3\">python 3</p>\n",
    "</div>"
   ]
  },
  {
   "cell_type": "markdown",
   "id": "e9240501",
   "metadata": {},
   "source": [
    "#### 6. 계층적으로 엘리먼트 선택\n",
    "\n",
    "- .wrap > p : inner 1 선택\n",
    "- .wrap p : inner1, 2 선택"
   ]
  },
  {
   "cell_type": "code",
   "execution_count": 8,
   "id": "01512d62",
   "metadata": {},
   "outputs": [
    {
     "data": {
      "text/html": [
       "<div class= 'wrap'>\n",
       "    <p>inner 1</p>\n",
       "    <div>\n",
       "        <p>inner 2</p>\n",
       "    </div>\n",
       "</div>\n"
      ],
      "text/plain": [
       "<IPython.core.display.HTML object>"
      ]
     },
     "metadata": {},
     "output_type": "display_data"
    }
   ],
   "source": [
    "%%html\n",
    "<div class= 'wrap'>\n",
    "    <p>inner 1</p>\n",
    "    <div>\n",
    "        <p>inner 2</p>\n",
    "    </div>\n",
    "</div>"
   ]
  },
  {
   "cell_type": "markdown",
   "id": "84112eca",
   "metadata": {},
   "source": [
    "#### 7. 여러 개의 엘리먼트 선택\n",
    "\n",
    "- .py1, .py3 : python1 3 선택"
   ]
  },
  {
   "cell_type": "code",
   "execution_count": 9,
   "id": "5cd00207",
   "metadata": {},
   "outputs": [
    {
     "data": {
      "text/html": [
       "<p class=\"py1\">python 1</p>\n",
       "<p class=\"py2\">python 2</p>\n",
       "<p class=\"py3\">python 3</p>\n"
      ],
      "text/plain": [
       "<IPython.core.display.HTML object>"
      ]
     },
     "metadata": {},
     "output_type": "display_data"
    }
   ],
   "source": [
    "%%html\n",
    "<p class=\"py1\">python 1</p>\n",
    "<p class=\"py2\">python 2</p>\n",
    "<p class=\"py3\">python 3</p>"
   ]
  },
  {
   "cell_type": "markdown",
   "id": "3c107b81",
   "metadata": {},
   "source": []
  },
  {
   "cell_type": "code",
   "execution_count": null,
   "id": "16b2c08e",
   "metadata": {},
   "outputs": [],
   "source": []
  },
  {
   "cell_type": "markdown",
   "id": "db0bd95a",
   "metadata": {},
   "source": []
  },
  {
   "cell_type": "code",
   "execution_count": null,
   "id": "902725bc",
   "metadata": {},
   "outputs": [],
   "source": []
  }
 ],
 "metadata": {
  "kernelspec": {
   "display_name": "Python 3",
   "language": "python",
   "name": "python3"
  },
  "language_info": {
   "codemirror_mode": {
    "name": "ipython",
    "version": 3
   },
   "file_extension": ".py",
   "mimetype": "text/x-python",
   "name": "python",
   "nbconvert_exporter": "python",
   "pygments_lexer": "ipython3",
   "version": "3.8.8"
  }
 },
 "nbformat": 4,
 "nbformat_minor": 5
}

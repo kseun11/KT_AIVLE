{
 "cells": [
  {
   "cell_type": "markdown",
   "id": "f9440f7e",
   "metadata": {},
   "source": [
    "## Scrapy\n",
    "- 비동기 방식으로 데이터를 수집 > 데이터 수집 속도가 빠름\n",
    "- 동기 방식) (rq - nt - rp) 시작한 수집을 끝내야 다음 수집을 시작할 수 있음.\n",
    "- 비동기 방식) nt을 기다리는 동안, 2번 rq시작.\n",
    "    - 네트워크 타임을 절약."
   ]
  },
  {
   "cell_type": "code",
   "execution_count": 1,
   "id": "502a8bdf",
   "metadata": {},
   "outputs": [],
   "source": [
    "import scrapy, requests\n",
    "from scrapy.http import TextResponse"
   ]
  },
  {
   "cell_type": "code",
   "execution_count": 2,
   "id": "4e5b64ef",
   "metadata": {},
   "outputs": [
    {
     "name": "stdout",
     "output_type": "stream",
     "text": [
      "New Scrapy project 'gmarket', using template directory 'c:\\users\\user\\anaconda3\\lib\\site-packages\\scrapy\\templates\\project', created in:\n",
      "    C:\\Users\\User\\KT_AIVLE\\3_Web_Crawling\\github_upload\\gmarket\n",
      "\n",
      "You can start your first spider with:\n",
      "    cd gmarket\n",
      "    scrapy genspider example example.com\n"
     ]
    }
   ],
   "source": [
    "# 1. 스크래피 프로젝트 생성\n",
    "!scrapy startproject gmarket"
   ]
  },
  {
   "cell_type": "code",
   "execution_count": 3,
   "id": "b06f3cf2",
   "metadata": {},
   "outputs": [
    {
     "name": "stdout",
     "output_type": "stream",
     "text": [
      "폴더 PATH의 목록입니다.\n",
      "볼륨 일련 번호가 000000C0 7C6C:FC35입니다.\n",
      "C:\\USERS\\USER\\KT_AIVLE\\3_WEB_CRAWLING\\GITHUB_UPLOAD\\GMARKET\n",
      "│  scrapy.cfg\n",
      "│  \n",
      "└─gmarket\n",
      "    │  items.py\n",
      "    │  middlewares.py\n",
      "    │  pipelines.py\n",
      "    │  settings.py\n",
      "    │  __init__.py\n",
      "    │  \n",
      "    └─spiders\n",
      "            __init__.py\n",
      "            \n"
     ]
    }
   ],
   "source": [
    "!tree gmarket /f"
   ]
  },
  {
   "cell_type": "markdown",
   "id": "638849ee",
   "metadata": {},
   "source": [
    "- items.py : 수집할 데이터의 구조 정의\n",
    "- middlewares.py : 데이터를 수집할때 headers 정보와 같은 내용을 설정\n",
    "- pipelines.py : 데이터를 수집한 후에 코드를 실행 정의\n",
    "- settings.py : 크롤링 설정 : 크롤링 시간 텀, robots.txt 규칙 수행 여부\n",
    "- spiders : 디렉토리 : 크롤링 절차 정의"
   ]
  },
  {
   "cell_type": "code",
   "execution_count": 4,
   "id": "2fab2cd7",
   "metadata": {},
   "outputs": [],
   "source": [
    "# 2. xpath 찾기: 링크, 상세 페이지의 데이터\n",
    "url = \"http://corners.gmarket.co.kr/Bestsellers\"\n",
    "request = requests.get(url)\n",
    "response = TextResponse(request.url, body=request.text, encoding=\"utf-8\")\n",
    "links = response.xpath('//*[@id=\"gBestWrap\"]/div/div[3]/div/ul/li/a/@href') # href 가져오기\n",
    "links = response.xpath('//*[@id=\"gBestWrap\"]/div/div[3]/div/ul/li/a/@href').extract() # link 추출\n",
    "link = links[0] # 상세 페이지 데이터 수집"
   ]
  },
  {
   "cell_type": "code",
   "execution_count": 5,
   "id": "590034ae",
   "metadata": {},
   "outputs": [],
   "source": [
    "# 3. TextResponse: 가져온 웹페이지를 돔구조로 만드는데 사용.\n",
    "request = requests.get(link)\n",
    "response = TextResponse(request.url, body=request.text, encoding=\"utf-8\")"
   ]
  },
  {
   "cell_type": "code",
   "execution_count": 6,
   "id": "8a686be6",
   "metadata": {},
   "outputs": [
    {
     "data": {
      "text/plain": [
       "('프리미어 70매 캡 20팩  70gsm ', '28,900')"
      ]
     },
     "execution_count": 6,
     "metadata": {},
     "output_type": "execute_result"
    }
   ],
   "source": [
    "# 4. 뒤에 text() 를 붙여서 텍스트 데이터만 추출.\n",
    "title = response.xpath('//*[@id=\"itemcase_basic\"]/div/h1/text()')[0].extract()\n",
    "price = response.xpath('//*[@id=\"itemcase_basic\"]/div/p/span/strong/text()')[0].extract()\n",
    "title, price"
   ]
  },
  {
   "cell_type": "code",
   "execution_count": 7,
   "id": "6cf33ff2",
   "metadata": {},
   "outputs": [],
   "source": [
    "# 5. item.py: 코드 작성: model(데이터의 구조: 수집할 데이터의 컬럼을 정의)"
   ]
  },
  {
   "cell_type": "code",
   "execution_count": 8,
   "id": "3341fd63",
   "metadata": {},
   "outputs": [
    {
     "name": "stdout",
     "output_type": "stream",
     "text": [
      "Overwriting gmarket/gmarket/items.py\n"
     ]
    }
   ],
   "source": [
    "%%writefile gmarket/gmarket/items.py\n",
    "import scrapy\n",
    "\n",
    "class GmarketItem(scrapy.Item):\n",
    "    title = scrapy.Field()\n",
    "    price = scrapy.Field()\n",
    "    link = scrapy.Field()"
   ]
  },
  {
   "cell_type": "code",
   "execution_count": 10,
   "id": "627d4146",
   "metadata": {},
   "outputs": [],
   "source": [
    "# 6. spider.py : 코드 작성 : 크롤링 절차 정의\n",
    "# - name : spider의 이름.\n",
    "# - allow_domain : 해당 페이지만 크롤링.\n",
    "# - start_urls : 최초로 request response를 하는 url.\n",
    "    # - links : link 데이터를 가져옴."
   ]
  },
  {
   "cell_type": "code",
   "execution_count": 11,
   "id": "c8bbe230",
   "metadata": {},
   "outputs": [
    {
     "name": "stdout",
     "output_type": "stream",
     "text": [
      "Writing gmarket/gmarket/spiders/spider.py\n"
     ]
    }
   ],
   "source": [
    "%%writefile gmarket/gmarket/spiders/spider.py\n",
    "import scrapy\n",
    "from gmarket.items import GmarketItem\n",
    "\n",
    "class GMSpider(scrapy.Spider):\n",
    "    name = \"GMB\"\n",
    "    allow_domain = [\"gmarket.co.kr\"]\n",
    "    start_urls = [\"http://corners.gmarket.co.kr/Bestsellers\"]\n",
    "    \n",
    "    def parse(self, response):\n",
    "        links = response.xpath('//*[@id=\"gBestWrap\"]/div/div[3]/div/ul/li/a/@href').extract()\n",
    "        for link in links[:20]:\n",
    "            yield scrapy.Request(link, callback=self.parse_content)\n",
    "    \n",
    "    # 위 self.parse_content와 식별자를 맞춰주어야 한다.\n",
    "    def parse_content(self, response):\n",
    "        item = GmarketItem()\n",
    "        item[\"title\"] = response.xpath('//*[@id=\"itemcase_basic\"]/div[1]/h1/text()')[0].extract()\n",
    "        item[\"price\"] = response.xpath('//*[@id=\"itemcase_basic\"]/div[1]/p/span/strong/text()')[0].extract()\n",
    "        item[\"link\"] = response.url\n",
    "        yield item"
   ]
  },
  {
   "cell_type": "code",
   "execution_count": 12,
   "id": "d834ef20",
   "metadata": {},
   "outputs": [],
   "source": [
    "# 7. 스크래피 프로젝트 실행\n",
    "# - gmarket 디렉토리\n",
    "#- scrapy crawl GMB -o items.csv\n",
    "   # - -o : output"
   ]
  },
  {
   "cell_type": "code",
   "execution_count": 13,
   "id": "448487ad",
   "metadata": {},
   "outputs": [
    {
     "data": {
      "text/plain": [
       "'C:\\\\Users\\\\User\\\\KT_AIVLE\\\\3_Web_Crawling\\\\github_upload'"
      ]
     },
     "execution_count": 13,
     "metadata": {},
     "output_type": "execute_result"
    }
   ],
   "source": [
    "%pwd"
   ]
  },
  {
   "cell_type": "code",
   "execution_count": null,
   "id": "013c91e4",
   "metadata": {},
   "outputs": [],
   "source": []
  }
 ],
 "metadata": {
  "kernelspec": {
   "display_name": "Python 3",
   "language": "python",
   "name": "python3"
  },
  "language_info": {
   "codemirror_mode": {
    "name": "ipython",
    "version": 3
   },
   "file_extension": ".py",
   "mimetype": "text/x-python",
   "name": "python",
   "nbconvert_exporter": "python",
   "pygments_lexer": "ipython3",
   "version": "3.8.8"
  }
 },
 "nbformat": 4,
 "nbformat_minor": 5
}

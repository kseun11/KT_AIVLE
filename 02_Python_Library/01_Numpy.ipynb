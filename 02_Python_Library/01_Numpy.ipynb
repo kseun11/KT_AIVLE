{
 "cells": [
  {
   "cell_type": "code",
   "execution_count": 2,
   "id": "a2780927",
   "metadata": {},
   "outputs": [],
   "source": [
    "import numpy as np"
   ]
  },
  {
   "cell_type": "markdown",
   "id": "0650e6d7",
   "metadata": {},
   "source": [
    "#### 1. 배열 만들기"
   ]
  },
  {
   "cell_type": "code",
   "execution_count": 3,
   "id": "a028135b",
   "metadata": {},
   "outputs": [
    {
     "name": "stdout",
     "output_type": "stream",
     "text": [
      "[1, 2, 3, 4, 5]\n",
      "[1 2 3 4 5]\n"
     ]
    }
   ],
   "source": [
    "# 1차원 배열 만들기\n",
    "\n",
    "# 1차원 리스트\n",
    "a1 = [1, 2, 3, 4, 5]\n",
    "\n",
    "# 배열로 변환\n",
    "b1 = np.array(a1)\n",
    "\n",
    "# 확인\n",
    "print(a1)\n",
    "print(b1)"
   ]
  },
  {
   "cell_type": "code",
   "execution_count": 4,
   "id": "e969c153",
   "metadata": {},
   "outputs": [
    {
     "name": "stdout",
     "output_type": "stream",
     "text": [
      "[[1.5 2.5 3.2]\n",
      " [4.2 5.7 6.4]]\n"
     ]
    }
   ],
   "source": [
    "# 2차원 배열 만들기\n",
    "a2 = [[1.5, 2.5, 3.2],\n",
    "      [4.2, 5.7, 6.4]]\n",
    "\n",
    "b2 = np.array(a2)\n",
    "\n",
    "print(b2)"
   ]
  },
  {
   "cell_type": "code",
   "execution_count": 5,
   "id": "b9e8a58d",
   "metadata": {},
   "outputs": [
    {
     "name": "stdout",
     "output_type": "stream",
     "text": [
      "[[[1 3 1]\n",
      "  [4 7 6]\n",
      "  [8 3 4]]\n",
      "\n",
      " [[6 2 4]\n",
      "  [8 1 5]\n",
      "  [3 5 9]]]\n"
     ]
    }
   ],
   "source": [
    "# 3차원 배열 만들기\n",
    "a3 = [[[1, 3, 1],\n",
    "       [4, 7, 6],\n",
    "       [8, 3, 4]],\n",
    "      [[6, 2, 4],  \n",
    "       [8, 1, 5],\n",
    "       [3, 5, 9]]]\n",
    "\n",
    "b3 = np.array(a3)\n",
    "\n",
    "print(b3)"
   ]
  },
  {
   "cell_type": "markdown",
   "id": "cdf49774",
   "metadata": {},
   "source": [
    "### 2. 배열 정보 확인"
   ]
  },
  {
   "cell_type": "code",
   "execution_count": 6,
   "id": "55dd796d",
   "metadata": {},
   "outputs": [
    {
     "name": "stdout",
     "output_type": "stream",
     "text": [
      "1\n",
      "2\n",
      "3\n"
     ]
    }
   ],
   "source": [
    "# 차원 확인\n",
    "\n",
    "print(b1.ndim)\n",
    "print(b2.ndim)\n",
    "print(b3.ndim)"
   ]
  },
  {
   "cell_type": "code",
   "execution_count": 7,
   "id": "15de11a0",
   "metadata": {},
   "outputs": [
    {
     "name": "stdout",
     "output_type": "stream",
     "text": [
      "(5,)\n",
      "(2, 3)\n",
      "(2, 3, 3)\n"
     ]
    }
   ],
   "source": [
    "# 형태 (크기) 확인\n",
    "\n",
    "print(b1.shape)\n",
    "print(b2.shape)\n",
    "print(b3.shape)"
   ]
  },
  {
   "cell_type": "code",
   "execution_count": 8,
   "id": "74eb79a8",
   "metadata": {},
   "outputs": [
    {
     "name": "stdout",
     "output_type": "stream",
     "text": [
      "int32\n",
      "float64\n",
      "int32\n"
     ]
    }
   ],
   "source": [
    "# 타입 확인\n",
    "\n",
    "print(b1.dtype)\n",
    "print(b2.dtype)\n",
    "print(b3.dtype)"
   ]
  },
  {
   "cell_type": "markdown",
   "id": "58649b1e",
   "metadata": {},
   "source": [
    "#### Reshape"
   ]
  },
  {
   "cell_type": "code",
   "execution_count": 9,
   "id": "86959af7",
   "metadata": {},
   "outputs": [
    {
     "name": "stdout",
     "output_type": "stream",
     "text": [
      "[[1 2 3]\n",
      " [4 5 6]]\n"
     ]
    }
   ],
   "source": [
    "a = np.array([[1, 2, 3],\n",
    "              [4, 5, 6]])\n",
    "\n",
    "print(a)"
   ]
  },
  {
   "cell_type": "code",
   "execution_count": 10,
   "id": "b6be0a14",
   "metadata": {},
   "outputs": [
    {
     "name": "stdout",
     "output_type": "stream",
     "text": [
      "[[1 2]\n",
      " [3 4]\n",
      " [5 6]]\n"
     ]
    }
   ],
   "source": [
    "# (3, 2) 형태의 2차원 배열로 reshape\n",
    "b = a.reshape(3, 2)\n",
    "\n",
    "print(b)"
   ]
  },
  {
   "cell_type": "code",
   "execution_count": 12,
   "id": "9304c972",
   "metadata": {},
   "outputs": [
    {
     "name": "stdout",
     "output_type": "stream",
     "text": [
      "[1 2 3 4 5 6]\n"
     ]
    }
   ],
   "source": [
    "# 1차원 배열로 reshape\n",
    "c = a.reshape(6)\n",
    "\n",
    "print(c)"
   ]
  },
  {
   "cell_type": "code",
   "execution_count": 13,
   "id": "5b523b84",
   "metadata": {},
   "outputs": [
    {
     "name": "stdout",
     "output_type": "stream",
     "text": [
      "[[1 2 3]\n",
      " [4 5 6]]\n"
     ]
    }
   ],
   "source": [
    "# (m, -1) 또는 (-1, n) 을 사용하기\n",
    "\n",
    "a = np.array([[1, 2, 3],\n",
    "              [4, 5, 6]])\n",
    "\n",
    "print(a)"
   ]
  },
  {
   "cell_type": "code",
   "execution_count": 15,
   "id": "9452e499",
   "metadata": {},
   "outputs": [
    {
     "name": "stdout",
     "output_type": "stream",
     "text": [
      "[[1 2 3 4 5 6]]\n",
      "\n",
      "[[1 2]\n",
      " [3 4]\n",
      " [5 6]]\n",
      "\n",
      "[[1]\n",
      " [2]\n",
      " [3]\n",
      " [4]\n",
      " [5]\n",
      " [6]]\n"
     ]
    }
   ],
   "source": [
    "print(a.reshape(1, -1))\n",
    "print()\n",
    "\n",
    "print(a.reshape(3, -1))\n",
    "print()\n",
    "\n",
    "print(a.reshape(6, -1))"
   ]
  },
  {
   "cell_type": "markdown",
   "id": "96151fe3",
   "metadata": {},
   "source": [
    "#### [참조] 3차원 배열 (Image Dataset)"
   ]
  },
  {
   "cell_type": "code",
   "execution_count": 16,
   "id": "a98ab744",
   "metadata": {},
   "outputs": [],
   "source": [
    "import matplotlib.pyplot as plt\n",
    "np.set_printoptions(linewidth=np.inf) "
   ]
  },
  {
   "cell_type": "code",
   "execution_count": 17,
   "id": "ed700891",
   "metadata": {},
   "outputs": [],
   "source": [
    "# 데이터를 3차원으로 구성하기\n",
    "data = np.genfromtxt('https://raw.githubusercontent.com/DA4BAM/dataset/master/mnist_sample.csv', delimiter=',', skip_header = 1)\n",
    "\n",
    "# 28 * 28\n",
    "d3 = data.reshape(-1, 28, 28)"
   ]
  },
  {
   "cell_type": "code",
   "execution_count": 18,
   "id": "6be2992d",
   "metadata": {},
   "outputs": [
    {
     "data": {
      "text/plain": [
       "(100, 28, 28)"
      ]
     },
     "execution_count": 18,
     "metadata": {},
     "output_type": "execute_result"
    }
   ],
   "source": [
    "d3.shape"
   ]
  },
  {
   "cell_type": "code",
   "execution_count": 20,
   "id": "cd1033f8",
   "metadata": {},
   "outputs": [
    {
     "data": {
      "text/plain": [
       "array([[  0.,   0.,   0.,   0.,   0.,   0.,   0.,   0.,   0.,   0.,   0.,   0.,   0.,   0.,   0.,   0.,   0.,   0.,   0.,   0.,   0.,   0.,   0.,   0.,   0.,   0.,   0.,   0.],\n",
       "       [  0.,   0.,   0.,   0.,   0.,   0.,   0.,   0.,   0.,   0.,   0.,   0.,   0.,   0.,   0.,   0.,   0.,   0.,   0.,   0.,   0.,   0.,   0.,   0.,   0.,   0.,   0.,   0.],\n",
       "       [  0.,   0.,   0.,   0.,   0.,   0.,   0.,   0.,   0.,   0.,   0.,   0.,   0.,   0.,   0.,   0.,   0.,   0.,   0.,   0.,   0.,   0.,   0.,   0.,   0.,   0.,   0.,   0.],\n",
       "       [  0.,   0.,   0.,   0.,   0.,   0.,   0.,   0.,   0.,   0.,   0.,   0.,   0.,   0.,   0.,   0.,   0.,   0.,   0.,   0.,   0.,   0.,   0.,   0.,   0.,   0.,   0.,   0.],\n",
       "       [  0.,   0.,   0.,   0.,   0.,   0.,   0.,   0.,   0.,   0.,   0.,   0.,  11., 150., 253., 202.,  31.,   0.,   0.,   0.,   0.,   0.,   0.,   0.,   0.,   0.,   0.,   0.],\n",
       "       [  0.,   0.,   0.,   0.,   0.,   0.,   0.,   0.,   0.,   0.,   0.,   0.,  37., 251., 251., 253., 107.,   0.,   0.,   0.,   0.,   0.,   0.,   0.,   0.,   0.,   0.,   0.],\n",
       "       [  0.,   0.,   0.,   0.,   0.,   0.,   0.,   0.,   0.,   0.,   0.,  21., 197., 251., 251., 253., 107.,   0.,   0.,   0.,   0.,   0.,   0.,   0.,   0.,   0.,   0.,   0.],\n",
       "       [  0.,   0.,   0.,   0.,   0.,   0.,   0.,   0.,   0.,   0., 110., 190., 251., 251., 251., 253., 169., 109.,  62.,   0.,   0.,   0.,   0.,   0.,   0.,   0.,   0.,   0.],\n",
       "       [  0.,   0.,   0.,   0.,   0.,   0.,   0.,   0.,   0.,   0., 253., 251., 251., 251., 251., 253., 251., 251., 220.,  51.,   0.,   0.,   0.,   0.,   0.,   0.,   0.,   0.],\n",
       "       [  0.,   0.,   0.,   0.,   0.,   0.,   0.,   0.,   0., 182., 255., 253., 253., 253., 253., 234., 222., 253., 253., 253.,   0.,   0.,   0.,   0.,   0.,   0.,   0.,   0.],\n",
       "       [  0.,   0.,   0.,   0.,   0.,   0.,   0.,   0.,  63., 221., 253., 251., 251., 251., 147.,  77.,  62., 128., 251., 251., 105.,   0.,   0.,   0.,   0.,   0.,   0.,   0.],\n",
       "       [  0.,   0.,   0.,   0.,   0.,   0.,   0.,  32., 231., 251., 253., 251., 220., 137.,  10.,   0.,   0.,  31., 230., 251., 243., 113.,   5.,   0.,   0.,   0.,   0.,   0.],\n",
       "       [  0.,   0.,   0.,   0.,   0.,   0.,   0.,  37., 251., 251., 253., 188.,  20.,   0.,   0.,   0.,   0.,   0., 109., 251., 253., 251.,  35.,   0.,   0.,   0.,   0.,   0.],\n",
       "       [  0.,   0.,   0.,   0.,   0.,   0.,   0.,  37., 251., 251., 201.,  30.,   0.,   0.,   0.,   0.,   0.,   0.,  31., 200., 253., 251.,  35.,   0.,   0.,   0.,   0.,   0.],\n",
       "       [  0.,   0.,   0.,   0.,   0.,   0.,   0.,  37., 253., 253.,   0.,   0.,   0.,   0.,   0.,   0.,   0.,   0.,  32., 202., 255., 253., 164.,   0.,   0.,   0.,   0.,   0.],\n",
       "       [  0.,   0.,   0.,   0.,   0.,   0.,   0., 140., 251., 251.,   0.,   0.,   0.,   0.,   0.,   0.,   0.,   0., 109., 251., 253., 251.,  35.,   0.,   0.,   0.,   0.,   0.],\n",
       "       [  0.,   0.,   0.,   0.,   0.,   0.,   0., 217., 251., 251.,   0.,   0.,   0.,   0.,   0.,   0.,  21.,  63., 231., 251., 253., 230.,  30.,   0.,   0.,   0.,   0.,   0.],\n",
       "       [  0.,   0.,   0.,   0.,   0.,   0.,   0., 217., 251., 251.,   0.,   0.,   0.,   0.,   0.,   0., 144., 251., 251., 251., 221.,  61.,   0.,   0.,   0.,   0.,   0.,   0.],\n",
       "       [  0.,   0.,   0.,   0.,   0.,   0.,   0., 217., 251., 251.,   0.,   0.,   0.,   0.,   0., 182., 221., 251., 251., 251., 180.,   0.,   0.,   0.,   0.,   0.,   0.,   0.],\n",
       "       [  0.,   0.,   0.,   0.,   0.,   0.,   0., 218., 253., 253.,  73.,  73., 228., 253., 253., 255., 253., 253., 253., 253.,   0.,   0.,   0.,   0.,   0.,   0.,   0.,   0.],\n",
       "       [  0.,   0.,   0.,   0.,   0.,   0.,   0., 113., 251., 251., 253., 251., 251., 251., 251., 253., 251., 251., 251., 147.,   0.,   0.,   0.,   0.,   0.,   0.,   0.,   0.],\n",
       "       [  0.,   0.,   0.,   0.,   0.,   0.,   0.,  31., 230., 251., 253., 251., 251., 251., 251., 253., 230., 189.,  35.,  10.,   0.,   0.,   0.,   0.,   0.,   0.,   0.,   0.],\n",
       "       [  0.,   0.,   0.,   0.,   0.,   0.,   0.,   0.,  62., 142., 253., 251., 251., 251., 251., 253., 107.,   0.,   0.,   0.,   0.,   0.,   0.,   0.,   0.,   0.,   0.,   0.],\n",
       "       [  0.,   0.,   0.,   0.,   0.,   0.,   0.,   0.,   0.,   0.,  72., 174., 251., 173.,  71.,  72.,  30.,   0.,   0.,   0.,   0.,   0.,   0.,   0.,   0.,   0.,   0.,   0.],\n",
       "       [  0.,   0.,   0.,   0.,   0.,   0.,   0.,   0.,   0.,   0.,   0.,   0.,   0.,   0.,   0.,   0.,   0.,   0.,   0.,   0.,   0.,   0.,   0.,   0.,   0.,   0.,   0.,   0.],\n",
       "       [  0.,   0.,   0.,   0.,   0.,   0.,   0.,   0.,   0.,   0.,   0.,   0.,   0.,   0.,   0.,   0.,   0.,   0.,   0.,   0.,   0.,   0.,   0.,   0.,   0.,   0.,   0.,   0.],\n",
       "       [  0.,   0.,   0.,   0.,   0.,   0.,   0.,   0.,   0.,   0.,   0.,   0.,   0.,   0.,   0.,   0.,   0.,   0.,   0.,   0.,   0.,   0.,   0.,   0.,   0.,   0.,   0.,   0.],\n",
       "       [  0.,   0.,   0.,   0.,   0.,   0.,   0.,   0.,   0.,   0.,   0.,   0.,   0.,   0.,   0.,   0.,   0.,   0.,   0.,   0.,   0.,   0.,   0.,   0.,   0.,   0.,   0.,   0.]])"
      ]
     },
     "metadata": {},
     "output_type": "display_data"
    },
    {
     "data": {
      "image/png": "[encoded data removed]",
      "text/plain": [
       "<Figure size 432x288 with 1 Axes>"
      ]
     },
     "metadata": {
      "needs_background": "light"
     },
     "output_type": "display_data"
    }
   ],
   "source": [
    "# 3차원 데이터에서 첫 번째 인덱스로 2차원 데이터 조회하기.\n",
    "display(d3[3]) # 보기 좋게 print\n",
    "\n",
    "plt.imshow(d3[3])\n",
    "plt.show()"
   ]
  },
  {
   "cell_type": "markdown",
   "id": "4151be9c",
   "metadata": {},
   "source": [
    "### 3. 배열 인덱싱과 슬라이싱"
   ]
  },
  {
   "cell_type": "markdown",
   "id": "88ddb8b8",
   "metadata": {},
   "source": [
    "#### 인덱싱"
   ]
  },
  {
   "cell_type": "code",
   "execution_count": 21,
   "id": "7d0f578c",
   "metadata": {},
   "outputs": [
    {
     "name": "stdout",
     "output_type": "stream",
     "text": [
      "[[1 2 3]\n",
      " [4 5 6]\n",
      " [7 8 9]]\n"
     ]
    }
   ],
   "source": [
    "# (3, 3) 형태의 2차원 배열 만들기\n",
    "a = np.array([[1, 2, 3],\n",
    "              [4, 5, 6], \n",
    "              [7, 8, 9]])\n",
    "\n",
    "# 확인\n",
    "print(a)   "
   ]
  },
  {
   "cell_type": "code",
   "execution_count": 23,
   "id": "b566f16f",
   "metadata": {},
   "outputs": [
    {
     "name": "stdout",
     "output_type": "stream",
     "text": [
      "2\n"
     ]
    }
   ],
   "source": [
    "# 1) 원소 조회\n",
    "\n",
    "# 첫 번째 행, 두 번째 열 요소 조회\n",
    "print(a[0, 1])"
   ]
  },
  {
   "cell_type": "code",
   "execution_count": 25,
   "id": "9a5f846e",
   "metadata": {},
   "outputs": [
    {
     "name": "stdout",
     "output_type": "stream",
     "text": [
      "[[1 2 3]\n",
      " [4 5 6]]\n"
     ]
    }
   ],
   "source": [
    "# 2) 행 조회\n",
    "\n",
    "# 첫 번째, 두 번째 행 조회\n",
    "print(a[[0, 1]]) # 열에 대한 index는 생략할 수 있음. # index에 리스트를 삽입한 형태로 출력."
   ]
  },
  {
   "cell_type": "code",
   "execution_count": 26,
   "id": "e118bae6",
   "metadata": {},
   "outputs": [
    {
     "name": "stdout",
     "output_type": "stream",
     "text": [
      "[[1 2 3]\n",
      " [4 5 6]\n",
      " [7 8 9]]\n"
     ]
    }
   ],
   "source": [
    "# 첫 번째, 두 번째, 세 번째 행 조회\n",
    "\n",
    "# print(a[[0, 1, 2], :])\n",
    "print(a[[0, 1, 2]])"
   ]
  },
  {
   "cell_type": "code",
   "execution_count": 27,
   "id": "d42e9823",
   "metadata": {},
   "outputs": [
    {
     "name": "stdout",
     "output_type": "stream",
     "text": [
      "[[1 2]\n",
      " [4 5]\n",
      " [7 8]]\n"
     ]
    }
   ],
   "source": [
    "# 3) 열 조회\n",
    "print(a[:, [0, 1]])"
   ]
  },
  {
   "cell_type": "code",
   "execution_count": 29,
   "id": "103d2591",
   "metadata": {},
   "outputs": [
    {
     "name": "stdout",
     "output_type": "stream",
     "text": [
      "5\n",
      "[5]\n"
     ]
    }
   ],
   "source": [
    "# 행, 열 조회\n",
    "\n",
    "# 두 번째 행, 두 번째 열의 원소 조회\n",
    "print(a[1, 1])\n",
    "\n",
    "print(a[[1], [1]])\n",
    "\n",
    "# 각각 Scalar값과 1차원 값."
   ]
  },
  {
   "cell_type": "code",
   "execution_count": 30,
   "id": "7fd7f203",
   "metadata": {},
   "outputs": [
    {
     "name": "stdout",
     "output_type": "stream",
     "text": [
      "[8]\n"
     ]
    }
   ],
   "source": [
    "# 세 번째 행, 두 번째 열의 요소 조회\n",
    "print(a[[2], [1]])"
   ]
  },
  {
   "cell_type": "code",
   "execution_count": 31,
   "id": "3d6751b1",
   "metadata": {},
   "outputs": [
    {
     "name": "stdout",
     "output_type": "stream",
     "text": [
      "[1 5]\n"
     ]
    }
   ],
   "source": [
    "# 첫 번째 행 첫 번째 열 / 두 번째 행 두 번째 열의 원소 조회\n",
    "print(a[[0, 1], [0, 1]]) # (0, 0)과 (1, 1) 원소를 가져옴."
   ]
  },
  {
   "cell_type": "code",
   "execution_count": 32,
   "id": "c8c08ff1",
   "metadata": {},
   "outputs": [
    {
     "name": "stdout",
     "output_type": "stream",
     "text": [
      "[1 5 7]\n"
     ]
    }
   ],
   "source": [
    "# 첫 번째 행 첫 번째 열 / 두 번째 행 두 번째 열 / 세 번째 행 첫 번째 열의 원소 조회\n",
    "print(a[[0, 1, 2], [0, 1, 0]])"
   ]
  },
  {
   "cell_type": "markdown",
   "id": "bf3fc503",
   "metadata": {},
   "source": [
    "#### 슬라이싱"
   ]
  },
  {
   "cell_type": "code",
   "execution_count": 33,
   "id": "28094c4d",
   "metadata": {},
   "outputs": [
    {
     "name": "stdout",
     "output_type": "stream",
     "text": [
      "[[1 2 3]\n",
      " [4 5 6]\n",
      " [7 8 9]]\n"
     ]
    }
   ],
   "source": [
    "# (3, 3) 형태의 2차원 배열 만들기\n",
    "a = np.array([[1, 2, 3],\n",
    "              [4, 5, 6], \n",
    "              [7, 8, 9]])\n",
    "\n",
    "# 확인\n",
    "print(a)     "
   ]
  },
  {
   "cell_type": "code",
   "execution_count": 34,
   "id": "eeea7658",
   "metadata": {},
   "outputs": [
    {
     "name": "stdout",
     "output_type": "stream",
     "text": [
      "[[1 2 3]\n",
      " [4 5 6]]\n"
     ]
    }
   ],
   "source": [
    "# 첫 번째 ~ 두 번째 행 조회\n",
    "\n",
    "# print(a[0:2, :])\n",
    "print(a[0:2])"
   ]
  },
  {
   "cell_type": "code",
   "execution_count": 35,
   "id": "39ac21a2",
   "metadata": {},
   "outputs": [
    {
     "name": "stdout",
     "output_type": "stream",
     "text": [
      "[1 2]\n"
     ]
    }
   ],
   "source": [
    "# 첫 번째 행, 첫 번째 ~ 두 번째 열 조회\n",
    "print(a[0, 0:2])"
   ]
  },
  {
   "cell_type": "code",
   "execution_count": 36,
   "id": "b8c12fcf",
   "metadata": {},
   "outputs": [
    {
     "name": "stdout",
     "output_type": "stream",
     "text": [
      "[[2 3]\n",
      " [5 6]\n",
      " [8 9]]\n"
     ]
    }
   ],
   "source": [
    "# 첫 번째 ~ 세 번째 행 / 두 번째 ~ 세 번째 열 조회\n",
    "print(a[0:3, 1:3])"
   ]
  },
  {
   "cell_type": "code",
   "execution_count": 37,
   "id": "580c07dc",
   "metadata": {},
   "outputs": [
    {
     "name": "stdout",
     "output_type": "stream",
     "text": [
      "[[5 6]\n",
      " [8 9]]\n"
     ]
    }
   ],
   "source": [
    "# 두 번째 ~ 끝 행 / 두 번째 ~ 끝 열 조회\n",
    "print(a[1:, 1:])"
   ]
  },
  {
   "cell_type": "markdown",
   "id": "e1ece4f6",
   "metadata": {},
   "source": [
    "### 4. 조건 조회"
   ]
  },
  {
   "cell_type": "code",
   "execution_count": 38,
   "id": "f12b1751",
   "metadata": {},
   "outputs": [
    {
     "name": "stdout",
     "output_type": "stream",
     "text": [
      "[[78 91 84 89 93 65]\n",
      " [82 87 96 79 91 73]]\n"
     ]
    }
   ],
   "source": [
    "# 2차원 배열 만들기\n",
    "score= np.array([[78, 91, 84, 89, 93, 65],\n",
    "                 [82, 87, 96, 79, 91, 73]])\n",
    "\n",
    "# 확인\n",
    "print(score)"
   ]
  },
  {
   "cell_type": "code",
   "execution_count": 39,
   "id": "c0d2baff",
   "metadata": {},
   "outputs": [
    {
     "data": {
      "text/plain": [
       "array([[False,  True, False, False,  True, False],\n",
       "       [False, False,  True, False,  True, False]])"
      ]
     },
     "execution_count": 39,
     "metadata": {},
     "output_type": "execute_result"
    }
   ],
   "source": [
    "# 조건문의 결과는 boolean\n",
    "score >= 90"
   ]
  },
  {
   "cell_type": "code",
   "execution_count": 40,
   "id": "7390fb18",
   "metadata": {},
   "outputs": [
    {
     "name": "stdout",
     "output_type": "stream",
     "text": [
      "[91 93 96 91]\n"
     ]
    }
   ],
   "source": [
    "print(score[score >= 90])"
   ]
  },
  {
   "cell_type": "code",
   "execution_count": 41,
   "id": "3fee63eb",
   "metadata": {},
   "outputs": [
    {
     "name": "stdout",
     "output_type": "stream",
     "text": [
      "[91 93 96 91]\n"
     ]
    }
   ],
   "source": [
    "condition = score >= 90\n",
    "print(score[condition])"
   ]
  },
  {
   "cell_type": "code",
   "execution_count": 42,
   "id": "e4256fc7",
   "metadata": {},
   "outputs": [
    {
     "name": "stdout",
     "output_type": "stream",
     "text": [
      "[91 93 91]\n"
     ]
    }
   ],
   "source": [
    "# 모든 요소 중에서 90 이상 95 미만인 것만 조회\n",
    "print(score[(score >= 90) & (score <= 95)])"
   ]
  },
  {
   "cell_type": "code",
   "execution_count": 43,
   "id": "4cbac784",
   "metadata": {},
   "outputs": [
    {
     "name": "stdout",
     "output_type": "stream",
     "text": [
      "[78 84 82 96]\n"
     ]
    }
   ],
   "source": [
    "# 짝수만 출력하기\n",
    "condition = (score % 2 == 0)\n",
    "print(score[condition])"
   ]
  },
  {
   "cell_type": "markdown",
   "id": "273f2242",
   "metadata": {},
   "source": [
    "### 5. 배열 연산"
   ]
  },
  {
   "cell_type": "code",
   "execution_count": 44,
   "id": "f69f8b9b",
   "metadata": {},
   "outputs": [
    {
     "name": "stdout",
     "output_type": "stream",
     "text": [
      "[[1 2]\n",
      " [3 4]]\n",
      "[[5 6]\n",
      " [7 8]]\n"
     ]
    }
   ],
   "source": [
    "# 두 개의 (2, 2) 형태의 2차원 배열 만들기\n",
    "x = np.array([[1, 2], [3, 4]])\n",
    "y = np.array([[5, 6], [7, 8]])\n",
    "\n",
    "# 확인\n",
    "print(x)\n",
    "print(y)"
   ]
  },
  {
   "cell_type": "markdown",
   "id": "dc9cf860",
   "metadata": {},
   "source": [
    "#### 1) 배열 더하기"
   ]
  },
  {
   "cell_type": "code",
   "execution_count": 45,
   "id": "09fff56b",
   "metadata": {},
   "outputs": [
    {
     "name": "stdout",
     "output_type": "stream",
     "text": [
      "[[ 6  8]\n",
      " [10 12]]\n",
      "[[ 6  8]\n",
      " [10 12]]\n"
     ]
    }
   ],
   "source": [
    "print(x + y)\n",
    "\n",
    "print(np.add(x, y))"
   ]
  },
  {
   "cell_type": "markdown",
   "id": "5bf7efa5",
   "metadata": {},
   "source": [
    "#### 2) 배열 빼기"
   ]
  },
  {
   "cell_type": "code",
   "execution_count": 46,
   "id": "0792fef0",
   "metadata": {},
   "outputs": [
    {
     "name": "stdout",
     "output_type": "stream",
     "text": [
      "[[-4 -4]\n",
      " [-4 -4]]\n",
      "[[-4 -4]\n",
      " [-4 -4]]\n"
     ]
    }
   ],
   "source": [
    "print(x - y)\n",
    "\n",
    "print(np.subtract(x, y))"
   ]
  },
  {
   "cell_type": "markdown",
   "id": "37de2cb3",
   "metadata": {},
   "source": [
    "#### 3) 배열 곱하기"
   ]
  },
  {
   "cell_type": "code",
   "execution_count": 47,
   "id": "16dee05a",
   "metadata": {},
   "outputs": [
    {
     "name": "stdout",
     "output_type": "stream",
     "text": [
      "[[ 5 12]\n",
      " [21 32]]\n",
      "[[ 5 12]\n",
      " [21 32]]\n"
     ]
    }
   ],
   "source": [
    "print(x * y)\n",
    "\n",
    "print(np.multiply(x,  y))"
   ]
  },
  {
   "cell_type": "markdown",
   "id": "ec74eab9",
   "metadata": {},
   "source": [
    "#### 4) 배열 나누기"
   ]
  },
  {
   "cell_type": "code",
   "execution_count": 48,
   "id": "8e572e18",
   "metadata": {},
   "outputs": [
    {
     "name": "stdout",
     "output_type": "stream",
     "text": [
      "[[0.2        0.33333333]\n",
      " [0.42857143 0.5       ]]\n",
      "[[0.2        0.33333333]\n",
      " [0.42857143 0.5       ]]\n"
     ]
    }
   ],
   "source": [
    "print(x / y)\n",
    "\n",
    "print(np.divide(x, y))"
   ]
  },
  {
   "cell_type": "markdown",
   "id": "c8a97934",
   "metadata": {},
   "source": [
    "#### 5) 배열 제곱"
   ]
  },
  {
   "cell_type": "code",
   "execution_count": 49,
   "id": "57cd2d66",
   "metadata": {},
   "outputs": [
    {
     "name": "stdout",
     "output_type": "stream",
     "text": [
      "[[    1    64]\n",
      " [ 2187 65536]]\n",
      "[[    1    64]\n",
      " [ 2187 65536]]\n"
     ]
    }
   ],
   "source": [
    "print(x ** y)\n",
    "\n",
    "print(np.power(x, y))"
   ]
  },
  {
   "cell_type": "code",
   "execution_count": 51,
   "id": "c0e0aa81",
   "metadata": {},
   "outputs": [
    {
     "name": "stdout",
     "output_type": "stream",
     "text": [
      "[[ 1  4]\n",
      " [ 9 16]]\n"
     ]
    }
   ],
   "source": [
    "print(x ** 2)"
   ]
  },
  {
   "cell_type": "markdown",
   "id": "dddcdd3d",
   "metadata": {},
   "source": [
    "#### 6) 배열 집계"
   ]
  },
  {
   "cell_type": "code",
   "execution_count": 52,
   "id": "565ddc45",
   "metadata": {},
   "outputs": [
    {
     "name": "stdout",
     "output_type": "stream",
     "text": [
      "[[1 5 7]\n",
      " [2 3 8]]\n"
     ]
    }
   ],
   "source": [
    "# array를 생성합니다.\n",
    "a = np.array([[1,5,7],[2,3,8]])\n",
    "print(a)"
   ]
  },
  {
   "cell_type": "code",
   "execution_count": 53,
   "id": "4df80616",
   "metadata": {},
   "outputs": [
    {
     "name": "stdout",
     "output_type": "stream",
     "text": [
      "26\n",
      "[ 3  8 15]\n",
      "[13 13]\n"
     ]
    }
   ],
   "source": [
    "# 전체 집계\n",
    "print(np.sum(a))\n",
    "\n",
    "# 열기준 집계\n",
    "print(np.sum(a, axis = 0))\n",
    "\n",
    "# 행기준 집계\n",
    "print(np.sum(a, axis = 1))"
   ]
  },
  {
   "cell_type": "markdown",
   "id": "5d8a5e1f",
   "metadata": {},
   "source": [
    "np.argmax(), np.argmin()"
   ]
  },
  {
   "cell_type": "code",
   "execution_count": 54,
   "id": "73a5fab7",
   "metadata": {},
   "outputs": [
    {
     "name": "stdout",
     "output_type": "stream",
     "text": [
      "[[1 5 7]\n",
      " [2 3 8]]\n"
     ]
    }
   ],
   "source": [
    "print(a)"
   ]
  },
  {
   "cell_type": "code",
   "execution_count": 55,
   "id": "b4157a4b",
   "metadata": {},
   "outputs": [
    {
     "name": "stdout",
     "output_type": "stream",
     "text": [
      "5\n",
      "[1 0 1]\n",
      "[2 2]\n"
     ]
    }
   ],
   "source": [
    "# 전체 중에서 가장 큰 값의 인덱스\n",
    "print(np.argmax(a))\n",
    "\n",
    "# 행 방향 최대값의 인덱스\n",
    "print(np.argmax(a, axis = 0))\n",
    "\n",
    "# 열 방향 최대값의 인덱스\n",
    "print(np.argmax(a, axis = 1))"
   ]
  },
  {
   "cell_type": "code",
   "execution_count": 58,
   "id": "a90848dd",
   "metadata": {},
   "outputs": [
    {
     "name": "stdout",
     "output_type": "stream",
     "text": [
      "[0 1 0 1]\n"
     ]
    }
   ],
   "source": [
    "# 조건에 따라 다른 값 지정하기\n",
    "# np.where(조건문, 참일 때 변환할 값, 거짓일 때 변환할 값)\n",
    "a = np.array([1, 3, 2, 7])\n",
    "\n",
    "print(np.where(a > 2, 1, 0))"
   ]
  },
  {
   "cell_type": "code",
   "execution_count": 59,
   "id": "43335e9f",
   "metadata": {},
   "outputs": [
    {
     "name": "stdout",
     "output_type": "stream",
     "text": [
      "[[1 1 1]\n",
      " [2 3 1]]\n"
     ]
    }
   ],
   "source": [
    "# a를 넣으면 해당 값이 그대로 나옴\n",
    "a = np.array([[1,5,7],\n",
    "              [2,3,8]])\n",
    "\n",
    "print(np.where(a > 3, 1, a))"
   ]
  },
  {
   "cell_type": "markdown",
   "id": "1cbc9d27",
   "metadata": {},
   "source": [
    "np.linspace(시작값, 끝값, 사이 값 개수)"
   ]
  },
  {
   "cell_type": "code",
   "execution_count": 60,
   "id": "5704b226",
   "metadata": {},
   "outputs": [
    {
     "data": {
      "text/plain": [
       "[1, 3, 5, 7, 9]"
      ]
     },
     "execution_count": 60,
     "metadata": {},
     "output_type": "execute_result"
    }
   ],
   "source": [
    "# range는 정수로 값을 만들어 낸다.\n",
    "list(range(1, 10, 2))"
   ]
  },
  {
   "cell_type": "code",
   "execution_count": 61,
   "id": "af79a6ff",
   "metadata": {},
   "outputs": [
    {
     "data": {
      "text/plain": [
       "array([ 0.1,  0.2,  0.3,  0.4,  0.5,  0.6,  0.7,  0.8,  0.9,  1. ,  1.1,  1.2,  1.3,  1.4,  1.5,  1.6,  1.7,  1.8,  1.9,  2. ,  2.1,  2.2,  2.3,  2.4,  2.5,  2.6,  2.7,  2.8,  2.9,  3. ,  3.1,  3.2,  3.3,  3.4,  3.5,  3.6,  3.7,  3.8,  3.9,  4. ,  4.1,  4.2,  4.3,  4.4,  4.5,  4.6,  4.7,  4.8,  4.9,  5. ,  5.1,  5.2,  5.3,  5.4,  5.5,  5.6,  5.7,  5.8,  5.9,  6. ,  6.1,  6.2,  6.3,  6.4,  6.5,  6.6,  6.7,  6.8,  6.9,  7. ,  7.1,  7.2,  7.3,  7.4,  7.5,  7.6,  7.7,  7.8,  7.9,  8. ,  8.1,  8.2,  8.3,  8.4,  8.5,  8.6,  8.7,  8.8,  8.9,  9. ,  9.1,  9.2,  9.3,  9.4,  9.5,  9.6,  9.7,  9.8,  9.9, 10. ])"
      ]
     },
     "execution_count": 61,
     "metadata": {},
     "output_type": "execute_result"
    }
   ],
   "source": [
    "# linspace는 소수를 만들어 준다.\n",
    "# 0.1 ~ 10. 100개 값을 만들어 준다.\n",
    "np.linspace(0.1, 10, 100)"
   ]
  },
  {
   "cell_type": "code",
   "execution_count": null,
   "id": "20504372",
   "metadata": {},
   "outputs": [],
   "source": []
  }
 ],
 "metadata": {
  "kernelspec": {
   "display_name": "Python 3",
   "language": "python",
   "name": "python3"
  },
  "language_info": {
   "codemirror_mode": {
    "name": "ipython",
    "version": 3
   },
   "file_extension": ".py",
   "mimetype": "text/x-python",
   "name": "python",
   "nbconvert_exporter": "python",
   "pygments_lexer": "ipython3",
   "version": "3.8.8"
  }
 },
 "nbformat": 4,
 "nbformat_minor": 5
}

{
 "cells": [
  {
   "cell_type": "markdown",
   "id": "7bfc185c",
   "metadata": {},
   "source": [
    "## 단변량분석_숫자형변수"
   ]
  },
  {
   "cell_type": "code",
   "execution_count": 1,
   "id": "65166d15",
   "metadata": {},
   "outputs": [],
   "source": [
    "import numpy as np\n",
    "import pandas as pd\n",
    "\n",
    "import matplotlib.pyplot as plt\n",
    "import seaborn as sns\n",
    "\n",
    "import warnings\n",
    "warnings.simplefilter(action='ignore', category=FutureWarning)"
   ]
  },
  {
   "cell_type": "markdown",
   "id": "d3c01932",
   "metadata": {},
   "source": [
    "#### 1) titanic"
   ]
  },
  {
   "cell_type": "code",
   "execution_count": 2,
   "id": "4a188624",
   "metadata": {},
   "outputs": [
    {
     "data": {
      "text/html": [
       "<div>\n",
       "<style scoped>\n",
       "    .dataframe tbody tr th:only-of-type {\n",
       "        vertical-align: middle;\n",
       "    }\n",
       "\n",
       "    .dataframe tbody tr th {\n",
       "        vertical-align: top;\n",
       "    }\n",
       "\n",
       "    .dataframe thead th {\n",
       "        text-align: right;\n",
       "    }\n",
       "</style>\n",
       "<table border=\"1\" class=\"dataframe\">\n",
       "  <thead>\n",
       "    <tr style=\"text-align: right;\">\n",
       "      <th></th>\n",
       "      <th>PassengerId</th>\n",
       "      <th>Survived</th>\n",
       "      <th>Pclass</th>\n",
       "      <th>Name</th>\n",
       "      <th>Sex</th>\n",
       "      <th>Age</th>\n",
       "      <th>Fare</th>\n",
       "      <th>Embarked</th>\n",
       "    </tr>\n",
       "  </thead>\n",
       "  <tbody>\n",
       "    <tr>\n",
       "      <th>0</th>\n",
       "      <td>1</td>\n",
       "      <td>0</td>\n",
       "      <td>3</td>\n",
       "      <td>Braund, Mr. Owen Harris</td>\n",
       "      <td>male</td>\n",
       "      <td>22.0</td>\n",
       "      <td>7.2500</td>\n",
       "      <td>Southhampton</td>\n",
       "    </tr>\n",
       "    <tr>\n",
       "      <th>1</th>\n",
       "      <td>2</td>\n",
       "      <td>1</td>\n",
       "      <td>1</td>\n",
       "      <td>Cumings, Mrs. John Bradley (Florence Briggs Th...</td>\n",
       "      <td>female</td>\n",
       "      <td>38.0</td>\n",
       "      <td>71.2833</td>\n",
       "      <td>Cherbourg</td>\n",
       "    </tr>\n",
       "    <tr>\n",
       "      <th>2</th>\n",
       "      <td>3</td>\n",
       "      <td>1</td>\n",
       "      <td>3</td>\n",
       "      <td>Heikkinen, Miss. Laina</td>\n",
       "      <td>female</td>\n",
       "      <td>26.0</td>\n",
       "      <td>7.9250</td>\n",
       "      <td>Southhampton</td>\n",
       "    </tr>\n",
       "    <tr>\n",
       "      <th>3</th>\n",
       "      <td>4</td>\n",
       "      <td>1</td>\n",
       "      <td>1</td>\n",
       "      <td>Futrelle, Mrs. Jacques Heath (Lily May Peel)</td>\n",
       "      <td>female</td>\n",
       "      <td>35.0</td>\n",
       "      <td>53.1000</td>\n",
       "      <td>Southhampton</td>\n",
       "    </tr>\n",
       "    <tr>\n",
       "      <th>4</th>\n",
       "      <td>5</td>\n",
       "      <td>0</td>\n",
       "      <td>3</td>\n",
       "      <td>Allen, Mr. William Henry</td>\n",
       "      <td>male</td>\n",
       "      <td>35.0</td>\n",
       "      <td>8.0500</td>\n",
       "      <td>Southhampton</td>\n",
       "    </tr>\n",
       "  </tbody>\n",
       "</table>\n",
       "</div>"
      ],
      "text/plain": [
       "   PassengerId  Survived  Pclass  \\\n",
       "0            1         0       3   \n",
       "1            2         1       1   \n",
       "2            3         1       3   \n",
       "3            4         1       1   \n",
       "4            5         0       3   \n",
       "\n",
       "                                                Name     Sex   Age     Fare  \\\n",
       "0                            Braund, Mr. Owen Harris    male  22.0   7.2500   \n",
       "1  Cumings, Mrs. John Bradley (Florence Briggs Th...  female  38.0  71.2833   \n",
       "2                             Heikkinen, Miss. Laina  female  26.0   7.9250   \n",
       "3       Futrelle, Mrs. Jacques Heath (Lily May Peel)  female  35.0  53.1000   \n",
       "4                           Allen, Mr. William Henry    male  35.0   8.0500   \n",
       "\n",
       "       Embarked  \n",
       "0  Southhampton  \n",
       "1     Cherbourg  \n",
       "2  Southhampton  \n",
       "3  Southhampton  \n",
       "4  Southhampton  "
      ]
     },
     "execution_count": 2,
     "metadata": {},
     "output_type": "execute_result"
    }
   ],
   "source": [
    "titanic = pd.read_csv('https://raw.githubusercontent.com/DA4BAM/dataset/master/titanic_simple.csv')\n",
    "titanic.head()"
   ]
  },
  {
   "cell_type": "markdown",
   "id": "5be785fd",
   "metadata": {},
   "source": [
    "#### 2) New York Air Quality"
   ]
  },
  {
   "cell_type": "code",
   "execution_count": 3,
   "id": "72120371",
   "metadata": {},
   "outputs": [
    {
     "data": {
      "text/html": [
       "<div>\n",
       "<style scoped>\n",
       "    .dataframe tbody tr th:only-of-type {\n",
       "        vertical-align: middle;\n",
       "    }\n",
       "\n",
       "    .dataframe tbody tr th {\n",
       "        vertical-align: top;\n",
       "    }\n",
       "\n",
       "    .dataframe thead th {\n",
       "        text-align: right;\n",
       "    }\n",
       "</style>\n",
       "<table border=\"1\" class=\"dataframe\">\n",
       "  <thead>\n",
       "    <tr style=\"text-align: right;\">\n",
       "      <th></th>\n",
       "      <th>Ozone</th>\n",
       "      <th>Solar.R</th>\n",
       "      <th>Wind</th>\n",
       "      <th>Temp</th>\n",
       "      <th>Date</th>\n",
       "    </tr>\n",
       "  </thead>\n",
       "  <tbody>\n",
       "    <tr>\n",
       "      <th>0</th>\n",
       "      <td>41</td>\n",
       "      <td>190.0</td>\n",
       "      <td>7.4</td>\n",
       "      <td>67</td>\n",
       "      <td>1973-05-01</td>\n",
       "    </tr>\n",
       "    <tr>\n",
       "      <th>1</th>\n",
       "      <td>36</td>\n",
       "      <td>118.0</td>\n",
       "      <td>8.0</td>\n",
       "      <td>72</td>\n",
       "      <td>1973-05-02</td>\n",
       "    </tr>\n",
       "    <tr>\n",
       "      <th>2</th>\n",
       "      <td>12</td>\n",
       "      <td>149.0</td>\n",
       "      <td>12.6</td>\n",
       "      <td>74</td>\n",
       "      <td>1973-05-03</td>\n",
       "    </tr>\n",
       "    <tr>\n",
       "      <th>3</th>\n",
       "      <td>18</td>\n",
       "      <td>313.0</td>\n",
       "      <td>11.5</td>\n",
       "      <td>62</td>\n",
       "      <td>1973-05-04</td>\n",
       "    </tr>\n",
       "    <tr>\n",
       "      <th>4</th>\n",
       "      <td>19</td>\n",
       "      <td>NaN</td>\n",
       "      <td>14.3</td>\n",
       "      <td>56</td>\n",
       "      <td>1973-05-05</td>\n",
       "    </tr>\n",
       "  </tbody>\n",
       "</table>\n",
       "</div>"
      ],
      "text/plain": [
       "   Ozone  Solar.R  Wind  Temp        Date\n",
       "0     41    190.0   7.4    67  1973-05-01\n",
       "1     36    118.0   8.0    72  1973-05-02\n",
       "2     12    149.0  12.6    74  1973-05-03\n",
       "3     18    313.0  11.5    62  1973-05-04\n",
       "4     19      NaN  14.3    56  1973-05-05"
      ]
     },
     "execution_count": 3,
     "metadata": {},
     "output_type": "execute_result"
    }
   ],
   "source": [
    "air = pd.read_csv('https://bit.ly/3qmthqZ')\n",
    "air.head()"
   ]
  },
  {
   "cell_type": "markdown",
   "id": "1187991d",
   "metadata": {},
   "source": [
    "## 1. 수치화"
   ]
  },
  {
   "cell_type": "markdown",
   "id": "d6ba0209",
   "metadata": {},
   "source": [
    "### (1) 대푯값"
   ]
  },
  {
   "cell_type": "markdown",
   "id": "1861b5ea",
   "metadata": {},
   "source": [
    "#### 1) 평균"
   ]
  },
  {
   "cell_type": "code",
   "execution_count": 4,
   "id": "7bbdd16e",
   "metadata": {},
   "outputs": [
    {
     "name": "stdout",
     "output_type": "stream",
     "text": [
      "10.476190476190476\n"
     ]
    }
   ],
   "source": [
    "# 산술평균\n",
    "a = [1, 2, 3, 3, 4, 4, 4, 5, 6, 7, 8, 9, 10, 11, 15, 17, 17, 19, 20, 25, 30]\n",
    "print(np.mean(a))"
   ]
  },
  {
   "cell_type": "code",
   "execution_count": 5,
   "id": "b9c4c2bf",
   "metadata": {},
   "outputs": [
    {
     "data": {
      "text/plain": [
       "32.2042079685746"
      ]
     },
     "execution_count": 5,
     "metadata": {},
     "output_type": "execute_result"
    }
   ],
   "source": [
    "titanic['Fare'].mean()"
   ]
  },
  {
   "cell_type": "code",
   "execution_count": 6,
   "id": "f74758a4",
   "metadata": {},
   "outputs": [
    {
     "name": "stdout",
     "output_type": "stream",
     "text": [
      "68.57142857142857\n"
     ]
    }
   ],
   "source": [
    "# 조화평균\n",
    "# 거리 20km. 갈때 속력 60km. 올때 속력 80km --> 평균 속력은?\n",
    "\n",
    "a1, a2 = 60, 80\n",
    "hm = 2*a1*a2 / (a1 + a2)\n",
    "print(hm)"
   ]
  },
  {
   "cell_type": "markdown",
   "id": "e8f2bbd9",
   "metadata": {},
   "source": [
    "#### 2) 중앙값 (중위수, median)"
   ]
  },
  {
   "cell_type": "code",
   "execution_count": 7,
   "id": "f76728b8",
   "metadata": {},
   "outputs": [
    {
     "name": "stdout",
     "output_type": "stream",
     "text": [
      "8.0\n"
     ]
    }
   ],
   "source": [
    "a = [1, 2, 3, 3, 4, 4, 4, 5, 6, 7, 8, 9, 10, 11, 15, 17, 17, 19, 20, 25, 30]\n",
    "print(np.median(a))"
   ]
  },
  {
   "cell_type": "code",
   "execution_count": 8,
   "id": "2bc3570c",
   "metadata": {},
   "outputs": [
    {
     "data": {
      "text/plain": [
       "14.4542"
      ]
     },
     "execution_count": 8,
     "metadata": {},
     "output_type": "execute_result"
    }
   ],
   "source": [
    "titanic['Fare'].median()"
   ]
  },
  {
   "cell_type": "markdown",
   "id": "543b829b",
   "metadata": {},
   "source": [
    "#### 3) 최빈값"
   ]
  },
  {
   "cell_type": "code",
   "execution_count": 9,
   "id": "a515c1d7",
   "metadata": {},
   "outputs": [
    {
     "data": {
      "text/plain": [
       "0    4\n",
       "dtype: int64"
      ]
     },
     "execution_count": 9,
     "metadata": {},
     "output_type": "execute_result"
    }
   ],
   "source": [
    "a = [1, 2, 3, 3, 4, 4, 4, 5, 6, 7, 8, 9, 10, 11, 15, 17, 17, 19, 20, 25, 30]\n",
    "a = pd.Series(a)\n",
    "a.mode()"
   ]
  },
  {
   "cell_type": "markdown",
   "id": "62b919df",
   "metadata": {},
   "source": [
    "#### 4) 4분위수"
   ]
  },
  {
   "cell_type": "code",
   "execution_count": 10,
   "id": "faa80966",
   "metadata": {},
   "outputs": [
    {
     "name": "stdout",
     "output_type": "stream",
     "text": [
      "[ 1.  4.  8. 17. 30.]\n"
     ]
    }
   ],
   "source": [
    "a = [1, 2, 3, 3, 4, 4, 4, 5, 6, 7, 8, 9, 10, 11, 15, 17, 17, 19, 20, 25, 30]\n",
    "print(np.percentile(a, [0, 25, 50, 75, 100]))"
   ]
  },
  {
   "cell_type": "code",
   "execution_count": 11,
   "id": "fc8ffd03",
   "metadata": {},
   "outputs": [
    {
     "name": "stdout",
     "output_type": "stream",
     "text": [
      "[ 0.42  20.125 28.    38.    80.   ]\n"
     ]
    }
   ],
   "source": [
    "# nan을 제외하고 나머지 데이터 가져오기\n",
    "temp = titanic.loc[titanic['Age'].notnull(), 'Age']\n",
    "print(np.percentile(temp, [0, 25, 50, 75, 100]))"
   ]
  },
  {
   "cell_type": "markdown",
   "id": "ab2cb643",
   "metadata": {},
   "source": [
    "### (2) 기초통계량 "
   ]
  },
  {
   "cell_type": "markdown",
   "id": "9f584f13",
   "metadata": {},
   "source": [
    "#### 1) Series.describe()"
   ]
  },
  {
   "cell_type": "code",
   "execution_count": 12,
   "id": "b6777b2e",
   "metadata": {},
   "outputs": [
    {
     "data": {
      "text/plain": [
       "count    891.000000\n",
       "mean      32.204208\n",
       "std       49.693429\n",
       "min        0.000000\n",
       "25%        7.910400\n",
       "50%       14.454200\n",
       "75%       31.000000\n",
       "max      512.329200\n",
       "Name: Fare, dtype: float64"
      ]
     },
     "execution_count": 12,
     "metadata": {},
     "output_type": "execute_result"
    }
   ],
   "source": [
    "titanic['Fare'].describe()"
   ]
  },
  {
   "cell_type": "markdown",
   "id": "70d80bbf",
   "metadata": {},
   "source": [
    "#### 2) DataFrame.describe()"
   ]
  },
  {
   "cell_type": "code",
   "execution_count": 13,
   "id": "fd0a4941",
   "metadata": {},
   "outputs": [
    {
     "data": {
      "text/html": [
       "<div>\n",
       "<style scoped>\n",
       "    .dataframe tbody tr th:only-of-type {\n",
       "        vertical-align: middle;\n",
       "    }\n",
       "\n",
       "    .dataframe tbody tr th {\n",
       "        vertical-align: top;\n",
       "    }\n",
       "\n",
       "    .dataframe thead th {\n",
       "        text-align: right;\n",
       "    }\n",
       "</style>\n",
       "<table border=\"1\" class=\"dataframe\">\n",
       "  <thead>\n",
       "    <tr style=\"text-align: right;\">\n",
       "      <th></th>\n",
       "      <th>PassengerId</th>\n",
       "      <th>Survived</th>\n",
       "      <th>Pclass</th>\n",
       "      <th>Age</th>\n",
       "      <th>Fare</th>\n",
       "    </tr>\n",
       "  </thead>\n",
       "  <tbody>\n",
       "    <tr>\n",
       "      <th>count</th>\n",
       "      <td>891.000000</td>\n",
       "      <td>891.000000</td>\n",
       "      <td>891.000000</td>\n",
       "      <td>714.000000</td>\n",
       "      <td>891.000000</td>\n",
       "    </tr>\n",
       "    <tr>\n",
       "      <th>mean</th>\n",
       "      <td>446.000000</td>\n",
       "      <td>0.383838</td>\n",
       "      <td>2.308642</td>\n",
       "      <td>29.699118</td>\n",
       "      <td>32.204208</td>\n",
       "    </tr>\n",
       "    <tr>\n",
       "      <th>std</th>\n",
       "      <td>257.353842</td>\n",
       "      <td>0.486592</td>\n",
       "      <td>0.836071</td>\n",
       "      <td>14.526497</td>\n",
       "      <td>49.693429</td>\n",
       "    </tr>\n",
       "    <tr>\n",
       "      <th>min</th>\n",
       "      <td>1.000000</td>\n",
       "      <td>0.000000</td>\n",
       "      <td>1.000000</td>\n",
       "      <td>0.420000</td>\n",
       "      <td>0.000000</td>\n",
       "    </tr>\n",
       "    <tr>\n",
       "      <th>25%</th>\n",
       "      <td>223.500000</td>\n",
       "      <td>0.000000</td>\n",
       "      <td>2.000000</td>\n",
       "      <td>20.125000</td>\n",
       "      <td>7.910400</td>\n",
       "    </tr>\n",
       "    <tr>\n",
       "      <th>50%</th>\n",
       "      <td>446.000000</td>\n",
       "      <td>0.000000</td>\n",
       "      <td>3.000000</td>\n",
       "      <td>28.000000</td>\n",
       "      <td>14.454200</td>\n",
       "    </tr>\n",
       "    <tr>\n",
       "      <th>75%</th>\n",
       "      <td>668.500000</td>\n",
       "      <td>1.000000</td>\n",
       "      <td>3.000000</td>\n",
       "      <td>38.000000</td>\n",
       "      <td>31.000000</td>\n",
       "    </tr>\n",
       "    <tr>\n",
       "      <th>max</th>\n",
       "      <td>891.000000</td>\n",
       "      <td>1.000000</td>\n",
       "      <td>3.000000</td>\n",
       "      <td>80.000000</td>\n",
       "      <td>512.329200</td>\n",
       "    </tr>\n",
       "  </tbody>\n",
       "</table>\n",
       "</div>"
      ],
      "text/plain": [
       "       PassengerId    Survived      Pclass         Age        Fare\n",
       "count   891.000000  891.000000  891.000000  714.000000  891.000000\n",
       "mean    446.000000    0.383838    2.308642   29.699118   32.204208\n",
       "std     257.353842    0.486592    0.836071   14.526497   49.693429\n",
       "min       1.000000    0.000000    1.000000    0.420000    0.000000\n",
       "25%     223.500000    0.000000    2.000000   20.125000    7.910400\n",
       "50%     446.000000    0.000000    3.000000   28.000000   14.454200\n",
       "75%     668.500000    1.000000    3.000000   38.000000   31.000000\n",
       "max     891.000000    1.000000    3.000000   80.000000  512.329200"
      ]
     },
     "execution_count": 13,
     "metadata": {},
     "output_type": "execute_result"
    }
   ],
   "source": [
    "titanic.describe()"
   ]
  },
  {
   "cell_type": "code",
   "execution_count": 14,
   "id": "0dd027ab",
   "metadata": {},
   "outputs": [
    {
     "data": {
      "text/html": [
       "<div>\n",
       "<style scoped>\n",
       "    .dataframe tbody tr th:only-of-type {\n",
       "        vertical-align: middle;\n",
       "    }\n",
       "\n",
       "    .dataframe tbody tr th {\n",
       "        vertical-align: top;\n",
       "    }\n",
       "\n",
       "    .dataframe thead th {\n",
       "        text-align: right;\n",
       "    }\n",
       "</style>\n",
       "<table border=\"1\" class=\"dataframe\">\n",
       "  <thead>\n",
       "    <tr style=\"text-align: right;\">\n",
       "      <th></th>\n",
       "      <th>PassengerId</th>\n",
       "      <th>Survived</th>\n",
       "      <th>Pclass</th>\n",
       "      <th>Name</th>\n",
       "      <th>Sex</th>\n",
       "      <th>Age</th>\n",
       "      <th>Fare</th>\n",
       "      <th>Embarked</th>\n",
       "    </tr>\n",
       "  </thead>\n",
       "  <tbody>\n",
       "    <tr>\n",
       "      <th>count</th>\n",
       "      <td>891.000000</td>\n",
       "      <td>891.000000</td>\n",
       "      <td>891.000000</td>\n",
       "      <td>891</td>\n",
       "      <td>891</td>\n",
       "      <td>714.000000</td>\n",
       "      <td>891.000000</td>\n",
       "      <td>889</td>\n",
       "    </tr>\n",
       "    <tr>\n",
       "      <th>unique</th>\n",
       "      <td>NaN</td>\n",
       "      <td>NaN</td>\n",
       "      <td>NaN</td>\n",
       "      <td>891</td>\n",
       "      <td>2</td>\n",
       "      <td>NaN</td>\n",
       "      <td>NaN</td>\n",
       "      <td>3</td>\n",
       "    </tr>\n",
       "    <tr>\n",
       "      <th>top</th>\n",
       "      <td>NaN</td>\n",
       "      <td>NaN</td>\n",
       "      <td>NaN</td>\n",
       "      <td>Johanson, Mr. Jakob Alfred</td>\n",
       "      <td>male</td>\n",
       "      <td>NaN</td>\n",
       "      <td>NaN</td>\n",
       "      <td>Southhampton</td>\n",
       "    </tr>\n",
       "    <tr>\n",
       "      <th>freq</th>\n",
       "      <td>NaN</td>\n",
       "      <td>NaN</td>\n",
       "      <td>NaN</td>\n",
       "      <td>1</td>\n",
       "      <td>577</td>\n",
       "      <td>NaN</td>\n",
       "      <td>NaN</td>\n",
       "      <td>644</td>\n",
       "    </tr>\n",
       "    <tr>\n",
       "      <th>mean</th>\n",
       "      <td>446.000000</td>\n",
       "      <td>0.383838</td>\n",
       "      <td>2.308642</td>\n",
       "      <td>NaN</td>\n",
       "      <td>NaN</td>\n",
       "      <td>29.699118</td>\n",
       "      <td>32.204208</td>\n",
       "      <td>NaN</td>\n",
       "    </tr>\n",
       "    <tr>\n",
       "      <th>std</th>\n",
       "      <td>257.353842</td>\n",
       "      <td>0.486592</td>\n",
       "      <td>0.836071</td>\n",
       "      <td>NaN</td>\n",
       "      <td>NaN</td>\n",
       "      <td>14.526497</td>\n",
       "      <td>49.693429</td>\n",
       "      <td>NaN</td>\n",
       "    </tr>\n",
       "    <tr>\n",
       "      <th>min</th>\n",
       "      <td>1.000000</td>\n",
       "      <td>0.000000</td>\n",
       "      <td>1.000000</td>\n",
       "      <td>NaN</td>\n",
       "      <td>NaN</td>\n",
       "      <td>0.420000</td>\n",
       "      <td>0.000000</td>\n",
       "      <td>NaN</td>\n",
       "    </tr>\n",
       "    <tr>\n",
       "      <th>25%</th>\n",
       "      <td>223.500000</td>\n",
       "      <td>0.000000</td>\n",
       "      <td>2.000000</td>\n",
       "      <td>NaN</td>\n",
       "      <td>NaN</td>\n",
       "      <td>20.125000</td>\n",
       "      <td>7.910400</td>\n",
       "      <td>NaN</td>\n",
       "    </tr>\n",
       "    <tr>\n",
       "      <th>50%</th>\n",
       "      <td>446.000000</td>\n",
       "      <td>0.000000</td>\n",
       "      <td>3.000000</td>\n",
       "      <td>NaN</td>\n",
       "      <td>NaN</td>\n",
       "      <td>28.000000</td>\n",
       "      <td>14.454200</td>\n",
       "      <td>NaN</td>\n",
       "    </tr>\n",
       "    <tr>\n",
       "      <th>75%</th>\n",
       "      <td>668.500000</td>\n",
       "      <td>1.000000</td>\n",
       "      <td>3.000000</td>\n",
       "      <td>NaN</td>\n",
       "      <td>NaN</td>\n",
       "      <td>38.000000</td>\n",
       "      <td>31.000000</td>\n",
       "      <td>NaN</td>\n",
       "    </tr>\n",
       "    <tr>\n",
       "      <th>max</th>\n",
       "      <td>891.000000</td>\n",
       "      <td>1.000000</td>\n",
       "      <td>3.000000</td>\n",
       "      <td>NaN</td>\n",
       "      <td>NaN</td>\n",
       "      <td>80.000000</td>\n",
       "      <td>512.329200</td>\n",
       "      <td>NaN</td>\n",
       "    </tr>\n",
       "  </tbody>\n",
       "</table>\n",
       "</div>"
      ],
      "text/plain": [
       "        PassengerId    Survived      Pclass                        Name   Sex  \\\n",
       "count    891.000000  891.000000  891.000000                         891   891   \n",
       "unique          NaN         NaN         NaN                         891     2   \n",
       "top             NaN         NaN         NaN  Johanson, Mr. Jakob Alfred  male   \n",
       "freq            NaN         NaN         NaN                           1   577   \n",
       "mean     446.000000    0.383838    2.308642                         NaN   NaN   \n",
       "std      257.353842    0.486592    0.836071                         NaN   NaN   \n",
       "min        1.000000    0.000000    1.000000                         NaN   NaN   \n",
       "25%      223.500000    0.000000    2.000000                         NaN   NaN   \n",
       "50%      446.000000    0.000000    3.000000                         NaN   NaN   \n",
       "75%      668.500000    1.000000    3.000000                         NaN   NaN   \n",
       "max      891.000000    1.000000    3.000000                         NaN   NaN   \n",
       "\n",
       "               Age        Fare      Embarked  \n",
       "count   714.000000  891.000000           889  \n",
       "unique         NaN         NaN             3  \n",
       "top            NaN         NaN  Southhampton  \n",
       "freq           NaN         NaN           644  \n",
       "mean     29.699118   32.204208           NaN  \n",
       "std      14.526497   49.693429           NaN  \n",
       "min       0.420000    0.000000           NaN  \n",
       "25%      20.125000    7.910400           NaN  \n",
       "50%      28.000000   14.454200           NaN  \n",
       "75%      38.000000   31.000000           NaN  \n",
       "max      80.000000  512.329200           NaN  "
      ]
     },
     "execution_count": 14,
     "metadata": {},
     "output_type": "execute_result"
    }
   ],
   "source": [
    "# 문자형 데이터까지 count\n",
    "titanic.describe(include = 'all')"
   ]
  },
  {
   "cell_type": "markdown",
   "id": "643b2ff5",
   "metadata": {},
   "source": [
    "## 2. 시각화"
   ]
  },
  {
   "cell_type": "markdown",
   "id": "8b32709f",
   "metadata": {},
   "source": [
    "### (1) 히스토그램"
   ]
  },
  {
   "cell_type": "markdown",
   "id": "c8568338",
   "metadata": {},
   "source": [
    "#### 1) 히스토그램 기본"
   ]
  },
  {
   "cell_type": "code",
   "execution_count": 15,
   "id": "7fd01a38",
   "metadata": {},
   "outputs": [
    {
     "data": {
      "image/png": "[encoded data removed]",
      "text/plain": [
       "<Figure size 432x288 with 1 Axes>"
      ]
     },
     "metadata": {
      "needs_background": "light"
     },
     "output_type": "display_data"
    }
   ],
   "source": [
    "plt.hist(titanic['Fare'], bins = 5, edgecolor = 'gray')\n",
    "plt.xlabel('Fare')\n",
    "plt.ylabel('Frequency')\n",
    "plt.show()"
   ]
  },
  {
   "cell_type": "markdown",
   "id": "04bc137e",
   "metadata": {},
   "source": [
    "#### 2) 구간의 개수 조정"
   ]
  },
  {
   "cell_type": "code",
   "execution_count": 16,
   "id": "7812ff5e",
   "metadata": {},
   "outputs": [
    {
     "data": {
      "image/png": "[encoded data removed]",
      "text/plain": [
       "<Figure size 432x288 with 1 Axes>"
      ]
     },
     "metadata": {
      "needs_background": "light"
     },
     "output_type": "display_data"
    }
   ],
   "source": [
    "plt.hist(titanic['Fare'], bins = 30, edgecolor = 'gray')\n",
    "plt.xlabel('Fare')\n",
    "plt.ylabel('Frequency')\n",
    "plt.show()"
   ]
  },
  {
   "cell_type": "markdown",
   "id": "4aa51dbb",
   "metadata": {},
   "source": [
    "#### 3) 구간 값과 개수를 확인\n",
    "\n",
    "- 결과를 저장하면, 구간과 빈도수를 확인.\n",
    "    - 히스토그램을 저장하면 튜플.\n",
    "    - 튜플 안에는 numpy array가 2개로 구성.\n",
    "        - 첫번째 numpy array는 빈도수.\n",
    "        - 두번째 numpy array는 구간 값."
   ]
  },
  {
   "cell_type": "code",
   "execution_count": 17,
   "id": "c74dbd2c",
   "metadata": {},
   "outputs": [
    {
     "data": {
      "image/png": "[encoded data removed]",
      "text/plain": [
       "<Figure size 432x288 with 1 Axes>"
      ]
     },
     "metadata": {
      "needs_background": "light"
     },
     "output_type": "display_data"
    },
    {
     "name": "stdout",
     "output_type": "stream",
     "text": [
      "(array([838.,  33.,  17.,   0.,   3.]), array([  0.     , 102.46584, 204.93168, 307.39752, 409.86336, 512.3292 ]), <BarContainer object of 5 artists>)\n",
      "<class 'tuple'>\n",
      "--------------------------------------------------\n",
      "빈도수 :  [838.  33.  17.   0.   3.]\n",
      "구간값 :  [  0.      102.46584 204.93168 307.39752 409.86336 512.3292 ]\n"
     ]
    }
   ],
   "source": [
    "hist1 = plt.hist(titanic['Fare'], bins = 5, edgecolor = 'gray')\n",
    "plt.show()\n",
    "\n",
    "print(hist1)\n",
    "print(type(hist1))\n",
    "print('-' * 50)\n",
    "print('빈도수 : ', hist1[0])\n",
    "print('구간값 : ', hist1[1])"
   ]
  },
  {
   "cell_type": "markdown",
   "id": "45298eb9",
   "metadata": {},
   "source": [
    "### (2) 밀도함수 그래프\n",
    "\n",
    "- 히스토그램의 단점\n",
    "    - 구간 bin에 따라 전혀 다른 모양이 될 수 있음.\n",
    "    \n",
    "- 밀도함수 그래프\n",
    "    - 막대의 너비를 가정하지 않고 모든 점에서 데이터의 밀도를 추정하는 커널 밀도 추정 (Kernel Density Estimation) 방식을 사용하여 단점 해결.\n",
    "    - 밀도함수 그래프 아래 면적은 1"
   ]
  },
  {
   "cell_type": "markdown",
   "id": "aeb2c5c0",
   "metadata": {},
   "source": [
    "#### 1) 밀도함수 그래프 그리기"
   ]
  },
  {
   "cell_type": "code",
   "execution_count": 18,
   "id": "8b30483e",
   "metadata": {},
   "outputs": [
    {
     "data": {
      "image/png": "[encoded data removed]",
      "text/plain": [
       "<Figure size 432x288 with 1 Axes>"
      ]
     },
     "metadata": {
      "needs_background": "light"
     },
     "output_type": "display_data"
    }
   ],
   "source": [
    "sns.kdeplot(titanic['Fare'])\n",
    "plt.show()"
   ]
  },
  {
   "cell_type": "code",
   "execution_count": 19,
   "id": "de88d376",
   "metadata": {},
   "outputs": [
    {
     "data": {
      "image/png": "[encoded data removed]",
      "text/plain": [
       "<Figure size 432x288 with 1 Axes>"
      ]
     },
     "metadata": {
      "needs_background": "light"
     },
     "output_type": "display_data"
    }
   ],
   "source": [
    "sns.distplot(titanic['Age'], hist = True, bins = 16)\n",
    "plt.show()"
   ]
  },
  {
   "cell_type": "markdown",
   "id": "db4a1f77",
   "metadata": {},
   "source": [
    "### (3) boxplot\n",
    "\n",
    "#### 주의사항 : 값에 nan이 있으면 그래프가 그려지지 않습니다.\n",
    "    - notnull로 먼저 작업"
   ]
  },
  {
   "cell_type": "markdown",
   "id": "5915c632",
   "metadata": {},
   "source": [
    "#### 1) boxplot 기본"
   ]
  },
  {
   "cell_type": "code",
   "execution_count": 20,
   "id": "7ccbd47b",
   "metadata": {},
   "outputs": [
    {
     "data": {
      "image/png": "[encoded data removed]",
      "text/plain": [
       "<Figure size 432x288 with 1 Axes>"
      ]
     },
     "metadata": {
      "needs_background": "light"
     },
     "output_type": "display_data"
    }
   ],
   "source": [
    "age = [19,20,23,46,21,25,26,25,28,31,37,24,28,34,38,33,32,29,27,24]\n",
    "plt.boxplot(age)\n",
    "plt.show()"
   ]
  },
  {
   "cell_type": "markdown",
   "id": "24288ae0",
   "metadata": {},
   "source": [
    "#### 2) 옆으로 그리기\n",
    "\n",
    "- 사분위수 += 1.5 * IQR의 가장 근접한 실제 값을 Fence로 표기."
   ]
  },
  {
   "cell_type": "code",
   "execution_count": 21,
   "id": "be88d0c8",
   "metadata": {},
   "outputs": [
    {
     "data": {
      "image/png": "[encoded data removed]",
      "text/plain": [
       "<Figure size 432x288 with 1 Axes>"
      ]
     },
     "metadata": {
      "needs_background": "light"
     },
     "output_type": "display_data"
    }
   ],
   "source": [
    "age = [19,20,23,46,21,25,26,25,28,31,37,24,28,34,38,33,32,29,27,24]\n",
    "plt.boxplot(age, vert = False)\n",
    "plt.show()"
   ]
  },
  {
   "cell_type": "markdown",
   "id": "4ad4cfd8",
   "metadata": {},
   "source": [
    "#### 3) 박스플롯의 값들 가져오기"
   ]
  },
  {
   "cell_type": "code",
   "execution_count": 22,
   "id": "848421f5",
   "metadata": {},
   "outputs": [
    {
     "data": {
      "image/png": "[encoded data removed]",
      "text/plain": [
       "<Figure size 432x288 with 1 Axes>"
      ]
     },
     "metadata": {
      "needs_background": "light"
     },
     "output_type": "display_data"
    },
    {
     "name": "stdout",
     "output_type": "stream",
     "text": [
      "<class 'dict'>\n",
      "dict_keys(['whiskers', 'caps', 'boxes', 'medians', 'fliers', 'means'])\n",
      "--------------------------------------------------\n",
      "[<matplotlib.lines.Line2D object at 0x0000016994D8BE50>, <matplotlib.lines.Line2D object at 0x0000016994D981F0>]\n",
      "[24. 19.]\n",
      "[32.25 38.  ]\n"
     ]
    }
   ],
   "source": [
    "age = [19,20,23,46,21,25,26,25,28,31,37,24,28,34,38,33,32,29,27,24]\n",
    "box1 = plt.boxplot(age)\n",
    "plt.show()\n",
    "\n",
    "print(type(box1))\n",
    "print(box1.keys())\n",
    "print('-' * 50)\n",
    "print(box1['whiskers'])\n",
    "print(box1['whiskers'][0].get_ydata()) # 아래쪽 수염의 max, min\n",
    "print(box1['whiskers'][1].get_ydata()) # 위쪽 수염의 min, max"
   ]
  },
  {
   "cell_type": "code",
   "execution_count": 23,
   "id": "98d9765b",
   "metadata": {},
   "outputs": [
    {
     "data": {
      "image/png": "[encoded data removed]",
      "text/plain": [
       "<Figure size 432x288 with 1 Axes>"
      ]
     },
     "metadata": {
      "needs_background": "light"
     },
     "output_type": "display_data"
    }
   ],
   "source": [
    "# notnull 이후 boxplot 그리기\n",
    "temp = titanic.loc[titanic['Age'].notnull(), 'Age']\n",
    "plt.boxplot(temp, vert = False)\n",
    "plt.show()"
   ]
  },
  {
   "cell_type": "markdown",
   "id": "75efce15",
   "metadata": {},
   "source": [
    "### (4) 시계열 데이터 시각화\n",
    "\n",
    "- 보통 시간축 (x축) 에 맞게 값들을 라인차트로 표현."
   ]
  },
  {
   "cell_type": "code",
   "execution_count": 24,
   "id": "c2d18825",
   "metadata": {},
   "outputs": [
    {
     "data": {
      "image/png": "[encoded data removed]",
      "text/plain": [
       "<Figure size 432x288 with 1 Axes>"
      ]
     },
     "metadata": {
      "needs_background": "light"
     },
     "output_type": "display_data"
    }
   ],
   "source": [
    "air['Date'] = pd.to_datetime(air['Date']) # 날짜 형식으로 변환\n",
    "\n",
    "plt.plot('Date', 'Ozone', 'g-', data = air, label = 'Ozone')\n",
    "plt.plot('Date', 'Temp', 'r-', data = air, label = 'Temp')\n",
    "\n",
    "plt.xlabel('Date')\n",
    "plt.legend()\n",
    "plt.show()"
   ]
  },
  {
   "cell_type": "code",
   "execution_count": null,
   "id": "a1b5c3c2",
   "metadata": {},
   "outputs": [],
   "source": []
  },
  {
   "cell_type": "code",
   "execution_count": null,
   "id": "94011fbd",
   "metadata": {},
   "outputs": [],
   "source": []
  },
  {
   "cell_type": "code",
   "execution_count": null,
   "id": "afe6f27f",
   "metadata": {},
   "outputs": [],
   "source": []
  }
 ],
 "metadata": {
  "kernelspec": {
   "display_name": "Python 3",
   "language": "python",
   "name": "python3"
  },
  "language_info": {
   "codemirror_mode": {
    "name": "ipython",
    "version": 3
   },
   "file_extension": ".py",
   "mimetype": "text/x-python",
   "name": "python",
   "nbconvert_exporter": "python",
   "pygments_lexer": "ipython3",
   "version": "3.8.8"
  }
 },
 "nbformat": 4,
 "nbformat_minor": 5
}

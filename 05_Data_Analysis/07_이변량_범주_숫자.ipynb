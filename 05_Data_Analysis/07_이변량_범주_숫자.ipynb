{
 "cells": [
  {
   "cell_type": "code",
   "execution_count": 1,
   "id": "5fde127f",
   "metadata": {},
   "outputs": [],
   "source": [
    "import pandas as pd\n",
    "import numpy as np\n",
    "import random as rd\n",
    "\n",
    "import matplotlib.pyplot as plt\n",
    "import seaborn as sns\n",
    "\n",
    "import scipy.stats as spst"
   ]
  },
  {
   "cell_type": "code",
   "execution_count": 2,
   "id": "dd0b6099",
   "metadata": {},
   "outputs": [
    {
     "data": {
      "text/html": [
       "<div>\n",
       "<style scoped>\n",
       "    .dataframe tbody tr th:only-of-type {\n",
       "        vertical-align: middle;\n",
       "    }\n",
       "\n",
       "    .dataframe tbody tr th {\n",
       "        vertical-align: top;\n",
       "    }\n",
       "\n",
       "    .dataframe thead th {\n",
       "        text-align: right;\n",
       "    }\n",
       "</style>\n",
       "<table border=\"1\" class=\"dataframe\">\n",
       "  <thead>\n",
       "    <tr style=\"text-align: right;\">\n",
       "      <th></th>\n",
       "      <th>PassengerId</th>\n",
       "      <th>Survived</th>\n",
       "      <th>Pclass</th>\n",
       "      <th>Name</th>\n",
       "      <th>Sex</th>\n",
       "      <th>Age</th>\n",
       "      <th>SibSp</th>\n",
       "      <th>Parch</th>\n",
       "      <th>Ticket</th>\n",
       "      <th>Fare</th>\n",
       "      <th>Cabin</th>\n",
       "      <th>Embarked</th>\n",
       "    </tr>\n",
       "  </thead>\n",
       "  <tbody>\n",
       "    <tr>\n",
       "      <th>0</th>\n",
       "      <td>1</td>\n",
       "      <td>0</td>\n",
       "      <td>3</td>\n",
       "      <td>Braund, Mr. Owen Harris</td>\n",
       "      <td>male</td>\n",
       "      <td>22.0</td>\n",
       "      <td>1</td>\n",
       "      <td>0</td>\n",
       "      <td>A/5 21171</td>\n",
       "      <td>7.2500</td>\n",
       "      <td>NaN</td>\n",
       "      <td>S</td>\n",
       "    </tr>\n",
       "    <tr>\n",
       "      <th>1</th>\n",
       "      <td>2</td>\n",
       "      <td>1</td>\n",
       "      <td>1</td>\n",
       "      <td>Cumings, Mrs. John Bradley (Florence Briggs Th...</td>\n",
       "      <td>female</td>\n",
       "      <td>38.0</td>\n",
       "      <td>1</td>\n",
       "      <td>0</td>\n",
       "      <td>PC 17599</td>\n",
       "      <td>71.2833</td>\n",
       "      <td>C85</td>\n",
       "      <td>C</td>\n",
       "    </tr>\n",
       "    <tr>\n",
       "      <th>2</th>\n",
       "      <td>3</td>\n",
       "      <td>1</td>\n",
       "      <td>3</td>\n",
       "      <td>Heikkinen, Miss. Laina</td>\n",
       "      <td>female</td>\n",
       "      <td>26.0</td>\n",
       "      <td>0</td>\n",
       "      <td>0</td>\n",
       "      <td>STON/O2. 3101282</td>\n",
       "      <td>7.9250</td>\n",
       "      <td>NaN</td>\n",
       "      <td>S</td>\n",
       "    </tr>\n",
       "    <tr>\n",
       "      <th>3</th>\n",
       "      <td>4</td>\n",
       "      <td>1</td>\n",
       "      <td>1</td>\n",
       "      <td>Futrelle, Mrs. Jacques Heath (Lily May Peel)</td>\n",
       "      <td>female</td>\n",
       "      <td>35.0</td>\n",
       "      <td>1</td>\n",
       "      <td>0</td>\n",
       "      <td>113803</td>\n",
       "      <td>53.1000</td>\n",
       "      <td>C123</td>\n",
       "      <td>S</td>\n",
       "    </tr>\n",
       "    <tr>\n",
       "      <th>4</th>\n",
       "      <td>5</td>\n",
       "      <td>0</td>\n",
       "      <td>3</td>\n",
       "      <td>Allen, Mr. William Henry</td>\n",
       "      <td>male</td>\n",
       "      <td>35.0</td>\n",
       "      <td>0</td>\n",
       "      <td>0</td>\n",
       "      <td>373450</td>\n",
       "      <td>8.0500</td>\n",
       "      <td>NaN</td>\n",
       "      <td>S</td>\n",
       "    </tr>\n",
       "  </tbody>\n",
       "</table>\n",
       "</div>"
      ],
      "text/plain": [
       "   PassengerId  Survived  Pclass  \\\n",
       "0            1         0       3   \n",
       "1            2         1       1   \n",
       "2            3         1       3   \n",
       "3            4         1       1   \n",
       "4            5         0       3   \n",
       "\n",
       "                                                Name     Sex   Age  SibSp  \\\n",
       "0                            Braund, Mr. Owen Harris    male  22.0      1   \n",
       "1  Cumings, Mrs. John Bradley (Florence Briggs Th...  female  38.0      1   \n",
       "2                             Heikkinen, Miss. Laina  female  26.0      0   \n",
       "3       Futrelle, Mrs. Jacques Heath (Lily May Peel)  female  35.0      1   \n",
       "4                           Allen, Mr. William Henry    male  35.0      0   \n",
       "\n",
       "   Parch            Ticket     Fare Cabin Embarked  \n",
       "0      0         A/5 21171   7.2500   NaN        S  \n",
       "1      0          PC 17599  71.2833   C85        C  \n",
       "2      0  STON/O2. 3101282   7.9250   NaN        S  \n",
       "3      0            113803  53.1000  C123        S  \n",
       "4      0            373450   8.0500   NaN        S  "
      ]
     },
     "execution_count": 2,
     "metadata": {},
     "output_type": "execute_result"
    }
   ],
   "source": [
    "# 타이타닉 데이터\n",
    "titanic = pd.read_csv('https://raw.githubusercontent.com/DA4BAM/dataset/master/titanic.0.csv')\n",
    "titanic.head()"
   ]
  },
  {
   "cell_type": "markdown",
   "id": "858358f3",
   "metadata": {},
   "source": [
    "## 1. 시각화"
   ]
  },
  {
   "cell_type": "markdown",
   "id": "7474863f",
   "metadata": {},
   "source": [
    "### 1) 평균 비교 barplot\n",
    "\n",
    "- 두 범주간 평균에 차이가 있는지?"
   ]
  },
  {
   "cell_type": "code",
   "execution_count": 3,
   "id": "75bebabe",
   "metadata": {},
   "outputs": [
    {
     "data": {
      "image/png": "[encoded data removed]",
      "text/plain": [
       "<Figure size 432x288 with 1 Axes>"
      ]
     },
     "metadata": {
      "needs_background": "light"
     },
     "output_type": "display_data"
    }
   ],
   "source": [
    "sns.barplot(x=\"Survived\", y=\"Age\", data=titanic)\n",
    "plt.grid()\n",
    "plt.show()"
   ]
  },
  {
   "cell_type": "markdown",
   "id": "350c6805",
   "metadata": {},
   "source": [
    "### 2) boxplot"
   ]
  },
  {
   "cell_type": "code",
   "execution_count": 4,
   "id": "f309ac2b",
   "metadata": {},
   "outputs": [
    {
     "data": {
      "image/png": "[encoded data removed]",
      "text/plain": [
       "<Figure size 432x288 with 1 Axes>"
      ]
     },
     "metadata": {
      "needs_background": "light"
     },
     "output_type": "display_data"
    }
   ],
   "source": [
    "titanic.boxplot('Age', 'Survived')\n",
    "plt.show()"
   ]
  },
  {
   "cell_type": "markdown",
   "id": "49265214",
   "metadata": {},
   "source": [
    "## 2. 수치화"
   ]
  },
  {
   "cell_type": "markdown",
   "id": "920a45d6",
   "metadata": {},
   "source": [
    "### 1) t-test (두 범주)\n",
    "\n",
    "두 집단의 평균을 비교\n",
    "\n",
    "- X -> Y의 관계에서 두 변수간 차이가 있는지, 없는지를 확인.\n",
    "- NaN이 있으면 계산이 안됨. .notnull() 등으로 NaN을 제외한 데이터를 사용.\n",
    "- t통계량\n",
    "    - 두 평균의 차이를 표준오차로 나눈 값.\n",
    "    - 두 평균의 차이로 이해.\n",
    "    - 보통 t값이 -2보다 작거나, 2보다 크면 차이가 있다고 함."
   ]
  },
  {
   "cell_type": "code",
   "execution_count": 5,
   "id": "ede3bcf8",
   "metadata": {},
   "outputs": [],
   "source": [
    "# 모집단 만들기\n",
    "pop1 = [round(rd.normalvariate(160, 10),1) for i in range(100000)]\n",
    "pop2 = [round(rd.normalvariate(170, 10),1) for i in range(100000)]"
   ]
  },
  {
   "cell_type": "code",
   "execution_count": 6,
   "id": "8d2f9586",
   "metadata": {},
   "outputs": [
    {
     "name": "stderr",
     "output_type": "stream",
     "text": [
      "C:\\Users\\User\\anaconda3\\lib\\site-packages\\seaborn\\distributions.py:2619: FutureWarning: `distplot` is a deprecated function and will be removed in a future version. Please adapt your code to use either `displot` (a figure-level function with similar flexibility) or `kdeplot` (an axes-level function for kernel density plots).\n",
      "  warnings.warn(msg, FutureWarning)\n",
      "C:\\Users\\User\\anaconda3\\lib\\site-packages\\seaborn\\distributions.py:2619: FutureWarning: `distplot` is a deprecated function and will be removed in a future version. Please adapt your code to use either `displot` (a figure-level function with similar flexibility) or `kdeplot` (an axes-level function for kernel density plots).\n",
      "  warnings.warn(msg, FutureWarning)\n"
     ]
    },
    {
     "data": {
      "image/png": "[encoded data removed]",
      "text/plain": [
       "<Figure size 720x432 with 1 Axes>"
      ]
     },
     "metadata": {
      "needs_background": "light"
     },
     "output_type": "display_data"
    }
   ],
   "source": [
    "# 원래는 알 수 없는 모집단을 살짝 보기\n",
    "plt.figure(figsize=(10,6))\n",
    "sns.distplot(pop1, hist=False, kde=True)\n",
    "sns.distplot(pop2, hist=False, kde=True)\n",
    "plt.show()"
   ]
  },
  {
   "cell_type": "code",
   "execution_count": 7,
   "id": "49c6d099",
   "metadata": {},
   "outputs": [],
   "source": [
    "# 표본을 추출합니다. 먼저 pop1으로 부터 두 샘플을 추출.\n",
    "s1 = rd.sample(pop1,100)\n",
    "s2 = rd.sample(pop1,100)"
   ]
  },
  {
   "cell_type": "code",
   "execution_count": 8,
   "id": "8d0a2a96",
   "metadata": {},
   "outputs": [
    {
     "data": {
      "text/plain": [
       "Ttest_indResult(statistic=-0.5735297631222372, pvalue=0.566936904154479)"
      ]
     },
     "execution_count": 8,
     "metadata": {},
     "output_type": "execute_result"
    }
   ],
   "source": [
    "# t-test\n",
    "spst.ttest_ind(s1, s2)"
   ]
  },
  {
   "cell_type": "markdown",
   "id": "ca826898",
   "metadata": {},
   "source": [
    "- 이번에는 두 모집단으로부터 각각 샘플링"
   ]
  },
  {
   "cell_type": "code",
   "execution_count": 9,
   "id": "48161165",
   "metadata": {},
   "outputs": [],
   "source": [
    "# 이번에는 두 모집단으로 부터 각각 샘플링\n",
    "s1 = rd.sample(pop1,100)\n",
    "s2 = rd.sample(pop2,100)"
   ]
  },
  {
   "cell_type": "code",
   "execution_count": 10,
   "id": "1aa84fb6",
   "metadata": {},
   "outputs": [
    {
     "data": {
      "text/plain": [
       "Ttest_indResult(statistic=-6.4149455087701535, pvalue=1.0151375124834433e-09)"
      ]
     },
     "execution_count": 10,
     "metadata": {},
     "output_type": "execute_result"
    }
   ],
   "source": [
    "# t-test\n",
    "spst.ttest_ind(s1, s2)"
   ]
  },
  {
   "cell_type": "markdown",
   "id": "3c38dc4d",
   "metadata": {},
   "source": [
    "- 타이타닉 데이터로 시도\n",
    "    - 생존여부 --> Age: 생존여부 별로 나이에 차이가 있을 것이다."
   ]
  },
  {
   "cell_type": "code",
   "execution_count": 11,
   "id": "3929b8f5",
   "metadata": {},
   "outputs": [
    {
     "data": {
      "text/plain": [
       "PassengerId      0\n",
       "Survived         0\n",
       "Pclass           0\n",
       "Name             0\n",
       "Sex              0\n",
       "Age            177\n",
       "SibSp            0\n",
       "Parch            0\n",
       "Ticket           0\n",
       "Fare             0\n",
       "Cabin          687\n",
       "Embarked         2\n",
       "dtype: int64"
      ]
     },
     "execution_count": 11,
     "metadata": {},
     "output_type": "execute_result"
    }
   ],
   "source": [
    "# 먼저 NaN이 있는지 확인.\n",
    "titanic.isna().sum()"
   ]
  },
  {
   "cell_type": "code",
   "execution_count": 12,
   "id": "2d6b2cfc",
   "metadata": {},
   "outputs": [],
   "source": [
    "temp = titanic.loc[titanic['Age'].notnull()] # null값 제거.\n",
    "died = temp.loc[temp['Survived']==0, 'Age']\n",
    "survived = temp.loc[temp['Survived']==1, 'Age']"
   ]
  },
  {
   "cell_type": "code",
   "execution_count": 13,
   "id": "15f2564c",
   "metadata": {},
   "outputs": [
    {
     "data": {
      "text/plain": [
       "Ttest_indResult(statistic=2.06668694625381, pvalue=0.03912465401348249)"
      ]
     },
     "execution_count": 13,
     "metadata": {},
     "output_type": "execute_result"
    }
   ],
   "source": [
    "spst.ttest_ind(died, survived)"
   ]
  },
  {
   "cell_type": "markdown",
   "id": "4e2f0130",
   "metadata": {},
   "source": [
    "### 2) ANOVA (세 범주 이상)\n",
    "\n",
    "- 분산 분석 (Analysis Of VAriance)\n",
    "- 여러 집단 간 차이의 비교.\n",
    "    - 기준은 전체 평균.\n",
    "- F 통계량 =\n",
    "    - (집단 간 분산) / (집단 내 분산) = (전체 평균 - 각 집단 평균) / (각 집단의 평균 - 개별 값)\n",
    "    - 값이 대략 2 ~ 3 이상이면 차이가 있다고 판단."
   ]
  },
  {
   "cell_type": "code",
   "execution_count": 14,
   "id": "5cb971c7",
   "metadata": {},
   "outputs": [
    {
     "data": {
      "image/png": "[encoded data removed]",
      "text/plain": [
       "<Figure size 432x288 with 1 Axes>"
      ]
     },
     "metadata": {
      "needs_background": "light"
     },
     "output_type": "display_data"
    }
   ],
   "source": [
    "sns.barplot(x=\"Pclass\", y=\"Age\", data=titanic)\n",
    "plt.grid()\n",
    "plt.show()"
   ]
  },
  {
   "cell_type": "markdown",
   "id": "769e84df",
   "metadata": {},
   "source": [
    "- 신뢰구간도 겹치지 않고, 평균 간 차이도 있음 --> 차이가 있어보임."
   ]
  },
  {
   "cell_type": "code",
   "execution_count": 15,
   "id": "1d4ff13b",
   "metadata": {},
   "outputs": [
    {
     "data": {
      "image/png": "[encoded data removed]",
      "text/plain": [
       "<Figure size 432x288 with 1 Axes>"
      ]
     },
     "metadata": {
      "needs_background": "light"
     },
     "output_type": "display_data"
    }
   ],
   "source": [
    "titanic.boxplot('Age', 'Pclass')\n",
    "plt.show()"
   ]
  },
  {
   "cell_type": "code",
   "execution_count": 16,
   "id": "0081d4c7",
   "metadata": {},
   "outputs": [],
   "source": [
    "P_1 = titanic.loc[titanic.Pclass == 1, 'Age']\n",
    "P_2 = titanic.loc[titanic.Pclass == 2, 'Age']\n",
    "P_3 = titanic.loc[titanic.Pclass == 3, 'Age']"
   ]
  },
  {
   "cell_type": "code",
   "execution_count": 17,
   "id": "4d762ab5",
   "metadata": {},
   "outputs": [
    {
     "data": {
      "text/plain": [
       "F_onewayResult(statistic=nan, pvalue=nan)"
      ]
     },
     "execution_count": 17,
     "metadata": {},
     "output_type": "execute_result"
    }
   ],
   "source": [
    "# null값이 존재\n",
    "spst.f_oneway(P_1, P_2, P_3)"
   ]
  },
  {
   "cell_type": "code",
   "execution_count": 18,
   "id": "05a6ba39",
   "metadata": {},
   "outputs": [
    {
     "data": {
      "text/plain": [
       "PassengerId      0\n",
       "Survived         0\n",
       "Pclass           0\n",
       "Name             0\n",
       "Sex              0\n",
       "Age              0\n",
       "SibSp            0\n",
       "Parch            0\n",
       "Ticket           0\n",
       "Fare             0\n",
       "Cabin          529\n",
       "Embarked         2\n",
       "dtype: int64"
      ]
     },
     "execution_count": 18,
     "metadata": {},
     "output_type": "execute_result"
    }
   ],
   "source": [
    "temp.isna().sum() # null값이 없는 temp로 작업."
   ]
  },
  {
   "cell_type": "code",
   "execution_count": 19,
   "id": "7ebd9007",
   "metadata": {},
   "outputs": [],
   "source": [
    "P_1 = temp.loc[temp.Pclass == 1, 'Age']\n",
    "P_2 = temp.loc[temp.Pclass == 2, 'Age']\n",
    "P_3 = temp.loc[temp.Pclass == 3, 'Age']"
   ]
  },
  {
   "cell_type": "code",
   "execution_count": 20,
   "id": "bbea19fa",
   "metadata": {},
   "outputs": [
    {
     "data": {
      "text/plain": [
       "F_onewayResult(statistic=57.443484340676214, pvalue=7.487984171959904e-24)"
      ]
     },
     "execution_count": 20,
     "metadata": {},
     "output_type": "execute_result"
    }
   ],
   "source": [
    "spst.f_oneway(P_1, P_2, P_3)"
   ]
  },
  {
   "cell_type": "markdown",
   "id": "70d1388c",
   "metadata": {},
   "source": [
    "- 매우 관련이 있음."
   ]
  },
  {
   "cell_type": "code",
   "execution_count": null,
   "id": "8fff511b",
   "metadata": {},
   "outputs": [],
   "source": []
  }
 ],
 "metadata": {
  "kernelspec": {
   "display_name": "Python 3",
   "language": "python",
   "name": "python3"
  },
  "language_info": {
   "codemirror_mode": {
    "name": "ipython",
    "version": 3
   },
   "file_extension": ".py",
   "mimetype": "text/x-python",
   "name": "python",
   "nbconvert_exporter": "python",
   "pygments_lexer": "ipython3",
   "version": "3.8.8"
  }
 },
 "nbformat": 4,
 "nbformat_minor": 5
}

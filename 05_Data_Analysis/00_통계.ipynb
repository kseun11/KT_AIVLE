{
 "cells": [
  {
   "cell_type": "code",
   "execution_count": 1,
   "id": "81f3ad51",
   "metadata": {},
   "outputs": [],
   "source": [
    "import pandas as pd\n",
    "import numpy as np\n",
    "import random as rd\n",
    "\n",
    "import matplotlib.pyplot as plt\n",
    "import seaborn as sns\n",
    "\n",
    "import scipy.stats as spst"
   ]
  },
  {
   "cell_type": "code",
   "execution_count": 2,
   "id": "1c74e17a",
   "metadata": {},
   "outputs": [
    {
     "data": {
      "text/html": [
       "<div>\n",
       "<style scoped>\n",
       "    .dataframe tbody tr th:only-of-type {\n",
       "        vertical-align: middle;\n",
       "    }\n",
       "\n",
       "    .dataframe tbody tr th {\n",
       "        vertical-align: top;\n",
       "    }\n",
       "\n",
       "    .dataframe thead th {\n",
       "        text-align: right;\n",
       "    }\n",
       "</style>\n",
       "<table border=\"1\" class=\"dataframe\">\n",
       "  <thead>\n",
       "    <tr style=\"text-align: right;\">\n",
       "      <th></th>\n",
       "      <th>PassengerId</th>\n",
       "      <th>Survived</th>\n",
       "      <th>Pclass</th>\n",
       "      <th>Name</th>\n",
       "      <th>Sex</th>\n",
       "      <th>Age</th>\n",
       "      <th>SibSp</th>\n",
       "      <th>Parch</th>\n",
       "      <th>Ticket</th>\n",
       "      <th>Fare</th>\n",
       "      <th>Cabin</th>\n",
       "      <th>Embarked</th>\n",
       "    </tr>\n",
       "  </thead>\n",
       "  <tbody>\n",
       "    <tr>\n",
       "      <th>0</th>\n",
       "      <td>1</td>\n",
       "      <td>0</td>\n",
       "      <td>3</td>\n",
       "      <td>Braund, Mr. Owen Harris</td>\n",
       "      <td>male</td>\n",
       "      <td>22.0</td>\n",
       "      <td>1</td>\n",
       "      <td>0</td>\n",
       "      <td>A/5 21171</td>\n",
       "      <td>7.2500</td>\n",
       "      <td>NaN</td>\n",
       "      <td>S</td>\n",
       "    </tr>\n",
       "    <tr>\n",
       "      <th>1</th>\n",
       "      <td>2</td>\n",
       "      <td>1</td>\n",
       "      <td>1</td>\n",
       "      <td>Cumings, Mrs. John Bradley (Florence Briggs Th...</td>\n",
       "      <td>female</td>\n",
       "      <td>38.0</td>\n",
       "      <td>1</td>\n",
       "      <td>0</td>\n",
       "      <td>PC 17599</td>\n",
       "      <td>71.2833</td>\n",
       "      <td>C85</td>\n",
       "      <td>C</td>\n",
       "    </tr>\n",
       "    <tr>\n",
       "      <th>2</th>\n",
       "      <td>3</td>\n",
       "      <td>1</td>\n",
       "      <td>3</td>\n",
       "      <td>Heikkinen, Miss. Laina</td>\n",
       "      <td>female</td>\n",
       "      <td>26.0</td>\n",
       "      <td>0</td>\n",
       "      <td>0</td>\n",
       "      <td>STON/O2. 3101282</td>\n",
       "      <td>7.9250</td>\n",
       "      <td>NaN</td>\n",
       "      <td>S</td>\n",
       "    </tr>\n",
       "    <tr>\n",
       "      <th>3</th>\n",
       "      <td>4</td>\n",
       "      <td>1</td>\n",
       "      <td>1</td>\n",
       "      <td>Futrelle, Mrs. Jacques Heath (Lily May Peel)</td>\n",
       "      <td>female</td>\n",
       "      <td>35.0</td>\n",
       "      <td>1</td>\n",
       "      <td>0</td>\n",
       "      <td>113803</td>\n",
       "      <td>53.1000</td>\n",
       "      <td>C123</td>\n",
       "      <td>S</td>\n",
       "    </tr>\n",
       "    <tr>\n",
       "      <th>4</th>\n",
       "      <td>5</td>\n",
       "      <td>0</td>\n",
       "      <td>3</td>\n",
       "      <td>Allen, Mr. William Henry</td>\n",
       "      <td>male</td>\n",
       "      <td>35.0</td>\n",
       "      <td>0</td>\n",
       "      <td>0</td>\n",
       "      <td>373450</td>\n",
       "      <td>8.0500</td>\n",
       "      <td>NaN</td>\n",
       "      <td>S</td>\n",
       "    </tr>\n",
       "  </tbody>\n",
       "</table>\n",
       "</div>"
      ],
      "text/plain": [
       "   PassengerId  Survived  Pclass  \\\n",
       "0            1         0       3   \n",
       "1            2         1       1   \n",
       "2            3         1       3   \n",
       "3            4         1       1   \n",
       "4            5         0       3   \n",
       "\n",
       "                                                Name     Sex   Age  SibSp  \\\n",
       "0                            Braund, Mr. Owen Harris    male  22.0      1   \n",
       "1  Cumings, Mrs. John Bradley (Florence Briggs Th...  female  38.0      1   \n",
       "2                             Heikkinen, Miss. Laina  female  26.0      0   \n",
       "3       Futrelle, Mrs. Jacques Heath (Lily May Peel)  female  35.0      1   \n",
       "4                           Allen, Mr. William Henry    male  35.0      0   \n",
       "\n",
       "   Parch            Ticket     Fare Cabin Embarked  \n",
       "0      0         A/5 21171   7.2500   NaN        S  \n",
       "1      0          PC 17599  71.2833   C85        C  \n",
       "2      0  STON/O2. 3101282   7.9250   NaN        S  \n",
       "3      0            113803  53.1000  C123        S  \n",
       "4      0            373450   8.0500   NaN        S  "
      ]
     },
     "execution_count": 2,
     "metadata": {},
     "output_type": "execute_result"
    }
   ],
   "source": [
    "# 타이타닉 데이터\n",
    "titanic = pd.read_csv('https://raw.githubusercontent.com/DA4BAM/dataset/master/titanic.0.csv')\n",
    "titanic.head()"
   ]
  },
  {
   "cell_type": "markdown",
   "id": "28507ba2",
   "metadata": {},
   "source": [
    "## 1. 평균비교"
   ]
  },
  {
   "cell_type": "markdown",
   "id": "81bc8cc0",
   "metadata": {},
   "source": [
    "#### 평균\n",
    "\n",
    "- 범주 -> 숫자의 관계를 살펴볼 때 중요한 관점) '평균비교'\n",
    "- 두 가지를 고려해야 함.\n",
    "    - 1. 평균값이 그 집단을 대표할 수 있는가?\n",
    "    - 2. 평균값이 믿을만 한가?"
   ]
  },
  {
   "cell_type": "markdown",
   "id": "d2a5046f",
   "metadata": {},
   "source": [
    "### 1) 평균값이 그 집단을 대표할 수 있는가?"
   ]
  },
  {
   "cell_type": "code",
   "execution_count": 3,
   "id": "e9d009a9",
   "metadata": {},
   "outputs": [],
   "source": [
    "s0 = titanic.loc[titanic['Survived']==0, 'Age']\n",
    "s1 = titanic.loc[titanic['Survived']==1, 'Age']"
   ]
  },
  {
   "cell_type": "code",
   "execution_count": 4,
   "id": "a71611e6",
   "metadata": {},
   "outputs": [
    {
     "data": {
      "image/png": "[encoded data removed]",
      "text/plain": [
       "<Figure size 432x288 with 1 Axes>"
      ]
     },
     "metadata": {
      "needs_background": "light"
     },
     "output_type": "display_data"
    }
   ],
   "source": [
    "# 사망자의 나이 분포\n",
    "sns.histplot(s0, bins = 16)\n",
    "plt.axvline(s0.mean(), color = 'r')\n",
    "plt.show()"
   ]
  },
  {
   "cell_type": "code",
   "execution_count": 5,
   "id": "605fc07c",
   "metadata": {},
   "outputs": [
    {
     "data": {
      "image/png": "[encoded data removed]",
      "text/plain": [
       "<Figure size 432x288 with 1 Axes>"
      ]
     },
     "metadata": {
      "needs_background": "light"
     },
     "output_type": "display_data"
    }
   ],
   "source": [
    "# 생존자의 나이 분포\n",
    "sns.histplot(s1, bins = 16)\n",
    "plt.axvline(s1.mean(), color = 'r')\n",
    "plt.show()"
   ]
  },
  {
   "cell_type": "markdown",
   "id": "5b245378",
   "metadata": {},
   "source": [
    "- 평균이 집단을 대표하지 못할때"
   ]
  },
  {
   "cell_type": "code",
   "execution_count": 6,
   "id": "d4cfb065",
   "metadata": {},
   "outputs": [
    {
     "name": "stdout",
     "output_type": "stream",
     "text": [
      "21.97714285714286\n"
     ]
    }
   ],
   "source": [
    "# 임의의 한 집단을 만들어 봅시다.\n",
    "pop = [round(rd.normalvariate(10, 5),1) for i in range(1000)] + [round(rd.normalvariate(38, 8),1) for i in range(750)]\n",
    "mn = np.mean(pop)\n",
    "print(mn)"
   ]
  },
  {
   "cell_type": "code",
   "execution_count": 7,
   "id": "7a186b5b",
   "metadata": {},
   "outputs": [
    {
     "data": {
      "image/png": "[encoded data removed]",
      "text/plain": [
       "<Figure size 720x432 with 1 Axes>"
      ]
     },
     "metadata": {
      "needs_background": "light"
     },
     "output_type": "display_data"
    }
   ],
   "source": [
    "plt.figure(figsize=(10,6))\n",
    "sns.histplot(pop, bins = 50)\n",
    "plt.axvline(mn, color='r')\n",
    "plt.text(mn+1, 110, \"mean : {}\".format(round(mn,2)), color = 'r')\n",
    "plt.show()"
   ]
  },
  {
   "cell_type": "markdown",
   "id": "11238734",
   "metadata": {},
   "source": [
    "- 이 경우, 집단을 대표할 수 없다."
   ]
  },
  {
   "cell_type": "markdown",
   "id": "372dd605",
   "metadata": {},
   "source": [
    "### 2) 평균값은 믿을만 한가?"
   ]
  },
  {
   "cell_type": "markdown",
   "id": "c3f8c4eb",
   "metadata": {},
   "source": [
    "- 평균이 믿을만 한지는 오차로 평가해야 한다.\n",
    "    - 표준편차\n",
    "    - 표준오차"
   ]
  },
  {
   "cell_type": "markdown",
   "id": "aa006931",
   "metadata": {},
   "source": [
    "### 3) 표준편차 (SD, Standard Deviation)"
   ]
  },
  {
   "cell_type": "markdown",
   "id": "5562dc4d",
   "metadata": {},
   "source": [
    "- 한 집단을 설명하기 위함. (집단 안에서 대표값으로 평균을 구할 때)\n",
    "- 값들이 평균으로부터 얼마나 벗어나 있는지 (deviation)을 나타내는 값."
   ]
  },
  {
   "cell_type": "code",
   "execution_count": 8,
   "id": "ca18328a",
   "metadata": {},
   "outputs": [
    {
     "name": "stdout",
     "output_type": "stream",
     "text": [
      "평균 : 38.666666666666664\n",
      "표준편차 : 17.53726191728787\n"
     ]
    }
   ],
   "source": [
    "a = np.array([23, 54, 47, 64, 29, 15])\n",
    "\n",
    "print(f\"평균 : {a.mean()}\")\n",
    "print(f\"표준편차 : {a.std()}\")"
   ]
  },
  {
   "cell_type": "markdown",
   "id": "e4ab9f1a",
   "metadata": {},
   "source": [
    "- 평균과 표준편차를 집단 a를 설명 (대표) 하는 숫자."
   ]
  },
  {
   "cell_type": "code",
   "execution_count": 9,
   "id": "2321fdf5",
   "metadata": {},
   "outputs": [
    {
     "data": {
      "text/html": [
       "<div>\n",
       "<style scoped>\n",
       "    .dataframe tbody tr th:only-of-type {\n",
       "        vertical-align: middle;\n",
       "    }\n",
       "\n",
       "    .dataframe tbody tr th {\n",
       "        vertical-align: top;\n",
       "    }\n",
       "\n",
       "    .dataframe thead th {\n",
       "        text-align: right;\n",
       "    }\n",
       "</style>\n",
       "<table border=\"1\" class=\"dataframe\">\n",
       "  <thead>\n",
       "    <tr style=\"text-align: right;\">\n",
       "      <th></th>\n",
       "      <th>mean</th>\n",
       "      <th>std</th>\n",
       "    </tr>\n",
       "    <tr>\n",
       "      <th>Survived</th>\n",
       "      <th></th>\n",
       "      <th></th>\n",
       "    </tr>\n",
       "  </thead>\n",
       "  <tbody>\n",
       "    <tr>\n",
       "      <th>0</th>\n",
       "      <td>30.626179</td>\n",
       "      <td>14.172110</td>\n",
       "    </tr>\n",
       "    <tr>\n",
       "      <th>1</th>\n",
       "      <td>28.343690</td>\n",
       "      <td>14.950952</td>\n",
       "    </tr>\n",
       "  </tbody>\n",
       "</table>\n",
       "</div>"
      ],
      "text/plain": [
       "               mean        std\n",
       "Survived                      \n",
       "0         30.626179  14.172110\n",
       "1         28.343690  14.950952"
      ]
     },
     "execution_count": 9,
     "metadata": {},
     "output_type": "execute_result"
    }
   ],
   "source": [
    "# 표준편차\n",
    "titanic.groupby('Survived')['Age'].agg(['mean','std'])"
   ]
  },
  {
   "cell_type": "markdown",
   "id": "3db747da",
   "metadata": {},
   "source": [
    "### 4) 표준오차 (SE, Standard Error)\n",
    "\n",
    "- 표준편차와 다른 개념.\n",
    "- 표집 (sampling) 의 목적은 모집단을 추정하기 위함.\n",
    "    - 표본평균을 계산한다 = 표본의 평균으로 모집단의 평균을 추정하기 위함. (추정치)\n",
    "    - 표본 자체의 평균이라는 의미가 아닌, 모평균을 표본으로 추정한 평균치.\n",
    "- 표본평균은 모평균과 완전히 일치할 수 없다.\n",
    "    - 이 오차를 표준오차라고 함.\n",
    "    - 표준오차로부터 신뢰구간을 계산하게 된다."
   ]
  },
  {
   "cell_type": "code",
   "execution_count": 10,
   "id": "4d3a6568",
   "metadata": {},
   "outputs": [
    {
     "data": {
      "text/html": [
       "<div>\n",
       "<style scoped>\n",
       "    .dataframe tbody tr th:only-of-type {\n",
       "        vertical-align: middle;\n",
       "    }\n",
       "\n",
       "    .dataframe tbody tr th {\n",
       "        vertical-align: top;\n",
       "    }\n",
       "\n",
       "    .dataframe thead th {\n",
       "        text-align: right;\n",
       "    }\n",
       "</style>\n",
       "<table border=\"1\" class=\"dataframe\">\n",
       "  <thead>\n",
       "    <tr style=\"text-align: right;\">\n",
       "      <th></th>\n",
       "      <th>mean</th>\n",
       "      <th>std</th>\n",
       "      <th>sem</th>\n",
       "    </tr>\n",
       "    <tr>\n",
       "      <th>Survived</th>\n",
       "      <th></th>\n",
       "      <th></th>\n",
       "      <th></th>\n",
       "    </tr>\n",
       "  </thead>\n",
       "  <tbody>\n",
       "    <tr>\n",
       "      <th>0</th>\n",
       "      <td>30.626179</td>\n",
       "      <td>14.172110</td>\n",
       "      <td>0.688258</td>\n",
       "    </tr>\n",
       "    <tr>\n",
       "      <th>1</th>\n",
       "      <td>28.343690</td>\n",
       "      <td>14.950952</td>\n",
       "      <td>0.877950</td>\n",
       "    </tr>\n",
       "  </tbody>\n",
       "</table>\n",
       "</div>"
      ],
      "text/plain": [
       "               mean        std       sem\n",
       "Survived                                \n",
       "0         30.626179  14.172110  0.688258\n",
       "1         28.343690  14.950952  0.877950"
      ]
     },
     "execution_count": 10,
     "metadata": {},
     "output_type": "execute_result"
    }
   ],
   "source": [
    "titanic.groupby('Survived')['Age'].agg(['mean', 'std', 'sem'])"
   ]
  },
  {
   "cell_type": "markdown",
   "id": "7869065d",
   "metadata": {},
   "source": [
    "### 5) 95% 신뢰구간"
   ]
  },
  {
   "cell_type": "code",
   "execution_count": 11,
   "id": "fb323961",
   "metadata": {},
   "outputs": [],
   "source": [
    "# 임의의 모집단\n",
    "pop2 = [round(rd.normalvariate(160, 10), 1) for i in range(100000)]"
   ]
  },
  {
   "cell_type": "code",
   "execution_count": 12,
   "id": "10f13d42",
   "metadata": {},
   "outputs": [
    {
     "data": {
      "image/png": "[encoded data removed]",
      "text/plain": [
       "<Figure size 720x432 with 1 Axes>"
      ]
     },
     "metadata": {
      "needs_background": "light"
     },
     "output_type": "display_data"
    }
   ],
   "source": [
    "# 모집단을 확인하는 것은 불가능하지만 확인해보기 ^^\n",
    "plt.figure(figsize = (10, 6))\n",
    "sns.histplot(pop2, bins = 100)\n",
    "plt.axvline(np.mean(pop2), color = 'r')\n",
    "plt.text(np.mean(pop2)+1, 3600, f'pop mean : {np.mean(pop2).round(2)}', color = 'r')\n",
    "plt.show()"
   ]
  },
  {
   "cell_type": "markdown",
   "id": "7e94df16",
   "metadata": {},
   "source": [
    "- 100명을 임의로 샘플링해서 표본평균, 표준오차, 신뢰구간을 계산"
   ]
  },
  {
   "cell_type": "code",
   "execution_count": 13,
   "id": "c5572a63",
   "metadata": {},
   "outputs": [
    {
     "data": {
      "text/plain": [
       "(159.52399999999997, 11.124248879421618, 1.1124248879421619)"
      ]
     },
     "execution_count": 13,
     "metadata": {},
     "output_type": "execute_result"
    }
   ],
   "source": [
    "# 표본조사 100건\n",
    "s1 = rd.sample(pop2, 100) # 모집단에서 표집\n",
    "s1 = pd.Series(s1) # 시리즈로 바꿈\n",
    "s1.mean(), s1.std(), s1.sem()"
   ]
  },
  {
   "cell_type": "code",
   "execution_count": 14,
   "id": "467cd74a",
   "metadata": {},
   "outputs": [
    {
     "data": {
      "text/plain": [
       "2.180352780366637"
      ]
     },
     "execution_count": 14,
     "metadata": {},
     "output_type": "execute_result"
    }
   ],
   "source": [
    "1.96 * s1.sem()"
   ]
  },
  {
   "cell_type": "code",
   "execution_count": 15,
   "id": "d3b73ff6",
   "metadata": {},
   "outputs": [
    {
     "data": {
      "text/plain": [
       "(157.34364721963334, 161.7043527803666)"
      ]
     },
     "execution_count": 15,
     "metadata": {},
     "output_type": "execute_result"
    }
   ],
   "source": [
    "# 95% 신뢰구간은 모평균을 포함한다.\n",
    "s1.mean() - (1.96 * s1.sem()), s1.mean() + (1.96 * s1.sem())"
   ]
  },
  {
   "cell_type": "markdown",
   "id": "6a2a825b",
   "metadata": {},
   "source": [
    "- 표본평균의 신뢰구간과 모평균을 비교"
   ]
  },
  {
   "cell_type": "code",
   "execution_count": 16,
   "id": "7a234172",
   "metadata": {},
   "outputs": [
    {
     "data": {
      "text/plain": [
       "159.979411"
      ]
     },
     "execution_count": 16,
     "metadata": {},
     "output_type": "execute_result"
    }
   ],
   "source": [
    "# 모평균\n",
    "np.mean(pop2)"
   ]
  },
  {
   "cell_type": "markdown",
   "id": "960e529c",
   "metadata": {},
   "source": [
    "- 95% 신뢰구간에 대한 실험\n",
    "    - Sampling을 100번 수행.\n",
    "    - 그 때마다 신뢰구간을 계산한 후 그 중 몇번이 모평균을 포함하는지 확인.\n",
    "    - 95% 신뢰구간 -> 100번 중 95번은 모평균을 포함해야 한다."
   ]
  },
  {
   "cell_type": "code",
   "execution_count": 17,
   "id": "8284e641",
   "metadata": {},
   "outputs": [
    {
     "data": {
      "text/plain": [
       "(10000, 2)"
      ]
     },
     "execution_count": 17,
     "metadata": {},
     "output_type": "execute_result"
    }
   ],
   "source": [
    "# 100번 샘플링\n",
    "samples = { 'id' : [], 'value' : []}\n",
    "for i in range(100) :\n",
    "    samples['id'] += [i]* 100\n",
    "    samples['value'] += rd.sample(pop2,100)\n",
    "\n",
    "samples = pd.DataFrame(samples)\n",
    "samples.shape"
   ]
  },
  {
   "cell_type": "code",
   "execution_count": 18,
   "id": "73d8cad7",
   "metadata": {},
   "outputs": [
    {
     "data": {
      "image/png": "[encoded data removed]",
      "text/plain": [
       "<Figure size 1296x576 with 1 Axes>"
      ]
     },
     "metadata": {
      "needs_background": "light"
     },
     "output_type": "display_data"
    }
   ],
   "source": [
    "# errorbar\n",
    "# 신뢰구간, 표준오차 구간을 시각화\n",
    "\n",
    "plt.figure(figsize = (18, 8))\n",
    "sns.pointplot(x = 'id', y = 'value', data = samples, join = False)\n",
    "plt.axhline(np.mean(pop2), color = 'r')\n",
    "plt.show()"
   ]
  },
  {
   "cell_type": "markdown",
   "id": "67acd1a1",
   "metadata": {},
   "source": [
    "- x축은 100번 시도에 대한 index.\n",
    "- y축은 모평균(빨간 선)을 추정하기 위한 샘플의 평균과 신뢰구간."
   ]
  },
  {
   "cell_type": "markdown",
   "id": "e5bdc694",
   "metadata": {},
   "source": [
    "### 6) 중심극한 정리\n",
    "\n",
    "- 표본이 클수록 표집분포는 정규분포에 가까워 진다."
   ]
  },
  {
   "cell_type": "code",
   "execution_count": 19,
   "id": "cfe33478",
   "metadata": {},
   "outputs": [],
   "source": [
    "# 모집단 생성\n",
    "pop = [round(rd.expovariate(.3)+165,2) for i in range(10001)]"
   ]
  },
  {
   "cell_type": "markdown",
   "id": "563a16d6",
   "metadata": {},
   "source": [
    "- 모집단으로부터 표본을 뽑아 표본평균을 계산.\n",
    "- 이를 m번 반복하여 얻은 표본평균 m개의 분포 계산."
   ]
  },
  {
   "cell_type": "code",
   "execution_count": 20,
   "id": "d239e764",
   "metadata": {},
   "outputs": [
    {
     "data": {
      "image/png": "[encoded data removed]",
      "text/plain": [
       "<Figure size 720x432 with 1 Axes>"
      ]
     },
     "metadata": {
      "needs_background": "light"
     },
     "output_type": "display_data"
    }
   ],
   "source": [
    "# 표본의 크기\n",
    "n = 10\n",
    "\n",
    "# 표본의 갯수\n",
    "m = 100\n",
    "\n",
    "sample_mean = [np.mean(rd.sample(pop,n)) for i in range(m)]\n",
    "\n",
    "plt.figure(figsize=(10,6))\n",
    "sns.kdeplot(sample_mean)\n",
    "plt.xlim(160,180)\n",
    "\n",
    "plt.axvline(x=np.mean(sample_mean), color = 'red') #표본평균들의 평균\n",
    "plt.axvline(x=np.mean(pop), color = 'grey') # 모평균\n",
    "\n",
    "plt.text(np.mean(sample_mean)-1.5, 0.02, round(np.mean(sample_mean),2), color = 'red') #표본평균들의 평균\n",
    "plt.text(np.mean(pop)+.5,0.02, round(np.mean(pop),2), color = 'grey') #모평균\n",
    "\n",
    "plt.show() # show"
   ]
  },
  {
   "cell_type": "markdown",
   "id": "053cea47",
   "metadata": {},
   "source": [
    "- 정규분포에 근사."
   ]
  },
  {
   "cell_type": "code",
   "execution_count": 21,
   "id": "d8c30012",
   "metadata": {},
   "outputs": [
    {
     "data": {
      "image/png": "[encoded data removed]",
      "text/plain": [
       "<Figure size 720x432 with 1 Axes>"
      ]
     },
     "metadata": {
      "needs_background": "light"
     },
     "output_type": "display_data"
    }
   ],
   "source": [
    "# 모집단의 분포\n",
    "plt.figure(figsize=(10,6)) #설정\n",
    "sns.histplot(pop, bins = 100)\n",
    "plt.axvline(x=np.mean(pop), color = 'grey') # 모평균\n",
    "plt.text(np.mean(pop)+.5, 800, round(np.mean(pop),2), color = 'grey')\n",
    "plt.show() "
   ]
  },
  {
   "cell_type": "markdown",
   "id": "62ecf8f8",
   "metadata": {},
   "source": [
    "- 정규분포에 근사하지 않다."
   ]
  },
  {
   "cell_type": "code",
   "execution_count": null,
   "id": "f156764f",
   "metadata": {},
   "outputs": [],
   "source": []
  }
 ],
 "metadata": {
  "kernelspec": {
   "display_name": "Python 3",
   "language": "python",
   "name": "python3"
  },
  "language_info": {
   "codemirror_mode": {
    "name": "ipython",
    "version": 3
   },
   "file_extension": ".py",
   "mimetype": "text/x-python",
   "name": "python",
   "nbconvert_exporter": "python",
   "pygments_lexer": "ipython3",
   "version": "3.8.8"
  }
 },
 "nbformat": 4,
 "nbformat_minor": 5
}

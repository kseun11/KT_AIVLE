{
  "nbformat": 4,
  "nbformat_minor": 0,
  "metadata": {
    "colab": {
      "provenance": [],
      "collapsed_sections": [],
      "machine_shape": "hm"
    },
    "kernelspec": {
      "name": "python3",
      "display_name": "Python 3"
    },
    "language_info": {
      "name": "python"
    },
    "accelerator": "GPU",
    "gpuClass": "standard"
  },
  "cells": [
    {
      "cell_type": "code",
      "execution_count": 1,
      "metadata": {
        "id": "VYk38_vkJ78i"
      },
      "outputs": [],
      "source": [
        "# Import\n",
        "import tensorflow as tf\n",
        "from tensorflow import keras\n",
        "import numpy as np\n",
        "from tensorflow.keras.utils import to_categorical\n",
        "from sklearn.model_selection import train_test_split"
      ]
    },
    {
      "cell_type": "code",
      "source": [
        "from sklearn.datasets import load_iris"
      ],
      "metadata": {
        "id": "maB-efNGMSs7"
      },
      "execution_count": 2,
      "outputs": []
    },
    {
      "cell_type": "code",
      "source": [
        "iris = load_iris()"
      ],
      "metadata": {
        "id": "dfry-WUAMWRH"
      },
      "execution_count": 3,
      "outputs": []
    },
    {
      "cell_type": "code",
      "source": [
        "x = iris.data\n",
        "y = iris.target"
      ],
      "metadata": {
        "id": "8l7gaHnTMXAF"
      },
      "execution_count": 4,
      "outputs": []
    },
    {
      "cell_type": "code",
      "source": [
        "x.shape, y.shape"
      ],
      "metadata": {
        "colab": {
          "base_uri": "https://localhost:8080/"
        },
        "id": "3ZcodBgOMXtk",
        "outputId": "36fe8e91-11e8-423e-f9e6-a7b28d9ec228"
      },
      "execution_count": 5,
      "outputs": [
        {
          "output_type": "execute_result",
          "data": {
            "text/plain": [
              "((150, 4), (150,))"
            ]
          },
          "metadata": {},
          "execution_count": 5
        }
      ]
    },
    {
      "cell_type": "code",
      "source": [
        "# train, test split\n",
        "x_train, x_test, y_train, y_test = train_test_split(x, y, test_size=0.2, random_state=2022)"
      ],
      "metadata": {
        "id": "z2ANGFYLMYWC"
      },
      "execution_count": 6,
      "outputs": []
    },
    {
      "cell_type": "code",
      "source": [
        "# One-Hot Encoding\n",
        "'''\n",
        "미래 데이터라고 가정했기 때문에 split을 한 뒤에 인코딩을 해야 함.\n",
        "test data에 기존에 없던 새로운 feature가 있다는 가정.\n",
        "- train, test를 따로 인코딩해주면 column수가 달라져 충돌이 일어날 수도 있음.\n",
        "- 그 경우 다시 전처리 해주어야 한다. (지도학습의 한계) \n",
        "'''\n",
        "\n",
        "# target class number\n",
        "class_n = len(np.unique(y_train))\n",
        "\n",
        "# One-Hot Encoding\n",
        "y_train = to_categorical(y_train, class_n)\n",
        "y_test = to_categorical(y_test, class_n)"
      ],
      "metadata": {
        "id": "Sh0rJhZKMZZO"
      },
      "execution_count": 7,
      "outputs": []
    },
    {
      "cell_type": "code",
      "source": [
        "x_train.shape, y_train.shape"
      ],
      "metadata": {
        "colab": {
          "base_uri": "https://localhost:8080/"
        },
        "id": "hTvv6y5UM2d9",
        "outputId": "cf4ea654-5ea4-4050-8723-6f6793ed3702"
      },
      "execution_count": 8,
      "outputs": [
        {
          "output_type": "execute_result",
          "data": {
            "text/plain": [
              "((120, 4), (120, 3))"
            ]
          },
          "metadata": {},
          "execution_count": 8
        }
      ]
    },
    {
      "cell_type": "code",
      "source": [
        "# Modeling : Sequential\n",
        "\n",
        "# 1. Session Clear\n",
        "keras.backend.clear_session()\n",
        "\n",
        "# 2. Model\n",
        "model = keras.models.Sequential()\n",
        "\n",
        "# 3. Model Add\n",
        "model.add(keras.layers.Input(shape=(4, )))\n",
        "model.add(keras.layers.Dense(3, activation='softmax'))\n",
        "\n",
        "# 4. Compile\n",
        "model.compile(loss='categorical_crossentropy', optimizer='adam', metrics=['accuracy'])"
      ],
      "metadata": {
        "id": "BzhAutkPM3Of"
      },
      "execution_count": 9,
      "outputs": []
    },
    {
      "cell_type": "code",
      "source": [
        "# 5. fit\n",
        "model.fit(x_train, y_train, epochs=10, verbose=1)"
      ],
      "metadata": {
        "colab": {
          "base_uri": "https://localhost:8080/"
        },
        "id": "LIQnbq15M88f",
        "outputId": "86c5a9de-60fb-4c57-b54d-f48cdd260099"
      },
      "execution_count": 10,
      "outputs": [
        {
          "output_type": "stream",
          "name": "stdout",
          "text": [
            "Epoch 1/10\n",
            "4/4 [==============================] - 3s 3ms/step - loss: 4.4048 - accuracy: 0.3500\n",
            "Epoch 2/10\n",
            "4/4 [==============================] - 0s 3ms/step - loss: 4.3288 - accuracy: 0.3500\n",
            "Epoch 3/10\n",
            "4/4 [==============================] - 0s 3ms/step - loss: 4.2592 - accuracy: 0.3500\n",
            "Epoch 4/10\n",
            "4/4 [==============================] - 0s 3ms/step - loss: 4.1855 - accuracy: 0.3500\n",
            "Epoch 5/10\n",
            "4/4 [==============================] - 0s 3ms/step - loss: 4.1113 - accuracy: 0.3500\n",
            "Epoch 6/10\n",
            "4/4 [==============================] - 0s 3ms/step - loss: 4.0369 - accuracy: 0.3500\n",
            "Epoch 7/10\n",
            "4/4 [==============================] - 0s 3ms/step - loss: 3.9627 - accuracy: 0.3500\n",
            "Epoch 8/10\n",
            "4/4 [==============================] - 0s 3ms/step - loss: 3.8926 - accuracy: 0.3500\n",
            "Epoch 9/10\n",
            "4/4 [==============================] - 0s 3ms/step - loss: 3.8208 - accuracy: 0.3500\n",
            "Epoch 10/10\n",
            "4/4 [==============================] - 0s 3ms/step - loss: 3.7476 - accuracy: 0.3500\n"
          ]
        },
        {
          "output_type": "execute_result",
          "data": {
            "text/plain": [
              "<keras.callbacks.History at 0x7fa4e04623d0>"
            ]
          },
          "metadata": {},
          "execution_count": 10
        }
      ]
    },
    {
      "cell_type": "code",
      "source": [
        "# 6. predict\n",
        "model.predict(x_test).reshape(-1)"
      ],
      "metadata": {
        "colab": {
          "base_uri": "https://localhost:8080/"
        },
        "id": "jZuUfe3uM-Xh",
        "outputId": "a19bd318-6823-4216-d113-e4d6ad6f2293"
      },
      "execution_count": 11,
      "outputs": [
        {
          "output_type": "execute_result",
          "data": {
            "text/plain": [
              "array([2.9820430e-03, 9.9612683e-01, 8.9121517e-04, 1.3170516e-03,\n",
              "       9.9831980e-01, 3.6314860e-04, 1.7506273e-02, 9.7828627e-01,\n",
              "       4.2074681e-03, 4.9051153e-03, 9.9424839e-01, 8.4646937e-04,\n",
              "       1.0796505e-02, 9.8679304e-01, 2.4104887e-03, 2.3457112e-02,\n",
              "       9.7028762e-01, 6.2552718e-03, 5.7033608e-03, 9.9183309e-01,\n",
              "       2.4635992e-03, 7.5485022e-03, 9.8926944e-01, 3.1820990e-03,\n",
              "       1.2310787e-02, 9.8514706e-01, 2.5421476e-03, 8.5170278e-03,\n",
              "       9.8920500e-01, 2.2778830e-03, 5.8417972e-03, 9.9288684e-01,\n",
              "       1.2713440e-03, 1.3397993e-03, 9.9848467e-01, 1.7553069e-04,\n",
              "       3.0296675e-03, 9.9596798e-01, 1.0023473e-03, 3.8069633e-03,\n",
              "       9.9562067e-01, 5.7225639e-04, 8.7380235e-04, 9.9871624e-01,\n",
              "       4.1008714e-04, 9.9420939e-03, 9.8861027e-01, 1.4476597e-03,\n",
              "       9.8316567e-03, 9.8835933e-01, 1.8090516e-03, 2.3912929e-03,\n",
              "       9.9702328e-01, 5.8533403e-04, 5.4514138e-03, 9.9349558e-01,\n",
              "       1.0529909e-03, 5.6795855e-03, 9.9215299e-01, 2.1673876e-03,\n",
              "       6.3607465e-03, 9.9174631e-01, 1.8929109e-03, 9.8847309e-03,\n",
              "       9.8786587e-01, 2.2493715e-03, 2.8663122e-03, 9.9610341e-01,\n",
              "       1.0303687e-03, 1.2563233e-02, 9.8468810e-01, 2.7487050e-03,\n",
              "       2.2847296e-03, 9.9712509e-01, 5.9012632e-04, 5.0851032e-03,\n",
              "       9.9365616e-01, 1.2588097e-03, 6.1828177e-03, 9.9226165e-01,\n",
              "       1.5554836e-03, 9.5666973e-03, 9.8816699e-01, 2.2663309e-03,\n",
              "       2.5110417e-03, 9.9557954e-01, 1.9093991e-03, 2.3015388e-03,\n",
              "       9.9646950e-01, 1.2289773e-03], dtype=float32)"
            ]
          },
          "metadata": {},
          "execution_count": 11
        }
      ]
    },
    {
      "cell_type": "markdown",
      "source": [
        "## Hidden Layer 추가"
      ],
      "metadata": {
        "id": "YYzZqUSpNBiI"
      }
    },
    {
      "cell_type": "code",
      "source": [
        "# Modeling : Functional\n",
        "\n",
        "# 1. Session Clear\n",
        "keras.backend.clear_session()\n",
        "\n",
        "# 2. Layer\n",
        "il = keras.layers.Input(shape=(4, ), name='inputLayer')\n",
        "hl = keras.layers.Dense(32, activation='relu', name='hidden1')(il)\n",
        "hl = keras.layers.Dense(32, activation='relu', name='hidden2')(hl)\n",
        "ol = keras.layers.Dense(3, activation='softmax', name='outputLayer')(hl)\n",
        "\n",
        "# 3. Model\n",
        "model = keras.models.Model(il, ol)\n",
        "\n",
        "# 4. Compile\n",
        "model.compile(loss='categorical_crossentropy', optimizer=keras.optimizers.Adam(), metrics=['accuracy'])"
      ],
      "metadata": {
        "id": "NWSo-we6NKZJ"
      },
      "execution_count": null,
      "outputs": []
    },
    {
      "cell_type": "code",
      "source": [
        "# Modeling : Sequential\n",
        "\n",
        "# 1. Session Clear\n",
        "keras.backend.clear_session()\n",
        "\n",
        "# 2. Model\n",
        "model = keras.models.Sequential()\n",
        "\n",
        "# 3. Model Add\n",
        "model.add(keras.layers.Input(shape=(4, )))\n",
        "model.add(keras.layers.Dense(32, activation='relu'))\n",
        "model.add(keras.layers.Dense(32, activation='relu'))\n",
        "model.add(keras.layers.Dense(3, activation='softmax'))\n",
        "\n",
        "# 4. Compile\n",
        "model.compile(loss='categorical_crossentropy', optimizer=keras.optimizers.Adam(), metrics=['accuracy'])"
      ],
      "metadata": {
        "id": "45g3uFxLNASz"
      },
      "execution_count": 12,
      "outputs": []
    },
    {
      "cell_type": "code",
      "source": [
        "# 5. fit\n",
        "model.fit(x_train, y_train, epochs=10, verbose=1)"
      ],
      "metadata": {
        "colab": {
          "base_uri": "https://localhost:8080/"
        },
        "id": "VVTXpem9NQ1_",
        "outputId": "7c365224-67d4-4f4d-feab-ab256aafe528"
      },
      "execution_count": 13,
      "outputs": [
        {
          "output_type": "stream",
          "name": "stdout",
          "text": [
            "Epoch 1/10\n",
            "4/4 [==============================] - 0s 4ms/step - loss: 1.7228 - accuracy: 0.3500\n",
            "Epoch 2/10\n",
            "4/4 [==============================] - 0s 3ms/step - loss: 1.4114 - accuracy: 0.3500\n",
            "Epoch 3/10\n",
            "4/4 [==============================] - 0s 3ms/step - loss: 1.2035 - accuracy: 0.3500\n",
            "Epoch 4/10\n",
            "4/4 [==============================] - 0s 3ms/step - loss: 1.0890 - accuracy: 0.4083\n",
            "Epoch 5/10\n",
            "4/4 [==============================] - 0s 3ms/step - loss: 1.0577 - accuracy: 0.3083\n",
            "Epoch 6/10\n",
            "4/4 [==============================] - 0s 3ms/step - loss: 1.0304 - accuracy: 0.3250\n",
            "Epoch 7/10\n",
            "4/4 [==============================] - 0s 3ms/step - loss: 0.9883 - accuracy: 0.6333\n",
            "Epoch 8/10\n",
            "4/4 [==============================] - 0s 3ms/step - loss: 0.9423 - accuracy: 0.6500\n",
            "Epoch 9/10\n",
            "4/4 [==============================] - 0s 3ms/step - loss: 0.9060 - accuracy: 0.6667\n",
            "Epoch 10/10\n",
            "4/4 [==============================] - 0s 3ms/step - loss: 0.8694 - accuracy: 0.8750\n"
          ]
        },
        {
          "output_type": "execute_result",
          "data": {
            "text/plain": [
              "<keras.callbacks.History at 0x7fa4e02b6650>"
            ]
          },
          "metadata": {},
          "execution_count": 13
        }
      ]
    },
    {
      "cell_type": "code",
      "source": [
        "# 6. predict\n",
        "model.predict(x_test)"
      ],
      "metadata": {
        "colab": {
          "base_uri": "https://localhost:8080/"
        },
        "id": "cELjkb64NSR8",
        "outputId": "8c499e7f-93be-4fc2-f9c1-475c2eb4461c"
      },
      "execution_count": 14,
      "outputs": [
        {
          "output_type": "execute_result",
          "data": {
            "text/plain": [
              "array([[0.18879543, 0.38987538, 0.4213292 ],\n",
              "       [0.17623088, 0.38633817, 0.43743098],\n",
              "       [0.46815822, 0.2934452 , 0.2383966 ],\n",
              "       [0.19941938, 0.40152287, 0.39905772],\n",
              "       [0.50144506, 0.278466  , 0.22008894],\n",
              "       [0.46753606, 0.29072672, 0.24173723],\n",
              "       [0.2943076 , 0.37612164, 0.32957083],\n",
              "       [0.27297327, 0.37444058, 0.35258615],\n",
              "       [0.5060853 , 0.27504644, 0.21886829],\n",
              "       [0.26927656, 0.3820571 , 0.34866634],\n",
              "       [0.23902588, 0.39988095, 0.36109316],\n",
              "       [0.18759955, 0.42139858, 0.39100188],\n",
              "       [0.25476253, 0.38870868, 0.35652876],\n",
              "       [0.16265206, 0.4096781 , 0.42766985],\n",
              "       [0.16288756, 0.37543383, 0.46167862],\n",
              "       [0.5001655 , 0.28013092, 0.2197035 ],\n",
              "       [0.25330803, 0.39937446, 0.34731758],\n",
              "       [0.21011923, 0.39073583, 0.39914498],\n",
              "       [0.19493459, 0.39254764, 0.4125178 ],\n",
              "       [0.26632816, 0.38246056, 0.35121128],\n",
              "       [0.5067779 , 0.28230065, 0.21092145],\n",
              "       [0.47039992, 0.29419553, 0.23540458],\n",
              "       [0.20509385, 0.38677788, 0.40812826],\n",
              "       [0.49530783, 0.28222165, 0.2224705 ],\n",
              "       [0.19185466, 0.410764  , 0.3973813 ],\n",
              "       [0.22194666, 0.38950038, 0.388553  ],\n",
              "       [0.20097831, 0.39714405, 0.40187764],\n",
              "       [0.4838431 , 0.29105252, 0.22510445],\n",
              "       [0.2469172 , 0.36487845, 0.38820437],\n",
              "       [0.21474743, 0.38079876, 0.4044538 ]], dtype=float32)"
            ]
          },
          "metadata": {},
          "execution_count": 14
        }
      ]
    },
    {
      "cell_type": "code",
      "source": [],
      "metadata": {
        "id": "ZYQOW85LNUKj"
      },
      "execution_count": null,
      "outputs": []
    }
  ]
}

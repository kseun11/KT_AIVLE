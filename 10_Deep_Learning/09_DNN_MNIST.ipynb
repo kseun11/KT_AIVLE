{
  "nbformat": 4,
  "nbformat_minor": 0,
  "metadata": {
    "colab": {
      "provenance": [],
      "collapsed_sections": [],
      "machine_shape": "hm"
    },
    "kernelspec": {
      "name": "python3",
      "display_name": "Python 3"
    },
    "language_info": {
      "name": "python"
    },
    "accelerator": "GPU",
    "gpuClass": "standard"
  },
  "cells": [
    {
      "cell_type": "markdown",
      "source": [
        "## Import"
      ],
      "metadata": {
        "id": "1KOjkFrbNrFa"
      }
    },
    {
      "cell_type": "code",
      "execution_count": 1,
      "metadata": {
        "id": "CioIN2T1KHyt"
      },
      "outputs": [],
      "source": [
        "# Import\n",
        "import tensorflow as tf\n",
        "from tensorflow import keras\n",
        "\n",
        "import numpy as np\n",
        "import pandas as pd\n",
        "import matplotlib.pyplot as plt\n",
        "\n",
        "import random as rd\n",
        "\n",
        "from sklearn.metrics import accuracy_score"
      ]
    },
    {
      "cell_type": "markdown",
      "source": [
        "## Data Load"
      ],
      "metadata": {
        "id": "VWC2lwaENs-o"
      }
    },
    {
      "cell_type": "code",
      "source": [
        "# Data Load\n",
        "(train_x, train_y), (test_x, test_y) = tf.keras.datasets.mnist.load_data()"
      ],
      "metadata": {
        "colab": {
          "base_uri": "https://localhost:8080/"
        },
        "id": "64rTXc7DNddh",
        "outputId": "cd9d84c2-e82f-4edd-ad29-c33f2b32bda1"
      },
      "execution_count": 2,
      "outputs": [
        {
          "output_type": "stream",
          "name": "stdout",
          "text": [
            "Downloading data from https://storage.googleapis.com/tensorflow/tf-keras-datasets/mnist.npz\n",
            "11493376/11490434 [==============================] - 0s 0us/step\n",
            "11501568/11490434 [==============================] - 0s 0us/step\n"
          ]
        }
      ]
    },
    {
      "cell_type": "code",
      "source": [
        "train_x.shape, train_y.shape, test_x.shape, test_y.shape"
      ],
      "metadata": {
        "colab": {
          "base_uri": "https://localhost:8080/"
        },
        "id": "xtYUkvkaNe2-",
        "outputId": "80041ec2-d42f-4ed2-afc8-02c4c2528590"
      },
      "execution_count": 3,
      "outputs": [
        {
          "output_type": "execute_result",
          "data": {
            "text/plain": [
              "((60000, 28, 28), (60000,), (10000, 28, 28), (10000,))"
            ]
          },
          "metadata": {},
          "execution_count": 3
        }
      ]
    },
    {
      "cell_type": "code",
      "source": [
        "train_x[0]"
      ],
      "metadata": {
        "colab": {
          "base_uri": "https://localhost:8080/"
        },
        "id": "NvGhwE7KNfoT",
        "outputId": "6f064951-f184-4917-cc2c-1ea24096bb87"
      },
      "execution_count": 4,
      "outputs": [
        {
          "output_type": "execute_result",
          "data": {
            "text/plain": [
              "array([[  0,   0,   0,   0,   0,   0,   0,   0,   0,   0,   0,   0,   0,\n",
              "          0,   0,   0,   0,   0,   0,   0,   0,   0,   0,   0,   0,   0,\n",
              "          0,   0],\n",
              "       [  0,   0,   0,   0,   0,   0,   0,   0,   0,   0,   0,   0,   0,\n",
              "          0,   0,   0,   0,   0,   0,   0,   0,   0,   0,   0,   0,   0,\n",
              "          0,   0],\n",
              "       [  0,   0,   0,   0,   0,   0,   0,   0,   0,   0,   0,   0,   0,\n",
              "          0,   0,   0,   0,   0,   0,   0,   0,   0,   0,   0,   0,   0,\n",
              "          0,   0],\n",
              "       [  0,   0,   0,   0,   0,   0,   0,   0,   0,   0,   0,   0,   0,\n",
              "          0,   0,   0,   0,   0,   0,   0,   0,   0,   0,   0,   0,   0,\n",
              "          0,   0],\n",
              "       [  0,   0,   0,   0,   0,   0,   0,   0,   0,   0,   0,   0,   0,\n",
              "          0,   0,   0,   0,   0,   0,   0,   0,   0,   0,   0,   0,   0,\n",
              "          0,   0],\n",
              "       [  0,   0,   0,   0,   0,   0,   0,   0,   0,   0,   0,   0,   3,\n",
              "         18,  18,  18, 126, 136, 175,  26, 166, 255, 247, 127,   0,   0,\n",
              "          0,   0],\n",
              "       [  0,   0,   0,   0,   0,   0,   0,   0,  30,  36,  94, 154, 170,\n",
              "        253, 253, 253, 253, 253, 225, 172, 253, 242, 195,  64,   0,   0,\n",
              "          0,   0],\n",
              "       [  0,   0,   0,   0,   0,   0,   0,  49, 238, 253, 253, 253, 253,\n",
              "        253, 253, 253, 253, 251,  93,  82,  82,  56,  39,   0,   0,   0,\n",
              "          0,   0],\n",
              "       [  0,   0,   0,   0,   0,   0,   0,  18, 219, 253, 253, 253, 253,\n",
              "        253, 198, 182, 247, 241,   0,   0,   0,   0,   0,   0,   0,   0,\n",
              "          0,   0],\n",
              "       [  0,   0,   0,   0,   0,   0,   0,   0,  80, 156, 107, 253, 253,\n",
              "        205,  11,   0,  43, 154,   0,   0,   0,   0,   0,   0,   0,   0,\n",
              "          0,   0],\n",
              "       [  0,   0,   0,   0,   0,   0,   0,   0,   0,  14,   1, 154, 253,\n",
              "         90,   0,   0,   0,   0,   0,   0,   0,   0,   0,   0,   0,   0,\n",
              "          0,   0],\n",
              "       [  0,   0,   0,   0,   0,   0,   0,   0,   0,   0,   0, 139, 253,\n",
              "        190,   2,   0,   0,   0,   0,   0,   0,   0,   0,   0,   0,   0,\n",
              "          0,   0],\n",
              "       [  0,   0,   0,   0,   0,   0,   0,   0,   0,   0,   0,  11, 190,\n",
              "        253,  70,   0,   0,   0,   0,   0,   0,   0,   0,   0,   0,   0,\n",
              "          0,   0],\n",
              "       [  0,   0,   0,   0,   0,   0,   0,   0,   0,   0,   0,   0,  35,\n",
              "        241, 225, 160, 108,   1,   0,   0,   0,   0,   0,   0,   0,   0,\n",
              "          0,   0],\n",
              "       [  0,   0,   0,   0,   0,   0,   0,   0,   0,   0,   0,   0,   0,\n",
              "         81, 240, 253, 253, 119,  25,   0,   0,   0,   0,   0,   0,   0,\n",
              "          0,   0],\n",
              "       [  0,   0,   0,   0,   0,   0,   0,   0,   0,   0,   0,   0,   0,\n",
              "          0,  45, 186, 253, 253, 150,  27,   0,   0,   0,   0,   0,   0,\n",
              "          0,   0],\n",
              "       [  0,   0,   0,   0,   0,   0,   0,   0,   0,   0,   0,   0,   0,\n",
              "          0,   0,  16,  93, 252, 253, 187,   0,   0,   0,   0,   0,   0,\n",
              "          0,   0],\n",
              "       [  0,   0,   0,   0,   0,   0,   0,   0,   0,   0,   0,   0,   0,\n",
              "          0,   0,   0,   0, 249, 253, 249,  64,   0,   0,   0,   0,   0,\n",
              "          0,   0],\n",
              "       [  0,   0,   0,   0,   0,   0,   0,   0,   0,   0,   0,   0,   0,\n",
              "          0,  46, 130, 183, 253, 253, 207,   2,   0,   0,   0,   0,   0,\n",
              "          0,   0],\n",
              "       [  0,   0,   0,   0,   0,   0,   0,   0,   0,   0,   0,   0,  39,\n",
              "        148, 229, 253, 253, 253, 250, 182,   0,   0,   0,   0,   0,   0,\n",
              "          0,   0],\n",
              "       [  0,   0,   0,   0,   0,   0,   0,   0,   0,   0,  24, 114, 221,\n",
              "        253, 253, 253, 253, 201,  78,   0,   0,   0,   0,   0,   0,   0,\n",
              "          0,   0],\n",
              "       [  0,   0,   0,   0,   0,   0,   0,   0,  23,  66, 213, 253, 253,\n",
              "        253, 253, 198,  81,   2,   0,   0,   0,   0,   0,   0,   0,   0,\n",
              "          0,   0],\n",
              "       [  0,   0,   0,   0,   0,   0,  18, 171, 219, 253, 253, 253, 253,\n",
              "        195,  80,   9,   0,   0,   0,   0,   0,   0,   0,   0,   0,   0,\n",
              "          0,   0],\n",
              "       [  0,   0,   0,   0,  55, 172, 226, 253, 253, 253, 253, 244, 133,\n",
              "         11,   0,   0,   0,   0,   0,   0,   0,   0,   0,   0,   0,   0,\n",
              "          0,   0],\n",
              "       [  0,   0,   0,   0, 136, 253, 253, 253, 212, 135, 132,  16,   0,\n",
              "          0,   0,   0,   0,   0,   0,   0,   0,   0,   0,   0,   0,   0,\n",
              "          0,   0],\n",
              "       [  0,   0,   0,   0,   0,   0,   0,   0,   0,   0,   0,   0,   0,\n",
              "          0,   0,   0,   0,   0,   0,   0,   0,   0,   0,   0,   0,   0,\n",
              "          0,   0],\n",
              "       [  0,   0,   0,   0,   0,   0,   0,   0,   0,   0,   0,   0,   0,\n",
              "          0,   0,   0,   0,   0,   0,   0,   0,   0,   0,   0,   0,   0,\n",
              "          0,   0],\n",
              "       [  0,   0,   0,   0,   0,   0,   0,   0,   0,   0,   0,   0,   0,\n",
              "          0,   0,   0,   0,   0,   0,   0,   0,   0,   0,   0,   0,   0,\n",
              "          0,   0]], dtype=uint8)"
            ]
          },
          "metadata": {},
          "execution_count": 4
        }
      ]
    },
    {
      "cell_type": "code",
      "source": [
        "id = rd.randrange(0,10000)\n",
        "id = 0\n",
        "\n",
        "print(f'id = {id}')\n",
        "print(f'다음 그림은 숫자 {train_y[id]} 입니다.')\n",
        "\n",
        "plt.imshow(train_x[id], cmap='gray')\n",
        "plt.show()"
      ],
      "metadata": {
        "colab": {
          "base_uri": "https://localhost:8080/",
          "height": 302
        },
        "id": "BWAMIXQqNglg",
        "outputId": "442132a3-0316-48d4-d23b-107dd473d62f"
      },
      "execution_count": 5,
      "outputs": [
        {
          "output_type": "stream",
          "name": "stdout",
          "text": [
            "id = 0\n",
            "다음 그림은 숫자 5 입니다.\n"
          ]
        },
        {
          "output_type": "display_data",
          "data": {
            "text/plain": [
              "<Figure size 432x288 with 1 Axes>"
            ],
            "image/png": "[encoded data removed]"
          },
          "metadata": {
            "needs_background": "light"
          }
        }
      ]
    },
    {
      "cell_type": "markdown",
      "source": [
        "## Data Preprocessing"
      ],
      "metadata": {
        "id": "btHRD3BkNu2r"
      }
    },
    {
      "cell_type": "code",
      "source": [
        "# reshape\n",
        "print(train_x.shape)\n",
        "\n",
        "train_x = train_x.reshape([train_x.shape[0], -1])\n",
        "test_x = test_x.reshape([test_x.shape[0], -1])\n",
        "\n",
        "print(train_x.shape)"
      ],
      "metadata": {
        "colab": {
          "base_uri": "https://localhost:8080/"
        },
        "id": "bTzWmALLNlA-",
        "outputId": "031e4428-87d2-4eb1-9a4a-9fa68a8aac99"
      },
      "execution_count": 7,
      "outputs": [
        {
          "output_type": "stream",
          "name": "stdout",
          "text": [
            "(60000, 28, 28)\n",
            "(60000, 784)\n"
          ]
        }
      ]
    },
    {
      "cell_type": "code",
      "source": [
        "# Min Max Scaling : Scikit-learn에서는 2차원 데이터만 지원\n",
        "print(f'max : {train_x.max()} / min : {train_x.min()}')"
      ],
      "metadata": {
        "colab": {
          "base_uri": "https://localhost:8080/"
        },
        "id": "WhrVHMJYN_dv",
        "outputId": "4cdd53c9-04f8-476c-85a0-7b286de93e9c"
      },
      "execution_count": 8,
      "outputs": [
        {
          "output_type": "stream",
          "name": "stdout",
          "text": [
            "max : 255 / min : 0\n"
          ]
        }
      ]
    },
    {
      "cell_type": "code",
      "source": [
        "max_n, min_n = train_x.max(), train_x.min()\n",
        "\n",
        "max_n, min_n"
      ],
      "metadata": {
        "colab": {
          "base_uri": "https://localhost:8080/"
        },
        "id": "6Slw01h7OLj1",
        "outputId": "48184b4e-f015-4590-b64a-255f7b68eaee"
      },
      "execution_count": 9,
      "outputs": [
        {
          "output_type": "execute_result",
          "data": {
            "text/plain": [
              "(255, 0)"
            ]
          },
          "metadata": {},
          "execution_count": 9
        }
      ]
    },
    {
      "cell_type": "code",
      "source": [
        "train_x = (train_x - min_n) / (max_n - min_n)\n",
        "test_x = (test_x - min_n) / (max_n - min_n)"
      ],
      "metadata": {
        "id": "ejKWwGiqONka"
      },
      "execution_count": 10,
      "outputs": []
    },
    {
      "cell_type": "code",
      "source": [
        "print(f'max : {train_x.max()} / min : {train_x.min()}')"
      ],
      "metadata": {
        "colab": {
          "base_uri": "https://localhost:8080/"
        },
        "id": "kdtzwXHNOPwm",
        "outputId": "5f38e715-ffcc-4031-aa69-369de36fbfe9"
      },
      "execution_count": 11,
      "outputs": [
        {
          "output_type": "stream",
          "name": "stdout",
          "text": [
            "max : 1.0 / min : 0.0\n"
          ]
        }
      ]
    },
    {
      "cell_type": "code",
      "source": [
        "# One-Hot Encoding\n",
        "train_y.shape"
      ],
      "metadata": {
        "colab": {
          "base_uri": "https://localhost:8080/"
        },
        "id": "MPf8VvTVOQut",
        "outputId": "7b7ed38a-1088-48fd-d664-1e7a275ccd75"
      },
      "execution_count": 12,
      "outputs": [
        {
          "output_type": "execute_result",
          "data": {
            "text/plain": [
              "(60000,)"
            ]
          },
          "metadata": {},
          "execution_count": 12
        }
      ]
    },
    {
      "cell_type": "code",
      "source": [
        "from tensorflow.keras.utils import to_categorical"
      ],
      "metadata": {
        "id": "8Y-7Bq8yOWF4"
      },
      "execution_count": 13,
      "outputs": []
    },
    {
      "cell_type": "code",
      "source": [
        "set(train_y)"
      ],
      "metadata": {
        "colab": {
          "base_uri": "https://localhost:8080/"
        },
        "id": "2QhRv6ddOW31",
        "outputId": "b9e0244c-aed1-4f67-817e-872feeee2de9"
      },
      "execution_count": 14,
      "outputs": [
        {
          "output_type": "execute_result",
          "data": {
            "text/plain": [
              "{0, 1, 2, 3, 4, 5, 6, 7, 8, 9}"
            ]
          },
          "metadata": {},
          "execution_count": 14
        }
      ]
    },
    {
      "cell_type": "code",
      "source": [
        "len_y = len(set(train_y))\n",
        "\n",
        "len_y"
      ],
      "metadata": {
        "colab": {
          "base_uri": "https://localhost:8080/"
        },
        "id": "SYqVXRPyOXmH",
        "outputId": "239a4c24-ad45-4aca-973e-5f6b345b826b"
      },
      "execution_count": 15,
      "outputs": [
        {
          "output_type": "execute_result",
          "data": {
            "text/plain": [
              "10"
            ]
          },
          "metadata": {},
          "execution_count": 15
        }
      ]
    },
    {
      "cell_type": "code",
      "source": [
        "print(train_y.shape)\n",
        "\n",
        "train_y = to_categorical(train_y, len_y)\n",
        "test_y = to_categorical(test_y, len_y)\n",
        "\n",
        "print(train_y.shape)\n"
      ],
      "metadata": {
        "colab": {
          "base_uri": "https://localhost:8080/"
        },
        "id": "R_EPuoC-OYMk",
        "outputId": "f70e81e9-4ee8-4f5f-d752-26f86c5ac3bd"
      },
      "execution_count": 16,
      "outputs": [
        {
          "output_type": "stream",
          "name": "stdout",
          "text": [
            "(60000,)\n",
            "(60000, 10)\n"
          ]
        }
      ]
    },
    {
      "cell_type": "markdown",
      "source": [
        "## Modeling"
      ],
      "metadata": {
        "id": "brzwJPPSOb1n"
      }
    },
    {
      "cell_type": "code",
      "source": [
        "train_x.shape, train_y.shape"
      ],
      "metadata": {
        "colab": {
          "base_uri": "https://localhost:8080/"
        },
        "id": "cMTGCBbtObES",
        "outputId": "6c43b216-0934-4807-b187-390a36810959"
      },
      "execution_count": 17,
      "outputs": [
        {
          "output_type": "execute_result",
          "data": {
            "text/plain": [
              "((60000, 784), (60000, 10))"
            ]
          },
          "metadata": {},
          "execution_count": 17
        }
      ]
    },
    {
      "cell_type": "code",
      "source": [
        "# Modeling : Sequential\n",
        "\n",
        "# 1. Session Clear\n",
        "keras.backend.clear_session()\n",
        "\n",
        "# 2. Model\n",
        "model = keras.models.Sequential()\n",
        "\n",
        "# 3. Model Add\n",
        "model.add(keras.layers.Input(shape=(train_x.shape[1])) )\n",
        "model.add(keras.layers.Dense(10, activation='softmax') )\n",
        "\n",
        "# 4. Compile\n",
        "model.compile(loss=keras.losses.categorical_crossentropy, metrics=['accuracy'],\n",
        "               optimizer=keras.optimizers.Adam(learning_rate=0.01))"
      ],
      "metadata": {
        "id": "a37klP7BOdX9"
      },
      "execution_count": 18,
      "outputs": []
    },
    {
      "cell_type": "code",
      "source": [
        "# Summary()\n",
        "model.summary()"
      ],
      "metadata": {
        "colab": {
          "base_uri": "https://localhost:8080/"
        },
        "id": "LecVHS3POg8U",
        "outputId": "cc88af01-e47b-4aa7-e9e4-811fd9222d51"
      },
      "execution_count": 19,
      "outputs": [
        {
          "output_type": "stream",
          "name": "stdout",
          "text": [
            "Model: \"sequential\"\n",
            "_________________________________________________________________\n",
            " Layer (type)                Output Shape              Param #   \n",
            "=================================================================\n",
            " dense (Dense)               (None, 10)                7850      \n",
            "                                                                 \n",
            "=================================================================\n",
            "Total params: 7,850\n",
            "Trainable params: 7,850\n",
            "Non-trainable params: 0\n",
            "_________________________________________________________________\n"
          ]
        }
      ]
    },
    {
      "cell_type": "markdown",
      "source": [
        "## Early Stopping"
      ],
      "metadata": {
        "id": "4SwmjQ3sOmq6"
      }
    },
    {
      "cell_type": "code",
      "source": [
        "from tensorflow.keras.callbacks import EarlyStopping"
      ],
      "metadata": {
        "id": "kIHhbg47OkWY"
      },
      "execution_count": 20,
      "outputs": []
    },
    {
      "cell_type": "code",
      "source": [
        "es = EarlyStopping(monitor='val_loss', # 관측 대상\n",
        "                   min_delta=0,        # 0: 성능이 하락하지 않으면 패스\n",
        "                   patience=5,         # 중요) 모델이 개선되지 않는 상태를 몇번이나 넘어갈지\n",
        "                   verbose=1,\n",
        "                   restore_best_weights=True) # 중요) 학습이 멈췄을 때, 최적의 가중치로 전환 (반드시 True)"
      ],
      "metadata": {
        "id": "nWaZ_uM7OoVO"
      },
      "execution_count": 21,
      "outputs": []
    },
    {
      "cell_type": "code",
      "source": [
        "model.fit(train_x, train_y, validation_split=0.2, callbacks=[es],\n",
        "          verbose=1, epochs=50)"
      ],
      "metadata": {
        "colab": {
          "base_uri": "https://localhost:8080/"
        },
        "id": "EyV1YTO8Oxcl",
        "outputId": "4aeb3e92-0384-4613-de5b-902c13677de0"
      },
      "execution_count": 22,
      "outputs": [
        {
          "output_type": "stream",
          "name": "stdout",
          "text": [
            "Epoch 1/50\n",
            "1500/1500 [==============================] - 6s 2ms/step - loss: 0.3814 - accuracy: 0.8923 - val_loss: 0.3448 - val_accuracy: 0.9068\n",
            "Epoch 2/50\n",
            "1500/1500 [==============================] - 4s 2ms/step - loss: 0.3444 - accuracy: 0.9076 - val_loss: 0.3376 - val_accuracy: 0.9082\n",
            "Epoch 3/50\n",
            "1500/1500 [==============================] - 4s 2ms/step - loss: 0.3323 - accuracy: 0.9105 - val_loss: 0.3166 - val_accuracy: 0.9184\n",
            "Epoch 4/50\n",
            "1500/1500 [==============================] - 3s 2ms/step - loss: 0.3275 - accuracy: 0.9120 - val_loss: 0.3485 - val_accuracy: 0.9128\n",
            "Epoch 5/50\n",
            "1500/1500 [==============================] - 4s 3ms/step - loss: 0.3284 - accuracy: 0.9139 - val_loss: 0.3499 - val_accuracy: 0.9107\n",
            "Epoch 6/50\n",
            "1500/1500 [==============================] - 4s 2ms/step - loss: 0.3226 - accuracy: 0.9146 - val_loss: 0.3536 - val_accuracy: 0.9097\n",
            "Epoch 7/50\n",
            "1500/1500 [==============================] - 4s 3ms/step - loss: 0.3183 - accuracy: 0.9159 - val_loss: 0.3754 - val_accuracy: 0.9055\n",
            "Epoch 8/50\n",
            "1498/1500 [============================>.] - ETA: 0s - loss: 0.3151 - accuracy: 0.9169Restoring model weights from the end of the best epoch: 3.\n",
            "1500/1500 [==============================] - 4s 2ms/step - loss: 0.3151 - accuracy: 0.9169 - val_loss: 0.3899 - val_accuracy: 0.9043\n",
            "Epoch 8: early stopping\n"
          ]
        },
        {
          "output_type": "execute_result",
          "data": {
            "text/plain": [
              "<keras.callbacks.History at 0x7f37902b7f90>"
            ]
          },
          "metadata": {},
          "execution_count": 22
        }
      ]
    },
    {
      "cell_type": "code",
      "source": [
        "pred_train = model.predict(train_x)\n",
        "pred_test = model.predict(test_x)\n",
        "\n",
        "single_pred_train = pred_train.argmax(axis=1)\n",
        "single_pred_test = pred_test.argmax(axis=1)\n",
        "\n",
        "logi_train_accuracy = accuracy_score(train_y.argmax(axis=1), single_pred_train)\n",
        "logi_test_accuracy = accuracy_score(test_y.argmax(axis=1), single_pred_test)\n",
        "\n",
        "print('트레이닝 정확도 : {:.2f}%'.format(logi_train_accuracy*100))\n",
        "print('테스트 정확도 : {:.2f}%'.format(logi_test_accuracy*100))"
      ],
      "metadata": {
        "colab": {
          "base_uri": "https://localhost:8080/"
        },
        "id": "FE1BxIDTOzAr",
        "outputId": "3371b0c8-04d7-42d9-e163-499c4ae3f92d"
      },
      "execution_count": 23,
      "outputs": [
        {
          "output_type": "stream",
          "name": "stdout",
          "text": [
            "트레이닝 정확도 : 92.24%\n",
            "테스트 정확도 : 91.71%\n"
          ]
        }
      ]
    },
    {
      "cell_type": "code",
      "source": [
        "mnist_labels = ['0', '1', '2', '3', '4', '5', '6', '7', '8', '9']\n",
        "\n",
        "figure = plt.figure(figsize=(20, 10))\n",
        "\n",
        "for i, index in enumerate(np.random.choice(test_x.shape[0], size=15, replace=False)):\n",
        "    ax = figure.add_subplot(3, 5, i + 1, xticks=[], yticks=[])\n",
        "    # Display each image\n",
        "    ax.imshow(np.squeeze(test_x[index].reshape([28,-1])), cmap='gray' )\n",
        "    \n",
        "    predict_index = pred_test[index].argmax(axis=0)\n",
        "    true_index = test_y[index].argmax(axis=0)\n",
        "    # Set the title for each image\n",
        "    ax.set_title(f\"{mnist_labels[predict_index]} ({mnist_labels[true_index]})\",\n",
        "                 color=(\"green\" if predict_index == true_index else \"red\"))"
      ],
      "metadata": {
        "colab": {
          "base_uri": "https://localhost:8080/",
          "height": 487
        },
        "id": "ATL7XYo8O12n",
        "outputId": "36229197-ae4b-45bb-a8ca-0e3e585d6d71"
      },
      "execution_count": 24,
      "outputs": [
        {
          "output_type": "display_data",
          "data": {
            "text/plain": [
              "<Figure size 1440x720 with 15 Axes>"
            ],
            "image/png": "[encoded data removed]"
          },
          "metadata": {}
        }
      ]
    },
    {
      "cell_type": "code",
      "source": [
        "# 틀린 것을 확인해보기\n",
        "true_false = (test_y.argmax(axis=1) == single_pred_test)\n",
        "f_id = np.where(true_false == False)[0]\n",
        "f_n = len(f_id)\n",
        "\n",
        "id = f_id[rd.randrange(0,f_n)]\n",
        "\n",
        "print(f'id = {id}' )\n",
        "print(f'다음 그림은 숫자 {test_y.argmax(axis=1)[id]} 입니다.')\n",
        "print(f'모델의 예측 : {single_pred_test[id]}')\n",
        "print(f'모델의 카테고리별 확률 : {np.floor(pred_test[id]*100)}')\n",
        "\n",
        "if test_y.argmax(axis=1)[id] == single_pred_test[id] :\n",
        "    print('===============')\n",
        "    print('정답입니다')\n",
        "    print('===============')\n",
        "else : \n",
        "    print('===============')\n",
        "    print('틀렸어요')\n",
        "    print('===============')\n",
        "\n",
        "plt.imshow(test_x[id].reshape([28,-1]), cmap='gray')\n",
        "plt.show()"
      ],
      "metadata": {
        "colab": {
          "base_uri": "https://localhost:8080/",
          "height": 394
        },
        "id": "7Awni1gnO3F2",
        "outputId": "60f902ec-a44a-4edd-acf1-cbf7f4926a33"
      },
      "execution_count": 25,
      "outputs": [
        {
          "output_type": "stream",
          "name": "stdout",
          "text": [
            "id = 950\n",
            "다음 그림은 숫자 7 입니다.\n",
            "모델의 예측 : 2\n",
            "모델의 카테고리별 확률 : [ 0.  0. 83.  0.  0.  0.  0.  0.  2. 13.]\n",
            "===============\n",
            "틀렸어요\n",
            "===============\n"
          ]
        },
        {
          "output_type": "display_data",
          "data": {
            "text/plain": [
              "<Figure size 432x288 with 1 Axes>"
            ],
            "image/png": "[encoded data removed]"
          },
          "metadata": {
            "needs_background": "light"
          }
        }
      ]
    },
    {
      "cell_type": "code",
      "source": [
        "model.evaluate(test_x, test_y)"
      ],
      "metadata": {
        "colab": {
          "base_uri": "https://localhost:8080/"
        },
        "id": "8XfzObNaO6fJ",
        "outputId": "8e54c336-e1d9-42d8-aec9-b205397239bb"
      },
      "execution_count": 26,
      "outputs": [
        {
          "output_type": "stream",
          "name": "stdout",
          "text": [
            "313/313 [==============================] - 1s 2ms/step - loss: 0.3251 - accuracy: 0.9171\n"
          ]
        },
        {
          "output_type": "execute_result",
          "data": {
            "text/plain": [
              "[0.3250808119773865, 0.9171000123023987]"
            ]
          },
          "metadata": {},
          "execution_count": 26
        }
      ]
    },
    {
      "cell_type": "markdown",
      "source": [
        "## Hidden Layer 추가"
      ],
      "metadata": {
        "id": "jVqGXJS0O84h"
      }
    },
    {
      "cell_type": "code",
      "source": [
        "train_x.shape, train_y.shape"
      ],
      "metadata": {
        "colab": {
          "base_uri": "https://localhost:8080/"
        },
        "id": "sjf_Cw8-O7o7",
        "outputId": "09aef4f1-1761-40d9-dbb5-dbb09fde6c12"
      },
      "execution_count": 27,
      "outputs": [
        {
          "output_type": "execute_result",
          "data": {
            "text/plain": [
              "((60000, 784), (60000, 10))"
            ]
          },
          "metadata": {},
          "execution_count": 27
        }
      ]
    },
    {
      "cell_type": "code",
      "source": [
        "# Modeling : Sequential\n",
        "\n",
        "# 1. Session Clear\n",
        "keras.backend.clear_session()\n",
        "\n",
        "# 2. Model\n",
        "model = keras.models.Sequential()\n",
        "\n",
        "# 3. Model Add\n",
        "model.add(keras.layers.Input(shape=(train_x.shape[1])) )\n",
        "model.add(keras.layers.Dense(256, activation='relu') )\n",
        "model.add(keras.layers.Dense(256, activation='relu') )\n",
        "model.add(keras.layers.Dense(256, activation='relu') )\n",
        "model.add(keras.layers.Dense(10, activation='softmax') )\n",
        "\n",
        "# 4. Compile\n",
        "model.compile(loss=keras.losses.categorical_crossentropy, metrics=['accuracy'],\n",
        "               optimizer=keras.optimizers.Adam(learning_rate=0.01))"
      ],
      "metadata": {
        "id": "Okf4Yz7PO-_K"
      },
      "execution_count": 28,
      "outputs": []
    },
    {
      "cell_type": "code",
      "source": [
        "# Summary\n",
        "model.summary()"
      ],
      "metadata": {
        "colab": {
          "base_uri": "https://localhost:8080/"
        },
        "id": "MJBuhJRcPDRC",
        "outputId": "6032a052-5585-4e2c-f338-a50e5511f890"
      },
      "execution_count": 29,
      "outputs": [
        {
          "output_type": "stream",
          "name": "stdout",
          "text": [
            "Model: \"sequential\"\n",
            "_________________________________________________________________\n",
            " Layer (type)                Output Shape              Param #   \n",
            "=================================================================\n",
            " dense (Dense)               (None, 256)               200960    \n",
            "                                                                 \n",
            " dense_1 (Dense)             (None, 256)               65792     \n",
            "                                                                 \n",
            " dense_2 (Dense)             (None, 256)               65792     \n",
            "                                                                 \n",
            " dense_3 (Dense)             (None, 10)                2570      \n",
            "                                                                 \n",
            "=================================================================\n",
            "Total params: 335,114\n",
            "Trainable params: 335,114\n",
            "Non-trainable params: 0\n",
            "_________________________________________________________________\n"
          ]
        }
      ]
    },
    {
      "cell_type": "code",
      "source": [
        "es = EarlyStopping(monitor='val_loss',\n",
        "                   min_delta=0,\n",
        "                   patience=5,\n",
        "                   verbose=1,\n",
        "                   restore_best_weights=True)"
      ],
      "metadata": {
        "id": "GGUp867cPE79"
      },
      "execution_count": 30,
      "outputs": []
    },
    {
      "cell_type": "code",
      "source": [
        "# 5. fit\n",
        "model.fit(train_x, train_y, validation_split=0.2, callbacks=[es],\n",
        "          verbose=1, epochs=50)"
      ],
      "metadata": {
        "colab": {
          "base_uri": "https://localhost:8080/"
        },
        "id": "QtmH4MyQPGM4",
        "outputId": "c67d6478-3b21-4852-ba92-a52697d3f073"
      },
      "execution_count": 31,
      "outputs": [
        {
          "output_type": "stream",
          "name": "stdout",
          "text": [
            "Epoch 1/50\n",
            "1500/1500 [==============================] - 4s 3ms/step - loss: 0.3567 - accuracy: 0.9016 - val_loss: 0.2473 - val_accuracy: 0.9383\n",
            "Epoch 2/50\n",
            "1500/1500 [==============================] - 4s 3ms/step - loss: 0.2436 - accuracy: 0.9398 - val_loss: 0.2455 - val_accuracy: 0.9403\n",
            "Epoch 3/50\n",
            "1500/1500 [==============================] - 4s 2ms/step - loss: 0.2134 - accuracy: 0.9476 - val_loss: 0.1870 - val_accuracy: 0.9539\n",
            "Epoch 4/50\n",
            "1500/1500 [==============================] - 4s 3ms/step - loss: 0.1692 - accuracy: 0.9583 - val_loss: 0.1919 - val_accuracy: 0.9559\n",
            "Epoch 5/50\n",
            "1500/1500 [==============================] - 4s 3ms/step - loss: 0.1824 - accuracy: 0.9576 - val_loss: 0.1816 - val_accuracy: 0.9597\n",
            "Epoch 6/50\n",
            "1500/1500 [==============================] - 4s 3ms/step - loss: 0.1676 - accuracy: 0.9616 - val_loss: 0.1923 - val_accuracy: 0.9578\n",
            "Epoch 7/50\n",
            "1500/1500 [==============================] - 4s 3ms/step - loss: 0.1563 - accuracy: 0.9652 - val_loss: 0.2311 - val_accuracy: 0.9508\n",
            "Epoch 8/50\n",
            "1500/1500 [==============================] - 4s 2ms/step - loss: 0.1447 - accuracy: 0.9666 - val_loss: 0.1859 - val_accuracy: 0.9588\n",
            "Epoch 9/50\n",
            "1500/1500 [==============================] - 4s 3ms/step - loss: 0.1510 - accuracy: 0.9678 - val_loss: 0.2243 - val_accuracy: 0.9555\n",
            "Epoch 10/50\n",
            "1489/1500 [============================>.] - ETA: 0s - loss: 0.1511 - accuracy: 0.9669Restoring model weights from the end of the best epoch: 5.\n",
            "1500/1500 [==============================] - 4s 3ms/step - loss: 0.1515 - accuracy: 0.9669 - val_loss: 0.2239 - val_accuracy: 0.9598\n",
            "Epoch 10: early stopping\n"
          ]
        },
        {
          "output_type": "execute_result",
          "data": {
            "text/plain": [
              "<keras.callbacks.History at 0x7f37281f5550>"
            ]
          },
          "metadata": {},
          "execution_count": 31
        }
      ]
    },
    {
      "cell_type": "code",
      "source": [
        "pred_train = model.predict(train_x)\n",
        "pred_test = model.predict(test_x)\n",
        "\n",
        "single_pred_train = pred_train.argmax(axis=1)\n",
        "single_pred_test = pred_test.argmax(axis=1)\n",
        "\n",
        "logi_train_accuracy = accuracy_score(train_y.argmax(axis=1), single_pred_train)\n",
        "logi_test_accuracy = accuracy_score(test_y.argmax(axis=1), single_pred_test)\n",
        "\n",
        "print('트레이닝 정확도 : {:.2f}%'.format(logi_train_accuracy*100))\n",
        "print('테스트 정확도 : {:.2f}%'.format(logi_test_accuracy*100))"
      ],
      "metadata": {
        "colab": {
          "base_uri": "https://localhost:8080/"
        },
        "id": "Pv44irbkPHeW",
        "outputId": "1bfd4413-99be-4fdc-95eb-edb152c62825"
      },
      "execution_count": 32,
      "outputs": [
        {
          "output_type": "stream",
          "name": "stdout",
          "text": [
            "트레이닝 정확도 : 96.75%\n",
            "테스트 정확도 : 96.16%\n"
          ]
        }
      ]
    },
    {
      "cell_type": "code",
      "source": [
        "mnist_labels = ['0', '1', '2', '3', '4', '5', '6', '7', '8', '9']\n",
        "\n",
        "figure = plt.figure(figsize=(20, 10))\n",
        "\n",
        "for i, index in enumerate(np.random.choice(test_x.shape[0], size=15, replace=False)):\n",
        "    ax = figure.add_subplot(3, 5, i + 1, xticks=[], yticks=[])\n",
        "    # Display each image\n",
        "    ax.imshow(np.squeeze(test_x[index].reshape([28,-1])), cmap='gray' )\n",
        "    \n",
        "    predict_index = pred_test[index].argmax(axis=0)\n",
        "    true_index = test_y[index].argmax(axis=0)\n",
        "    # Set the title for each image\n",
        "    ax.set_title(f\"{mnist_labels[predict_index]} ({mnist_labels[true_index]})\",\n",
        "                 color=(\"green\" if predict_index == true_index else \"red\"))"
      ],
      "metadata": {
        "colab": {
          "base_uri": "https://localhost:8080/",
          "height": 487
        },
        "id": "zNkv7hgBPIia",
        "outputId": "4b7f862a-eded-469f-a6f5-7404259146ea"
      },
      "execution_count": 33,
      "outputs": [
        {
          "output_type": "display_data",
          "data": {
            "text/plain": [
              "<Figure size 1440x720 with 15 Axes>"
            ],
            "image/png": "[encoded data removed]"
          },
          "metadata": {}
        }
      ]
    },
    {
      "cell_type": "code",
      "source": [
        "# 틀린 것을 확인해보기\n",
        "true_false = (test_y.argmax(axis=1) == single_pred_test)\n",
        "f_id = np.where(true_false == False)[0]\n",
        "f_n = len(f_id)\n",
        "\n",
        "id = f_id[rd.randrange(0,f_n)]\n",
        "\n",
        "print(f'id = {id}' )\n",
        "print(f'다음 그림은 숫자 {test_y.argmax(axis=1)[id]} 입니다.')\n",
        "print(f'모델의 예측 : {single_pred_test[id]}')\n",
        "print(f'모델의 카테고리별 확률 : {np.floor(pred_test[id]*100)}')\n",
        "\n",
        "if test_y.argmax(axis=1)[id] == single_pred_test[id] :\n",
        "    print('===============')\n",
        "    print('정답입니다')\n",
        "    print('===============')\n",
        "else : \n",
        "    print('===============')\n",
        "    print('틀렸어요')\n",
        "    print('===============')\n",
        "\n",
        "plt.imshow(test_x[id].reshape([28,-1]), cmap='gray')\n",
        "plt.show()"
      ],
      "metadata": {
        "colab": {
          "base_uri": "https://localhost:8080/",
          "height": 394
        },
        "id": "BJtfBuFNPJWu",
        "outputId": "bcb63bf2-cfa6-4379-ba1c-f6421e82dedb"
      },
      "execution_count": 34,
      "outputs": [
        {
          "output_type": "stream",
          "name": "stdout",
          "text": [
            "id = 4363\n",
            "다음 그림은 숫자 9 입니다.\n",
            "모델의 예측 : 5\n",
            "모델의 카테고리별 확률 : [ 0.  0.  0. 22.  0. 46.  0.  2. 11. 13.]\n",
            "===============\n",
            "틀렸어요\n",
            "===============\n"
          ]
        },
        {
          "output_type": "display_data",
          "data": {
            "text/plain": [
              "<Figure size 432x288 with 1 Axes>"
            ],
            "image/png": "[encoded data removed]"
          },
          "metadata": {
            "needs_background": "light"
          }
        }
      ]
    },
    {
      "cell_type": "code",
      "source": [
        "model.evaluate(test_x, test_y)"
      ],
      "metadata": {
        "colab": {
          "base_uri": "https://localhost:8080/"
        },
        "id": "KA3ntP6fPM4R",
        "outputId": "36fe0f99-9c14-4ec2-b85e-4e19c6754f0b"
      },
      "execution_count": 35,
      "outputs": [
        {
          "output_type": "stream",
          "name": "stdout",
          "text": [
            "313/313 [==============================] - 1s 2ms/step - loss: 0.1743 - accuracy: 0.9616\n"
          ]
        },
        {
          "output_type": "execute_result",
          "data": {
            "text/plain": [
              "[0.17428098618984222, 0.9616000056266785]"
            ]
          },
          "metadata": {},
          "execution_count": 35
        }
      ]
    },
    {
      "cell_type": "code",
      "source": [],
      "metadata": {
        "id": "Zz3X3Lk3PN3j"
      },
      "execution_count": null,
      "outputs": []
    }
  ]
}

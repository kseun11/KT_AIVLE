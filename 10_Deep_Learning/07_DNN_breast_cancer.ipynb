{
  "nbformat": 4,
  "nbformat_minor": 0,
  "metadata": {
    "colab": {
      "provenance": [],
      "collapsed_sections": [],
      "machine_shape": "hm"
    },
    "kernelspec": {
      "name": "python3",
      "display_name": "Python 3"
    },
    "language_info": {
      "name": "python"
    },
    "accelerator": "GPU",
    "gpuClass": "standard"
  },
  "cells": [
    {
      "cell_type": "code",
      "execution_count": 1,
      "metadata": {
        "id": "e9Knh17jJynz"
      },
      "outputs": [],
      "source": [
        "from sklearn.datasets import load_breast_cancer"
      ]
    },
    {
      "cell_type": "code",
      "source": [
        "cancer = load_breast_cancer()"
      ],
      "metadata": {
        "id": "RetsF8iTLfRq"
      },
      "execution_count": 2,
      "outputs": []
    },
    {
      "cell_type": "code",
      "source": [
        "x = cancer.data\n",
        "y = cancer.target"
      ],
      "metadata": {
        "id": "OjJ6avULLf-w"
      },
      "execution_count": 3,
      "outputs": []
    },
    {
      "cell_type": "code",
      "source": [
        "x.shape, y.shape"
      ],
      "metadata": {
        "colab": {
          "base_uri": "https://localhost:8080/"
        },
        "id": "vC6uQ1OsLgy9",
        "outputId": "4b42d8fa-e43e-41ed-f0f1-ab92f706f0a3"
      },
      "execution_count": 4,
      "outputs": [
        {
          "output_type": "execute_result",
          "data": {
            "text/plain": [
              "((569, 30), (569,))"
            ]
          },
          "metadata": {},
          "execution_count": 4
        }
      ]
    },
    {
      "cell_type": "code",
      "source": [
        "# train, valid split\n",
        "from sklearn.model_selection import train_test_split\n",
        "\n",
        "x_train, x_valid, y_train, y_valid = train_test_split(x, y, test_size=0.2, random_state=2022)"
      ],
      "metadata": {
        "id": "ZeLJvd9LLh17"
      },
      "execution_count": 5,
      "outputs": []
    },
    {
      "cell_type": "code",
      "source": [
        "x_train.shape, y_train.shape"
      ],
      "metadata": {
        "colab": {
          "base_uri": "https://localhost:8080/"
        },
        "id": "L_YNNludLndV",
        "outputId": "bee20d52-57f9-4edb-fb55-d62482c305b6"
      },
      "execution_count": 6,
      "outputs": [
        {
          "output_type": "execute_result",
          "data": {
            "text/plain": [
              "((455, 30), (455,))"
            ]
          },
          "metadata": {},
          "execution_count": 6
        }
      ]
    },
    {
      "cell_type": "code",
      "source": [
        "# Import\n",
        "import tensorflow as tf\n",
        "from tensorflow import keras\n",
        "import numpy as np"
      ],
      "metadata": {
        "id": "j-AlqVq2LpUS"
      },
      "execution_count": 7,
      "outputs": []
    },
    {
      "cell_type": "code",
      "source": [
        "# Modeling : Functional\n",
        "\n",
        "# 1. Session Clear\n",
        "keras.backend.clear_session()\n",
        "\n",
        "# 2. Layer\n",
        "input_layer = keras.layers.Input(shape=(30, ))\n",
        "output_layer = keras.layers.Dense(1, activation='sigmoid')(input_layer)\n",
        "\n",
        "# 3. Model\n",
        "model = keras.models.Model(inputs=input_layer, outputs=output_layer)\n",
        "\n",
        "# 4. Compile\n",
        "model.compile(loss='binary_crossentropy',\n",
        "              optimizer='adam',\n",
        "              metrics=['accuracy'])"
      ],
      "metadata": {
        "id": "0hRB0Y-mLr_F"
      },
      "execution_count": 13,
      "outputs": []
    },
    {
      "cell_type": "code",
      "source": [
        "# Summary\n",
        "model.summary()"
      ],
      "metadata": {
        "colab": {
          "base_uri": "https://localhost:8080/"
        },
        "id": "gByMES7xLz3q",
        "outputId": "2f2c5fe8-061c-40d2-c0f3-ca07a0d2ec0c"
      },
      "execution_count": 14,
      "outputs": [
        {
          "output_type": "stream",
          "name": "stdout",
          "text": [
            "Model: \"model\"\n",
            "_________________________________________________________________\n",
            " Layer (type)                Output Shape              Param #   \n",
            "=================================================================\n",
            " input_1 (InputLayer)        [(None, 30)]              0         \n",
            "                                                                 \n",
            " dense (Dense)               (None, 1)                 31        \n",
            "                                                                 \n",
            "=================================================================\n",
            "Total params: 31\n",
            "Trainable params: 31\n",
            "Non-trainable params: 0\n",
            "_________________________________________________________________\n"
          ]
        }
      ]
    },
    {
      "cell_type": "code",
      "source": [
        "# 5. fit\n",
        "model.fit(x_train, y_train, epochs=10, verbose=1)"
      ],
      "metadata": {
        "colab": {
          "base_uri": "https://localhost:8080/"
        },
        "id": "1jrD7RWzL1ry",
        "outputId": "b04e1fc7-81ac-486c-df8b-76e4e72fa9be"
      },
      "execution_count": 15,
      "outputs": [
        {
          "output_type": "stream",
          "name": "stdout",
          "text": [
            "Epoch 1/10\n",
            "15/15 [==============================] - 1s 2ms/step - loss: 34.5182 - accuracy: 0.5934\n",
            "Epoch 2/10\n",
            "15/15 [==============================] - 0s 2ms/step - loss: 24.6001 - accuracy: 0.3011\n",
            "Epoch 3/10\n",
            "15/15 [==============================] - 0s 2ms/step - loss: 21.9277 - accuracy: 0.1363\n",
            "Epoch 4/10\n",
            "15/15 [==============================] - 0s 2ms/step - loss: 21.3449 - accuracy: 0.1473\n",
            "Epoch 5/10\n",
            "15/15 [==============================] - 0s 2ms/step - loss: 20.6846 - accuracy: 0.1407\n",
            "Epoch 6/10\n",
            "15/15 [==============================] - 0s 2ms/step - loss: 19.9843 - accuracy: 0.1451\n",
            "Epoch 7/10\n",
            "15/15 [==============================] - 0s 2ms/step - loss: 19.2709 - accuracy: 0.1538\n",
            "Epoch 8/10\n",
            "15/15 [==============================] - 0s 2ms/step - loss: 18.5562 - accuracy: 0.1604\n",
            "Epoch 9/10\n",
            "15/15 [==============================] - 0s 2ms/step - loss: 17.8545 - accuracy: 0.1670\n",
            "Epoch 10/10\n",
            "15/15 [==============================] - 0s 2ms/step - loss: 17.0976 - accuracy: 0.1802\n"
          ]
        },
        {
          "output_type": "execute_result",
          "data": {
            "text/plain": [
              "<keras.callbacks.History at 0x7fd8843be210>"
            ]
          },
          "metadata": {},
          "execution_count": 15
        }
      ]
    },
    {
      "cell_type": "code",
      "source": [
        "# 6. predict\n",
        "model.predict(x_valid).reshape(-1)"
      ],
      "metadata": {
        "colab": {
          "base_uri": "https://localhost:8080/"
        },
        "id": "YFac89aVL5oC",
        "outputId": "09042bc8-5867-4bd3-e0d3-aa7618acaf7b"
      },
      "execution_count": 16,
      "outputs": [
        {
          "output_type": "execute_result",
          "data": {
            "text/plain": [
              "array([7.69496822e-09, 2.96640592e-05, 1.85040004e-12, 4.36786831e-05,\n",
              "       5.09304987e-14, 6.02264015e-04, 5.63408403e-14, 1.00000000e+00,\n",
              "       8.86261016e-02, 1.00000000e+00, 1.00000000e+00, 1.00000000e+00,\n",
              "       2.72116125e-01, 1.00000000e+00, 7.71201236e-09, 2.64073927e-02,\n",
              "       1.06475645e-05, 1.11169323e-08, 2.31245023e-04, 7.07253348e-04,\n",
              "       5.29167533e-01, 3.99428546e-01, 4.91567631e-09, 9.79470432e-01,\n",
              "       1.34194357e-04, 5.81237067e-08, 1.17076319e-02, 3.02908418e-04,\n",
              "       3.19325388e-03, 2.27062404e-01, 2.62478454e-04, 6.80422718e-10,\n",
              "       8.12774897e-01, 8.16415674e-13, 3.59917976e-05, 1.00000000e+00,\n",
              "       1.12049556e-05, 2.93935001e-01, 1.00000000e+00, 9.84234631e-01,\n",
              "       5.54641402e-12, 1.00000000e+00, 1.00000000e+00, 5.68178984e-06,\n",
              "       1.00000000e+00, 1.81392363e-06, 1.00000000e+00, 8.43953032e-08,\n",
              "       1.00000000e+00, 1.00000000e+00, 9.34708441e-06, 1.00000000e+00,\n",
              "       9.91879761e-01, 4.35673453e-09, 1.00000000e+00, 1.00000000e+00,\n",
              "       3.10719106e-03, 4.83376243e-06, 1.91498685e-07, 4.11585122e-09,\n",
              "       1.00000000e+00, 4.85093158e-04, 1.36795090e-04, 1.00000000e+00,\n",
              "       9.99499083e-01, 1.65897909e-08, 5.61294705e-03, 1.40695687e-04,\n",
              "       7.30494332e-09, 2.42372844e-02, 3.51654279e-08, 1.00000000e+00,\n",
              "       8.24008239e-08, 9.86715496e-01, 9.33184326e-02, 2.13214300e-08,\n",
              "       9.99999046e-01, 1.90949795e-05, 6.72841738e-18, 7.67541816e-04,\n",
              "       7.65209507e-10, 2.34520733e-01, 9.99994516e-01, 3.59529686e-08,\n",
              "       1.86975583e-07, 9.34589103e-13, 1.00000000e+00, 1.00000000e+00,\n",
              "       1.36774034e-07, 1.00000000e+00, 7.93347955e-01, 1.66931913e-17,\n",
              "       7.98622239e-03, 1.57111746e-09, 6.98256373e-01, 5.12621409e-06,\n",
              "       3.87225811e-07, 8.29382956e-01, 2.71191657e-01, 2.75490493e-01,\n",
              "       1.00000000e+00, 5.06051401e-06, 1.00000000e+00, 1.00000000e+00,\n",
              "       9.99515891e-01, 8.99237348e-05, 3.97304865e-03, 9.99983788e-01,\n",
              "       1.00000000e+00, 7.10731931e-03, 2.59599301e-06, 4.02707968e-07,\n",
              "       1.00000000e+00, 7.46798747e-08], dtype=float32)"
            ]
          },
          "metadata": {},
          "execution_count": 16
        }
      ]
    },
    {
      "cell_type": "markdown",
      "source": [
        "## Hidden Layer 추가"
      ],
      "metadata": {
        "id": "V7auJAX1L7-2"
      }
    },
    {
      "cell_type": "code",
      "source": [
        "# Modeling : Functional\n",
        "\n",
        "# 1. Session Clear\n",
        "keras.backend.clear_session()\n",
        "\n",
        "# 2. Layer\n",
        "input_layer = keras.layers.Input(shape=(30,))\n",
        "hidden1 = keras.layers.Dense(32, activation='relu')(input_layer)\n",
        "hidden2 = keras.layers.Dense(32, activation='relu')(hidden1)\n",
        "output_layer = keras.layers.Dense(1, activation='sigmoid')(hidden2)\n",
        "\n",
        "# 3. Model\n",
        "model = keras.models.Model(inputs=input_layer, outputs=output_layer)\n",
        "\n",
        "# 4. Compile\n",
        "model.compile(loss='binary_crossentropy',\n",
        "              optimizer='adam',\n",
        "              metrics=['accuracy'])"
      ],
      "metadata": {
        "id": "9wSalRhHL7Ej"
      },
      "execution_count": 17,
      "outputs": []
    },
    {
      "cell_type": "code",
      "source": [
        "# Summary\n",
        "model.summary()"
      ],
      "metadata": {
        "colab": {
          "base_uri": "https://localhost:8080/"
        },
        "id": "gb1-OHSqMHun",
        "outputId": "5f9784f4-a87c-4b0a-ae42-2342bf8bb231"
      },
      "execution_count": 18,
      "outputs": [
        {
          "output_type": "stream",
          "name": "stdout",
          "text": [
            "Model: \"model\"\n",
            "_________________________________________________________________\n",
            " Layer (type)                Output Shape              Param #   \n",
            "=================================================================\n",
            " input_1 (InputLayer)        [(None, 30)]              0         \n",
            "                                                                 \n",
            " dense (Dense)               (None, 32)                992       \n",
            "                                                                 \n",
            " dense_1 (Dense)             (None, 32)                1056      \n",
            "                                                                 \n",
            " dense_2 (Dense)             (None, 1)                 33        \n",
            "                                                                 \n",
            "=================================================================\n",
            "Total params: 2,081\n",
            "Trainable params: 2,081\n",
            "Non-trainable params: 0\n",
            "_________________________________________________________________\n"
          ]
        }
      ]
    },
    {
      "cell_type": "code",
      "source": [
        "# 5. fit\n",
        "model.fit(x_train, y_train, epochs=10, verbose=1)"
      ],
      "metadata": {
        "colab": {
          "base_uri": "https://localhost:8080/"
        },
        "id": "77CnSguPMJMK",
        "outputId": "4602c4b9-eb8f-4073-ff80-d258a0a369ab"
      },
      "execution_count": 19,
      "outputs": [
        {
          "output_type": "stream",
          "name": "stdout",
          "text": [
            "Epoch 1/10\n",
            "15/15 [==============================] - 0s 2ms/step - loss: 6.2684 - accuracy: 0.3714\n",
            "Epoch 2/10\n",
            "15/15 [==============================] - 0s 3ms/step - loss: 1.8633 - accuracy: 0.5582\n",
            "Epoch 3/10\n",
            "15/15 [==============================] - 0s 2ms/step - loss: 0.8901 - accuracy: 0.7714\n",
            "Epoch 4/10\n",
            "15/15 [==============================] - 0s 2ms/step - loss: 0.5113 - accuracy: 0.8264\n",
            "Epoch 5/10\n",
            "15/15 [==============================] - 0s 2ms/step - loss: 0.3515 - accuracy: 0.8681\n",
            "Epoch 6/10\n",
            "15/15 [==============================] - 0s 2ms/step - loss: 0.6015 - accuracy: 0.8242\n",
            "Epoch 7/10\n",
            "15/15 [==============================] - 0s 3ms/step - loss: 0.3606 - accuracy: 0.8813\n",
            "Epoch 8/10\n",
            "15/15 [==============================] - 0s 2ms/step - loss: 0.4294 - accuracy: 0.8484\n",
            "Epoch 9/10\n",
            "15/15 [==============================] - 0s 2ms/step - loss: 0.3323 - accuracy: 0.9033\n",
            "Epoch 10/10\n",
            "15/15 [==============================] - 0s 2ms/step - loss: 0.2929 - accuracy: 0.9099\n"
          ]
        },
        {
          "output_type": "execute_result",
          "data": {
            "text/plain": [
              "<keras.callbacks.History at 0x7fd8843dd2d0>"
            ]
          },
          "metadata": {},
          "execution_count": 19
        }
      ]
    },
    {
      "cell_type": "code",
      "source": [
        "# 6. predict\n",
        "y_pred = model.predict(x_valid)"
      ],
      "metadata": {
        "id": "n5YFxcTAMKhD"
      },
      "execution_count": 20,
      "outputs": []
    },
    {
      "cell_type": "code",
      "source": [
        "y_valid"
      ],
      "metadata": {
        "colab": {
          "base_uri": "https://localhost:8080/"
        },
        "id": "DwHbCc5-MMXJ",
        "outputId": "4b9c8121-fd5c-43d4-bad9-b26cf1822976"
      },
      "execution_count": 21,
      "outputs": [
        {
          "output_type": "execute_result",
          "data": {
            "text/plain": [
              "array([1, 1, 0, 1, 1, 1, 1, 0, 0, 0, 0, 0, 0, 0, 1, 1, 1, 1, 1, 1, 1, 1,\n",
              "       1, 1, 1, 1, 1, 1, 0, 1, 1, 1, 0, 0, 1, 0, 0, 1, 0, 1, 1, 0, 0, 1,\n",
              "       0, 1, 0, 1, 0, 0, 1, 0, 0, 1, 0, 0, 1, 1, 1, 1, 0, 1, 1, 0, 0, 1,\n",
              "       1, 1, 0, 1, 1, 0, 1, 1, 0, 1, 0, 0, 0, 1, 1, 1, 0, 1, 1, 0, 0, 0,\n",
              "       1, 0, 1, 0, 1, 1, 0, 1, 1, 1, 1, 1, 0, 1, 0, 0, 1, 1, 1, 0, 0, 1,\n",
              "       1, 1, 0, 1])"
            ]
          },
          "metadata": {},
          "execution_count": 21
        }
      ]
    },
    {
      "cell_type": "code",
      "source": [
        "y_test2 = np.where(y_pred >= 0.5, 1, 0)\n",
        "y_test2.reshape(-1)"
      ],
      "metadata": {
        "colab": {
          "base_uri": "https://localhost:8080/"
        },
        "id": "bTTNVBI0MN6S",
        "outputId": "a95b3ae2-efc3-4f7a-8b7f-2d1e12640967"
      },
      "execution_count": 22,
      "outputs": [
        {
          "output_type": "execute_result",
          "data": {
            "text/plain": [
              "array([1, 1, 1, 1, 1, 1, 1, 0, 1, 0, 0, 0, 0, 0, 1, 1, 1, 1, 1, 1, 1, 1,\n",
              "       1, 1, 1, 1, 1, 1, 1, 1, 1, 1, 0, 1, 1, 0, 0, 1, 0, 1, 1, 0, 0, 1,\n",
              "       0, 1, 0, 1, 0, 0, 1, 0, 1, 1, 0, 0, 1, 1, 1, 1, 0, 1, 1, 0, 1, 1,\n",
              "       1, 1, 1, 1, 1, 0, 1, 1, 0, 1, 0, 1, 0, 1, 1, 1, 0, 1, 1, 0, 0, 0,\n",
              "       1, 0, 1, 0, 1, 1, 0, 1, 1, 1, 1, 1, 0, 1, 0, 0, 1, 1, 1, 0, 0, 1,\n",
              "       1, 1, 0, 1])"
            ]
          },
          "metadata": {},
          "execution_count": 22
        }
      ]
    },
    {
      "cell_type": "code",
      "source": [],
      "metadata": {
        "id": "hREuenT3MOle"
      },
      "execution_count": null,
      "outputs": []
    }
  ]
}

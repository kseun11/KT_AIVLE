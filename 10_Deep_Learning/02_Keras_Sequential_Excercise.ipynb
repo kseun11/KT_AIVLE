{
  "nbformat": 4,
  "nbformat_minor": 0,
  "metadata": {
    "colab": {
      "provenance": [],
      "collapsed_sections": [],
      "machine_shape": "hm"
    },
    "kernelspec": {
      "name": "python3",
      "display_name": "Python 3"
    },
    "language_info": {
      "name": "python"
    },
    "accelerator": "GPU",
    "gpuClass": "standard"
  },
  "cells": [
    {
      "cell_type": "markdown",
      "source": [
        "## Quick Linear Regression"
      ],
      "metadata": {
        "id": "aKGrWnEVmADx"
      }
    },
    {
      "cell_type": "code",
      "execution_count": 1,
      "metadata": {
        "id": "jx-WPPOhhU8q"
      },
      "outputs": [],
      "source": [
        "import tensorflow as tf\n",
        "from tensorflow import keras\n",
        "import numpy as np"
      ]
    },
    {
      "cell_type": "code",
      "source": [
        "x = np.array(range(0, 20))\n",
        "y = x * 2 - 1\n",
        "\n",
        "print(x)\n",
        "print(y)"
      ],
      "metadata": {
        "colab": {
          "base_uri": "https://localhost:8080/"
        },
        "id": "d5uCpxu5oFeL",
        "outputId": "fb477c72-6994-4259-f76f-537b429979e6"
      },
      "execution_count": 2,
      "outputs": [
        {
          "output_type": "stream",
          "name": "stdout",
          "text": [
            "[ 0  1  2  3  4  5  6  7  8  9 10 11 12 13 14 15 16 17 18 19]\n",
            "[-1  1  3  5  7  9 11 13 15 17 19 21 23 25 27 29 31 33 35 37]\n"
          ]
        }
      ]
    },
    {
      "cell_type": "code",
      "source": [
        "# 1. Session Clear\n",
        "keras.backend.clear_session()\n",
        "\n",
        "# 2. Model\n",
        "input_layer = keras.layers.Input(shape=(1,))\n",
        "output_layer = keras.layers.Dense(1)(input_layer)\n",
        "\n",
        "# 3. Model Block\n",
        "model = keras.models.Model(inputs=input_layer, outputs=output_layer)\n",
        "\n",
        "# 4. Compile\n",
        "model.compile(loss='mse', optimizer='adam')"
      ],
      "metadata": {
        "id": "u99QL1gQoQ8c"
      },
      "execution_count": 3,
      "outputs": []
    },
    {
      "cell_type": "code",
      "source": [
        "# 5. fit\n",
        "model.fit(x, y, epochs=10, verbose=1)"
      ],
      "metadata": {
        "colab": {
          "base_uri": "https://localhost:8080/"
        },
        "id": "SuoeziVLoV5L",
        "outputId": "d72f27be-fa59-4d3c-e2ad-8e85072b54d1"
      },
      "execution_count": 4,
      "outputs": [
        {
          "output_type": "stream",
          "name": "stdout",
          "text": [
            "Epoch 1/10\n",
            "1/1 [==============================] - 2s 2s/step - loss: 48.7035\n",
            "Epoch 2/10\n",
            "1/1 [==============================] - 0s 7ms/step - loss: 48.5376\n",
            "Epoch 3/10\n",
            "1/1 [==============================] - 0s 7ms/step - loss: 48.3720\n",
            "Epoch 4/10\n",
            "1/1 [==============================] - 0s 6ms/step - loss: 48.2066\n",
            "Epoch 5/10\n",
            "1/1 [==============================] - 0s 7ms/step - loss: 48.0416\n",
            "Epoch 6/10\n",
            "1/1 [==============================] - 0s 6ms/step - loss: 47.8769\n",
            "Epoch 7/10\n",
            "1/1 [==============================] - 0s 6ms/step - loss: 47.7126\n",
            "Epoch 8/10\n",
            "1/1 [==============================] - 0s 6ms/step - loss: 47.5485\n",
            "Epoch 9/10\n",
            "1/1 [==============================] - 0s 6ms/step - loss: 47.3848\n",
            "Epoch 10/10\n",
            "1/1 [==============================] - 0s 6ms/step - loss: 47.2214\n"
          ]
        },
        {
          "output_type": "execute_result",
          "data": {
            "text/plain": [
              "<keras.callbacks.History at 0x7fc5e0276950>"
            ]
          },
          "metadata": {},
          "execution_count": 4
        }
      ]
    },
    {
      "cell_type": "code",
      "source": [
        "# 6. Predict\n",
        "print(y)\n",
        "print(model.predict(x).reshape(-1))"
      ],
      "metadata": {
        "colab": {
          "base_uri": "https://localhost:8080/"
        },
        "id": "dydyM8juoWNg",
        "outputId": "32328ae6-9951-4ab7-a2ae-586f1a404b50"
      },
      "execution_count": 5,
      "outputs": [
        {
          "output_type": "stream",
          "name": "stdout",
          "text": [
            "[-1  1  3  5  7  9 11 13 15 17 19 21 23 25 27 29 31 33 35 37]\n",
            "[9.9940114e-03 1.3168228e+00 2.6236515e+00 3.9304802e+00 5.2373090e+00\n",
            " 6.5441375e+00 7.8509665e+00 9.1577950e+00 1.0464623e+01 1.1771452e+01\n",
            " 1.3078280e+01 1.4385110e+01 1.5691938e+01 1.6998768e+01 1.8305597e+01\n",
            " 1.9612425e+01 2.0919254e+01 2.2226084e+01 2.3532911e+01 2.4839741e+01]\n"
          ]
        }
      ]
    },
    {
      "cell_type": "markdown",
      "source": [
        "## Quick Logistic Regrssion"
      ],
      "metadata": {
        "id": "enrL7O_NmBje"
      }
    },
    {
      "cell_type": "code",
      "source": [
        "x = np.array(range(0, 20))\n",
        "y = np.array([0]*10 + [1]*10)\n",
        "\n",
        "print(x)\n",
        "print(y)"
      ],
      "metadata": {
        "colab": {
          "base_uri": "https://localhost:8080/"
        },
        "id": "KbHlQWAlmCvg",
        "outputId": "20b7c320-13d0-4795-fa0a-f5a706df13b9"
      },
      "execution_count": 6,
      "outputs": [
        {
          "output_type": "stream",
          "name": "stdout",
          "text": [
            "[ 0  1  2  3  4  5  6  7  8  9 10 11 12 13 14 15 16 17 18 19]\n",
            "[0 0 0 0 0 0 0 0 0 0 1 1 1 1 1 1 1 1 1 1]\n"
          ]
        }
      ]
    },
    {
      "cell_type": "code",
      "source": [
        "# 1. Session Clear\n",
        "keras.backend.clear_session()\n",
        "\n",
        "# 2. Model\n",
        "input_layer = keras.layers.Input(shape=(1,))\n",
        "output_layer = keras.layers.Dense(1, activation='sigmoid')(input_layer)\n",
        "\n",
        "# 3. Model Block\n",
        "model = keras.models.Model(inputs=input_layer, outputs=output_layer)\n",
        "\n",
        "# 4. Compile\n",
        "model.compile(loss='binary_crossentropy', optimizer='adam', metrics=['accuracy'])"
      ],
      "metadata": {
        "id": "YHzCcIoaovho"
      },
      "execution_count": 7,
      "outputs": []
    },
    {
      "cell_type": "code",
      "source": [
        "# 5. fit\n",
        "model.fit(x, y, epochs=10, verbose=1)"
      ],
      "metadata": {
        "colab": {
          "base_uri": "https://localhost:8080/"
        },
        "id": "DZDoUEy0pFYz",
        "outputId": "33c63f63-312f-4adc-94ac-630503ee96f7"
      },
      "execution_count": 8,
      "outputs": [
        {
          "output_type": "stream",
          "name": "stdout",
          "text": [
            "Epoch 1/10\n",
            "1/1 [==============================] - 1s 974ms/step - loss: 2.3066 - accuracy: 0.5500\n",
            "Epoch 2/10\n",
            "1/1 [==============================] - 0s 6ms/step - loss: 2.3039 - accuracy: 0.5500\n",
            "Epoch 3/10\n",
            "1/1 [==============================] - 0s 6ms/step - loss: 2.3012 - accuracy: 0.5500\n",
            "Epoch 4/10\n",
            "1/1 [==============================] - 0s 7ms/step - loss: 2.2986 - accuracy: 0.5500\n",
            "Epoch 5/10\n",
            "1/1 [==============================] - 0s 5ms/step - loss: 2.2959 - accuracy: 0.5500\n",
            "Epoch 6/10\n",
            "1/1 [==============================] - 0s 6ms/step - loss: 2.2933 - accuracy: 0.5500\n",
            "Epoch 7/10\n",
            "1/1 [==============================] - 0s 6ms/step - loss: 2.2906 - accuracy: 0.5500\n",
            "Epoch 8/10\n",
            "1/1 [==============================] - 0s 6ms/step - loss: 2.2879 - accuracy: 0.5500\n",
            "Epoch 9/10\n",
            "1/1 [==============================] - 0s 6ms/step - loss: 2.2853 - accuracy: 0.5500\n",
            "Epoch 10/10\n",
            "1/1 [==============================] - 0s 7ms/step - loss: 2.2826 - accuracy: 0.5500\n"
          ]
        },
        {
          "output_type": "execute_result",
          "data": {
            "text/plain": [
              "<keras.callbacks.History at 0x7fc5e0067950>"
            ]
          },
          "metadata": {},
          "execution_count": 8
        }
      ]
    },
    {
      "cell_type": "code",
      "source": [
        "# 6. Predict\n",
        "print(y)\n",
        "print(model.predict(x).reshape(-1))"
      ],
      "metadata": {
        "colab": {
          "base_uri": "https://localhost:8080/"
        },
        "id": "2x-UzvH0pH9o",
        "outputId": "da8ea58f-cc6b-4901-8264-9dc3655af2a3"
      },
      "execution_count": 9,
      "outputs": [
        {
          "output_type": "stream",
          "name": "stdout",
          "text": [
            "[0 0 0 0 0 0 0 0 0 0 1 1 1 1 1 1 1 1 1 1]\n",
            "[0.49750012 0.7267519  0.877225   0.9504811  0.9809755  0.99283266\n",
            " 0.99732    0.9990007  0.9996277  0.99986136 0.9999484  0.9999808\n",
            " 0.99999285 0.9999974  0.99999905 0.99999964 0.9999999  1.\n",
            " 1.         1.        ]\n"
          ]
        }
      ]
    },
    {
      "cell_type": "code",
      "source": [],
      "metadata": {
        "id": "XRRlh3TppL54"
      },
      "execution_count": null,
      "outputs": []
    }
  ]
}

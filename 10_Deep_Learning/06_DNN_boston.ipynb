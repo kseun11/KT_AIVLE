{
  "nbformat": 4,
  "nbformat_minor": 0,
  "metadata": {
    "colab": {
      "provenance": [],
      "collapsed_sections": [],
      "machine_shape": "hm"
    },
    "kernelspec": {
      "name": "python3",
      "display_name": "Python 3"
    },
    "language_info": {
      "name": "python"
    },
    "accelerator": "GPU",
    "gpuClass": "standard"
  },
  "cells": [
    {
      "cell_type": "code",
      "execution_count": 1,
      "metadata": {
        "id": "SQ166KLEJUWa"
      },
      "outputs": [],
      "source": [
        "from sklearn.datasets import load_boston"
      ]
    },
    {
      "cell_type": "code",
      "source": [
        "boston = load_boston()"
      ],
      "metadata": {
        "colab": {
          "base_uri": "https://localhost:8080/"
        },
        "id": "JR-VIlF7KU5g",
        "outputId": "dc065a1b-b7e3-4ec9-86dd-b4de2d0a1c72"
      },
      "execution_count": 2,
      "outputs": [
        {
          "output_type": "stream",
          "name": "stderr",
          "text": [
            "/usr/local/lib/python3.7/dist-packages/sklearn/utils/deprecation.py:87: FutureWarning: Function load_boston is deprecated; `load_boston` is deprecated in 1.0 and will be removed in 1.2.\n",
            "\n",
            "    The Boston housing prices dataset has an ethical problem. You can refer to\n",
            "    the documentation of this function for further details.\n",
            "\n",
            "    The scikit-learn maintainers therefore strongly discourage the use of this\n",
            "    dataset unless the purpose of the code is to study and educate about\n",
            "    ethical issues in data science and machine learning.\n",
            "\n",
            "    In this special case, you can fetch the dataset from the original\n",
            "    source::\n",
            "\n",
            "        import pandas as pd\n",
            "        import numpy as np\n",
            "\n",
            "\n",
            "        data_url = \"http://lib.stat.cmu.edu/datasets/boston\"\n",
            "        raw_df = pd.read_csv(data_url, sep=\"\\s+\", skiprows=22, header=None)\n",
            "        data = np.hstack([raw_df.values[::2, :], raw_df.values[1::2, :2]])\n",
            "        target = raw_df.values[1::2, 2]\n",
            "\n",
            "    Alternative datasets include the California housing dataset (i.e.\n",
            "    :func:`~sklearn.datasets.fetch_california_housing`) and the Ames housing\n",
            "    dataset. You can load the datasets as follows::\n",
            "\n",
            "        from sklearn.datasets import fetch_california_housing\n",
            "        housing = fetch_california_housing()\n",
            "\n",
            "    for the California housing dataset and::\n",
            "\n",
            "        from sklearn.datasets import fetch_openml\n",
            "        housing = fetch_openml(name=\"house_prices\", as_frame=True)\n",
            "\n",
            "    for the Ames housing dataset.\n",
            "    \n",
            "  warnings.warn(msg, category=FutureWarning)\n"
          ]
        }
      ]
    },
    {
      "cell_type": "code",
      "source": [
        "x = boston.data\n",
        "y = boston.target"
      ],
      "metadata": {
        "id": "WVJTICbNKWb2"
      },
      "execution_count": 3,
      "outputs": []
    },
    {
      "cell_type": "code",
      "source": [
        "x.shape, y.shape"
      ],
      "metadata": {
        "colab": {
          "base_uri": "https://localhost:8080/"
        },
        "id": "vXOi_q5tKXSd",
        "outputId": "6b736ce5-4d56-4cbb-eb03-88c97ef4e9a1"
      },
      "execution_count": 4,
      "outputs": [
        {
          "output_type": "execute_result",
          "data": {
            "text/plain": [
              "((506, 13), (506,))"
            ]
          },
          "metadata": {},
          "execution_count": 4
        }
      ]
    },
    {
      "cell_type": "code",
      "source": [
        "# Import\n",
        "import tensorflow as tf\n",
        "from tensorflow import keras\n",
        "import numpy as np"
      ],
      "metadata": {
        "id": "O-gIuSvGKY27"
      },
      "execution_count": 5,
      "outputs": []
    },
    {
      "cell_type": "code",
      "source": [
        "# Modeling : Sequential\n",
        "\n",
        "# 1. Session Clear\n",
        "keras.backend.clear_session()\n",
        "\n",
        "# 2. Model\n",
        "model = keras.models.Sequential()\n",
        "\n",
        "# 3. Model Add\n",
        "model.add(keras.layers.Input(shape=(13,)))\n",
        "model.add(keras.layers.Dense(1))\n",
        "\n",
        "# 4. Compile\n",
        "model.compile(loss='mse', optimizer='adam')"
      ],
      "metadata": {
        "id": "t2dqUtbCKds2"
      },
      "execution_count": 6,
      "outputs": []
    },
    {
      "cell_type": "code",
      "source": [
        "# Summary\n",
        "model.summary()"
      ],
      "metadata": {
        "colab": {
          "base_uri": "https://localhost:8080/"
        },
        "id": "yi7pmx7bKt5M",
        "outputId": "2402cbab-db90-4dd3-bab6-1875668ccf22"
      },
      "execution_count": 7,
      "outputs": [
        {
          "output_type": "stream",
          "name": "stdout",
          "text": [
            "Model: \"sequential\"\n",
            "_________________________________________________________________\n",
            " Layer (type)                Output Shape              Param #   \n",
            "=================================================================\n",
            " dense (Dense)               (None, 1)                 14        \n",
            "                                                                 \n",
            "=================================================================\n",
            "Total params: 14\n",
            "Trainable params: 14\n",
            "Non-trainable params: 0\n",
            "_________________________________________________________________\n"
          ]
        }
      ]
    },
    {
      "cell_type": "markdown",
      "source": [
        "* Param(14) = Weights + Bias(w0)"
      ],
      "metadata": {
        "id": "tqLpAMnEKxFU"
      }
    },
    {
      "cell_type": "code",
      "source": [
        "# 5. fit\n",
        "model.fit(x, y, epochs=10, verbose=1)"
      ],
      "metadata": {
        "colab": {
          "base_uri": "https://localhost:8080/"
        },
        "id": "mzCNojrcKvoc",
        "outputId": "cbdb860b-db41-4738-c679-ac5908e4f3a0"
      },
      "execution_count": 8,
      "outputs": [
        {
          "output_type": "stream",
          "name": "stdout",
          "text": [
            "Epoch 1/10\n",
            "16/16 [==============================] - 3s 2ms/step - loss: 19502.4629\n",
            "Epoch 2/10\n",
            "16/16 [==============================] - 0s 2ms/step - loss: 15922.7754\n",
            "Epoch 3/10\n",
            "16/16 [==============================] - 0s 2ms/step - loss: 12874.7324\n",
            "Epoch 4/10\n",
            "16/16 [==============================] - 0s 2ms/step - loss: 10386.4883\n",
            "Epoch 5/10\n",
            "16/16 [==============================] - 0s 3ms/step - loss: 8367.2168\n",
            "Epoch 6/10\n",
            "16/16 [==============================] - 0s 2ms/step - loss: 6787.9121\n",
            "Epoch 7/10\n",
            "16/16 [==============================] - 0s 2ms/step - loss: 5563.5889\n",
            "Epoch 8/10\n",
            "16/16 [==============================] - 0s 2ms/step - loss: 4616.0269\n",
            "Epoch 9/10\n",
            "16/16 [==============================] - 0s 2ms/step - loss: 3919.4763\n",
            "Epoch 10/10\n",
            "16/16 [==============================] - 0s 2ms/step - loss: 3400.6929\n"
          ]
        },
        {
          "output_type": "execute_result",
          "data": {
            "text/plain": [
              "<keras.callbacks.History at 0x7fd8f227c210>"
            ]
          },
          "metadata": {},
          "execution_count": 8
        }
      ]
    },
    {
      "cell_type": "code",
      "source": [
        "# 6. predict\n",
        "model.predict(x)[:15].reshape(-1)"
      ],
      "metadata": {
        "colab": {
          "base_uri": "https://localhost:8080/"
        },
        "id": "YLwdqFX3K5jS",
        "outputId": "f0dd5da3-3fc3-4c7d-9507-e195569d5346"
      },
      "execution_count": 9,
      "outputs": [
        {
          "output_type": "execute_result",
          "data": {
            "text/plain": [
              "array([ 84.60833 , 110.038734, 104.73306 , 102.40736 , 105.24564 ,\n",
              "       105.59849 ,  86.202774,  94.51653 ,  88.08667 ,  88.43194 ,\n",
              "        92.12223 ,  92.212006,  73.58265 ,  90.59029 ,  91.8484  ],\n",
              "      dtype=float32)"
            ]
          },
          "metadata": {},
          "execution_count": 9
        }
      ]
    },
    {
      "cell_type": "markdown",
      "source": [
        "## Hidden Layer 추가"
      ],
      "metadata": {
        "id": "Cbk2XUIIK8bH"
      }
    },
    {
      "cell_type": "code",
      "source": [
        "# Modeling : Sequential\n",
        "\n",
        "# 1. Session Clear\n",
        "keras.backend.clear_session()\n",
        "\n",
        "# 2. Model\n",
        "model = keras.models.Sequential()\n",
        "\n",
        "# 3. Model Add\n",
        "model.add(keras.layers.Input(shape=(13,)))\n",
        "model.add(keras.layers.Dense(32, activation='relu'))\n",
        "model.add(keras.layers.Dense(32, activation='relu'))\n",
        "model.add(keras.layers.Dense(1,))\n",
        "\n",
        "# 4. Compile\n",
        "model.compile(loss='mse', optimizer='adam')"
      ],
      "metadata": {
        "id": "RySn7LryK74n"
      },
      "execution_count": 10,
      "outputs": []
    },
    {
      "cell_type": "code",
      "source": [
        "# summary\n",
        "model.summary()"
      ],
      "metadata": {
        "colab": {
          "base_uri": "https://localhost:8080/"
        },
        "id": "zxrwFRtuLIa7",
        "outputId": "8c58575e-2fde-4c8d-9652-17f97f6923c1"
      },
      "execution_count": 13,
      "outputs": [
        {
          "output_type": "stream",
          "name": "stdout",
          "text": [
            "Model: \"sequential\"\n",
            "_________________________________________________________________\n",
            " Layer (type)                Output Shape              Param #   \n",
            "=================================================================\n",
            " dense (Dense)               (None, 32)                448       \n",
            "                                                                 \n",
            " dense_1 (Dense)             (None, 32)                1056      \n",
            "                                                                 \n",
            " dense_2 (Dense)             (None, 1)                 33        \n",
            "                                                                 \n",
            "=================================================================\n",
            "Total params: 1,537\n",
            "Trainable params: 1,537\n",
            "Non-trainable params: 0\n",
            "_________________________________________________________________\n"
          ]
        }
      ]
    },
    {
      "cell_type": "markdown",
      "source": [
        "* 448 = (13 * 32) + 32\n",
        "* 1056 = (32 * 32) + 32\n",
        "* 33 = (1 * 32) + 1\n",
        "* 총합은 1537"
      ],
      "metadata": {
        "id": "gtsqLJe1LMKO"
      }
    },
    {
      "cell_type": "code",
      "source": [
        "# 5. fit\n",
        "model.fit(x, y, epochs=10, verbose=1)"
      ],
      "metadata": {
        "colab": {
          "base_uri": "https://localhost:8080/"
        },
        "id": "xMLQFAPpLB1V",
        "outputId": "56769ed4-b47c-4733-c011-d314f0187d32"
      },
      "execution_count": 11,
      "outputs": [
        {
          "output_type": "stream",
          "name": "stdout",
          "text": [
            "Epoch 1/10\n",
            "16/16 [==============================] - 0s 2ms/step - loss: 7635.8184\n",
            "Epoch 2/10\n",
            "16/16 [==============================] - 0s 2ms/step - loss: 696.2712\n",
            "Epoch 3/10\n",
            "16/16 [==============================] - 0s 2ms/step - loss: 396.7322\n",
            "Epoch 4/10\n",
            "16/16 [==============================] - 0s 2ms/step - loss: 158.6616\n",
            "Epoch 5/10\n",
            "16/16 [==============================] - 0s 2ms/step - loss: 121.8684\n",
            "Epoch 6/10\n",
            "16/16 [==============================] - 0s 2ms/step - loss: 104.0295\n",
            "Epoch 7/10\n",
            "16/16 [==============================] - 0s 2ms/step - loss: 94.2600\n",
            "Epoch 8/10\n",
            "16/16 [==============================] - 0s 2ms/step - loss: 88.3747\n",
            "Epoch 9/10\n",
            "16/16 [==============================] - 0s 2ms/step - loss: 84.6080\n",
            "Epoch 10/10\n",
            "16/16 [==============================] - 0s 2ms/step - loss: 80.6410\n"
          ]
        },
        {
          "output_type": "execute_result",
          "data": {
            "text/plain": [
              "<keras.callbacks.History at 0x7fd8e009e750>"
            ]
          },
          "metadata": {},
          "execution_count": 11
        }
      ]
    },
    {
      "cell_type": "code",
      "source": [
        "# 6. predict\n",
        "model.predict(x)[:15].reshape(-1)"
      ],
      "metadata": {
        "colab": {
          "base_uri": "https://localhost:8080/"
        },
        "id": "cIG1-mReLESN",
        "outputId": "0ea18f96-fb80-424a-e3f1-8c60ef7d6c4c"
      },
      "execution_count": 12,
      "outputs": [
        {
          "output_type": "execute_result",
          "data": {
            "text/plain": [
              "array([25.920038, 26.217455, 25.003061, 23.536161, 24.068039, 24.206402,\n",
              "       26.253044, 26.51215 , 26.36471 , 25.743355, 26.264015, 26.321787,\n",
              "       26.299103, 26.75988 , 25.288164], dtype=float32)"
            ]
          },
          "metadata": {},
          "execution_count": 12
        }
      ]
    },
    {
      "cell_type": "code",
      "source": [],
      "metadata": {
        "id": "zFj41yD9LF8g"
      },
      "execution_count": null,
      "outputs": []
    }
  ]
}

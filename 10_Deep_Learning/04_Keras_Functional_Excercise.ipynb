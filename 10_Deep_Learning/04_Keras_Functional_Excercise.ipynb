{
  "nbformat": 4,
  "nbformat_minor": 0,
  "metadata": {
    "colab": {
      "provenance": [],
      "collapsed_sections": [],
      "machine_shape": "hm"
    },
    "kernelspec": {
      "name": "python3",
      "display_name": "Python 3"
    },
    "language_info": {
      "name": "python"
    },
    "accelerator": "GPU",
    "gpuClass": "standard"
  },
  "cells": [
    {
      "cell_type": "code",
      "source": [
        "import tensorflow as tf\n",
        "from tensorflow import keras\n",
        "\n",
        "import numpy as np\n",
        "import pandas as pd"
      ],
      "metadata": {
        "id": "DNjuWW5arQ3R"
      },
      "execution_count": 1,
      "outputs": []
    },
    {
      "cell_type": "markdown",
      "source": [
        "## Linear Regression"
      ],
      "metadata": {
        "id": "gZTZJcibrLFA"
      }
    },
    {
      "cell_type": "code",
      "execution_count": 2,
      "metadata": {
        "id": "6LbluGtihIUM"
      },
      "outputs": [],
      "source": [
        "from sklearn.datasets import load_boston"
      ]
    },
    {
      "cell_type": "code",
      "source": [
        "# Data Load\n",
        "boston = load_boston()"
      ],
      "metadata": {
        "colab": {
          "base_uri": "https://localhost:8080/"
        },
        "id": "aV7kc0EfrZvb",
        "outputId": "b27db5b9-216a-45af-f24d-4d0bf0fa9417"
      },
      "execution_count": 3,
      "outputs": [
        {
          "output_type": "stream",
          "name": "stderr",
          "text": [
            "/usr/local/lib/python3.7/dist-packages/sklearn/utils/deprecation.py:87: FutureWarning: Function load_boston is deprecated; `load_boston` is deprecated in 1.0 and will be removed in 1.2.\n",
            "\n",
            "    The Boston housing prices dataset has an ethical problem. You can refer to\n",
            "    the documentation of this function for further details.\n",
            "\n",
            "    The scikit-learn maintainers therefore strongly discourage the use of this\n",
            "    dataset unless the purpose of the code is to study and educate about\n",
            "    ethical issues in data science and machine learning.\n",
            "\n",
            "    In this special case, you can fetch the dataset from the original\n",
            "    source::\n",
            "\n",
            "        import pandas as pd\n",
            "        import numpy as np\n",
            "\n",
            "\n",
            "        data_url = \"http://lib.stat.cmu.edu/datasets/boston\"\n",
            "        raw_df = pd.read_csv(data_url, sep=\"\\s+\", skiprows=22, header=None)\n",
            "        data = np.hstack([raw_df.values[::2, :], raw_df.values[1::2, :2]])\n",
            "        target = raw_df.values[1::2, 2]\n",
            "\n",
            "    Alternative datasets include the California housing dataset (i.e.\n",
            "    :func:`~sklearn.datasets.fetch_california_housing`) and the Ames housing\n",
            "    dataset. You can load the datasets as follows::\n",
            "\n",
            "        from sklearn.datasets import fetch_california_housing\n",
            "        housing = fetch_california_housing()\n",
            "\n",
            "    for the California housing dataset and::\n",
            "\n",
            "        from sklearn.datasets import fetch_openml\n",
            "        housing = fetch_openml(name=\"house_prices\", as_frame=True)\n",
            "\n",
            "    for the Ames housing dataset.\n",
            "    \n",
            "  warnings.warn(msg, category=FutureWarning)\n"
          ]
        }
      ]
    },
    {
      "cell_type": "code",
      "source": [
        "x = boston.data\n",
        "y = boston.target\n",
        "\n",
        "x.shape, y.shape"
      ],
      "metadata": {
        "colab": {
          "base_uri": "https://localhost:8080/"
        },
        "id": "fCfYo2q1rclQ",
        "outputId": "86d5b9c5-fd78-4950-ab09-6736348c7c34"
      },
      "execution_count": 4,
      "outputs": [
        {
          "output_type": "execute_result",
          "data": {
            "text/plain": [
              "((506, 13), (506,))"
            ]
          },
          "metadata": {},
          "execution_count": 4
        }
      ]
    },
    {
      "cell_type": "code",
      "source": [
        "# 1. Session Clear\n",
        "keras.backend.clear_session()\n",
        "\n",
        "# 2. Layer Connection\n",
        "input_layer = keras.layers.Input(shape=(13,))\n",
        "output_layer = keras.layers.Dense(1)(input_layer)\n",
        "\n",
        "# 3. Model\n",
        "model_reg = keras.models.Model(inputs=input_layer, outputs=output_layer)\n",
        "\n",
        "# 4. Compile\n",
        "model_reg.compile(loss='mse', optimizer='adam')"
      ],
      "metadata": {
        "id": "zx1Sp9y-rfUj"
      },
      "execution_count": 6,
      "outputs": []
    },
    {
      "cell_type": "code",
      "source": [
        "# 5. fit\n",
        "model_reg.fit(x, y, epochs=10, verbose=1)"
      ],
      "metadata": {
        "colab": {
          "base_uri": "https://localhost:8080/"
        },
        "id": "Q8tdc7xDsOBn",
        "outputId": "be21ef93-aa35-463b-f2a0-1834abf3b6d4"
      },
      "execution_count": 7,
      "outputs": [
        {
          "output_type": "stream",
          "name": "stdout",
          "text": [
            "Epoch 1/10\n",
            "16/16 [==============================] - 3s 2ms/step - loss: 11804.6172\n",
            "Epoch 2/10\n",
            "16/16 [==============================] - 0s 2ms/step - loss: 9362.9688\n",
            "Epoch 3/10\n",
            "16/16 [==============================] - 0s 2ms/step - loss: 7448.9985\n",
            "Epoch 4/10\n",
            "16/16 [==============================] - 0s 2ms/step - loss: 6026.5449\n",
            "Epoch 5/10\n",
            "16/16 [==============================] - 0s 2ms/step - loss: 5017.9351\n",
            "Epoch 6/10\n",
            "16/16 [==============================] - 0s 2ms/step - loss: 4306.9429\n",
            "Epoch 7/10\n",
            "16/16 [==============================] - 0s 2ms/step - loss: 3821.0310\n",
            "Epoch 8/10\n",
            "16/16 [==============================] - 0s 2ms/step - loss: 3492.2097\n",
            "Epoch 9/10\n",
            "16/16 [==============================] - 0s 2ms/step - loss: 3266.8308\n",
            "Epoch 10/10\n",
            "16/16 [==============================] - 0s 2ms/step - loss: 3093.4268\n"
          ]
        },
        {
          "output_type": "execute_result",
          "data": {
            "text/plain": [
              "<keras.callbacks.History at 0x7fb8703c3a50>"
            ]
          },
          "metadata": {},
          "execution_count": 7
        }
      ]
    },
    {
      "cell_type": "code",
      "source": [
        "# 6. predict\n",
        "print(y[:10])\n",
        "print(model_reg.predict(x)[:10].reshape(-1))"
      ],
      "metadata": {
        "colab": {
          "base_uri": "https://localhost:8080/"
        },
        "id": "CsmzM4-zsVEP",
        "outputId": "01a345a1-8a2c-4172-ebbd-d8301527df4c"
      },
      "execution_count": 8,
      "outputs": [
        {
          "output_type": "stream",
          "name": "stdout",
          "text": [
            "[24.  21.6 34.7 33.4 36.2 28.7 22.9 27.1 16.5 18.9]\n",
            "[70.495155 99.29687  89.59412  86.92853  91.422485 92.35738  72.58888\n",
            " 85.45141  86.383385 77.12312 ]\n"
          ]
        }
      ]
    },
    {
      "cell_type": "markdown",
      "source": [
        "## Logistic Regression"
      ],
      "metadata": {
        "id": "bb3HQInwrMrf"
      }
    },
    {
      "cell_type": "code",
      "source": [
        "from sklearn.datasets import load_breast_cancer"
      ],
      "metadata": {
        "id": "dZN9UlhCscl7"
      },
      "execution_count": 9,
      "outputs": []
    },
    {
      "cell_type": "code",
      "source": [
        "# Data Load\n",
        "cancer = load_breast_cancer()"
      ],
      "metadata": {
        "id": "zAmDXf8crNqH"
      },
      "execution_count": 10,
      "outputs": []
    },
    {
      "cell_type": "code",
      "source": [
        "x = cancer.data\n",
        "y = cancer.target\n",
        "\n",
        "x.shape, y.shape"
      ],
      "metadata": {
        "colab": {
          "base_uri": "https://localhost:8080/"
        },
        "id": "-YWUVOrTsb4K",
        "outputId": "f1c0e188-e7a9-4618-be67-95e46ad7a0be"
      },
      "execution_count": 11,
      "outputs": [
        {
          "output_type": "execute_result",
          "data": {
            "text/plain": [
              "((569, 30), (569,))"
            ]
          },
          "metadata": {},
          "execution_count": 11
        }
      ]
    },
    {
      "cell_type": "code",
      "source": [
        "# 1. Session Clear\n",
        "keras.backend.clear_session()\n",
        "\n",
        "# 2. Layer Connection\n",
        "input_layer = keras.layers.Input(shape=(30,))\n",
        "output_layer = keras.layers.Dense(1, activation='sigmoid')(input_layer)\n",
        "\n",
        "# 3. Model\n",
        "model_class = keras.models.Model(inputs=input_layer, outputs=output_layer)\n",
        "\n",
        "# 4. Compile\n",
        "model_class.compile(loss='binary_crossentropy', optimizer='adam', metrics=['accuracy'])"
      ],
      "metadata": {
        "id": "9GF3Jhu7sfLA"
      },
      "execution_count": 13,
      "outputs": []
    },
    {
      "cell_type": "code",
      "source": [
        "# 5. fit\n",
        "model_class.fit(x, y, epochs=10, verbose=1)"
      ],
      "metadata": {
        "colab": {
          "base_uri": "https://localhost:8080/"
        },
        "id": "8Om7nKVEsmlW",
        "outputId": "8adfb65f-fa60-4002-8a3c-39ed2ee6709e"
      },
      "execution_count": 14,
      "outputs": [
        {
          "output_type": "stream",
          "name": "stdout",
          "text": [
            "Epoch 1/10\n",
            "18/18 [==============================] - 1s 2ms/step - loss: 4.8975 - accuracy: 0.8418\n",
            "Epoch 2/10\n",
            "18/18 [==============================] - 0s 2ms/step - loss: 2.8178 - accuracy: 0.8120\n",
            "Epoch 3/10\n",
            "18/18 [==============================] - 0s 2ms/step - loss: 2.7019 - accuracy: 0.8260\n",
            "Epoch 4/10\n",
            "18/18 [==============================] - 0s 2ms/step - loss: 2.6068 - accuracy: 0.8436\n",
            "Epoch 5/10\n",
            "18/18 [==============================] - 0s 3ms/step - loss: 2.5831 - accuracy: 0.8313\n",
            "Epoch 6/10\n",
            "18/18 [==============================] - 0s 2ms/step - loss: 2.5298 - accuracy: 0.8541\n",
            "Epoch 7/10\n",
            "18/18 [==============================] - 0s 2ms/step - loss: 2.4781 - accuracy: 0.8418\n",
            "Epoch 8/10\n",
            "18/18 [==============================] - 0s 2ms/step - loss: 2.4352 - accuracy: 0.8453\n",
            "Epoch 9/10\n",
            "18/18 [==============================] - 0s 2ms/step - loss: 2.4261 - accuracy: 0.8647\n",
            "Epoch 10/10\n",
            "18/18 [==============================] - 0s 2ms/step - loss: 2.3546 - accuracy: 0.8401\n"
          ]
        },
        {
          "output_type": "execute_result",
          "data": {
            "text/plain": [
              "<keras.callbacks.History at 0x7fb8701c0410>"
            ]
          },
          "metadata": {},
          "execution_count": 14
        }
      ]
    },
    {
      "cell_type": "code",
      "source": [
        "# 6. predict\n",
        "print(y[:10])\n",
        "print(model_class.predict(x)[:10].reshape(-1))"
      ],
      "metadata": {
        "colab": {
          "base_uri": "https://localhost:8080/"
        },
        "id": "kfJE5ivAsq_q",
        "outputId": "79e51a0f-177b-48ef-fe7a-48d4c75e9029"
      },
      "execution_count": 16,
      "outputs": [
        {
          "output_type": "stream",
          "name": "stdout",
          "text": [
            "[0 0 0 0 0 0 0 0 0 0]\n",
            "[0.0000000e+00 0.0000000e+00 1.6480878e-28 3.1871345e-08 9.9969339e-01\n",
            " 2.6512199e-18 0.0000000e+00 8.1148946e-21 1.1949144e-10 4.1903872e-14]\n"
          ]
        }
      ]
    },
    {
      "cell_type": "code",
      "source": [],
      "metadata": {
        "id": "ub-70dY_svD6"
      },
      "execution_count": null,
      "outputs": []
    }
  ]
}

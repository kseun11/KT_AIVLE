{
  "nbformat": 4,
  "nbformat_minor": 0,
  "metadata": {
    "colab": {
      "provenance": [],
      "collapsed_sections": [],
      "machine_shape": "hm"
    },
    "kernelspec": {
      "name": "python3",
      "display_name": "Python 3"
    },
    "language_info": {
      "name": "python"
    },
    "accelerator": "GPU",
    "gpuClass": "standard"
  },
  "cells": [
    {
      "cell_type": "markdown",
      "source": [
        "# Multi-Class Classification"
      ],
      "metadata": {
        "id": "qVMSQCRBs1je"
      }
    },
    {
      "cell_type": "code",
      "execution_count": 1,
      "metadata": {
        "id": "326FJyNChrYl"
      },
      "outputs": [],
      "source": [
        "import tensorflow as tf\n",
        "from tensorflow import keras\n",
        "import numpy as np\n",
        "\n",
        "from sklearn.datasets import load_iris"
      ]
    },
    {
      "cell_type": "code",
      "source": [
        "iris = load_iris()"
      ],
      "metadata": {
        "id": "weAreAxas9wv"
      },
      "execution_count": 2,
      "outputs": []
    },
    {
      "cell_type": "code",
      "source": [
        "x = iris.data\n",
        "y = iris.target"
      ],
      "metadata": {
        "id": "3QQ6w223s-oD"
      },
      "execution_count": 3,
      "outputs": []
    },
    {
      "cell_type": "code",
      "source": [
        "x.shape, y.shape"
      ],
      "metadata": {
        "colab": {
          "base_uri": "https://localhost:8080/"
        },
        "id": "6qdBDh4js_N4",
        "outputId": "d9b03eff-921c-4ca6-d4f3-850f5338a305"
      },
      "execution_count": 4,
      "outputs": [
        {
          "output_type": "execute_result",
          "data": {
            "text/plain": [
              "((150, 4), (150,))"
            ]
          },
          "metadata": {},
          "execution_count": 4
        }
      ]
    },
    {
      "cell_type": "code",
      "source": [
        "# target 확인\n",
        "print(y)"
      ],
      "metadata": {
        "colab": {
          "base_uri": "https://localhost:8080/"
        },
        "id": "tglEVyoHs_0C",
        "outputId": "43a6e0f9-a85c-4a2a-9784-22c5c1164768"
      },
      "execution_count": 5,
      "outputs": [
        {
          "output_type": "stream",
          "name": "stdout",
          "text": [
            "[0 0 0 0 0 0 0 0 0 0 0 0 0 0 0 0 0 0 0 0 0 0 0 0 0 0 0 0 0 0 0 0 0 0 0 0 0\n",
            " 0 0 0 0 0 0 0 0 0 0 0 0 0 1 1 1 1 1 1 1 1 1 1 1 1 1 1 1 1 1 1 1 1 1 1 1 1\n",
            " 1 1 1 1 1 1 1 1 1 1 1 1 1 1 1 1 1 1 1 1 1 1 1 1 1 1 2 2 2 2 2 2 2 2 2 2 2\n",
            " 2 2 2 2 2 2 2 2 2 2 2 2 2 2 2 2 2 2 2 2 2 2 2 2 2 2 2 2 2 2 2 2 2 2 2 2 2\n",
            " 2 2]\n"
          ]
        }
      ]
    },
    {
      "cell_type": "code",
      "source": [
        "# One-Hot Encoding\n",
        "from tensorflow.keras.utils import to_categorical"
      ],
      "metadata": {
        "id": "QCeOABQCtBqm"
      },
      "execution_count": 6,
      "outputs": []
    },
    {
      "cell_type": "code",
      "source": [
        "y = to_categorical(y, 3)"
      ],
      "metadata": {
        "id": "hJfVb0lHtG1E"
      },
      "execution_count": 7,
      "outputs": []
    },
    {
      "cell_type": "code",
      "source": [
        "x.shape, y.shape"
      ],
      "metadata": {
        "colab": {
          "base_uri": "https://localhost:8080/"
        },
        "id": "fGGSCPwGtH-E",
        "outputId": "531e1e6f-a340-44eb-c684-67019b78b8e9"
      },
      "execution_count": 8,
      "outputs": [
        {
          "output_type": "execute_result",
          "data": {
            "text/plain": [
              "((150, 4), (150, 3))"
            ]
          },
          "metadata": {},
          "execution_count": 8
        }
      ]
    },
    {
      "cell_type": "markdown",
      "source": [
        "## 1. Sequential API Style"
      ],
      "metadata": {
        "id": "j50jaABmtJVs"
      }
    },
    {
      "cell_type": "code",
      "source": [
        "# 1. Session Clear\n",
        "keras.backend.clear_session()\n",
        "\n",
        "# 2. Model\n",
        "model = keras.models.Sequential()\n",
        "\n",
        "# 3. Model Block\n",
        "model.add(keras.layers.Input(shape=(4,)))\n",
        "model.add(keras.layers.Dense(3, activation='softmax'))\n",
        "\n",
        "# 4. Compile\n",
        "model.compile(loss='categorical_crossentropy', optimizer='adam', metrics=['accuracy'])"
      ],
      "metadata": {
        "id": "vtILjytctI0S"
      },
      "execution_count": 10,
      "outputs": []
    },
    {
      "cell_type": "code",
      "source": [
        "# 5. fit\n",
        "model.fit(x, y, epochs=10, verbose=1)"
      ],
      "metadata": {
        "colab": {
          "base_uri": "https://localhost:8080/"
        },
        "id": "iaQ9UNaUtV7v",
        "outputId": "07f4f8c9-caf1-416f-8a54-efc17810776e"
      },
      "execution_count": 11,
      "outputs": [
        {
          "output_type": "stream",
          "name": "stdout",
          "text": [
            "Epoch 1/10\n",
            "5/5 [==============================] - 2s 3ms/step - loss: 4.1102 - accuracy: 0.3333\n",
            "Epoch 2/10\n",
            "5/5 [==============================] - 0s 2ms/step - loss: 4.0266 - accuracy: 0.3333\n",
            "Epoch 3/10\n",
            "5/5 [==============================] - 0s 2ms/step - loss: 3.9424 - accuracy: 0.3333\n",
            "Epoch 4/10\n",
            "5/5 [==============================] - 0s 3ms/step - loss: 3.8569 - accuracy: 0.3333\n",
            "Epoch 5/10\n",
            "5/5 [==============================] - 0s 2ms/step - loss: 3.7746 - accuracy: 0.3333\n",
            "Epoch 6/10\n",
            "5/5 [==============================] - 0s 2ms/step - loss: 3.6928 - accuracy: 0.3333\n",
            "Epoch 7/10\n",
            "5/5 [==============================] - 0s 2ms/step - loss: 3.6096 - accuracy: 0.3333\n",
            "Epoch 8/10\n",
            "5/5 [==============================] - 0s 2ms/step - loss: 3.5288 - accuracy: 0.3333\n",
            "Epoch 9/10\n",
            "5/5 [==============================] - 0s 3ms/step - loss: 3.4445 - accuracy: 0.3333\n",
            "Epoch 10/10\n",
            "5/5 [==============================] - 0s 2ms/step - loss: 3.3665 - accuracy: 0.3333\n"
          ]
        },
        {
          "output_type": "execute_result",
          "data": {
            "text/plain": [
              "<keras.callbacks.History at 0x7f56606601d0>"
            ]
          },
          "metadata": {},
          "execution_count": 11
        }
      ]
    },
    {
      "cell_type": "code",
      "source": [
        "# 6. predict\n",
        "pred = model.predict(x)[:15].reshape(-1)"
      ],
      "metadata": {
        "id": "Gz56zjrbtYN6"
      },
      "execution_count": 13,
      "outputs": []
    },
    {
      "cell_type": "code",
      "source": [
        "print(y[:10])\n",
        "print(pred[:10])"
      ],
      "metadata": {
        "colab": {
          "base_uri": "https://localhost:8080/"
        },
        "id": "-Lf5B721tgkh",
        "outputId": "e739677d-0782-44c2-c4f4-f7d894eaa8be"
      },
      "execution_count": 14,
      "outputs": [
        {
          "output_type": "stream",
          "name": "stdout",
          "text": [
            "[[1. 0. 0.]\n",
            " [1. 0. 0.]\n",
            " [1. 0. 0.]\n",
            " [1. 0. 0.]\n",
            " [1. 0. 0.]\n",
            " [1. 0. 0.]\n",
            " [1. 0. 0.]\n",
            " [1. 0. 0.]\n",
            " [1. 0. 0.]\n",
            " [1. 0. 0.]]\n",
            "[0.113302   0.00340238 0.8832956  0.12681983 0.0043671  0.86881304\n",
            " 0.13169514 0.00514291 0.8631619  0.11340324]\n"
          ]
        }
      ]
    },
    {
      "cell_type": "markdown",
      "source": [
        "## 2. Functional API Style"
      ],
      "metadata": {
        "id": "DvKL8j56tLHX"
      }
    },
    {
      "cell_type": "code",
      "source": [
        "# 1. Session Clear\n",
        "keras.backend.clear_session()\n",
        "\n",
        "# 2. Layer Connection\n",
        "input_layer = keras.layers.Input(shape=(4,))\n",
        "output_layer = keras.layers.Dense(3, activation='softmax')(input_layer)\n",
        "\n",
        "# 3. Model\n",
        "model = keras.models.Model(inputs=input_layer, outputs=output_layer)\n",
        "\n",
        "# 4. Compile\n",
        "model.compile(loss='categorical_crossentropy', optimizer='adam', metrics=['accuracy'])"
      ],
      "metadata": {
        "id": "x64U04tztM-m"
      },
      "execution_count": 16,
      "outputs": []
    },
    {
      "cell_type": "code",
      "source": [
        "# 5. fit\n",
        "model.fit(x, y, epochs=10, verbose=1)"
      ],
      "metadata": {
        "colab": {
          "base_uri": "https://localhost:8080/"
        },
        "id": "gO_18LkHt0tM",
        "outputId": "9c74f0f3-0f93-4e07-89b8-b67536af7ffc"
      },
      "execution_count": 17,
      "outputs": [
        {
          "output_type": "stream",
          "name": "stdout",
          "text": [
            "Epoch 1/10\n",
            "5/5 [==============================] - 0s 4ms/step - loss: 3.0604 - accuracy: 0.3333\n",
            "Epoch 2/10\n",
            "5/5 [==============================] - 0s 3ms/step - loss: 2.9776 - accuracy: 0.3333\n",
            "Epoch 3/10\n",
            "5/5 [==============================] - 0s 4ms/step - loss: 2.8931 - accuracy: 0.3333\n",
            "Epoch 4/10\n",
            "5/5 [==============================] - 0s 3ms/step - loss: 2.8133 - accuracy: 0.3333\n",
            "Epoch 5/10\n",
            "5/5 [==============================] - 0s 2ms/step - loss: 2.7325 - accuracy: 0.3333\n",
            "Epoch 6/10\n",
            "5/5 [==============================] - 0s 2ms/step - loss: 2.6547 - accuracy: 0.3333\n",
            "Epoch 7/10\n",
            "5/5 [==============================] - 0s 2ms/step - loss: 2.5819 - accuracy: 0.3333\n",
            "Epoch 8/10\n",
            "5/5 [==============================] - 0s 3ms/step - loss: 2.5129 - accuracy: 0.3333\n",
            "Epoch 9/10\n",
            "5/5 [==============================] - 0s 2ms/step - loss: 2.4419 - accuracy: 0.3333\n",
            "Epoch 10/10\n",
            "5/5 [==============================] - 0s 2ms/step - loss: 2.3777 - accuracy: 0.3333\n"
          ]
        },
        {
          "output_type": "execute_result",
          "data": {
            "text/plain": [
              "<keras.callbacks.History at 0x7f56603e8d90>"
            ]
          },
          "metadata": {},
          "execution_count": 17
        }
      ]
    },
    {
      "cell_type": "code",
      "source": [
        "# 6. predict\n",
        "pred = model.predict(x).reshape(-1)"
      ],
      "metadata": {
        "id": "5qHSzw-vt2hj"
      },
      "execution_count": 18,
      "outputs": []
    },
    {
      "cell_type": "code",
      "source": [
        "print(y[:15])\n",
        "print(pred[:15])"
      ],
      "metadata": {
        "colab": {
          "base_uri": "https://localhost:8080/"
        },
        "id": "xKJyuwPYt6_8",
        "outputId": "a56c0324-76f5-48e6-c95b-e54a8c1a43dd"
      },
      "execution_count": 19,
      "outputs": [
        {
          "output_type": "stream",
          "name": "stdout",
          "text": [
            "[[1. 0. 0.]\n",
            " [1. 0. 0.]\n",
            " [1. 0. 0.]\n",
            " [1. 0. 0.]\n",
            " [1. 0. 0.]\n",
            " [1. 0. 0.]\n",
            " [1. 0. 0.]\n",
            " [1. 0. 0.]\n",
            " [1. 0. 0.]\n",
            " [1. 0. 0.]\n",
            " [1. 0. 0.]\n",
            " [1. 0. 0.]\n",
            " [1. 0. 0.]\n",
            " [1. 0. 0.]\n",
            " [1. 0. 0.]]\n",
            "[0.00909548 0.6902738  0.30063078 0.01342143 0.7054294  0.28114915\n",
            " 0.01283369 0.6747702  0.31239608 0.01561948 0.67377573 0.31060478\n",
            " 0.00908021 0.6749057  0.316014  ]\n"
          ]
        }
      ]
    },
    {
      "cell_type": "code",
      "source": [],
      "metadata": {
        "id": "nW7E3UErt9WV"
      },
      "execution_count": null,
      "outputs": []
    }
  ]
}

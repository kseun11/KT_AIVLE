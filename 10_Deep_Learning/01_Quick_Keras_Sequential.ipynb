{
  "nbformat": 4,
  "nbformat_minor": 0,
  "metadata": {
    "colab": {
      "provenance": [],
      "collapsed_sections": [],
      "machine_shape": "hm"
    },
    "kernelspec": {
      "name": "python3",
      "display_name": "Python 3"
    },
    "language_info": {
      "name": "python"
    },
    "accelerator": "GPU",
    "gpuClass": "standard"
  },
  "cells": [
    {
      "cell_type": "markdown",
      "source": [
        "## Quick Linear Regression"
      ],
      "metadata": {
        "id": "TZzfU9dbl5uO"
      }
    },
    {
      "cell_type": "code",
      "execution_count": 3,
      "metadata": {
        "id": "CcqGGQ-mg1Jk"
      },
      "outputs": [],
      "source": [
        "import tensorflow as tf\n",
        "from tensorflow import keras\n",
        "import numpy as np"
      ]
    },
    {
      "cell_type": "code",
      "source": [
        "x = np.array(range(0, 20))\n",
        "y = x * (-3) + 10\n",
        "\n",
        "print(x)\n",
        "print(y)"
      ],
      "metadata": {
        "colab": {
          "base_uri": "https://localhost:8080/"
        },
        "id": "SlVHbHl9l_Vj",
        "outputId": "5e501ee6-0727-42e2-e992-c69fbe4fc9f4"
      },
      "execution_count": 4,
      "outputs": [
        {
          "output_type": "stream",
          "name": "stdout",
          "text": [
            "[ 0  1  2  3  4  5  6  7  8  9 10 11 12 13 14 15 16 17 18 19]\n",
            "[ 10   7   4   1  -2  -5  -8 -11 -14 -17 -20 -23 -26 -29 -32 -35 -38 -41\n",
            " -44 -47]\n"
          ]
        }
      ]
    },
    {
      "cell_type": "code",
      "source": [
        "x.shape, y.shape"
      ],
      "metadata": {
        "colab": {
          "base_uri": "https://localhost:8080/"
        },
        "id": "YcYWr9BTm609",
        "outputId": "17bda58c-b425-4afc-da6e-e15ae365297f"
      },
      "execution_count": 5,
      "outputs": [
        {
          "output_type": "execute_result",
          "data": {
            "text/plain": [
              "((20,), (20,))"
            ]
          },
          "metadata": {},
          "execution_count": 5
        }
      ]
    },
    {
      "cell_type": "code",
      "source": [
        "# 1. Session Clear\n",
        "keras.backend.clear_session()\n",
        "\n",
        "# 2. Model\n",
        "model = keras.models.Sequential()\n",
        "\n",
        "# 3. Model Block\n",
        "model.add(keras.layers.Input(shape=(1,)))\n",
        "model.add(keras.layers.Dense(1))\n",
        "\n",
        "# 4. Compile\n",
        "model.compile(loss='mse', optimizer='adam')"
      ],
      "metadata": {
        "id": "avIdKvGEm1tE"
      },
      "execution_count": 6,
      "outputs": []
    },
    {
      "cell_type": "code",
      "source": [
        "# 5. fit\n",
        "model.fit(x, y, epochs=10, verbose=1)"
      ],
      "metadata": {
        "colab": {
          "base_uri": "https://localhost:8080/"
        },
        "id": "wVCv6crhnQTM",
        "outputId": "e6499030-4b77-435b-e6ea-2e3d1344c4c4"
      },
      "execution_count": 9,
      "outputs": [
        {
          "output_type": "stream",
          "name": "stdout",
          "text": [
            "Epoch 1/10\n",
            "1/1 [==============================] - 0s 9ms/step - loss: 885.1752\n",
            "Epoch 2/10\n",
            "1/1 [==============================] - 0s 7ms/step - loss: 884.4910\n",
            "Epoch 3/10\n",
            "1/1 [==============================] - 0s 7ms/step - loss: 883.8073\n",
            "Epoch 4/10\n",
            "1/1 [==============================] - 0s 7ms/step - loss: 883.1239\n",
            "Epoch 5/10\n",
            "1/1 [==============================] - 0s 8ms/step - loss: 882.4409\n",
            "Epoch 6/10\n",
            "1/1 [==============================] - 0s 8ms/step - loss: 881.7584\n",
            "Epoch 7/10\n",
            "1/1 [==============================] - 0s 9ms/step - loss: 881.0764\n",
            "Epoch 8/10\n",
            "1/1 [==============================] - 0s 12ms/step - loss: 880.3947\n",
            "Epoch 9/10\n",
            "1/1 [==============================] - 0s 9ms/step - loss: 879.7134\n",
            "Epoch 10/10\n",
            "1/1 [==============================] - 0s 10ms/step - loss: 879.0325\n"
          ]
        },
        {
          "output_type": "execute_result",
          "data": {
            "text/plain": [
              "<keras.callbacks.History at 0x7f58824b8a50>"
            ]
          },
          "metadata": {},
          "execution_count": 9
        }
      ]
    },
    {
      "cell_type": "code",
      "source": [
        "# 6. Predict\n",
        "model.predict(x).reshape(-1)"
      ],
      "metadata": {
        "colab": {
          "base_uri": "https://localhost:8080/"
        },
        "id": "g1CZMPQ0nVNw",
        "outputId": "61e138b6-5f15-4149-b9a1-783393082024"
      },
      "execution_count": 10,
      "outputs": [
        {
          "output_type": "execute_result",
          "data": {
            "text/plain": [
              "array([-0.1090351 ,  0.29334614,  0.69572735,  1.0981086 ,  1.5004898 ,\n",
              "        1.902871  ,  2.3052526 ,  2.7076337 ,  3.110015  ,  3.512396  ,\n",
              "        3.9147773 ,  4.3171587 ,  4.71954   ,  5.121921  ,  5.5243025 ,\n",
              "        5.9266834 ,  6.329065  ,  6.7314463 ,  7.133827  ,  7.5362086 ],\n",
              "      dtype=float32)"
            ]
          },
          "metadata": {},
          "execution_count": 10
        }
      ]
    },
    {
      "cell_type": "markdown",
      "source": [
        "## Quick Logistic Regression"
      ],
      "metadata": {
        "id": "MLw12XJ5nh86"
      }
    },
    {
      "cell_type": "code",
      "source": [
        "x = np.array(range(0, 20))\n",
        "y = np.array([0]*10 + [1]*10)\n",
        "\n",
        "print(x)\n",
        "print(y)"
      ],
      "metadata": {
        "colab": {
          "base_uri": "https://localhost:8080/"
        },
        "id": "rKg4AUnVniMs",
        "outputId": "8dda6f36-1801-41ba-ee35-87a0ee1f31d9"
      },
      "execution_count": 11,
      "outputs": [
        {
          "output_type": "stream",
          "name": "stdout",
          "text": [
            "[ 0  1  2  3  4  5  6  7  8  9 10 11 12 13 14 15 16 17 18 19]\n",
            "[0 0 0 0 0 0 0 0 0 0 1 1 1 1 1 1 1 1 1 1]\n"
          ]
        }
      ]
    },
    {
      "cell_type": "code",
      "source": [
        "# 1. Session Clear\n",
        "keras.backend.clear_session()\n",
        "\n",
        "# 2. Model\n",
        "model = keras.models.Sequential()\n",
        "\n",
        "# 3. Model Block\n",
        "model.add(keras.layers.Input(shape=(1,)))\n",
        "model.add(keras.layers.Dense(1, activation='sigmoid'))\n",
        "\n",
        "# 4. Compile\n",
        "model.compile(loss='binary_crossentropy', optimizer='adam', metrics=['accuracy'])"
      ],
      "metadata": {
        "id": "LP-XPAWnnp91"
      },
      "execution_count": 12,
      "outputs": []
    },
    {
      "cell_type": "code",
      "source": [
        "# 5. fit\n",
        "model.fit(x, y, epochs=10, verbose=1)"
      ],
      "metadata": {
        "colab": {
          "base_uri": "https://localhost:8080/"
        },
        "id": "gbmyY2GQnzQ9",
        "outputId": "bf3e4da9-ec55-4721-8fdd-de7ae6aaa598"
      },
      "execution_count": 13,
      "outputs": [
        {
          "output_type": "stream",
          "name": "stdout",
          "text": [
            "Epoch 1/10\n",
            "1/1 [==============================] - 1s 1s/step - loss: 0.6066 - accuracy: 0.5500\n",
            "Epoch 2/10\n",
            "1/1 [==============================] - 0s 9ms/step - loss: 0.6055 - accuracy: 0.5500\n",
            "Epoch 3/10\n",
            "1/1 [==============================] - 0s 7ms/step - loss: 0.6044 - accuracy: 0.5500\n",
            "Epoch 4/10\n",
            "1/1 [==============================] - 0s 7ms/step - loss: 0.6034 - accuracy: 0.5500\n",
            "Epoch 5/10\n",
            "1/1 [==============================] - 0s 7ms/step - loss: 0.6024 - accuracy: 0.5500\n",
            "Epoch 6/10\n",
            "1/1 [==============================] - 0s 6ms/step - loss: 0.6014 - accuracy: 0.5500\n",
            "Epoch 7/10\n",
            "1/1 [==============================] - 0s 7ms/step - loss: 0.6004 - accuracy: 0.5500\n",
            "Epoch 8/10\n",
            "1/1 [==============================] - 0s 7ms/step - loss: 0.5994 - accuracy: 0.5500\n",
            "Epoch 9/10\n",
            "1/1 [==============================] - 0s 7ms/step - loss: 0.5985 - accuracy: 0.5500\n",
            "Epoch 10/10\n",
            "1/1 [==============================] - 0s 10ms/step - loss: 0.5975 - accuracy: 0.5500\n"
          ]
        },
        {
          "output_type": "execute_result",
          "data": {
            "text/plain": [
              "<keras.callbacks.History at 0x7f588243b790>"
            ]
          },
          "metadata": {},
          "execution_count": 13
        }
      ]
    },
    {
      "cell_type": "code",
      "source": [
        "# 6. Predict\n",
        "model.predict(x).reshape(-1)"
      ],
      "metadata": {
        "colab": {
          "base_uri": "https://localhost:8080/"
        },
        "id": "gx0Rmyz3n4DZ",
        "outputId": "363b332f-eb3c-4633-8e47-52b0d6fd4803"
      },
      "execution_count": 14,
      "outputs": [
        {
          "output_type": "execute_result",
          "data": {
            "text/plain": [
              "array([0.49750423, 0.5309729 , 0.56416523, 0.59679234, 0.628585  ,\n",
              "       0.6593019 , 0.6887363 , 0.71672046, 0.743127  , 0.7678693 ,\n",
              "       0.7908989 , 0.81220263, 0.83179736, 0.8497259 , 0.86605126,\n",
              "       0.8808517 , 0.89421654, 0.9062419 , 0.917027  , 0.92667186],\n",
              "      dtype=float32)"
            ]
          },
          "metadata": {},
          "execution_count": 14
        }
      ]
    },
    {
      "cell_type": "code",
      "source": [
        "print(y)"
      ],
      "metadata": {
        "colab": {
          "base_uri": "https://localhost:8080/"
        },
        "id": "DdrrETRYn8ip",
        "outputId": "1c867ac2-17e3-4d27-ee03-0c71e1eea38d"
      },
      "execution_count": 15,
      "outputs": [
        {
          "output_type": "stream",
          "name": "stdout",
          "text": [
            "[0 0 0 0 0 0 0 0 0 0 1 1 1 1 1 1 1 1 1 1]\n"
          ]
        }
      ]
    },
    {
      "cell_type": "code",
      "source": [],
      "metadata": {
        "id": "ltfrI-dNn-pf"
      },
      "execution_count": null,
      "outputs": []
    }
  ]
}

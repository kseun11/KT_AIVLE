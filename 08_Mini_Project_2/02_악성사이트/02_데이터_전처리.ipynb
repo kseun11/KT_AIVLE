{
 "cells": [
  {
   "cell_type": "markdown",
   "metadata": {
    "tags": []
   },
   "source": [
    "## [미니프로젝트] 악성사이트 탐지 머신러닝 모델 개발\n",
    "\n",
    "## <b>[2단계] 데이터 분석 및 전처리\n",
    "\n",
    "## ▣ 데이터 소개\n",
    "* 학습 데이터셋 : train_dataset.csv\n",
    "<br>\n",
    "\n",
    "## ▣ 학습 데이터셋의 변수 소개\n",
    "\n",
    "* url_len : URL 길이\n",
    "* url_num_hypens_dom : URL내 '-'(하이픈) 개수\n",
    "* url_path_len : URL의 경로 길이\n",
    "* url_domain_len : URL의 도메인 길이\n",
    "* url_host_name : URL의 hostname 길이\n",
    "* url_num_dots : URL내 '.'(닷) 개수\n",
    "* url_num_underscores : URL내 '_'(언더바) 개수\n",
    "* url_query_len : URL쿼리 길이\n",
    "* url_num_query_para : URL쿼리의 파라미터 개수\n",
    "* url_ip_present : URL내 IP표시 여부\n",
    "* url_entropy : URL 복잡도\n",
    "* url_chinese_present : URL내 중국어 표기 여부\n",
    "* url_port : URL내 포트 표기 여부\n",
    "* html_num_tags('iframe') : HTML내 'iframe' 태그 개수\n",
    "* html_num_tags('script') : HTML내 'script' 태그 개수\n",
    "* html_num_tags('embed') : HTML내 'embed' 태그 개수\n",
    "* html_num_tags('object') : HTML내 'object' 태그 개수\n",
    "* html_num_tags('div') : HTML내 'div' 태그 개수\n",
    "* html_num_tags('head') : HTML내 'head' 태그 개수\n",
    "* html_num_tags('body') : HTML내 'body' 태그 개수\n",
    "* html_num_tags('form') : HTML내 'form' 태그 개수\n",
    "* html_num_tags('a') : HTML내 'a' 태그 개수\n",
    "* html_num_tags('applet') : HTML내 'applet' 태그 개수\n",
    "* Result_v1 : 악성사이트 여부 컬럼 ( 'malicious'는 악성사이트, 'benign'은 정상사이트 )\n",
    "\n",
    "<br>\n",
    "\n",
    "---\n",
    "\n",
    "### **[프로세스]**\n",
    "0. 라이브러리 import 및 데이터 불러오기\n",
    "1. 데이터 분석하기\n",
    "2. 데이터 전처리하기\n",
    "\n",
    "\n",
    "---"
   ]
  },
  {
   "cell_type": "markdown",
   "metadata": {},
   "source": [
    "# <b>Step 0. 라이브러리 import 및 데이터 불러오기\n",
    "### **가. 라이브러리 import**"
   ]
  },
  {
   "cell_type": "code",
   "execution_count": 1,
   "metadata": {},
   "outputs": [],
   "source": [
    "import numpy as np\n",
    "import matplotlib.pyplot as plt\n",
    "import pandas as pd\n",
    "import scipy.stats as spst\n",
    "import seaborn as sns\n",
    "from sklearn.model_selection import train_test_split\n",
    "\n",
    "import warnings\n",
    "warnings.filterwarnings(action='ignore')"
   ]
  },
  {
   "cell_type": "markdown",
   "metadata": {},
   "source": [
    "### **나.  학습데이터 불러오기**"
   ]
  },
  {
   "cell_type": "code",
   "execution_count": 4,
   "metadata": {},
   "outputs": [
    {
     "data": {
      "text/html": [
       "<div>\n",
       "<style scoped>\n",
       "    .dataframe tbody tr th:only-of-type {\n",
       "        vertical-align: middle;\n",
       "    }\n",
       "\n",
       "    .dataframe tbody tr th {\n",
       "        vertical-align: top;\n",
       "    }\n",
       "\n",
       "    .dataframe thead th {\n",
       "        text-align: right;\n",
       "    }\n",
       "</style>\n",
       "<table border=\"1\" class=\"dataframe\">\n",
       "  <thead>\n",
       "    <tr style=\"text-align: right;\">\n",
       "      <th></th>\n",
       "      <th>url_len</th>\n",
       "      <th>url_num_hyphens_dom</th>\n",
       "      <th>url_path_len</th>\n",
       "      <th>url_domain_len</th>\n",
       "      <th>url_hostname_len</th>\n",
       "      <th>url_num_dots</th>\n",
       "      <th>url_num_underscores</th>\n",
       "      <th>url_query_len</th>\n",
       "      <th>url_num_query_para</th>\n",
       "      <th>url_ip_present</th>\n",
       "      <th>...</th>\n",
       "      <th>html_num_tags('script')</th>\n",
       "      <th>html_num_tags('embed')</th>\n",
       "      <th>html_num_tags('object')</th>\n",
       "      <th>html_num_tags('div')</th>\n",
       "      <th>html_num_tags('head')</th>\n",
       "      <th>html_num_tags('body')</th>\n",
       "      <th>html_num_tags('form')</th>\n",
       "      <th>html_num_tags('a')</th>\n",
       "      <th>html_num_tags('applet')</th>\n",
       "      <th>Result_v1</th>\n",
       "    </tr>\n",
       "  </thead>\n",
       "  <tbody>\n",
       "    <tr>\n",
       "      <th>0</th>\n",
       "      <td>23.0</td>\n",
       "      <td>0.0</td>\n",
       "      <td>8.0</td>\n",
       "      <td>15.0</td>\n",
       "      <td>15.0</td>\n",
       "      <td>2.0</td>\n",
       "      <td>0.0</td>\n",
       "      <td>0.0</td>\n",
       "      <td>0.0</td>\n",
       "      <td>0.0</td>\n",
       "      <td>...</td>\n",
       "      <td>7.0</td>\n",
       "      <td>0.0</td>\n",
       "      <td>0.0</td>\n",
       "      <td>0.0</td>\n",
       "      <td>1.0</td>\n",
       "      <td>1.0</td>\n",
       "      <td>0.0</td>\n",
       "      <td>0.0</td>\n",
       "      <td>0.0</td>\n",
       "      <td>malicious</td>\n",
       "    </tr>\n",
       "    <tr>\n",
       "      <th>1</th>\n",
       "      <td>75.0</td>\n",
       "      <td>0.0</td>\n",
       "      <td>58.0</td>\n",
       "      <td>17.0</td>\n",
       "      <td>17.0</td>\n",
       "      <td>6.0</td>\n",
       "      <td>0.0</td>\n",
       "      <td>0.0</td>\n",
       "      <td>0.0</td>\n",
       "      <td>0.0</td>\n",
       "      <td>...</td>\n",
       "      <td>18.0</td>\n",
       "      <td>0.0</td>\n",
       "      <td>0.0</td>\n",
       "      <td>20.0</td>\n",
       "      <td>1.0</td>\n",
       "      <td>1.0</td>\n",
       "      <td>0.0</td>\n",
       "      <td>21.0</td>\n",
       "      <td>0.0</td>\n",
       "      <td>benign</td>\n",
       "    </tr>\n",
       "    <tr>\n",
       "      <th>2</th>\n",
       "      <td>20.0</td>\n",
       "      <td>0.0</td>\n",
       "      <td>4.0</td>\n",
       "      <td>16.0</td>\n",
       "      <td>16.0</td>\n",
       "      <td>2.0</td>\n",
       "      <td>0.0</td>\n",
       "      <td>0.0</td>\n",
       "      <td>0.0</td>\n",
       "      <td>0.0</td>\n",
       "      <td>...</td>\n",
       "      <td>33.0</td>\n",
       "      <td>0.0</td>\n",
       "      <td>0.0</td>\n",
       "      <td>101.0</td>\n",
       "      <td>1.0</td>\n",
       "      <td>1.0</td>\n",
       "      <td>3.0</td>\n",
       "      <td>70.0</td>\n",
       "      <td>0.0</td>\n",
       "      <td>benign</td>\n",
       "    </tr>\n",
       "    <tr>\n",
       "      <th>3</th>\n",
       "      <td>27.0</td>\n",
       "      <td>0.0</td>\n",
       "      <td>13.0</td>\n",
       "      <td>14.0</td>\n",
       "      <td>14.0</td>\n",
       "      <td>3.0</td>\n",
       "      <td>0.0</td>\n",
       "      <td>0.0</td>\n",
       "      <td>0.0</td>\n",
       "      <td>0.0</td>\n",
       "      <td>...</td>\n",
       "      <td>15.0</td>\n",
       "      <td>0.0</td>\n",
       "      <td>0.0</td>\n",
       "      <td>151.0</td>\n",
       "      <td>1.0</td>\n",
       "      <td>1.0</td>\n",
       "      <td>1.0</td>\n",
       "      <td>55.0</td>\n",
       "      <td>0.0</td>\n",
       "      <td>benign</td>\n",
       "    </tr>\n",
       "    <tr>\n",
       "      <th>4</th>\n",
       "      <td>39.0</td>\n",
       "      <td>2.0</td>\n",
       "      <td>12.0</td>\n",
       "      <td>27.0</td>\n",
       "      <td>27.0</td>\n",
       "      <td>2.0</td>\n",
       "      <td>0.0</td>\n",
       "      <td>0.0</td>\n",
       "      <td>0.0</td>\n",
       "      <td>0.0</td>\n",
       "      <td>...</td>\n",
       "      <td>10.0</td>\n",
       "      <td>0.0</td>\n",
       "      <td>0.0</td>\n",
       "      <td>332.0</td>\n",
       "      <td>1.0</td>\n",
       "      <td>1.0</td>\n",
       "      <td>0.0</td>\n",
       "      <td>321.0</td>\n",
       "      <td>0.0</td>\n",
       "      <td>benign</td>\n",
       "    </tr>\n",
       "  </tbody>\n",
       "</table>\n",
       "<p>5 rows × 24 columns</p>\n",
       "</div>"
      ],
      "text/plain": [
       "   url_len  url_num_hyphens_dom  url_path_len  url_domain_len  \\\n",
       "0     23.0                  0.0           8.0            15.0   \n",
       "1     75.0                  0.0          58.0            17.0   \n",
       "2     20.0                  0.0           4.0            16.0   \n",
       "3     27.0                  0.0          13.0            14.0   \n",
       "4     39.0                  2.0          12.0            27.0   \n",
       "\n",
       "   url_hostname_len  url_num_dots  url_num_underscores  url_query_len  \\\n",
       "0              15.0           2.0                  0.0            0.0   \n",
       "1              17.0           6.0                  0.0            0.0   \n",
       "2              16.0           2.0                  0.0            0.0   \n",
       "3              14.0           3.0                  0.0            0.0   \n",
       "4              27.0           2.0                  0.0            0.0   \n",
       "\n",
       "   url_num_query_para  url_ip_present  ...  html_num_tags('script')  \\\n",
       "0                 0.0             0.0  ...                      7.0   \n",
       "1                 0.0             0.0  ...                     18.0   \n",
       "2                 0.0             0.0  ...                     33.0   \n",
       "3                 0.0             0.0  ...                     15.0   \n",
       "4                 0.0             0.0  ...                     10.0   \n",
       "\n",
       "   html_num_tags('embed')  html_num_tags('object')  html_num_tags('div')  \\\n",
       "0                     0.0                      0.0                   0.0   \n",
       "1                     0.0                      0.0                  20.0   \n",
       "2                     0.0                      0.0                 101.0   \n",
       "3                     0.0                      0.0                 151.0   \n",
       "4                     0.0                      0.0                 332.0   \n",
       "\n",
       "   html_num_tags('head')  html_num_tags('body')  html_num_tags('form')  \\\n",
       "0                    1.0                    1.0                    0.0   \n",
       "1                    1.0                    1.0                    0.0   \n",
       "2                    1.0                    1.0                    3.0   \n",
       "3                    1.0                    1.0                    1.0   \n",
       "4                    1.0                    1.0                    0.0   \n",
       "\n",
       "   html_num_tags('a')  html_num_tags('applet')  Result_v1  \n",
       "0                 0.0                      0.0  malicious  \n",
       "1                21.0                      0.0     benign  \n",
       "2                70.0                      0.0     benign  \n",
       "3                55.0                      0.0     benign  \n",
       "4               321.0                      0.0     benign  \n",
       "\n",
       "[5 rows x 24 columns]"
      ]
     },
     "execution_count": 4,
     "metadata": {},
     "output_type": "execute_result"
    }
   ],
   "source": [
    "df = pd.read_csv('train_dataset.csv', sep=\",\", encoding = 'UTF-8')\n",
    "df.drop('Unnamed: 0', axis = 1, inplace = True)\n",
    "df.head()"
   ]
  },
  {
   "cell_type": "code",
   "execution_count": 60,
   "metadata": {},
   "outputs": [
    {
     "data": {
      "text/html": [
       "<div>\n",
       "<style scoped>\n",
       "    .dataframe tbody tr th:only-of-type {\n",
       "        vertical-align: middle;\n",
       "    }\n",
       "\n",
       "    .dataframe tbody tr th {\n",
       "        vertical-align: top;\n",
       "    }\n",
       "\n",
       "    .dataframe thead th {\n",
       "        text-align: right;\n",
       "    }\n",
       "</style>\n",
       "<table border=\"1\" class=\"dataframe\">\n",
       "  <thead>\n",
       "    <tr style=\"text-align: right;\">\n",
       "      <th></th>\n",
       "      <th>url_len</th>\n",
       "      <th>url_num_hyphens_dom</th>\n",
       "      <th>url_path_len</th>\n",
       "      <th>url_domain_len</th>\n",
       "      <th>url_hostname_len</th>\n",
       "      <th>url_num_dots</th>\n",
       "      <th>url_num_underscores</th>\n",
       "      <th>url_query_len</th>\n",
       "      <th>url_num_query_para</th>\n",
       "      <th>url_ip_present</th>\n",
       "      <th>...</th>\n",
       "      <th>html_num_tags('script')</th>\n",
       "      <th>html_num_tags('embed')</th>\n",
       "      <th>html_num_tags('object')</th>\n",
       "      <th>html_num_tags('div')</th>\n",
       "      <th>html_num_tags('head')</th>\n",
       "      <th>html_num_tags('body')</th>\n",
       "      <th>html_num_tags('form')</th>\n",
       "      <th>html_num_tags('a')</th>\n",
       "      <th>html_num_tags('applet')</th>\n",
       "      <th>Result_v1</th>\n",
       "    </tr>\n",
       "  </thead>\n",
       "  <tbody>\n",
       "    <tr>\n",
       "      <th>0</th>\n",
       "      <td>23.0</td>\n",
       "      <td>0.0</td>\n",
       "      <td>8.0</td>\n",
       "      <td>15.0</td>\n",
       "      <td>15.0</td>\n",
       "      <td>2.0</td>\n",
       "      <td>0.0</td>\n",
       "      <td>0.0</td>\n",
       "      <td>0.0</td>\n",
       "      <td>0.0</td>\n",
       "      <td>...</td>\n",
       "      <td>7.0</td>\n",
       "      <td>0.0</td>\n",
       "      <td>0.0</td>\n",
       "      <td>0.0</td>\n",
       "      <td>1.0</td>\n",
       "      <td>1.0</td>\n",
       "      <td>0.0</td>\n",
       "      <td>0.0</td>\n",
       "      <td>0.0</td>\n",
       "      <td>1</td>\n",
       "    </tr>\n",
       "    <tr>\n",
       "      <th>1</th>\n",
       "      <td>75.0</td>\n",
       "      <td>0.0</td>\n",
       "      <td>58.0</td>\n",
       "      <td>17.0</td>\n",
       "      <td>17.0</td>\n",
       "      <td>6.0</td>\n",
       "      <td>0.0</td>\n",
       "      <td>0.0</td>\n",
       "      <td>0.0</td>\n",
       "      <td>0.0</td>\n",
       "      <td>...</td>\n",
       "      <td>18.0</td>\n",
       "      <td>0.0</td>\n",
       "      <td>0.0</td>\n",
       "      <td>20.0</td>\n",
       "      <td>1.0</td>\n",
       "      <td>1.0</td>\n",
       "      <td>0.0</td>\n",
       "      <td>21.0</td>\n",
       "      <td>0.0</td>\n",
       "      <td>0</td>\n",
       "    </tr>\n",
       "    <tr>\n",
       "      <th>2</th>\n",
       "      <td>20.0</td>\n",
       "      <td>0.0</td>\n",
       "      <td>4.0</td>\n",
       "      <td>16.0</td>\n",
       "      <td>16.0</td>\n",
       "      <td>2.0</td>\n",
       "      <td>0.0</td>\n",
       "      <td>0.0</td>\n",
       "      <td>0.0</td>\n",
       "      <td>0.0</td>\n",
       "      <td>...</td>\n",
       "      <td>33.0</td>\n",
       "      <td>0.0</td>\n",
       "      <td>0.0</td>\n",
       "      <td>101.0</td>\n",
       "      <td>1.0</td>\n",
       "      <td>1.0</td>\n",
       "      <td>3.0</td>\n",
       "      <td>70.0</td>\n",
       "      <td>0.0</td>\n",
       "      <td>0</td>\n",
       "    </tr>\n",
       "    <tr>\n",
       "      <th>3</th>\n",
       "      <td>27.0</td>\n",
       "      <td>0.0</td>\n",
       "      <td>13.0</td>\n",
       "      <td>14.0</td>\n",
       "      <td>14.0</td>\n",
       "      <td>3.0</td>\n",
       "      <td>0.0</td>\n",
       "      <td>0.0</td>\n",
       "      <td>0.0</td>\n",
       "      <td>0.0</td>\n",
       "      <td>...</td>\n",
       "      <td>15.0</td>\n",
       "      <td>0.0</td>\n",
       "      <td>0.0</td>\n",
       "      <td>151.0</td>\n",
       "      <td>1.0</td>\n",
       "      <td>1.0</td>\n",
       "      <td>1.0</td>\n",
       "      <td>55.0</td>\n",
       "      <td>0.0</td>\n",
       "      <td>0</td>\n",
       "    </tr>\n",
       "    <tr>\n",
       "      <th>4</th>\n",
       "      <td>39.0</td>\n",
       "      <td>2.0</td>\n",
       "      <td>12.0</td>\n",
       "      <td>27.0</td>\n",
       "      <td>27.0</td>\n",
       "      <td>2.0</td>\n",
       "      <td>0.0</td>\n",
       "      <td>0.0</td>\n",
       "      <td>0.0</td>\n",
       "      <td>0.0</td>\n",
       "      <td>...</td>\n",
       "      <td>10.0</td>\n",
       "      <td>0.0</td>\n",
       "      <td>0.0</td>\n",
       "      <td>332.0</td>\n",
       "      <td>1.0</td>\n",
       "      <td>1.0</td>\n",
       "      <td>0.0</td>\n",
       "      <td>321.0</td>\n",
       "      <td>0.0</td>\n",
       "      <td>0</td>\n",
       "    </tr>\n",
       "  </tbody>\n",
       "</table>\n",
       "<p>5 rows × 24 columns</p>\n",
       "</div>"
      ],
      "text/plain": [
       "   url_len  url_num_hyphens_dom  url_path_len  url_domain_len  \\\n",
       "0     23.0                  0.0           8.0            15.0   \n",
       "1     75.0                  0.0          58.0            17.0   \n",
       "2     20.0                  0.0           4.0            16.0   \n",
       "3     27.0                  0.0          13.0            14.0   \n",
       "4     39.0                  2.0          12.0            27.0   \n",
       "\n",
       "   url_hostname_len  url_num_dots  url_num_underscores  url_query_len  \\\n",
       "0              15.0           2.0                  0.0            0.0   \n",
       "1              17.0           6.0                  0.0            0.0   \n",
       "2              16.0           2.0                  0.0            0.0   \n",
       "3              14.0           3.0                  0.0            0.0   \n",
       "4              27.0           2.0                  0.0            0.0   \n",
       "\n",
       "   url_num_query_para  url_ip_present  ...  html_num_tags('script')  \\\n",
       "0                 0.0             0.0  ...                      7.0   \n",
       "1                 0.0             0.0  ...                     18.0   \n",
       "2                 0.0             0.0  ...                     33.0   \n",
       "3                 0.0             0.0  ...                     15.0   \n",
       "4                 0.0             0.0  ...                     10.0   \n",
       "\n",
       "   html_num_tags('embed')  html_num_tags('object')  html_num_tags('div')  \\\n",
       "0                     0.0                      0.0                   0.0   \n",
       "1                     0.0                      0.0                  20.0   \n",
       "2                     0.0                      0.0                 101.0   \n",
       "3                     0.0                      0.0                 151.0   \n",
       "4                     0.0                      0.0                 332.0   \n",
       "\n",
       "   html_num_tags('head')  html_num_tags('body')  html_num_tags('form')  \\\n",
       "0                    1.0                    1.0                    0.0   \n",
       "1                    1.0                    1.0                    0.0   \n",
       "2                    1.0                    1.0                    3.0   \n",
       "3                    1.0                    1.0                    1.0   \n",
       "4                    1.0                    1.0                    0.0   \n",
       "\n",
       "   html_num_tags('a')  html_num_tags('applet')  Result_v1  \n",
       "0                 0.0                      0.0          1  \n",
       "1                21.0                      0.0          0  \n",
       "2                70.0                      0.0          0  \n",
       "3                55.0                      0.0          0  \n",
       "4               321.0                      0.0          0  \n",
       "\n",
       "[5 rows x 24 columns]"
      ]
     },
     "execution_count": 60,
     "metadata": {},
     "output_type": "execute_result"
    }
   ],
   "source": [
    "df['Result_v1'] = df['Result_v1'].map({'malicious':1, 'benign':0})\n",
    "df.head()"
   ]
  },
  {
   "cell_type": "markdown",
   "metadata": {},
   "source": [
    "# <b>Step 1. 데이터 분석하기\n",
    "---"
   ]
  },
  {
   "cell_type": "markdown",
   "metadata": {},
   "source": [
    "## 1. 데이터 단변량 분석하기\n",
    "\n",
    "1. 변수가 내포하고 있는 의미\n",
    "2. 변수가 수치형인지, 범주형인지\n",
    "3. 결측치 존재 여부 및 조치 방안\n",
    "4. 기초 통계량 확인\n",
    "5. 데이터 분포 확인\n",
    "6. 위 정보로부터 파악한 내용 정리\n",
    "7. 추가 분석사항 도출"
   ]
  },
  {
   "cell_type": "code",
   "execution_count": 13,
   "metadata": {},
   "outputs": [
    {
     "data": {
      "text/plain": [
       "Index(['url_len', 'url_num_hyphens_dom', 'url_path_len', 'url_domain_len',\n",
       "       'url_hostname_len', 'url_num_dots', 'url_num_underscores',\n",
       "       'url_query_len', 'url_num_query_para', 'url_ip_present', 'url_entropy',\n",
       "       'url_chinese_present', 'url_port', 'html_num_tags('iframe')',\n",
       "       'html_num_tags('script')', 'html_num_tags('embed')',\n",
       "       'html_num_tags('object')', 'html_num_tags('div')',\n",
       "       'html_num_tags('head')', 'html_num_tags('body')',\n",
       "       'html_num_tags('form')', 'html_num_tags('a')',\n",
       "       'html_num_tags('applet')', 'Result_v1'],\n",
       "      dtype='object')"
      ]
     },
     "execution_count": 13,
     "metadata": {},
     "output_type": "execute_result"
    }
   ],
   "source": [
    "df.columns"
   ]
  },
  {
   "cell_type": "markdown",
   "metadata": {},
   "source": [
    "### 1) url_host_name"
   ]
  },
  {
   "cell_type": "markdown",
   "metadata": {},
   "source": [
    "1. 변수가 내포하고 있는 의미"
   ]
  },
  {
   "cell_type": "markdown",
   "metadata": {},
   "source": [
    "* URL의 hostname 길이"
   ]
  },
  {
   "cell_type": "markdown",
   "metadata": {},
   "source": [
    "2. 변수가 수치형인지, 범주형인지"
   ]
  },
  {
   "cell_type": "code",
   "execution_count": 9,
   "metadata": {
    "tags": []
   },
   "outputs": [
    {
     "data": {
      "text/plain": [
       "array([ 15.,  17.,  16.,  14.,  27.,  18.,  19.,  25.,  13.,  23.,  20.,\n",
       "        12.,  10.,  34.,  24.,  32.,  22.,  30.,  28.,  11.,  26.,  42.,\n",
       "         9.,  21.,  33.,  43.,   8.,  31.,  44.,   6.,  48.,   7.,  37.,\n",
       "         4.,  68.,  29.,  36.,  40.,  46., 101.,  39.,  38.,  35.,  61.,\n",
       "        47.,  45.,  52.,  72.,  55.,  56.,  57., 104.,   5.,  41.,  51.,\n",
       "        74.,  60.,  49., 109.,  85., 100.,  54.,  62.,  53.,  77.,  63.,\n",
       "       103.])"
      ]
     },
     "execution_count": 9,
     "metadata": {},
     "output_type": "execute_result"
    }
   ],
   "source": [
    "# url_hostname_len\n",
    "var = 'url_hostname_len'\n",
    "temp = df[var]\n",
    "temp.unique()"
   ]
  },
  {
   "cell_type": "markdown",
   "metadata": {},
   "source": [
    "3. 결측치 존재 여부 및 조치 방안"
   ]
  },
  {
   "cell_type": "code",
   "execution_count": 147,
   "metadata": {},
   "outputs": [
    {
     "data": {
      "text/plain": [
       "0"
      ]
     },
     "execution_count": 147,
     "metadata": {},
     "output_type": "execute_result"
    }
   ],
   "source": [
    "df['url_hostname_len'].isna().sum()"
   ]
  },
  {
   "cell_type": "markdown",
   "metadata": {},
   "source": [
    "4. 기초 통계량 확인"
   ]
  },
  {
   "cell_type": "code",
   "execution_count": 11,
   "metadata": {
    "collapsed": true,
    "jupyter": {
     "outputs_hidden": true
    },
    "tags": []
   },
   "outputs": [
    {
     "name": "stdout",
     "output_type": "stream",
     "text": [
      "17.0    461\n",
      "13.0    284\n",
      "14.0    270\n",
      "15.0    219\n",
      "16.0    198\n",
      "       ... \n",
      "72.0      1\n",
      "77.0      1\n",
      "55.0      1\n",
      "85.0      1\n",
      "54.0      1\n",
      "Name: url_hostname_len, Length: 67, dtype: int64\n"
     ]
    }
   ],
   "source": [
    "print(df['url_hostname_len'].value_counts())"
   ]
  },
  {
   "cell_type": "code",
   "execution_count": 145,
   "metadata": {},
   "outputs": [
    {
     "data": {
      "text/plain": [
       "count    3231.000000\n",
       "mean       20.450944\n",
       "std         9.902215\n",
       "min         4.000000\n",
       "25%        14.000000\n",
       "50%        17.000000\n",
       "75%        24.000000\n",
       "max       109.000000\n",
       "Name: url_hostname_len, dtype: float64"
      ]
     },
     "execution_count": 145,
     "metadata": {},
     "output_type": "execute_result"
    }
   ],
   "source": [
    "df['url_hostname_len'].describe()"
   ]
  },
  {
   "cell_type": "markdown",
   "metadata": {},
   "source": [
    "5. 데이터 분포 확인"
   ]
  },
  {
   "cell_type": "code",
   "execution_count": 146,
   "metadata": {},
   "outputs": [
    {
     "data": {
      "text/plain": [
       "<AxesSubplot:xlabel='url_hostname_len', ylabel='Density'>"
      ]
     },
     "execution_count": 146,
     "metadata": {},
     "output_type": "execute_result"
    },
    {
     "data": {
      "image/png": "[encoded data removed]",
      "text/plain": [
       "<Figure size 432x288 with 1 Axes>"
      ]
     },
     "metadata": {
      "needs_background": "light"
     },
     "output_type": "display_data"
    }
   ],
   "source": [
    "sns.distplot(df['url_hostname_len'], bins=15)"
   ]
  },
  {
   "cell_type": "markdown",
   "metadata": {},
   "source": [
    "6. 위 정보로부터 파악한 내용 정리"
   ]
  },
  {
   "cell_type": "markdown",
   "metadata": {},
   "source": [
    "길이가 20대에 많이 분포해있다."
   ]
  },
  {
   "cell_type": "markdown",
   "metadata": {},
   "source": [
    "### 2) url_num_dots"
   ]
  },
  {
   "cell_type": "markdown",
   "metadata": {},
   "source": [
    "1. 변수가 내포하고 있는 의미"
   ]
  },
  {
   "cell_type": "markdown",
   "metadata": {},
   "source": [
    "* URL내 '.'(닷) 개수"
   ]
  },
  {
   "cell_type": "markdown",
   "metadata": {},
   "source": [
    "2. 변수가 수치형인지, 범주형인지"
   ]
  },
  {
   "cell_type": "code",
   "execution_count": 14,
   "metadata": {},
   "outputs": [
    {
     "data": {
      "text/plain": [
       "array([ 2.,  6.,  3.,  4.,  1.,  9.,  5., 32., 10.,  7.,  8., 11., 13.,\n",
       "       12., 26., 14., 16.])"
      ]
     },
     "execution_count": 14,
     "metadata": {},
     "output_type": "execute_result"
    }
   ],
   "source": [
    "# url_num_dots\n",
    "var = 'url_num_dots'\n",
    "temp = df[var]\n",
    "temp.unique()"
   ]
  },
  {
   "cell_type": "markdown",
   "metadata": {},
   "source": [
    "3. 결측치 존재 여부 및 조치 방안"
   ]
  },
  {
   "cell_type": "code",
   "execution_count": 15,
   "metadata": {},
   "outputs": [
    {
     "data": {
      "text/plain": [
       "0"
      ]
     },
     "execution_count": 15,
     "metadata": {},
     "output_type": "execute_result"
    }
   ],
   "source": [
    "df['url_num_dots'].isna().sum()"
   ]
  },
  {
   "cell_type": "markdown",
   "metadata": {},
   "source": [
    "4. 기초통계량 확인"
   ]
  },
  {
   "cell_type": "code",
   "execution_count": 16,
   "metadata": {
    "collapsed": true,
    "jupyter": {
     "outputs_hidden": true
    },
    "tags": []
   },
   "outputs": [
    {
     "name": "stdout",
     "output_type": "stream",
     "text": [
      "2.0     1505\n",
      "3.0      952\n",
      "1.0      662\n",
      "4.0      383\n",
      "5.0       53\n",
      "6.0       50\n",
      "8.0       15\n",
      "7.0       13\n",
      "9.0       10\n",
      "10.0       5\n",
      "11.0       5\n",
      "13.0       5\n",
      "26.0       2\n",
      "12.0       1\n",
      "32.0       1\n",
      "14.0       1\n",
      "16.0       1\n",
      "Name: url_num_dots, dtype: int64\n"
     ]
    }
   ],
   "source": [
    "print(df['url_num_dots'].value_counts())"
   ]
  },
  {
   "cell_type": "markdown",
   "metadata": {},
   "source": [
    "5. 데이터 분포 확인"
   ]
  },
  {
   "cell_type": "code",
   "execution_count": 17,
   "metadata": {},
   "outputs": [
    {
     "data": {
      "text/plain": [
       "<AxesSubplot:xlabel='url_num_dots', ylabel='Density'>"
      ]
     },
     "execution_count": 17,
     "metadata": {},
     "output_type": "execute_result"
    },
    {
     "data": {
      "image/png": "[encoded data removed]",
      "text/plain": [
       "<Figure size 432x288 with 1 Axes>"
      ]
     },
     "metadata": {
      "needs_background": "light"
     },
     "output_type": "display_data"
    }
   ],
   "source": [
    "sns.distplot(df['url_num_dots'], bins=15)"
   ]
  },
  {
   "cell_type": "markdown",
   "metadata": {},
   "source": [
    "6. 위 정보로부터 파악한 내용 정리"
   ]
  },
  {
   "cell_type": "markdown",
   "metadata": {},
   "source": [
    "대부분 5이하에 많이 분포해있다."
   ]
  },
  {
   "cell_type": "markdown",
   "metadata": {},
   "source": [
    "### 3) url_ip_present"
   ]
  },
  {
   "cell_type": "markdown",
   "metadata": {},
   "source": [
    "1. 변수가 내포하고 있는 의미"
   ]
  },
  {
   "cell_type": "markdown",
   "metadata": {},
   "source": [
    "* URL내 IP표시 여부"
   ]
  },
  {
   "cell_type": "markdown",
   "metadata": {},
   "source": [
    "2. 변수가 수치형인지, 범주형인지"
   ]
  },
  {
   "cell_type": "code",
   "execution_count": 20,
   "metadata": {},
   "outputs": [
    {
     "data": {
      "text/plain": [
       "array([0., 1.])"
      ]
     },
     "execution_count": 20,
     "metadata": {},
     "output_type": "execute_result"
    }
   ],
   "source": [
    "# url_ip_present\n",
    "var = 'url_ip_present'\n",
    "temp = df[var]\n",
    "temp.unique()"
   ]
  },
  {
   "cell_type": "markdown",
   "metadata": {},
   "source": [
    "3. 결측치 존재 여부 및 조치 방안"
   ]
  },
  {
   "cell_type": "code",
   "execution_count": 21,
   "metadata": {},
   "outputs": [
    {
     "data": {
      "text/plain": [
       "0"
      ]
     },
     "execution_count": 21,
     "metadata": {},
     "output_type": "execute_result"
    }
   ],
   "source": [
    "df['url_ip_present'].isna().sum()"
   ]
  },
  {
   "cell_type": "markdown",
   "metadata": {},
   "source": [
    "4. 기초통계량 확인"
   ]
  },
  {
   "cell_type": "code",
   "execution_count": 22,
   "metadata": {},
   "outputs": [
    {
     "name": "stdout",
     "output_type": "stream",
     "text": [
      "0.0    3441\n",
      "1.0     223\n",
      "Name: url_ip_present, dtype: int64\n"
     ]
    }
   ],
   "source": [
    "print(df['url_ip_present'].value_counts())"
   ]
  },
  {
   "cell_type": "markdown",
   "metadata": {},
   "source": [
    "5. 데이터 분포 확인"
   ]
  },
  {
   "cell_type": "code",
   "execution_count": 62,
   "metadata": {},
   "outputs": [
    {
     "data": {
      "image/png": "[encoded data removed]",
      "text/plain": [
       "<Figure size 432x288 with 1 Axes>"
      ]
     },
     "metadata": {
      "needs_background": "light"
     },
     "output_type": "display_data"
    }
   ],
   "source": [
    "sns.countplot(df['url_ip_present'])\n",
    "plt.show()"
   ]
  },
  {
   "cell_type": "markdown",
   "metadata": {},
   "source": [
    "6. 위 정보로부터 파악한 내용 정리"
   ]
  },
  {
   "cell_type": "markdown",
   "metadata": {},
   "source": [
    "URL내 IP표시 여부가 0, 즉, IP표시가 되어있지 않은 데이터가 더 많다."
   ]
  },
  {
   "cell_type": "markdown",
   "metadata": {},
   "source": [
    "### 4) url_entropy"
   ]
  },
  {
   "cell_type": "markdown",
   "metadata": {},
   "source": [
    "1. 변수가 내포하고 있는 의미"
   ]
  },
  {
   "cell_type": "markdown",
   "metadata": {},
   "source": [
    "* URL 복잡도"
   ]
  },
  {
   "cell_type": "markdown",
   "metadata": {},
   "source": [
    "2. 변수가 수치형인지, 범주형인지"
   ]
  },
  {
   "cell_type": "code",
   "execution_count": 24,
   "metadata": {},
   "outputs": [
    {
     "data": {
      "text/plain": [
       "array([4.2603326 , 4.63610669, 3.70896608, ..., 4.13535561, 4.36233111,\n",
       "       3.61947057])"
      ]
     },
     "execution_count": 24,
     "metadata": {},
     "output_type": "execute_result"
    }
   ],
   "source": [
    "# url_entropy\n",
    "var = 'url_entropy'\n",
    "temp = df[var]\n",
    "temp.unique()"
   ]
  },
  {
   "cell_type": "markdown",
   "metadata": {},
   "source": [
    "3. 결측치 존재 여부 및 조치 방안"
   ]
  },
  {
   "cell_type": "code",
   "execution_count": 25,
   "metadata": {},
   "outputs": [
    {
     "data": {
      "text/plain": [
       "0"
      ]
     },
     "execution_count": 25,
     "metadata": {},
     "output_type": "execute_result"
    }
   ],
   "source": [
    "df['url_entropy'].isna().sum()"
   ]
  },
  {
   "cell_type": "markdown",
   "metadata": {},
   "source": [
    "4. 기초통계량 확인"
   ]
  },
  {
   "cell_type": "code",
   "execution_count": 26,
   "metadata": {
    "collapsed": true,
    "jupyter": {
     "outputs_hidden": true
    },
    "tags": []
   },
   "outputs": [
    {
     "name": "stdout",
     "output_type": "stream",
     "text": [
      "3.970176    18\n",
      "4.084963    14\n",
      "3.886842    13\n",
      "3.973661    12\n",
      "4.053509    11\n",
      "            ..\n",
      "3.848885     1\n",
      "4.691721     1\n",
      "4.387252     1\n",
      "3.892487     1\n",
      "4.023383     1\n",
      "Name: url_entropy, Length: 2524, dtype: int64\n"
     ]
    }
   ],
   "source": [
    "print(df['url_entropy'].value_counts())"
   ]
  },
  {
   "cell_type": "markdown",
   "metadata": {},
   "source": [
    "5. 데이터 분포 확인"
   ]
  },
  {
   "cell_type": "code",
   "execution_count": 27,
   "metadata": {},
   "outputs": [
    {
     "data": {
      "text/plain": [
       "<AxesSubplot:xlabel='url_entropy', ylabel='Density'>"
      ]
     },
     "execution_count": 27,
     "metadata": {},
     "output_type": "execute_result"
    },
    {
     "data": {
      "image/png": "[encoded data removed]",
      "text/plain": [
       "<Figure size 432x288 with 1 Axes>"
      ]
     },
     "metadata": {
      "needs_background": "light"
     },
     "output_type": "display_data"
    }
   ],
   "source": [
    "sns.distplot(df['url_entropy'], bins=15)"
   ]
  },
  {
   "cell_type": "markdown",
   "metadata": {},
   "source": [
    "6. 위 정보로부터 파악한 내용 정리"
   ]
  },
  {
   "cell_type": "markdown",
   "metadata": {},
   "source": [
    "정규분포를 따르고, 골고루 분포해있다."
   ]
  },
  {
   "cell_type": "markdown",
   "metadata": {},
   "source": [
    "### 5) url_chinese_present"
   ]
  },
  {
   "cell_type": "markdown",
   "metadata": {},
   "source": [
    "1. 변수가 내포하고 있는 의미"
   ]
  },
  {
   "cell_type": "markdown",
   "metadata": {},
   "source": [
    "* URL내 중국어 표기 여부"
   ]
  },
  {
   "cell_type": "markdown",
   "metadata": {},
   "source": [
    "2. 변수가 수치형인지, 범주형인지"
   ]
  },
  {
   "cell_type": "code",
   "execution_count": 28,
   "metadata": {},
   "outputs": [
    {
     "data": {
      "text/plain": [
       "array([0.])"
      ]
     },
     "execution_count": 28,
     "metadata": {},
     "output_type": "execute_result"
    }
   ],
   "source": [
    "# url_chinese_present\n",
    "var = 'url_chinese_present'\n",
    "temp = df[var]\n",
    "temp.unique()"
   ]
  },
  {
   "cell_type": "markdown",
   "metadata": {},
   "source": [
    "3. 결측치 존재 여부 및 조치 방안"
   ]
  },
  {
   "cell_type": "code",
   "execution_count": 33,
   "metadata": {},
   "outputs": [
    {
     "data": {
      "text/plain": [
       "0"
      ]
     },
     "execution_count": 33,
     "metadata": {},
     "output_type": "execute_result"
    }
   ],
   "source": [
    "df['url_chinese_present'].isna().sum()"
   ]
  },
  {
   "cell_type": "markdown",
   "metadata": {},
   "source": [
    "4. 기초통계량 확인"
   ]
  },
  {
   "cell_type": "code",
   "execution_count": 34,
   "metadata": {},
   "outputs": [
    {
     "name": "stdout",
     "output_type": "stream",
     "text": [
      "0.0    3664\n",
      "Name: url_chinese_present, dtype: int64\n"
     ]
    }
   ],
   "source": [
    "print(df['url_chinese_present'].value_counts())"
   ]
  },
  {
   "cell_type": "markdown",
   "metadata": {},
   "source": [
    "5. 데이터 분포 확인"
   ]
  },
  {
   "cell_type": "code",
   "execution_count": 63,
   "metadata": {},
   "outputs": [
    {
     "data": {
      "image/png": "[encoded data removed]",
      "text/plain": [
       "<Figure size 432x288 with 1 Axes>"
      ]
     },
     "metadata": {
      "needs_background": "light"
     },
     "output_type": "display_data"
    }
   ],
   "source": [
    "sns.countplot(df['url_chinese_present'])\n",
    "plt.show()"
   ]
  },
  {
   "cell_type": "markdown",
   "metadata": {},
   "source": [
    "6. 위 정보로부터 파악한 내용 정리"
   ]
  },
  {
   "cell_type": "markdown",
   "metadata": {},
   "source": [
    "URL내 중국어가 표기되어 있지 않다."
   ]
  },
  {
   "cell_type": "markdown",
   "metadata": {},
   "source": [
    "### 6) url_port"
   ]
  },
  {
   "cell_type": "markdown",
   "metadata": {},
   "source": [
    "1. 변수가 내포하고 있는 의미"
   ]
  },
  {
   "cell_type": "markdown",
   "metadata": {},
   "source": [
    "* URL내 포트 표기 여부"
   ]
  },
  {
   "cell_type": "markdown",
   "metadata": {},
   "source": [
    "2. 변수가 수치형인지, 범주형인지"
   ]
  },
  {
   "cell_type": "code",
   "execution_count": 36,
   "metadata": {},
   "outputs": [
    {
     "data": {
      "text/plain": [
       "array([0., 1.])"
      ]
     },
     "execution_count": 36,
     "metadata": {},
     "output_type": "execute_result"
    }
   ],
   "source": [
    "# url_port\n",
    "var = 'url_port'\n",
    "temp = df[var]\n",
    "temp.unique()"
   ]
  },
  {
   "cell_type": "markdown",
   "metadata": {},
   "source": [
    "3. 결측치 존재 여부 및 조치 방안"
   ]
  },
  {
   "cell_type": "code",
   "execution_count": 37,
   "metadata": {},
   "outputs": [
    {
     "data": {
      "text/plain": [
       "0"
      ]
     },
     "execution_count": 37,
     "metadata": {},
     "output_type": "execute_result"
    }
   ],
   "source": [
    "df['url_port'].isna().sum()"
   ]
  },
  {
   "cell_type": "markdown",
   "metadata": {},
   "source": [
    "4. 기초통계량 확인"
   ]
  },
  {
   "cell_type": "code",
   "execution_count": 38,
   "metadata": {},
   "outputs": [
    {
     "name": "stdout",
     "output_type": "stream",
     "text": [
      "0.0    3656\n",
      "1.0       8\n",
      "Name: url_port, dtype: int64\n"
     ]
    }
   ],
   "source": [
    "print(df['url_port'].value_counts())"
   ]
  },
  {
   "cell_type": "markdown",
   "metadata": {},
   "source": [
    "5. 데이터 분포 확인"
   ]
  },
  {
   "cell_type": "code",
   "execution_count": 64,
   "metadata": {},
   "outputs": [
    {
     "data": {
      "image/png": "[encoded data removed]",
      "text/plain": [
       "<Figure size 432x288 with 1 Axes>"
      ]
     },
     "metadata": {
      "needs_background": "light"
     },
     "output_type": "display_data"
    }
   ],
   "source": [
    "sns.countplot(df['url_port'])\n",
    "plt.show()"
   ]
  },
  {
   "cell_type": "markdown",
   "metadata": {},
   "source": [
    "6. 위 정보로부터 파악한 내용 정리"
   ]
  },
  {
   "cell_type": "markdown",
   "metadata": {},
   "source": [
    "URL내 포트가 표기되어 있지 않은 것이 대부분이다."
   ]
  },
  {
   "cell_type": "markdown",
   "metadata": {},
   "source": [
    "### 7) Result_v1"
   ]
  },
  {
   "cell_type": "markdown",
   "metadata": {},
   "source": [
    "1. 변수가 내포하고 있는 의미"
   ]
  },
  {
   "cell_type": "markdown",
   "metadata": {},
   "source": [
    "* 악성사이트 여부 컬럼 ( 'malicious'는 악성사이트 - 1, 'benign'은 정상사이트 - 0)"
   ]
  },
  {
   "cell_type": "markdown",
   "metadata": {},
   "source": [
    "2. 변수가 수치형인지, 범주형인지"
   ]
  },
  {
   "cell_type": "code",
   "execution_count": 43,
   "metadata": {},
   "outputs": [
    {
     "data": {
      "text/plain": [
       "array(['malicious', 'benign'], dtype=object)"
      ]
     },
     "execution_count": 43,
     "metadata": {},
     "output_type": "execute_result"
    }
   ],
   "source": [
    "# Result_v1\n",
    "var = 'Result_v1'\n",
    "temp = df[var]\n",
    "temp.unique()"
   ]
  },
  {
   "cell_type": "markdown",
   "metadata": {},
   "source": [
    "3. 결측치 존재 여부 및 조치 방안"
   ]
  },
  {
   "cell_type": "code",
   "execution_count": 65,
   "metadata": {},
   "outputs": [
    {
     "data": {
      "text/plain": [
       "0"
      ]
     },
     "execution_count": 65,
     "metadata": {},
     "output_type": "execute_result"
    }
   ],
   "source": [
    "df['Result_v1'].isna().sum()"
   ]
  },
  {
   "cell_type": "markdown",
   "metadata": {},
   "source": [
    "4. 기초통계량 확인"
   ]
  },
  {
   "cell_type": "code",
   "execution_count": 66,
   "metadata": {},
   "outputs": [
    {
     "name": "stdout",
     "output_type": "stream",
     "text": [
      "0    1858\n",
      "1    1806\n",
      "Name: Result_v1, dtype: int64\n"
     ]
    }
   ],
   "source": [
    "print(df['Result_v1'].value_counts())"
   ]
  },
  {
   "cell_type": "markdown",
   "metadata": {},
   "source": [
    "5. 데이터 분포 확인"
   ]
  },
  {
   "cell_type": "code",
   "execution_count": 67,
   "metadata": {},
   "outputs": [
    {
     "data": {
      "image/png": "[encoded data removed]",
      "text/plain": [
       "<Figure size 432x288 with 1 Axes>"
      ]
     },
     "metadata": {
      "needs_background": "light"
     },
     "output_type": "display_data"
    }
   ],
   "source": [
    "sns.countplot(df['Result_v1'])\n",
    "plt.show()"
   ]
  },
  {
   "cell_type": "markdown",
   "metadata": {},
   "source": [
    "6. 위 정보로부터 파악한 내용 정리"
   ]
  },
  {
   "cell_type": "markdown",
   "metadata": {},
   "source": [
    "정상사이트가 조금 더 많다."
   ]
  },
  {
   "cell_type": "code",
   "execution_count": null,
   "metadata": {},
   "outputs": [],
   "source": []
  },
  {
   "cell_type": "markdown",
   "metadata": {},
   "source": [
    "## 2. 데이터 이변량 분석하기"
   ]
  },
  {
   "cell_type": "markdown",
   "metadata": {},
   "source": [
    "### 1) url_host_name"
   ]
  },
  {
   "cell_type": "code",
   "execution_count": 148,
   "metadata": {},
   "outputs": [
    {
     "data": {
      "image/png": "[encoded data removed]",
      "text/plain": [
       "<Figure size 432x288 with 1 Axes>"
      ]
     },
     "metadata": {
      "needs_background": "light"
     },
     "output_type": "display_data"
    }
   ],
   "source": [
    "sns.kdeplot(x='url_hostname_len', data = df, hue ='Result_v1')\n",
    "plt.show()"
   ]
  },
  {
   "cell_type": "markdown",
   "metadata": {},
   "source": [
    "-> URL의 hostname 길이에 따라서 악성사이트 여부가 관련이 조금 있다."
   ]
  },
  {
   "cell_type": "code",
   "execution_count": 69,
   "metadata": {},
   "outputs": [
    {
     "name": "stdout",
     "output_type": "stream",
     "text": [
      "Optimization terminated successfully.\n",
      "         Current function value: 0.681632\n",
      "         Iterations 4\n",
      "url_hostname_len    1.485847e-19\n",
      "dtype: float64\n"
     ]
    }
   ],
   "source": [
    "model = sm.Logit(df['Result_v1'], df['url_hostname_len'])\n",
    "result = model.fit()\n",
    "print(result.pvalues)"
   ]
  },
  {
   "cell_type": "markdown",
   "metadata": {},
   "source": [
    "### 2) url_num_dots"
   ]
  },
  {
   "cell_type": "code",
   "execution_count": 70,
   "metadata": {},
   "outputs": [
    {
     "data": {
      "image/png": "[encoded data removed]",
      "text/plain": [
       "<Figure size 432x288 with 1 Axes>"
      ]
     },
     "metadata": {
      "needs_background": "light"
     },
     "output_type": "display_data"
    }
   ],
   "source": [
    "sns.kdeplot(x='url_num_dots', data = df, hue ='Result_v1')\n",
    "plt.show()"
   ]
  },
  {
   "cell_type": "markdown",
   "metadata": {},
   "source": [
    "-> URL내 '.'(닷) 개수에 따라서 악성사이트 여부가 관련이 거의 없다."
   ]
  },
  {
   "cell_type": "code",
   "execution_count": 71,
   "metadata": {},
   "outputs": [
    {
     "name": "stdout",
     "output_type": "stream",
     "text": [
      "Optimization terminated successfully.\n",
      "         Current function value: 0.692494\n",
      "         Iterations 3\n",
      "url_num_dots    0.029147\n",
      "dtype: float64\n"
     ]
    }
   ],
   "source": [
    "# 로지스틱 회귀 모형으로 부터 pvalue를 구하기\n",
    "import statsmodels.api as sm\n",
    "\n",
    "model = sm.Logit(df['Result_v1'], df['url_num_dots'])\n",
    "result = model.fit()\n",
    "print(result.pvalues)"
   ]
  },
  {
   "cell_type": "markdown",
   "metadata": {},
   "source": [
    "### 3) url_ip_present"
   ]
  },
  {
   "cell_type": "code",
   "execution_count": 55,
   "metadata": {},
   "outputs": [],
   "source": [
    "from statsmodels.graphics.mosaicplot import mosaic"
   ]
  },
  {
   "cell_type": "code",
   "execution_count": 75,
   "metadata": {},
   "outputs": [
    {
     "data": {
      "text/html": [
       "<div>\n",
       "<style scoped>\n",
       "    .dataframe tbody tr th:only-of-type {\n",
       "        vertical-align: middle;\n",
       "    }\n",
       "\n",
       "    .dataframe tbody tr th {\n",
       "        vertical-align: top;\n",
       "    }\n",
       "\n",
       "    .dataframe thead th {\n",
       "        text-align: right;\n",
       "    }\n",
       "</style>\n",
       "<table border=\"1\" class=\"dataframe\">\n",
       "  <thead>\n",
       "    <tr style=\"text-align: right;\">\n",
       "      <th>url_ip_present</th>\n",
       "      <th>0.0</th>\n",
       "      <th>1.0</th>\n",
       "    </tr>\n",
       "    <tr>\n",
       "      <th>Result_v1</th>\n",
       "      <th></th>\n",
       "      <th></th>\n",
       "    </tr>\n",
       "  </thead>\n",
       "  <tbody>\n",
       "    <tr>\n",
       "      <th>0</th>\n",
       "      <td>1710</td>\n",
       "      <td>148</td>\n",
       "    </tr>\n",
       "    <tr>\n",
       "      <th>1</th>\n",
       "      <td>1731</td>\n",
       "      <td>75</td>\n",
       "    </tr>\n",
       "  </tbody>\n",
       "</table>\n",
       "</div>"
      ],
      "text/plain": [
       "url_ip_present   0.0  1.0\n",
       "Result_v1                \n",
       "0               1710  148\n",
       "1               1731   75"
      ]
     },
     "execution_count": 75,
     "metadata": {},
     "output_type": "execute_result"
    }
   ],
   "source": [
    "pd.crosstab(df['Result_v1'], df['url_ip_present'])"
   ]
  },
  {
   "cell_type": "code",
   "execution_count": 72,
   "metadata": {
    "tags": []
   },
   "outputs": [
    {
     "name": "stdout",
     "output_type": "stream",
     "text": [
      "Result_v1              0         1\n",
      "url_ip_present                    \n",
      "0.0             0.496949  0.503051\n",
      "1.0             0.663677  0.336323\n"
     ]
    },
    {
     "data": {
      "image/png": "[encoded data removed]",
      "text/plain": [
       "<Figure size 432x288 with 1 Axes>"
      ]
     },
     "metadata": {
      "needs_background": "light"
     },
     "output_type": "display_data"
    }
   ],
   "source": [
    "temp = pd.crosstab(df['url_ip_present'], df['Result_v1'], normalize = 'index')\n",
    "print(temp)\n",
    "temp.plot.bar(stacked=True)\n",
    "plt.axhline(1-df['Result_v1'].mean(), color = 'r')\n",
    "plt.show()"
   ]
  },
  {
   "cell_type": "code",
   "execution_count": 74,
   "metadata": {},
   "outputs": [
    {
     "name": "stdout",
     "output_type": "stream",
     "text": [
      "교차표\n",
      " url_ip_present   0.0  1.0\n",
      "Result_v1                \n",
      "0               1710  148\n",
      "1               1731   75\n",
      "----------------------------------------------------------------------------------------------------\n",
      "카이제곱통계량 :  22.629448734296957\n",
      "p-value :  1.9645029354744843e-06\n",
      "기대빈도\n",
      " [[1744.91757642  113.08242358]\n",
      " [1696.08242358  109.91757642]]\n"
     ]
    }
   ],
   "source": [
    "# 먼저 집계\n",
    "table = pd.crosstab(df['Result_v1'], df['url_ip_present'])\n",
    "print('교차표\\n', table)\n",
    "print('-' * 100)\n",
    "\n",
    "# 카이제곱검정\n",
    "result = spst.chi2_contingency(table)\n",
    "print('카이제곱통계량 : ', result[0])\n",
    "print('p-value : ', result[1])\n",
    "print('기대빈도\\n',result[3])"
   ]
  },
  {
   "cell_type": "markdown",
   "metadata": {
    "tags": []
   },
   "source": [
    "### 4) url_entropy"
   ]
  },
  {
   "cell_type": "code",
   "execution_count": 76,
   "metadata": {},
   "outputs": [
    {
     "data": {
      "image/png": "[encoded data removed]",
      "text/plain": [
       "<Figure size 432x288 with 1 Axes>"
      ]
     },
     "metadata": {
      "needs_background": "light"
     },
     "output_type": "display_data"
    }
   ],
   "source": [
    "sns.kdeplot(x='url_entropy', data = df, hue ='Result_v1')\n",
    "plt.show()"
   ]
  },
  {
   "cell_type": "markdown",
   "metadata": {},
   "source": [
    "-> URL 복잡도에 따라서 악성사이트 여부가 관련이 조금 있다."
   ]
  },
  {
   "cell_type": "code",
   "execution_count": 77,
   "metadata": {},
   "outputs": [
    {
     "name": "stdout",
     "output_type": "stream",
     "text": [
      "Optimization terminated successfully.\n",
      "         Current function value: 0.693146\n",
      "         Iterations 2\n",
      "url_entropy    0.941981\n",
      "dtype: float64\n"
     ]
    }
   ],
   "source": [
    "# 로지스틱 회귀 모형으로 부터 pvalue를 구하기\n",
    "import statsmodels.api as sm\n",
    "\n",
    "model = sm.Logit(df['Result_v1'], df['url_entropy'])\n",
    "result = model.fit()\n",
    "print(result.pvalues)"
   ]
  },
  {
   "cell_type": "markdown",
   "metadata": {},
   "source": [
    "### 5) url_chinese_present"
   ]
  },
  {
   "cell_type": "code",
   "execution_count": 78,
   "metadata": {},
   "outputs": [
    {
     "data": {
      "text/html": [
       "<div>\n",
       "<style scoped>\n",
       "    .dataframe tbody tr th:only-of-type {\n",
       "        vertical-align: middle;\n",
       "    }\n",
       "\n",
       "    .dataframe tbody tr th {\n",
       "        vertical-align: top;\n",
       "    }\n",
       "\n",
       "    .dataframe thead th {\n",
       "        text-align: right;\n",
       "    }\n",
       "</style>\n",
       "<table border=\"1\" class=\"dataframe\">\n",
       "  <thead>\n",
       "    <tr style=\"text-align: right;\">\n",
       "      <th>url_chinese_present</th>\n",
       "      <th>0.0</th>\n",
       "    </tr>\n",
       "    <tr>\n",
       "      <th>Result_v1</th>\n",
       "      <th></th>\n",
       "    </tr>\n",
       "  </thead>\n",
       "  <tbody>\n",
       "    <tr>\n",
       "      <th>0</th>\n",
       "      <td>1858</td>\n",
       "    </tr>\n",
       "    <tr>\n",
       "      <th>1</th>\n",
       "      <td>1806</td>\n",
       "    </tr>\n",
       "  </tbody>\n",
       "</table>\n",
       "</div>"
      ],
      "text/plain": [
       "url_chinese_present   0.0\n",
       "Result_v1                \n",
       "0                    1858\n",
       "1                    1806"
      ]
     },
     "execution_count": 78,
     "metadata": {},
     "output_type": "execute_result"
    }
   ],
   "source": [
    "pd.crosstab(df['Result_v1'], df['url_chinese_present'])"
   ]
  },
  {
   "cell_type": "code",
   "execution_count": 79,
   "metadata": {},
   "outputs": [
    {
     "name": "stdout",
     "output_type": "stream",
     "text": [
      "Result_v1                   0         1\n",
      "url_chinese_present                    \n",
      "0.0                  0.507096  0.492904\n"
     ]
    },
    {
     "data": {
      "image/png": "[encoded data removed]",
      "text/plain": [
       "<Figure size 432x288 with 1 Axes>"
      ]
     },
     "metadata": {
      "needs_background": "light"
     },
     "output_type": "display_data"
    }
   ],
   "source": [
    "temp = pd.crosstab(df['url_chinese_present'], df['Result_v1'], normalize = 'index')\n",
    "print(temp)\n",
    "temp.plot.bar(stacked=True)\n",
    "plt.axhline(1-df['Result_v1'].mean(), color = 'r')\n",
    "plt.show()"
   ]
  },
  {
   "cell_type": "code",
   "execution_count": 81,
   "metadata": {},
   "outputs": [
    {
     "name": "stdout",
     "output_type": "stream",
     "text": [
      "교차표\n",
      " url_chinese_present   0.0\n",
      "Result_v1                \n",
      "0                    1858\n",
      "1                    1806\n",
      "----------------------------------------------------------------------------------------------------\n",
      "카이제곱통계량 :  0.0\n",
      "p-value :  1.0\n",
      "기대빈도\n",
      " [[1858.]\n",
      " [1806.]]\n"
     ]
    }
   ],
   "source": [
    "# 먼저 집계\n",
    "table = pd.crosstab(df['Result_v1'], df['url_chinese_present'])\n",
    "print('교차표\\n', table)\n",
    "print('-' * 100)\n",
    "\n",
    "# 카이제곱검정\n",
    "result = spst.chi2_contingency(table)\n",
    "print('카이제곱통계량 : ', result[0])\n",
    "print('p-value : ', result[1])\n",
    "print('기대빈도\\n',result[3])"
   ]
  },
  {
   "cell_type": "markdown",
   "metadata": {},
   "source": [
    "### 6) url_port"
   ]
  },
  {
   "cell_type": "code",
   "execution_count": 82,
   "metadata": {},
   "outputs": [
    {
     "data": {
      "text/html": [
       "<div>\n",
       "<style scoped>\n",
       "    .dataframe tbody tr th:only-of-type {\n",
       "        vertical-align: middle;\n",
       "    }\n",
       "\n",
       "    .dataframe tbody tr th {\n",
       "        vertical-align: top;\n",
       "    }\n",
       "\n",
       "    .dataframe thead th {\n",
       "        text-align: right;\n",
       "    }\n",
       "</style>\n",
       "<table border=\"1\" class=\"dataframe\">\n",
       "  <thead>\n",
       "    <tr style=\"text-align: right;\">\n",
       "      <th>url_port</th>\n",
       "      <th>0.0</th>\n",
       "      <th>1.0</th>\n",
       "    </tr>\n",
       "    <tr>\n",
       "      <th>Result_v1</th>\n",
       "      <th></th>\n",
       "      <th></th>\n",
       "    </tr>\n",
       "  </thead>\n",
       "  <tbody>\n",
       "    <tr>\n",
       "      <th>0</th>\n",
       "      <td>1853</td>\n",
       "      <td>5</td>\n",
       "    </tr>\n",
       "    <tr>\n",
       "      <th>1</th>\n",
       "      <td>1803</td>\n",
       "      <td>3</td>\n",
       "    </tr>\n",
       "  </tbody>\n",
       "</table>\n",
       "</div>"
      ],
      "text/plain": [
       "url_port    0.0  1.0\n",
       "Result_v1           \n",
       "0          1853    5\n",
       "1          1803    3"
      ]
     },
     "execution_count": 82,
     "metadata": {},
     "output_type": "execute_result"
    }
   ],
   "source": [
    "pd.crosstab(df['Result_v1'], df['url_port'])"
   ]
  },
  {
   "cell_type": "code",
   "execution_count": 83,
   "metadata": {},
   "outputs": [
    {
     "name": "stdout",
     "output_type": "stream",
     "text": [
      "Result_v1         0         1\n",
      "url_port                     \n",
      "0.0        0.506838  0.493162\n",
      "1.0        0.625000  0.375000\n"
     ]
    },
    {
     "data": {
      "image/png": "[encoded data removed]",
      "text/plain": [
       "<Figure size 432x288 with 1 Axes>"
      ]
     },
     "metadata": {
      "needs_background": "light"
     },
     "output_type": "display_data"
    }
   ],
   "source": [
    "temp = pd.crosstab(df['url_port'], df['Result_v1'], normalize = 'index')\n",
    "print(temp)\n",
    "temp.plot.bar(stacked=True)\n",
    "plt.axhline(1-df['Result_v1'].mean(), color = 'r')\n",
    "plt.show()"
   ]
  },
  {
   "cell_type": "code",
   "execution_count": 84,
   "metadata": {},
   "outputs": [
    {
     "name": "stdout",
     "output_type": "stream",
     "text": [
      "교차표\n",
      " url_port    0.0  1.0\n",
      "Result_v1           \n",
      "0          1853    5\n",
      "1          1803    3\n",
      "----------------------------------------------------------------------------------------------------\n",
      "카이제곱통계량 :  0.0984618258872073\n",
      "p-value :  0.7536833698526882\n",
      "기대빈도\n",
      " [[1853.94323144    4.05676856]\n",
      " [1802.05676856    3.94323144]]\n"
     ]
    }
   ],
   "source": [
    "# 먼저 집계\n",
    "table = pd.crosstab(df['Result_v1'], df['url_port'])\n",
    "print('교차표\\n', table)\n",
    "print('-' * 100)\n",
    "\n",
    "# 카이제곱검정\n",
    "result = spst.chi2_contingency(table)\n",
    "print('카이제곱통계량 : ', result[0])\n",
    "print('p-value : ', result[1])\n",
    "print('기대빈도\\n',result[3])"
   ]
  },
  {
   "cell_type": "markdown",
   "metadata": {},
   "source": [
    "### 7) Result_v1"
   ]
  },
  {
   "cell_type": "code",
   "execution_count": 85,
   "metadata": {
    "collapsed": true,
    "jupyter": {
     "outputs_hidden": true
    },
    "tags": []
   },
   "outputs": [
    {
     "data": {
      "text/html": [
       "<div>\n",
       "<style scoped>\n",
       "    .dataframe tbody tr th:only-of-type {\n",
       "        vertical-align: middle;\n",
       "    }\n",
       "\n",
       "    .dataframe tbody tr th {\n",
       "        vertical-align: top;\n",
       "    }\n",
       "\n",
       "    .dataframe thead th {\n",
       "        text-align: right;\n",
       "    }\n",
       "</style>\n",
       "<table border=\"1\" class=\"dataframe\">\n",
       "  <thead>\n",
       "    <tr style=\"text-align: right;\">\n",
       "      <th>Result_v1</th>\n",
       "      <th>0</th>\n",
       "      <th>1</th>\n",
       "    </tr>\n",
       "    <tr>\n",
       "      <th>Result_v1</th>\n",
       "      <th></th>\n",
       "      <th></th>\n",
       "    </tr>\n",
       "  </thead>\n",
       "  <tbody>\n",
       "    <tr>\n",
       "      <th>0</th>\n",
       "      <td>1858</td>\n",
       "      <td>0</td>\n",
       "    </tr>\n",
       "    <tr>\n",
       "      <th>1</th>\n",
       "      <td>0</td>\n",
       "      <td>1806</td>\n",
       "    </tr>\n",
       "  </tbody>\n",
       "</table>\n",
       "</div>"
      ],
      "text/plain": [
       "Result_v1     0     1\n",
       "Result_v1            \n",
       "0          1858     0\n",
       "1             0  1806"
      ]
     },
     "execution_count": 85,
     "metadata": {},
     "output_type": "execute_result"
    }
   ],
   "source": [
    "pd.crosstab(df['Result_v1'], df['Result_v1'])"
   ]
  },
  {
   "cell_type": "code",
   "execution_count": 86,
   "metadata": {
    "collapsed": true,
    "jupyter": {
     "outputs_hidden": true
    },
    "tags": []
   },
   "outputs": [
    {
     "name": "stdout",
     "output_type": "stream",
     "text": [
      "Result_v1    0    1\n",
      "Result_v1          \n",
      "0          1.0  0.0\n",
      "1          0.0  1.0\n"
     ]
    },
    {
     "data": {
      "image/png": "[encoded data removed]",
      "text/plain": [
       "<Figure size 432x288 with 1 Axes>"
      ]
     },
     "metadata": {
      "needs_background": "light"
     },
     "output_type": "display_data"
    }
   ],
   "source": [
    "temp = pd.crosstab(df['Result_v1'], df['Result_v1'], normalize = 'index')\n",
    "print(temp)\n",
    "temp.plot.bar(stacked=True)\n",
    "plt.axhline(1-df['Result_v1'].mean(), color = 'r')\n",
    "plt.show()"
   ]
  },
  {
   "cell_type": "code",
   "execution_count": 87,
   "metadata": {
    "collapsed": true,
    "jupyter": {
     "outputs_hidden": true
    },
    "tags": []
   },
   "outputs": [
    {
     "name": "stdout",
     "output_type": "stream",
     "text": [
      "교차표\n",
      " Result_v1     0     1\n",
      "Result_v1            \n",
      "0          1858     0\n",
      "1             0  1806\n",
      "----------------------------------------------------------------------------------------------------\n",
      "카이제곱통계량 :  3660.0002863133354\n",
      "p-value :  0.0\n",
      "기대빈도\n",
      " [[942.18449782 915.81550218]\n",
      " [915.81550218 890.18449782]]\n"
     ]
    }
   ],
   "source": [
    "# 먼저 집계\n",
    "table = pd.crosstab(df['Result_v1'], df['Result_v1'])\n",
    "print('교차표\\n', table)\n",
    "print('-' * 100)\n",
    "\n",
    "# 카이제곱검정\n",
    "result = spst.chi2_contingency(table)\n",
    "print('카이제곱통계량 : ', result[0])\n",
    "print('p-value : ', result[1])\n",
    "print('기대빈도\\n',result[3])"
   ]
  },
  {
   "cell_type": "code",
   "execution_count": null,
   "metadata": {},
   "outputs": [],
   "source": []
  },
  {
   "cell_type": "markdown",
   "metadata": {},
   "source": [
    "# <b>Step 2. 데이터 전처리\n",
    "---"
   ]
  },
  {
   "cell_type": "markdown",
   "metadata": {},
   "source": [
    "## 3. 중복 데이터 제거"
   ]
  },
  {
   "cell_type": "code",
   "execution_count": 88,
   "metadata": {},
   "outputs": [
    {
     "name": "stdout",
     "output_type": "stream",
     "text": [
      "<class 'pandas.core.frame.DataFrame'>\n",
      "RangeIndex: 3664 entries, 0 to 3663\n",
      "Data columns (total 24 columns):\n",
      " #   Column                   Non-Null Count  Dtype  \n",
      "---  ------                   --------------  -----  \n",
      " 0   url_len                  3664 non-null   float64\n",
      " 1   url_num_hyphens_dom      3664 non-null   float64\n",
      " 2   url_path_len             3663 non-null   float64\n",
      " 3   url_domain_len           3663 non-null   float64\n",
      " 4   url_hostname_len         3664 non-null   float64\n",
      " 5   url_num_dots             3664 non-null   float64\n",
      " 6   url_num_underscores      3664 non-null   float64\n",
      " 7   url_query_len            3664 non-null   float64\n",
      " 8   url_num_query_para       3664 non-null   float64\n",
      " 9   url_ip_present           3664 non-null   float64\n",
      " 10  url_entropy              3664 non-null   float64\n",
      " 11  url_chinese_present      3664 non-null   float64\n",
      " 12  url_port                 3664 non-null   float64\n",
      " 13  html_num_tags('iframe')  3664 non-null   float64\n",
      " 14  html_num_tags('script')  3664 non-null   float64\n",
      " 15  html_num_tags('embed')   3664 non-null   float64\n",
      " 16  html_num_tags('object')  3664 non-null   float64\n",
      " 17  html_num_tags('div')     3664 non-null   float64\n",
      " 18  html_num_tags('head')    3664 non-null   float64\n",
      " 19  html_num_tags('body')    3664 non-null   float64\n",
      " 20  html_num_tags('form')    3664 non-null   float64\n",
      " 21  html_num_tags('a')       3664 non-null   float64\n",
      " 22  html_num_tags('applet')  3664 non-null   float64\n",
      " 23  Result_v1                3664 non-null   int64  \n",
      "dtypes: float64(23), int64(1)\n",
      "memory usage: 687.1 KB\n"
     ]
    }
   ],
   "source": [
    "# 데이터 프레임의 info를 확인합니다.\n",
    "df.info()"
   ]
  },
  {
   "cell_type": "code",
   "execution_count": 93,
   "metadata": {},
   "outputs": [],
   "source": [
    "# 중복 데이터 제거를 제거합니다.\n",
    "df = df.drop_duplicates()"
   ]
  },
  {
   "cell_type": "code",
   "execution_count": 94,
   "metadata": {},
   "outputs": [
    {
     "data": {
      "text/html": [
       "<div>\n",
       "<style scoped>\n",
       "    .dataframe tbody tr th:only-of-type {\n",
       "        vertical-align: middle;\n",
       "    }\n",
       "\n",
       "    .dataframe tbody tr th {\n",
       "        vertical-align: top;\n",
       "    }\n",
       "\n",
       "    .dataframe thead th {\n",
       "        text-align: right;\n",
       "    }\n",
       "</style>\n",
       "<table border=\"1\" class=\"dataframe\">\n",
       "  <thead>\n",
       "    <tr style=\"text-align: right;\">\n",
       "      <th></th>\n",
       "      <th>url_len</th>\n",
       "      <th>url_num_hyphens_dom</th>\n",
       "      <th>url_path_len</th>\n",
       "      <th>url_domain_len</th>\n",
       "      <th>url_hostname_len</th>\n",
       "      <th>url_num_dots</th>\n",
       "      <th>url_num_underscores</th>\n",
       "      <th>url_query_len</th>\n",
       "      <th>url_num_query_para</th>\n",
       "      <th>url_ip_present</th>\n",
       "      <th>...</th>\n",
       "      <th>html_num_tags('script')</th>\n",
       "      <th>html_num_tags('embed')</th>\n",
       "      <th>html_num_tags('object')</th>\n",
       "      <th>html_num_tags('div')</th>\n",
       "      <th>html_num_tags('head')</th>\n",
       "      <th>html_num_tags('body')</th>\n",
       "      <th>html_num_tags('form')</th>\n",
       "      <th>html_num_tags('a')</th>\n",
       "      <th>html_num_tags('applet')</th>\n",
       "      <th>Result_v1</th>\n",
       "    </tr>\n",
       "  </thead>\n",
       "  <tbody>\n",
       "    <tr>\n",
       "      <th>0</th>\n",
       "      <td>23.0</td>\n",
       "      <td>0.0</td>\n",
       "      <td>8.0</td>\n",
       "      <td>15.0</td>\n",
       "      <td>15.0</td>\n",
       "      <td>2.0</td>\n",
       "      <td>0.0</td>\n",
       "      <td>0.0</td>\n",
       "      <td>0.0</td>\n",
       "      <td>0.0</td>\n",
       "      <td>...</td>\n",
       "      <td>7.0</td>\n",
       "      <td>0.0</td>\n",
       "      <td>0.0</td>\n",
       "      <td>0.0</td>\n",
       "      <td>1.0</td>\n",
       "      <td>1.0</td>\n",
       "      <td>0.0</td>\n",
       "      <td>0.0</td>\n",
       "      <td>0.0</td>\n",
       "      <td>1</td>\n",
       "    </tr>\n",
       "    <tr>\n",
       "      <th>1</th>\n",
       "      <td>75.0</td>\n",
       "      <td>0.0</td>\n",
       "      <td>58.0</td>\n",
       "      <td>17.0</td>\n",
       "      <td>17.0</td>\n",
       "      <td>6.0</td>\n",
       "      <td>0.0</td>\n",
       "      <td>0.0</td>\n",
       "      <td>0.0</td>\n",
       "      <td>0.0</td>\n",
       "      <td>...</td>\n",
       "      <td>18.0</td>\n",
       "      <td>0.0</td>\n",
       "      <td>0.0</td>\n",
       "      <td>20.0</td>\n",
       "      <td>1.0</td>\n",
       "      <td>1.0</td>\n",
       "      <td>0.0</td>\n",
       "      <td>21.0</td>\n",
       "      <td>0.0</td>\n",
       "      <td>0</td>\n",
       "    </tr>\n",
       "    <tr>\n",
       "      <th>2</th>\n",
       "      <td>20.0</td>\n",
       "      <td>0.0</td>\n",
       "      <td>4.0</td>\n",
       "      <td>16.0</td>\n",
       "      <td>16.0</td>\n",
       "      <td>2.0</td>\n",
       "      <td>0.0</td>\n",
       "      <td>0.0</td>\n",
       "      <td>0.0</td>\n",
       "      <td>0.0</td>\n",
       "      <td>...</td>\n",
       "      <td>33.0</td>\n",
       "      <td>0.0</td>\n",
       "      <td>0.0</td>\n",
       "      <td>101.0</td>\n",
       "      <td>1.0</td>\n",
       "      <td>1.0</td>\n",
       "      <td>3.0</td>\n",
       "      <td>70.0</td>\n",
       "      <td>0.0</td>\n",
       "      <td>0</td>\n",
       "    </tr>\n",
       "    <tr>\n",
       "      <th>3</th>\n",
       "      <td>27.0</td>\n",
       "      <td>0.0</td>\n",
       "      <td>13.0</td>\n",
       "      <td>14.0</td>\n",
       "      <td>14.0</td>\n",
       "      <td>3.0</td>\n",
       "      <td>0.0</td>\n",
       "      <td>0.0</td>\n",
       "      <td>0.0</td>\n",
       "      <td>0.0</td>\n",
       "      <td>...</td>\n",
       "      <td>15.0</td>\n",
       "      <td>0.0</td>\n",
       "      <td>0.0</td>\n",
       "      <td>151.0</td>\n",
       "      <td>1.0</td>\n",
       "      <td>1.0</td>\n",
       "      <td>1.0</td>\n",
       "      <td>55.0</td>\n",
       "      <td>0.0</td>\n",
       "      <td>0</td>\n",
       "    </tr>\n",
       "    <tr>\n",
       "      <th>4</th>\n",
       "      <td>39.0</td>\n",
       "      <td>2.0</td>\n",
       "      <td>12.0</td>\n",
       "      <td>27.0</td>\n",
       "      <td>27.0</td>\n",
       "      <td>2.0</td>\n",
       "      <td>0.0</td>\n",
       "      <td>0.0</td>\n",
       "      <td>0.0</td>\n",
       "      <td>0.0</td>\n",
       "      <td>...</td>\n",
       "      <td>10.0</td>\n",
       "      <td>0.0</td>\n",
       "      <td>0.0</td>\n",
       "      <td>332.0</td>\n",
       "      <td>1.0</td>\n",
       "      <td>1.0</td>\n",
       "      <td>0.0</td>\n",
       "      <td>321.0</td>\n",
       "      <td>0.0</td>\n",
       "      <td>0</td>\n",
       "    </tr>\n",
       "    <tr>\n",
       "      <th>...</th>\n",
       "      <td>...</td>\n",
       "      <td>...</td>\n",
       "      <td>...</td>\n",
       "      <td>...</td>\n",
       "      <td>...</td>\n",
       "      <td>...</td>\n",
       "      <td>...</td>\n",
       "      <td>...</td>\n",
       "      <td>...</td>\n",
       "      <td>...</td>\n",
       "      <td>...</td>\n",
       "      <td>...</td>\n",
       "      <td>...</td>\n",
       "      <td>...</td>\n",
       "      <td>...</td>\n",
       "      <td>...</td>\n",
       "      <td>...</td>\n",
       "      <td>...</td>\n",
       "      <td>...</td>\n",
       "      <td>...</td>\n",
       "      <td>...</td>\n",
       "    </tr>\n",
       "    <tr>\n",
       "      <th>3657</th>\n",
       "      <td>42.0</td>\n",
       "      <td>0.0</td>\n",
       "      <td>21.0</td>\n",
       "      <td>21.0</td>\n",
       "      <td>21.0</td>\n",
       "      <td>1.0</td>\n",
       "      <td>0.0</td>\n",
       "      <td>0.0</td>\n",
       "      <td>0.0</td>\n",
       "      <td>0.0</td>\n",
       "      <td>...</td>\n",
       "      <td>63.0</td>\n",
       "      <td>0.0</td>\n",
       "      <td>0.0</td>\n",
       "      <td>17.0</td>\n",
       "      <td>1.0</td>\n",
       "      <td>1.0</td>\n",
       "      <td>1.0</td>\n",
       "      <td>45.0</td>\n",
       "      <td>0.0</td>\n",
       "      <td>0</td>\n",
       "    </tr>\n",
       "    <tr>\n",
       "      <th>3658</th>\n",
       "      <td>14.0</td>\n",
       "      <td>0.0</td>\n",
       "      <td>0.0</td>\n",
       "      <td>14.0</td>\n",
       "      <td>14.0</td>\n",
       "      <td>3.0</td>\n",
       "      <td>0.0</td>\n",
       "      <td>0.0</td>\n",
       "      <td>0.0</td>\n",
       "      <td>1.0</td>\n",
       "      <td>...</td>\n",
       "      <td>0.0</td>\n",
       "      <td>0.0</td>\n",
       "      <td>0.0</td>\n",
       "      <td>2.0</td>\n",
       "      <td>1.0</td>\n",
       "      <td>1.0</td>\n",
       "      <td>0.0</td>\n",
       "      <td>1.0</td>\n",
       "      <td>0.0</td>\n",
       "      <td>0</td>\n",
       "    </tr>\n",
       "    <tr>\n",
       "      <th>3659</th>\n",
       "      <td>68.0</td>\n",
       "      <td>3.0</td>\n",
       "      <td>16.0</td>\n",
       "      <td>52.0</td>\n",
       "      <td>52.0</td>\n",
       "      <td>2.0</td>\n",
       "      <td>0.0</td>\n",
       "      <td>0.0</td>\n",
       "      <td>0.0</td>\n",
       "      <td>0.0</td>\n",
       "      <td>...</td>\n",
       "      <td>0.0</td>\n",
       "      <td>0.0</td>\n",
       "      <td>0.0</td>\n",
       "      <td>11.0</td>\n",
       "      <td>1.0</td>\n",
       "      <td>1.0</td>\n",
       "      <td>0.0</td>\n",
       "      <td>3.0</td>\n",
       "      <td>0.0</td>\n",
       "      <td>1</td>\n",
       "    </tr>\n",
       "    <tr>\n",
       "      <th>3660</th>\n",
       "      <td>66.0</td>\n",
       "      <td>0.0</td>\n",
       "      <td>48.0</td>\n",
       "      <td>18.0</td>\n",
       "      <td>18.0</td>\n",
       "      <td>2.0</td>\n",
       "      <td>0.0</td>\n",
       "      <td>0.0</td>\n",
       "      <td>0.0</td>\n",
       "      <td>0.0</td>\n",
       "      <td>...</td>\n",
       "      <td>14.0</td>\n",
       "      <td>0.0</td>\n",
       "      <td>0.0</td>\n",
       "      <td>212.0</td>\n",
       "      <td>1.0</td>\n",
       "      <td>1.0</td>\n",
       "      <td>3.0</td>\n",
       "      <td>475.0</td>\n",
       "      <td>0.0</td>\n",
       "      <td>0</td>\n",
       "    </tr>\n",
       "    <tr>\n",
       "      <th>3663</th>\n",
       "      <td>18.0</td>\n",
       "      <td>0.0</td>\n",
       "      <td>0.0</td>\n",
       "      <td>18.0</td>\n",
       "      <td>18.0</td>\n",
       "      <td>2.0</td>\n",
       "      <td>0.0</td>\n",
       "      <td>0.0</td>\n",
       "      <td>0.0</td>\n",
       "      <td>0.0</td>\n",
       "      <td>...</td>\n",
       "      <td>3.0</td>\n",
       "      <td>0.0</td>\n",
       "      <td>0.0</td>\n",
       "      <td>282.0</td>\n",
       "      <td>1.0</td>\n",
       "      <td>1.0</td>\n",
       "      <td>2.0</td>\n",
       "      <td>46.0</td>\n",
       "      <td>0.0</td>\n",
       "      <td>0</td>\n",
       "    </tr>\n",
       "  </tbody>\n",
       "</table>\n",
       "<p>3233 rows × 24 columns</p>\n",
       "</div>"
      ],
      "text/plain": [
       "      url_len  url_num_hyphens_dom  url_path_len  url_domain_len  \\\n",
       "0        23.0                  0.0           8.0            15.0   \n",
       "1        75.0                  0.0          58.0            17.0   \n",
       "2        20.0                  0.0           4.0            16.0   \n",
       "3        27.0                  0.0          13.0            14.0   \n",
       "4        39.0                  2.0          12.0            27.0   \n",
       "...       ...                  ...           ...             ...   \n",
       "3657     42.0                  0.0          21.0            21.0   \n",
       "3658     14.0                  0.0           0.0            14.0   \n",
       "3659     68.0                  3.0          16.0            52.0   \n",
       "3660     66.0                  0.0          48.0            18.0   \n",
       "3663     18.0                  0.0           0.0            18.0   \n",
       "\n",
       "      url_hostname_len  url_num_dots  url_num_underscores  url_query_len  \\\n",
       "0                 15.0           2.0                  0.0            0.0   \n",
       "1                 17.0           6.0                  0.0            0.0   \n",
       "2                 16.0           2.0                  0.0            0.0   \n",
       "3                 14.0           3.0                  0.0            0.0   \n",
       "4                 27.0           2.0                  0.0            0.0   \n",
       "...                ...           ...                  ...            ...   \n",
       "3657              21.0           1.0                  0.0            0.0   \n",
       "3658              14.0           3.0                  0.0            0.0   \n",
       "3659              52.0           2.0                  0.0            0.0   \n",
       "3660              18.0           2.0                  0.0            0.0   \n",
       "3663              18.0           2.0                  0.0            0.0   \n",
       "\n",
       "      url_num_query_para  url_ip_present  ...  html_num_tags('script')  \\\n",
       "0                    0.0             0.0  ...                      7.0   \n",
       "1                    0.0             0.0  ...                     18.0   \n",
       "2                    0.0             0.0  ...                     33.0   \n",
       "3                    0.0             0.0  ...                     15.0   \n",
       "4                    0.0             0.0  ...                     10.0   \n",
       "...                  ...             ...  ...                      ...   \n",
       "3657                 0.0             0.0  ...                     63.0   \n",
       "3658                 0.0             1.0  ...                      0.0   \n",
       "3659                 0.0             0.0  ...                      0.0   \n",
       "3660                 0.0             0.0  ...                     14.0   \n",
       "3663                 0.0             0.0  ...                      3.0   \n",
       "\n",
       "      html_num_tags('embed')  html_num_tags('object')  html_num_tags('div')  \\\n",
       "0                        0.0                      0.0                   0.0   \n",
       "1                        0.0                      0.0                  20.0   \n",
       "2                        0.0                      0.0                 101.0   \n",
       "3                        0.0                      0.0                 151.0   \n",
       "4                        0.0                      0.0                 332.0   \n",
       "...                      ...                      ...                   ...   \n",
       "3657                     0.0                      0.0                  17.0   \n",
       "3658                     0.0                      0.0                   2.0   \n",
       "3659                     0.0                      0.0                  11.0   \n",
       "3660                     0.0                      0.0                 212.0   \n",
       "3663                     0.0                      0.0                 282.0   \n",
       "\n",
       "      html_num_tags('head')  html_num_tags('body')  html_num_tags('form')  \\\n",
       "0                       1.0                    1.0                    0.0   \n",
       "1                       1.0                    1.0                    0.0   \n",
       "2                       1.0                    1.0                    3.0   \n",
       "3                       1.0                    1.0                    1.0   \n",
       "4                       1.0                    1.0                    0.0   \n",
       "...                     ...                    ...                    ...   \n",
       "3657                    1.0                    1.0                    1.0   \n",
       "3658                    1.0                    1.0                    0.0   \n",
       "3659                    1.0                    1.0                    0.0   \n",
       "3660                    1.0                    1.0                    3.0   \n",
       "3663                    1.0                    1.0                    2.0   \n",
       "\n",
       "      html_num_tags('a')  html_num_tags('applet')  Result_v1  \n",
       "0                    0.0                      0.0          1  \n",
       "1                   21.0                      0.0          0  \n",
       "2                   70.0                      0.0          0  \n",
       "3                   55.0                      0.0          0  \n",
       "4                  321.0                      0.0          0  \n",
       "...                  ...                      ...        ...  \n",
       "3657                45.0                      0.0          0  \n",
       "3658                 1.0                      0.0          0  \n",
       "3659                 3.0                      0.0          1  \n",
       "3660               475.0                      0.0          0  \n",
       "3663                46.0                      0.0          0  \n",
       "\n",
       "[3233 rows x 24 columns]"
      ]
     },
     "execution_count": 94,
     "metadata": {},
     "output_type": "execute_result"
    }
   ],
   "source": [
    "df"
   ]
  },
  {
   "cell_type": "code",
   "execution_count": 95,
   "metadata": {},
   "outputs": [
    {
     "name": "stdout",
     "output_type": "stream",
     "text": [
      "<class 'pandas.core.frame.DataFrame'>\n",
      "Int64Index: 3233 entries, 0 to 3663\n",
      "Data columns (total 24 columns):\n",
      " #   Column                   Non-Null Count  Dtype  \n",
      "---  ------                   --------------  -----  \n",
      " 0   url_len                  3233 non-null   float64\n",
      " 1   url_num_hyphens_dom      3233 non-null   float64\n",
      " 2   url_path_len             3232 non-null   float64\n",
      " 3   url_domain_len           3232 non-null   float64\n",
      " 4   url_hostname_len         3233 non-null   float64\n",
      " 5   url_num_dots             3233 non-null   float64\n",
      " 6   url_num_underscores      3233 non-null   float64\n",
      " 7   url_query_len            3233 non-null   float64\n",
      " 8   url_num_query_para       3233 non-null   float64\n",
      " 9   url_ip_present           3233 non-null   float64\n",
      " 10  url_entropy              3233 non-null   float64\n",
      " 11  url_chinese_present      3233 non-null   float64\n",
      " 12  url_port                 3233 non-null   float64\n",
      " 13  html_num_tags('iframe')  3233 non-null   float64\n",
      " 14  html_num_tags('script')  3233 non-null   float64\n",
      " 15  html_num_tags('embed')   3233 non-null   float64\n",
      " 16  html_num_tags('object')  3233 non-null   float64\n",
      " 17  html_num_tags('div')     3233 non-null   float64\n",
      " 18  html_num_tags('head')    3233 non-null   float64\n",
      " 19  html_num_tags('body')    3233 non-null   float64\n",
      " 20  html_num_tags('form')    3233 non-null   float64\n",
      " 21  html_num_tags('a')       3233 non-null   float64\n",
      " 22  html_num_tags('applet')  3233 non-null   float64\n",
      " 23  Result_v1                3233 non-null   int64  \n",
      "dtypes: float64(23), int64(1)\n",
      "memory usage: 631.4 KB\n"
     ]
    }
   ],
   "source": [
    "# 데이터 프레임의 info를 확인합니다.\n",
    "df.info()"
   ]
  },
  {
   "cell_type": "markdown",
   "metadata": {},
   "source": [
    "---"
   ]
  },
  {
   "cell_type": "markdown",
   "metadata": {},
   "source": [
    "## 4. 텍스트와 범주형 특성 처리"
   ]
  },
  {
   "cell_type": "code",
   "execution_count": 1,
   "metadata": {},
   "outputs": [
    {
     "name": "stdout",
     "output_type": "stream",
     "text": [
      "      name  age state  point\n",
      "0    Alice   24    NY     64\n",
      "1      Bob   42    CA     24\n",
      "2  Charlie   18    CA     70\n",
      "3     Dave   68    TX     70\n",
      "4    Ellen   24    CA     88\n",
      "5    Frank   30    NY     57\n"
     ]
    }
   ],
   "source": [
    "import pandas as pd\n",
    "\n",
    "df_ex = pd.DataFrame({'name': ['Alice','Bob','Charlie','Dave','Ellen','Frank'],\n",
    "                   'age': [24,42,18,68,24,30],\n",
    "                   'state': ['NY','CA','CA','TX','CA','NY'],\n",
    "                   'point': [64,24,70,70,88,57]}\n",
    "                  )\n",
    "\n",
    "print(df_ex)"
   ]
  },
  {
   "cell_type": "code",
   "execution_count": 97,
   "metadata": {},
   "outputs": [
    {
     "data": {
      "text/plain": [
       "array([1, 0], dtype=int64)"
      ]
     },
     "execution_count": 97,
     "metadata": {},
     "output_type": "execute_result"
    }
   ],
   "source": [
    "df['Result_v1'].unique()"
   ]
  },
  {
   "cell_type": "markdown",
   "metadata": {},
   "source": [
    "###  replace() 함수를 활용 'benign'은 1로 'malicious'은 -1로 변경. 삭제 후 df['Result_v1'] 전후 데이터를 비교하기."
   ]
  },
  {
   "cell_type": "code",
   "execution_count": 98,
   "metadata": {},
   "outputs": [
    {
     "data": {
      "text/plain": [
       "array([1, 0], dtype=int64)"
      ]
     },
     "execution_count": 98,
     "metadata": {},
     "output_type": "execute_result"
    }
   ],
   "source": [
    "# 텍스트 데이터를 수치형 데이터로 변경 전 unique() 함수를 통해 유일한 값 확인\n",
    "\n",
    "df['Result_v1'].unique()"
   ]
  },
  {
   "cell_type": "code",
   "execution_count": null,
   "metadata": {},
   "outputs": [],
   "source": [
    "# 악성사이트 여부 컬럼 ( 'malicious'는 악성사이트 - 1, 'benign'은 정상사이트 - 0)"
   ]
  },
  {
   "cell_type": "code",
   "execution_count": 100,
   "metadata": {},
   "outputs": [
    {
     "data": {
      "text/html": [
       "<div>\n",
       "<style scoped>\n",
       "    .dataframe tbody tr th:only-of-type {\n",
       "        vertical-align: middle;\n",
       "    }\n",
       "\n",
       "    .dataframe tbody tr th {\n",
       "        vertical-align: top;\n",
       "    }\n",
       "\n",
       "    .dataframe thead th {\n",
       "        text-align: right;\n",
       "    }\n",
       "</style>\n",
       "<table border=\"1\" class=\"dataframe\">\n",
       "  <thead>\n",
       "    <tr style=\"text-align: right;\">\n",
       "      <th></th>\n",
       "      <th>url_len</th>\n",
       "      <th>url_num_hyphens_dom</th>\n",
       "      <th>url_path_len</th>\n",
       "      <th>url_domain_len</th>\n",
       "      <th>url_hostname_len</th>\n",
       "      <th>url_num_dots</th>\n",
       "      <th>url_num_underscores</th>\n",
       "      <th>url_query_len</th>\n",
       "      <th>url_num_query_para</th>\n",
       "      <th>url_ip_present</th>\n",
       "      <th>...</th>\n",
       "      <th>html_num_tags('script')</th>\n",
       "      <th>html_num_tags('embed')</th>\n",
       "      <th>html_num_tags('object')</th>\n",
       "      <th>html_num_tags('div')</th>\n",
       "      <th>html_num_tags('head')</th>\n",
       "      <th>html_num_tags('body')</th>\n",
       "      <th>html_num_tags('form')</th>\n",
       "      <th>html_num_tags('a')</th>\n",
       "      <th>html_num_tags('applet')</th>\n",
       "      <th>Result_v1</th>\n",
       "    </tr>\n",
       "  </thead>\n",
       "  <tbody>\n",
       "    <tr>\n",
       "      <th>0</th>\n",
       "      <td>23.0</td>\n",
       "      <td>0.0</td>\n",
       "      <td>8.0</td>\n",
       "      <td>15.0</td>\n",
       "      <td>15.0</td>\n",
       "      <td>2.0</td>\n",
       "      <td>0.0</td>\n",
       "      <td>0.0</td>\n",
       "      <td>0.0</td>\n",
       "      <td>0.0</td>\n",
       "      <td>...</td>\n",
       "      <td>7.0</td>\n",
       "      <td>0.0</td>\n",
       "      <td>0.0</td>\n",
       "      <td>0.0</td>\n",
       "      <td>1.0</td>\n",
       "      <td>1.0</td>\n",
       "      <td>0.0</td>\n",
       "      <td>0.0</td>\n",
       "      <td>0.0</td>\n",
       "      <td>-1</td>\n",
       "    </tr>\n",
       "    <tr>\n",
       "      <th>1</th>\n",
       "      <td>75.0</td>\n",
       "      <td>0.0</td>\n",
       "      <td>58.0</td>\n",
       "      <td>17.0</td>\n",
       "      <td>17.0</td>\n",
       "      <td>6.0</td>\n",
       "      <td>0.0</td>\n",
       "      <td>0.0</td>\n",
       "      <td>0.0</td>\n",
       "      <td>0.0</td>\n",
       "      <td>...</td>\n",
       "      <td>18.0</td>\n",
       "      <td>0.0</td>\n",
       "      <td>0.0</td>\n",
       "      <td>20.0</td>\n",
       "      <td>1.0</td>\n",
       "      <td>1.0</td>\n",
       "      <td>0.0</td>\n",
       "      <td>21.0</td>\n",
       "      <td>0.0</td>\n",
       "      <td>1</td>\n",
       "    </tr>\n",
       "    <tr>\n",
       "      <th>2</th>\n",
       "      <td>20.0</td>\n",
       "      <td>0.0</td>\n",
       "      <td>4.0</td>\n",
       "      <td>16.0</td>\n",
       "      <td>16.0</td>\n",
       "      <td>2.0</td>\n",
       "      <td>0.0</td>\n",
       "      <td>0.0</td>\n",
       "      <td>0.0</td>\n",
       "      <td>0.0</td>\n",
       "      <td>...</td>\n",
       "      <td>33.0</td>\n",
       "      <td>0.0</td>\n",
       "      <td>0.0</td>\n",
       "      <td>101.0</td>\n",
       "      <td>1.0</td>\n",
       "      <td>1.0</td>\n",
       "      <td>3.0</td>\n",
       "      <td>70.0</td>\n",
       "      <td>0.0</td>\n",
       "      <td>1</td>\n",
       "    </tr>\n",
       "    <tr>\n",
       "      <th>3</th>\n",
       "      <td>27.0</td>\n",
       "      <td>0.0</td>\n",
       "      <td>13.0</td>\n",
       "      <td>14.0</td>\n",
       "      <td>14.0</td>\n",
       "      <td>3.0</td>\n",
       "      <td>0.0</td>\n",
       "      <td>0.0</td>\n",
       "      <td>0.0</td>\n",
       "      <td>0.0</td>\n",
       "      <td>...</td>\n",
       "      <td>15.0</td>\n",
       "      <td>0.0</td>\n",
       "      <td>0.0</td>\n",
       "      <td>151.0</td>\n",
       "      <td>1.0</td>\n",
       "      <td>1.0</td>\n",
       "      <td>1.0</td>\n",
       "      <td>55.0</td>\n",
       "      <td>0.0</td>\n",
       "      <td>1</td>\n",
       "    </tr>\n",
       "    <tr>\n",
       "      <th>4</th>\n",
       "      <td>39.0</td>\n",
       "      <td>2.0</td>\n",
       "      <td>12.0</td>\n",
       "      <td>27.0</td>\n",
       "      <td>27.0</td>\n",
       "      <td>2.0</td>\n",
       "      <td>0.0</td>\n",
       "      <td>0.0</td>\n",
       "      <td>0.0</td>\n",
       "      <td>0.0</td>\n",
       "      <td>...</td>\n",
       "      <td>10.0</td>\n",
       "      <td>0.0</td>\n",
       "      <td>0.0</td>\n",
       "      <td>332.0</td>\n",
       "      <td>1.0</td>\n",
       "      <td>1.0</td>\n",
       "      <td>0.0</td>\n",
       "      <td>321.0</td>\n",
       "      <td>0.0</td>\n",
       "      <td>1</td>\n",
       "    </tr>\n",
       "    <tr>\n",
       "      <th>...</th>\n",
       "      <td>...</td>\n",
       "      <td>...</td>\n",
       "      <td>...</td>\n",
       "      <td>...</td>\n",
       "      <td>...</td>\n",
       "      <td>...</td>\n",
       "      <td>...</td>\n",
       "      <td>...</td>\n",
       "      <td>...</td>\n",
       "      <td>...</td>\n",
       "      <td>...</td>\n",
       "      <td>...</td>\n",
       "      <td>...</td>\n",
       "      <td>...</td>\n",
       "      <td>...</td>\n",
       "      <td>...</td>\n",
       "      <td>...</td>\n",
       "      <td>...</td>\n",
       "      <td>...</td>\n",
       "      <td>...</td>\n",
       "      <td>...</td>\n",
       "    </tr>\n",
       "    <tr>\n",
       "      <th>3657</th>\n",
       "      <td>42.0</td>\n",
       "      <td>0.0</td>\n",
       "      <td>21.0</td>\n",
       "      <td>21.0</td>\n",
       "      <td>21.0</td>\n",
       "      <td>1.0</td>\n",
       "      <td>0.0</td>\n",
       "      <td>0.0</td>\n",
       "      <td>0.0</td>\n",
       "      <td>0.0</td>\n",
       "      <td>...</td>\n",
       "      <td>63.0</td>\n",
       "      <td>0.0</td>\n",
       "      <td>0.0</td>\n",
       "      <td>17.0</td>\n",
       "      <td>1.0</td>\n",
       "      <td>1.0</td>\n",
       "      <td>1.0</td>\n",
       "      <td>45.0</td>\n",
       "      <td>0.0</td>\n",
       "      <td>1</td>\n",
       "    </tr>\n",
       "    <tr>\n",
       "      <th>3658</th>\n",
       "      <td>14.0</td>\n",
       "      <td>0.0</td>\n",
       "      <td>0.0</td>\n",
       "      <td>14.0</td>\n",
       "      <td>14.0</td>\n",
       "      <td>3.0</td>\n",
       "      <td>0.0</td>\n",
       "      <td>0.0</td>\n",
       "      <td>0.0</td>\n",
       "      <td>1.0</td>\n",
       "      <td>...</td>\n",
       "      <td>0.0</td>\n",
       "      <td>0.0</td>\n",
       "      <td>0.0</td>\n",
       "      <td>2.0</td>\n",
       "      <td>1.0</td>\n",
       "      <td>1.0</td>\n",
       "      <td>0.0</td>\n",
       "      <td>1.0</td>\n",
       "      <td>0.0</td>\n",
       "      <td>1</td>\n",
       "    </tr>\n",
       "    <tr>\n",
       "      <th>3659</th>\n",
       "      <td>68.0</td>\n",
       "      <td>3.0</td>\n",
       "      <td>16.0</td>\n",
       "      <td>52.0</td>\n",
       "      <td>52.0</td>\n",
       "      <td>2.0</td>\n",
       "      <td>0.0</td>\n",
       "      <td>0.0</td>\n",
       "      <td>0.0</td>\n",
       "      <td>0.0</td>\n",
       "      <td>...</td>\n",
       "      <td>0.0</td>\n",
       "      <td>0.0</td>\n",
       "      <td>0.0</td>\n",
       "      <td>11.0</td>\n",
       "      <td>1.0</td>\n",
       "      <td>1.0</td>\n",
       "      <td>0.0</td>\n",
       "      <td>3.0</td>\n",
       "      <td>0.0</td>\n",
       "      <td>-1</td>\n",
       "    </tr>\n",
       "    <tr>\n",
       "      <th>3660</th>\n",
       "      <td>66.0</td>\n",
       "      <td>0.0</td>\n",
       "      <td>48.0</td>\n",
       "      <td>18.0</td>\n",
       "      <td>18.0</td>\n",
       "      <td>2.0</td>\n",
       "      <td>0.0</td>\n",
       "      <td>0.0</td>\n",
       "      <td>0.0</td>\n",
       "      <td>0.0</td>\n",
       "      <td>...</td>\n",
       "      <td>14.0</td>\n",
       "      <td>0.0</td>\n",
       "      <td>0.0</td>\n",
       "      <td>212.0</td>\n",
       "      <td>1.0</td>\n",
       "      <td>1.0</td>\n",
       "      <td>3.0</td>\n",
       "      <td>475.0</td>\n",
       "      <td>0.0</td>\n",
       "      <td>1</td>\n",
       "    </tr>\n",
       "    <tr>\n",
       "      <th>3663</th>\n",
       "      <td>18.0</td>\n",
       "      <td>0.0</td>\n",
       "      <td>0.0</td>\n",
       "      <td>18.0</td>\n",
       "      <td>18.0</td>\n",
       "      <td>2.0</td>\n",
       "      <td>0.0</td>\n",
       "      <td>0.0</td>\n",
       "      <td>0.0</td>\n",
       "      <td>0.0</td>\n",
       "      <td>...</td>\n",
       "      <td>3.0</td>\n",
       "      <td>0.0</td>\n",
       "      <td>0.0</td>\n",
       "      <td>282.0</td>\n",
       "      <td>1.0</td>\n",
       "      <td>1.0</td>\n",
       "      <td>2.0</td>\n",
       "      <td>46.0</td>\n",
       "      <td>0.0</td>\n",
       "      <td>1</td>\n",
       "    </tr>\n",
       "  </tbody>\n",
       "</table>\n",
       "<p>3233 rows × 24 columns</p>\n",
       "</div>"
      ],
      "text/plain": [
       "      url_len  url_num_hyphens_dom  url_path_len  url_domain_len  \\\n",
       "0        23.0                  0.0           8.0            15.0   \n",
       "1        75.0                  0.0          58.0            17.0   \n",
       "2        20.0                  0.0           4.0            16.0   \n",
       "3        27.0                  0.0          13.0            14.0   \n",
       "4        39.0                  2.0          12.0            27.0   \n",
       "...       ...                  ...           ...             ...   \n",
       "3657     42.0                  0.0          21.0            21.0   \n",
       "3658     14.0                  0.0           0.0            14.0   \n",
       "3659     68.0                  3.0          16.0            52.0   \n",
       "3660     66.0                  0.0          48.0            18.0   \n",
       "3663     18.0                  0.0           0.0            18.0   \n",
       "\n",
       "      url_hostname_len  url_num_dots  url_num_underscores  url_query_len  \\\n",
       "0                 15.0           2.0                  0.0            0.0   \n",
       "1                 17.0           6.0                  0.0            0.0   \n",
       "2                 16.0           2.0                  0.0            0.0   \n",
       "3                 14.0           3.0                  0.0            0.0   \n",
       "4                 27.0           2.0                  0.0            0.0   \n",
       "...                ...           ...                  ...            ...   \n",
       "3657              21.0           1.0                  0.0            0.0   \n",
       "3658              14.0           3.0                  0.0            0.0   \n",
       "3659              52.0           2.0                  0.0            0.0   \n",
       "3660              18.0           2.0                  0.0            0.0   \n",
       "3663              18.0           2.0                  0.0            0.0   \n",
       "\n",
       "      url_num_query_para  url_ip_present  ...  html_num_tags('script')  \\\n",
       "0                    0.0             0.0  ...                      7.0   \n",
       "1                    0.0             0.0  ...                     18.0   \n",
       "2                    0.0             0.0  ...                     33.0   \n",
       "3                    0.0             0.0  ...                     15.0   \n",
       "4                    0.0             0.0  ...                     10.0   \n",
       "...                  ...             ...  ...                      ...   \n",
       "3657                 0.0             0.0  ...                     63.0   \n",
       "3658                 0.0             1.0  ...                      0.0   \n",
       "3659                 0.0             0.0  ...                      0.0   \n",
       "3660                 0.0             0.0  ...                     14.0   \n",
       "3663                 0.0             0.0  ...                      3.0   \n",
       "\n",
       "      html_num_tags('embed')  html_num_tags('object')  html_num_tags('div')  \\\n",
       "0                        0.0                      0.0                   0.0   \n",
       "1                        0.0                      0.0                  20.0   \n",
       "2                        0.0                      0.0                 101.0   \n",
       "3                        0.0                      0.0                 151.0   \n",
       "4                        0.0                      0.0                 332.0   \n",
       "...                      ...                      ...                   ...   \n",
       "3657                     0.0                      0.0                  17.0   \n",
       "3658                     0.0                      0.0                   2.0   \n",
       "3659                     0.0                      0.0                  11.0   \n",
       "3660                     0.0                      0.0                 212.0   \n",
       "3663                     0.0                      0.0                 282.0   \n",
       "\n",
       "      html_num_tags('head')  html_num_tags('body')  html_num_tags('form')  \\\n",
       "0                       1.0                    1.0                    0.0   \n",
       "1                       1.0                    1.0                    0.0   \n",
       "2                       1.0                    1.0                    3.0   \n",
       "3                       1.0                    1.0                    1.0   \n",
       "4                       1.0                    1.0                    0.0   \n",
       "...                     ...                    ...                    ...   \n",
       "3657                    1.0                    1.0                    1.0   \n",
       "3658                    1.0                    1.0                    0.0   \n",
       "3659                    1.0                    1.0                    0.0   \n",
       "3660                    1.0                    1.0                    3.0   \n",
       "3663                    1.0                    1.0                    2.0   \n",
       "\n",
       "      html_num_tags('a')  html_num_tags('applet')  Result_v1  \n",
       "0                    0.0                      0.0         -1  \n",
       "1                   21.0                      0.0          1  \n",
       "2                   70.0                      0.0          1  \n",
       "3                   55.0                      0.0          1  \n",
       "4                  321.0                      0.0          1  \n",
       "...                  ...                      ...        ...  \n",
       "3657                45.0                      0.0          1  \n",
       "3658                 1.0                      0.0          1  \n",
       "3659                 3.0                      0.0         -1  \n",
       "3660               475.0                      0.0          1  \n",
       "3663                46.0                      0.0          1  \n",
       "\n",
       "[3233 rows x 24 columns]"
      ]
     },
     "execution_count": 100,
     "metadata": {},
     "output_type": "execute_result"
    }
   ],
   "source": [
    "# replace() 함수를 사용 텍스트 데이터를 수치형 데이터로 변경합니다.\n",
    "\n",
    "df.replace({'Result_v1': {0: 1, 1: -1}})"
   ]
  },
  {
   "cell_type": "markdown",
   "metadata": {},
   "source": [
    "---"
   ]
  },
  {
   "cell_type": "markdown",
   "metadata": {},
   "source": [
    "## 5. 결측치 처리"
   ]
  },
  {
   "cell_type": "code",
   "execution_count": 103,
   "metadata": {},
   "outputs": [
    {
     "data": {
      "text/plain": [
       "url_len                    0\n",
       "url_num_hyphens_dom        0\n",
       "url_path_len               1\n",
       "url_domain_len             1\n",
       "url_hostname_len           0\n",
       "url_num_dots               0\n",
       "url_num_underscores        0\n",
       "url_query_len              0\n",
       "url_num_query_para         0\n",
       "url_ip_present             0\n",
       "url_entropy                0\n",
       "url_chinese_present        0\n",
       "url_port                   0\n",
       "html_num_tags('iframe')    0\n",
       "html_num_tags('script')    0\n",
       "html_num_tags('embed')     0\n",
       "html_num_tags('object')    0\n",
       "html_num_tags('div')       0\n",
       "html_num_tags('head')      0\n",
       "html_num_tags('body')      0\n",
       "html_num_tags('form')      0\n",
       "html_num_tags('a')         0\n",
       "html_num_tags('applet')    0\n",
       "Result_v1                  0\n",
       "dtype: int64"
      ]
     },
     "execution_count": 103,
     "metadata": {},
     "output_type": "execute_result"
    }
   ],
   "source": [
    "# 결축치의 존재를 확인합니다.\n",
    "\n",
    "df.isnull().sum()"
   ]
  },
  {
   "cell_type": "code",
   "execution_count": 104,
   "metadata": {},
   "outputs": [
    {
     "name": "stdout",
     "output_type": "stream",
     "text": [
      "<class 'pandas.core.frame.DataFrame'>\n",
      "Int64Index: 3233 entries, 0 to 3663\n",
      "Data columns (total 24 columns):\n",
      " #   Column                   Non-Null Count  Dtype  \n",
      "---  ------                   --------------  -----  \n",
      " 0   url_len                  3233 non-null   float64\n",
      " 1   url_num_hyphens_dom      3233 non-null   float64\n",
      " 2   url_path_len             3232 non-null   float64\n",
      " 3   url_domain_len           3232 non-null   float64\n",
      " 4   url_hostname_len         3233 non-null   float64\n",
      " 5   url_num_dots             3233 non-null   float64\n",
      " 6   url_num_underscores      3233 non-null   float64\n",
      " 7   url_query_len            3233 non-null   float64\n",
      " 8   url_num_query_para       3233 non-null   float64\n",
      " 9   url_ip_present           3233 non-null   float64\n",
      " 10  url_entropy              3233 non-null   float64\n",
      " 11  url_chinese_present      3233 non-null   float64\n",
      " 12  url_port                 3233 non-null   float64\n",
      " 13  html_num_tags('iframe')  3233 non-null   float64\n",
      " 14  html_num_tags('script')  3233 non-null   float64\n",
      " 15  html_num_tags('embed')   3233 non-null   float64\n",
      " 16  html_num_tags('object')  3233 non-null   float64\n",
      " 17  html_num_tags('div')     3233 non-null   float64\n",
      " 18  html_num_tags('head')    3233 non-null   float64\n",
      " 19  html_num_tags('body')    3233 non-null   float64\n",
      " 20  html_num_tags('form')    3233 non-null   float64\n",
      " 21  html_num_tags('a')       3233 non-null   float64\n",
      " 22  html_num_tags('applet')  3233 non-null   float64\n",
      " 23  Result_v1                3233 non-null   int64  \n",
      "dtypes: float64(23), int64(1)\n",
      "memory usage: 631.4 KB\n"
     ]
    }
   ],
   "source": [
    "df.info()"
   ]
  },
  {
   "cell_type": "code",
   "execution_count": 107,
   "metadata": {},
   "outputs": [
    {
     "name": "stdout",
     "output_type": "stream",
     "text": [
      "<class 'pandas.core.frame.DataFrame'>\n",
      "Int64Index: 3231 entries, 0 to 3663\n",
      "Data columns (total 24 columns):\n",
      " #   Column                   Non-Null Count  Dtype  \n",
      "---  ------                   --------------  -----  \n",
      " 0   url_len                  3231 non-null   float64\n",
      " 1   url_num_hyphens_dom      3231 non-null   float64\n",
      " 2   url_path_len             3231 non-null   float64\n",
      " 3   url_domain_len           3231 non-null   float64\n",
      " 4   url_hostname_len         3231 non-null   float64\n",
      " 5   url_num_dots             3231 non-null   float64\n",
      " 6   url_num_underscores      3231 non-null   float64\n",
      " 7   url_query_len            3231 non-null   float64\n",
      " 8   url_num_query_para       3231 non-null   float64\n",
      " 9   url_ip_present           3231 non-null   float64\n",
      " 10  url_entropy              3231 non-null   float64\n",
      " 11  url_chinese_present      3231 non-null   float64\n",
      " 12  url_port                 3231 non-null   float64\n",
      " 13  html_num_tags('iframe')  3231 non-null   float64\n",
      " 14  html_num_tags('script')  3231 non-null   float64\n",
      " 15  html_num_tags('embed')   3231 non-null   float64\n",
      " 16  html_num_tags('object')  3231 non-null   float64\n",
      " 17  html_num_tags('div')     3231 non-null   float64\n",
      " 18  html_num_tags('head')    3231 non-null   float64\n",
      " 19  html_num_tags('body')    3231 non-null   float64\n",
      " 20  html_num_tags('form')    3231 non-null   float64\n",
      " 21  html_num_tags('a')       3231 non-null   float64\n",
      " 22  html_num_tags('applet')  3231 non-null   float64\n",
      " 23  Result_v1                3231 non-null   int64  \n",
      "dtypes: float64(23), int64(1)\n",
      "memory usage: 631.1 KB\n"
     ]
    }
   ],
   "source": [
    "# 결측치를 적절히 처리해줍니다.\n",
    "\n",
    "df = df.dropna()\n",
    "df.info()"
   ]
  },
  {
   "cell_type": "code",
   "execution_count": 108,
   "metadata": {},
   "outputs": [
    {
     "data": {
      "text/plain": [
       "url_len                    0\n",
       "url_num_hyphens_dom        0\n",
       "url_path_len               0\n",
       "url_domain_len             0\n",
       "url_hostname_len           0\n",
       "url_num_dots               0\n",
       "url_num_underscores        0\n",
       "url_query_len              0\n",
       "url_num_query_para         0\n",
       "url_ip_present             0\n",
       "url_entropy                0\n",
       "url_chinese_present        0\n",
       "url_port                   0\n",
       "html_num_tags('iframe')    0\n",
       "html_num_tags('script')    0\n",
       "html_num_tags('embed')     0\n",
       "html_num_tags('object')    0\n",
       "html_num_tags('div')       0\n",
       "html_num_tags('head')      0\n",
       "html_num_tags('body')      0\n",
       "html_num_tags('form')      0\n",
       "html_num_tags('a')         0\n",
       "html_num_tags('applet')    0\n",
       "Result_v1                  0\n",
       "dtype: int64"
      ]
     },
     "execution_count": 108,
     "metadata": {},
     "output_type": "execute_result"
    }
   ],
   "source": [
    "# 결축치의 존재를 확인합니다.\n",
    "\n",
    "df.isnull().sum()"
   ]
  },
  {
   "cell_type": "markdown",
   "metadata": {},
   "source": [
    "---"
   ]
  },
  {
   "cell_type": "markdown",
   "metadata": {},
   "source": [
    "## 6. 데이터 탐색을 통해 새로운 변수 추가 혹은 불필요한 변수 제거"
   ]
  },
  {
   "cell_type": "code",
   "execution_count": 111,
   "metadata": {
    "collapsed": true,
    "jupyter": {
     "outputs_hidden": true
    },
    "tags": []
   },
   "outputs": [
    {
     "data": {
      "text/html": [
       "<div>\n",
       "<style scoped>\n",
       "    .dataframe tbody tr th:only-of-type {\n",
       "        vertical-align: middle;\n",
       "    }\n",
       "\n",
       "    .dataframe tbody tr th {\n",
       "        vertical-align: top;\n",
       "    }\n",
       "\n",
       "    .dataframe thead th {\n",
       "        text-align: right;\n",
       "    }\n",
       "</style>\n",
       "<table border=\"1\" class=\"dataframe\">\n",
       "  <thead>\n",
       "    <tr style=\"text-align: right;\">\n",
       "      <th></th>\n",
       "      <th>url_len</th>\n",
       "      <th>url_num_hyphens_dom</th>\n",
       "      <th>url_path_len</th>\n",
       "      <th>url_domain_len</th>\n",
       "      <th>url_hostname_len</th>\n",
       "      <th>url_num_dots</th>\n",
       "      <th>url_num_underscores</th>\n",
       "      <th>url_query_len</th>\n",
       "      <th>url_num_query_para</th>\n",
       "      <th>url_ip_present</th>\n",
       "      <th>...</th>\n",
       "      <th>html_num_tags('script')</th>\n",
       "      <th>html_num_tags('embed')</th>\n",
       "      <th>html_num_tags('object')</th>\n",
       "      <th>html_num_tags('div')</th>\n",
       "      <th>html_num_tags('head')</th>\n",
       "      <th>html_num_tags('body')</th>\n",
       "      <th>html_num_tags('form')</th>\n",
       "      <th>html_num_tags('a')</th>\n",
       "      <th>html_num_tags('applet')</th>\n",
       "      <th>Result_v1</th>\n",
       "    </tr>\n",
       "  </thead>\n",
       "  <tbody>\n",
       "    <tr>\n",
       "      <th>url_len</th>\n",
       "      <td>1.000000</td>\n",
       "      <td>-0.025183</td>\n",
       "      <td>0.944497</td>\n",
       "      <td>0.001670</td>\n",
       "      <td>0.002085</td>\n",
       "      <td>0.267134</td>\n",
       "      <td>0.307256</td>\n",
       "      <td>0.318540</td>\n",
       "      <td>0.267502</td>\n",
       "      <td>-0.067771</td>\n",
       "      <td>...</td>\n",
       "      <td>-0.026803</td>\n",
       "      <td>-0.012114</td>\n",
       "      <td>-0.021489</td>\n",
       "      <td>-0.013241</td>\n",
       "      <td>0.074980</td>\n",
       "      <td>0.043752</td>\n",
       "      <td>-0.037282</td>\n",
       "      <td>-0.019775</td>\n",
       "      <td>NaN</td>\n",
       "      <td>-0.006429</td>\n",
       "    </tr>\n",
       "    <tr>\n",
       "      <th>url_num_hyphens_dom</th>\n",
       "      <td>-0.025183</td>\n",
       "      <td>1.000000</td>\n",
       "      <td>-0.097643</td>\n",
       "      <td>0.589203</td>\n",
       "      <td>0.590278</td>\n",
       "      <td>-0.085324</td>\n",
       "      <td>-0.063695</td>\n",
       "      <td>0.001715</td>\n",
       "      <td>-0.002627</td>\n",
       "      <td>-0.124600</td>\n",
       "      <td>...</td>\n",
       "      <td>-0.110263</td>\n",
       "      <td>-0.052932</td>\n",
       "      <td>-0.048672</td>\n",
       "      <td>-0.013765</td>\n",
       "      <td>0.039036</td>\n",
       "      <td>-0.043295</td>\n",
       "      <td>0.038427</td>\n",
       "      <td>-0.036904</td>\n",
       "      <td>NaN</td>\n",
       "      <td>0.355480</td>\n",
       "    </tr>\n",
       "    <tr>\n",
       "      <th>url_path_len</th>\n",
       "      <td>0.944497</td>\n",
       "      <td>-0.097643</td>\n",
       "      <td>1.000000</td>\n",
       "      <td>-0.123280</td>\n",
       "      <td>-0.123081</td>\n",
       "      <td>0.196425</td>\n",
       "      <td>0.254179</td>\n",
       "      <td>0.011303</td>\n",
       "      <td>0.010422</td>\n",
       "      <td>-0.037249</td>\n",
       "      <td>...</td>\n",
       "      <td>0.006749</td>\n",
       "      <td>-0.003340</td>\n",
       "      <td>-0.015291</td>\n",
       "      <td>-0.008044</td>\n",
       "      <td>0.078578</td>\n",
       "      <td>-0.006032</td>\n",
       "      <td>-0.042510</td>\n",
       "      <td>-0.008870</td>\n",
       "      <td>NaN</td>\n",
       "      <td>-0.113835</td>\n",
       "    </tr>\n",
       "    <tr>\n",
       "      <th>url_domain_len</th>\n",
       "      <td>0.001670</td>\n",
       "      <td>0.589203</td>\n",
       "      <td>-0.123280</td>\n",
       "      <td>1.000000</td>\n",
       "      <td>0.998956</td>\n",
       "      <td>0.082025</td>\n",
       "      <td>-0.092685</td>\n",
       "      <td>0.014915</td>\n",
       "      <td>0.015721</td>\n",
       "      <td>-0.150800</td>\n",
       "      <td>...</td>\n",
       "      <td>-0.103895</td>\n",
       "      <td>-0.012265</td>\n",
       "      <td>-0.029448</td>\n",
       "      <td>-0.002495</td>\n",
       "      <td>0.002868</td>\n",
       "      <td>0.031097</td>\n",
       "      <td>0.033835</td>\n",
       "      <td>-0.035063</td>\n",
       "      <td>NaN</td>\n",
       "      <td>0.380448</td>\n",
       "    </tr>\n",
       "    <tr>\n",
       "      <th>url_hostname_len</th>\n",
       "      <td>0.002085</td>\n",
       "      <td>0.590278</td>\n",
       "      <td>-0.123081</td>\n",
       "      <td>0.998956</td>\n",
       "      <td>1.000000</td>\n",
       "      <td>0.078337</td>\n",
       "      <td>-0.094091</td>\n",
       "      <td>0.016032</td>\n",
       "      <td>0.016803</td>\n",
       "      <td>-0.169295</td>\n",
       "      <td>...</td>\n",
       "      <td>-0.101211</td>\n",
       "      <td>-0.011445</td>\n",
       "      <td>-0.030490</td>\n",
       "      <td>-0.001540</td>\n",
       "      <td>0.002779</td>\n",
       "      <td>0.031446</td>\n",
       "      <td>0.036627</td>\n",
       "      <td>-0.033953</td>\n",
       "      <td>NaN</td>\n",
       "      <td>0.384489</td>\n",
       "    </tr>\n",
       "    <tr>\n",
       "      <th>url_num_dots</th>\n",
       "      <td>0.267134</td>\n",
       "      <td>-0.085324</td>\n",
       "      <td>0.196425</td>\n",
       "      <td>0.082025</td>\n",
       "      <td>0.078337</td>\n",
       "      <td>1.000000</td>\n",
       "      <td>0.261850</td>\n",
       "      <td>0.227932</td>\n",
       "      <td>0.197153</td>\n",
       "      <td>0.184992</td>\n",
       "      <td>...</td>\n",
       "      <td>-0.086458</td>\n",
       "      <td>-0.030750</td>\n",
       "      <td>-0.017976</td>\n",
       "      <td>-0.027272</td>\n",
       "      <td>-0.024784</td>\n",
       "      <td>-0.000531</td>\n",
       "      <td>-0.066137</td>\n",
       "      <td>-0.027895</td>\n",
       "      <td>NaN</td>\n",
       "      <td>-0.047256</td>\n",
       "    </tr>\n",
       "    <tr>\n",
       "      <th>url_num_underscores</th>\n",
       "      <td>0.307256</td>\n",
       "      <td>-0.063695</td>\n",
       "      <td>0.254179</td>\n",
       "      <td>-0.092685</td>\n",
       "      <td>-0.094091</td>\n",
       "      <td>0.261850</td>\n",
       "      <td>1.000000</td>\n",
       "      <td>0.246116</td>\n",
       "      <td>0.245183</td>\n",
       "      <td>-0.052211</td>\n",
       "      <td>...</td>\n",
       "      <td>-0.069631</td>\n",
       "      <td>-0.029422</td>\n",
       "      <td>-0.021538</td>\n",
       "      <td>-0.017179</td>\n",
       "      <td>0.058713</td>\n",
       "      <td>0.031360</td>\n",
       "      <td>-0.079358</td>\n",
       "      <td>-0.007495</td>\n",
       "      <td>NaN</td>\n",
       "      <td>-0.133808</td>\n",
       "    </tr>\n",
       "    <tr>\n",
       "      <th>url_query_len</th>\n",
       "      <td>0.318540</td>\n",
       "      <td>0.001715</td>\n",
       "      <td>0.011303</td>\n",
       "      <td>0.014915</td>\n",
       "      <td>0.016032</td>\n",
       "      <td>0.227932</td>\n",
       "      <td>0.246116</td>\n",
       "      <td>1.000000</td>\n",
       "      <td>0.834315</td>\n",
       "      <td>-0.048321</td>\n",
       "      <td>...</td>\n",
       "      <td>-0.069375</td>\n",
       "      <td>-0.024240</td>\n",
       "      <td>-0.011191</td>\n",
       "      <td>-0.016998</td>\n",
       "      <td>-0.001409</td>\n",
       "      <td>0.150485</td>\n",
       "      <td>-0.001790</td>\n",
       "      <td>-0.023486</td>\n",
       "      <td>NaN</td>\n",
       "      <td>0.189689</td>\n",
       "    </tr>\n",
       "    <tr>\n",
       "      <th>url_num_query_para</th>\n",
       "      <td>0.267502</td>\n",
       "      <td>-0.002627</td>\n",
       "      <td>0.010422</td>\n",
       "      <td>0.015721</td>\n",
       "      <td>0.016803</td>\n",
       "      <td>0.197153</td>\n",
       "      <td>0.245183</td>\n",
       "      <td>0.834315</td>\n",
       "      <td>1.000000</td>\n",
       "      <td>-0.046998</td>\n",
       "      <td>...</td>\n",
       "      <td>-0.066136</td>\n",
       "      <td>-0.023577</td>\n",
       "      <td>-0.016486</td>\n",
       "      <td>-0.015185</td>\n",
       "      <td>-0.019294</td>\n",
       "      <td>0.109691</td>\n",
       "      <td>-0.005181</td>\n",
       "      <td>-0.022982</td>\n",
       "      <td>NaN</td>\n",
       "      <td>0.184497</td>\n",
       "    </tr>\n",
       "    <tr>\n",
       "      <th>url_ip_present</th>\n",
       "      <td>-0.067771</td>\n",
       "      <td>-0.124600</td>\n",
       "      <td>-0.037249</td>\n",
       "      <td>-0.150800</td>\n",
       "      <td>-0.169295</td>\n",
       "      <td>0.184992</td>\n",
       "      <td>-0.052211</td>\n",
       "      <td>-0.048321</td>\n",
       "      <td>-0.046998</td>\n",
       "      <td>1.000000</td>\n",
       "      <td>...</td>\n",
       "      <td>-0.086306</td>\n",
       "      <td>-0.032573</td>\n",
       "      <td>0.041407</td>\n",
       "      <td>-0.031192</td>\n",
       "      <td>0.012362</td>\n",
       "      <td>-0.018434</td>\n",
       "      <td>-0.077854</td>\n",
       "      <td>-0.035891</td>\n",
       "      <td>NaN</td>\n",
       "      <td>-0.076236</td>\n",
       "    </tr>\n",
       "    <tr>\n",
       "      <th>url_entropy</th>\n",
       "      <td>0.254685</td>\n",
       "      <td>0.071452</td>\n",
       "      <td>0.131595</td>\n",
       "      <td>0.160224</td>\n",
       "      <td>0.163410</td>\n",
       "      <td>0.195450</td>\n",
       "      <td>0.244172</td>\n",
       "      <td>0.358440</td>\n",
       "      <td>0.323323</td>\n",
       "      <td>-0.165779</td>\n",
       "      <td>...</td>\n",
       "      <td>-0.100682</td>\n",
       "      <td>0.017256</td>\n",
       "      <td>-0.029893</td>\n",
       "      <td>-0.021502</td>\n",
       "      <td>-0.012621</td>\n",
       "      <td>0.063027</td>\n",
       "      <td>-0.030399</td>\n",
       "      <td>-0.024935</td>\n",
       "      <td>NaN</td>\n",
       "      <td>0.162198</td>\n",
       "    </tr>\n",
       "    <tr>\n",
       "      <th>url_chinese_present</th>\n",
       "      <td>NaN</td>\n",
       "      <td>NaN</td>\n",
       "      <td>NaN</td>\n",
       "      <td>NaN</td>\n",
       "      <td>NaN</td>\n",
       "      <td>NaN</td>\n",
       "      <td>NaN</td>\n",
       "      <td>NaN</td>\n",
       "      <td>NaN</td>\n",
       "      <td>NaN</td>\n",
       "      <td>...</td>\n",
       "      <td>NaN</td>\n",
       "      <td>NaN</td>\n",
       "      <td>NaN</td>\n",
       "      <td>NaN</td>\n",
       "      <td>NaN</td>\n",
       "      <td>NaN</td>\n",
       "      <td>NaN</td>\n",
       "      <td>NaN</td>\n",
       "      <td>NaN</td>\n",
       "      <td>NaN</td>\n",
       "    </tr>\n",
       "    <tr>\n",
       "      <th>url_port</th>\n",
       "      <td>0.051000</td>\n",
       "      <td>-0.022785</td>\n",
       "      <td>0.056566</td>\n",
       "      <td>-0.002415</td>\n",
       "      <td>-0.024982</td>\n",
       "      <td>0.031340</td>\n",
       "      <td>0.091066</td>\n",
       "      <td>-0.008836</td>\n",
       "      <td>-0.008594</td>\n",
       "      <td>0.099405</td>\n",
       "      <td>...</td>\n",
       "      <td>-0.012834</td>\n",
       "      <td>-0.005956</td>\n",
       "      <td>-0.005739</td>\n",
       "      <td>-0.004837</td>\n",
       "      <td>0.000605</td>\n",
       "      <td>-0.003371</td>\n",
       "      <td>-0.012498</td>\n",
       "      <td>-0.007122</td>\n",
       "      <td>NaN</td>\n",
       "      <td>-0.006642</td>\n",
       "    </tr>\n",
       "    <tr>\n",
       "      <th>html_num_tags('iframe')</th>\n",
       "      <td>0.022091</td>\n",
       "      <td>-0.014977</td>\n",
       "      <td>0.033574</td>\n",
       "      <td>-0.011562</td>\n",
       "      <td>-0.010897</td>\n",
       "      <td>-0.000463</td>\n",
       "      <td>-0.027094</td>\n",
       "      <td>-0.028272</td>\n",
       "      <td>-0.030635</td>\n",
       "      <td>-0.027805</td>\n",
       "      <td>...</td>\n",
       "      <td>0.266982</td>\n",
       "      <td>0.070828</td>\n",
       "      <td>0.049475</td>\n",
       "      <td>0.047177</td>\n",
       "      <td>-0.027587</td>\n",
       "      <td>-0.006687</td>\n",
       "      <td>0.098308</td>\n",
       "      <td>0.045139</td>\n",
       "      <td>NaN</td>\n",
       "      <td>-0.033966</td>\n",
       "    </tr>\n",
       "    <tr>\n",
       "      <th>html_num_tags('script')</th>\n",
       "      <td>-0.026803</td>\n",
       "      <td>-0.110263</td>\n",
       "      <td>0.006749</td>\n",
       "      <td>-0.103895</td>\n",
       "      <td>-0.101211</td>\n",
       "      <td>-0.086458</td>\n",
       "      <td>-0.069631</td>\n",
       "      <td>-0.069375</td>\n",
       "      <td>-0.066136</td>\n",
       "      <td>-0.086306</td>\n",
       "      <td>...</td>\n",
       "      <td>1.000000</td>\n",
       "      <td>0.026666</td>\n",
       "      <td>-0.000805</td>\n",
       "      <td>0.109408</td>\n",
       "      <td>0.056140</td>\n",
       "      <td>0.009628</td>\n",
       "      <td>0.231170</td>\n",
       "      <td>0.087716</td>\n",
       "      <td>NaN</td>\n",
       "      <td>-0.202309</td>\n",
       "    </tr>\n",
       "    <tr>\n",
       "      <th>html_num_tags('embed')</th>\n",
       "      <td>-0.012114</td>\n",
       "      <td>-0.052932</td>\n",
       "      <td>-0.003340</td>\n",
       "      <td>-0.012265</td>\n",
       "      <td>-0.011445</td>\n",
       "      <td>-0.030750</td>\n",
       "      <td>-0.029422</td>\n",
       "      <td>-0.024240</td>\n",
       "      <td>-0.023577</td>\n",
       "      <td>-0.032573</td>\n",
       "      <td>...</td>\n",
       "      <td>0.026666</td>\n",
       "      <td>1.000000</td>\n",
       "      <td>0.489795</td>\n",
       "      <td>-0.008882</td>\n",
       "      <td>0.001661</td>\n",
       "      <td>-0.009247</td>\n",
       "      <td>-0.023065</td>\n",
       "      <td>0.012907</td>\n",
       "      <td>NaN</td>\n",
       "      <td>-0.111295</td>\n",
       "    </tr>\n",
       "    <tr>\n",
       "      <th>html_num_tags('object')</th>\n",
       "      <td>-0.021489</td>\n",
       "      <td>-0.048672</td>\n",
       "      <td>-0.015291</td>\n",
       "      <td>-0.029448</td>\n",
       "      <td>-0.030490</td>\n",
       "      <td>-0.017976</td>\n",
       "      <td>-0.021538</td>\n",
       "      <td>-0.011191</td>\n",
       "      <td>-0.016486</td>\n",
       "      <td>0.041407</td>\n",
       "      <td>...</td>\n",
       "      <td>-0.000805</td>\n",
       "      <td>0.489795</td>\n",
       "      <td>1.000000</td>\n",
       "      <td>0.040056</td>\n",
       "      <td>0.001600</td>\n",
       "      <td>0.013036</td>\n",
       "      <td>0.013915</td>\n",
       "      <td>0.082403</td>\n",
       "      <td>NaN</td>\n",
       "      <td>-0.105710</td>\n",
       "    </tr>\n",
       "    <tr>\n",
       "      <th>html_num_tags('div')</th>\n",
       "      <td>-0.013241</td>\n",
       "      <td>-0.013765</td>\n",
       "      <td>-0.008044</td>\n",
       "      <td>-0.002495</td>\n",
       "      <td>-0.001540</td>\n",
       "      <td>-0.027272</td>\n",
       "      <td>-0.017179</td>\n",
       "      <td>-0.016998</td>\n",
       "      <td>-0.015185</td>\n",
       "      <td>-0.031192</td>\n",
       "      <td>...</td>\n",
       "      <td>0.109408</td>\n",
       "      <td>-0.008882</td>\n",
       "      <td>0.040056</td>\n",
       "      <td>1.000000</td>\n",
       "      <td>0.001284</td>\n",
       "      <td>-0.006553</td>\n",
       "      <td>0.116670</td>\n",
       "      <td>0.840125</td>\n",
       "      <td>NaN</td>\n",
       "      <td>-0.061183</td>\n",
       "    </tr>\n",
       "    <tr>\n",
       "      <th>html_num_tags('head')</th>\n",
       "      <td>0.074980</td>\n",
       "      <td>0.039036</td>\n",
       "      <td>0.078578</td>\n",
       "      <td>0.002868</td>\n",
       "      <td>0.002779</td>\n",
       "      <td>-0.024784</td>\n",
       "      <td>0.058713</td>\n",
       "      <td>-0.001409</td>\n",
       "      <td>-0.019294</td>\n",
       "      <td>0.012362</td>\n",
       "      <td>...</td>\n",
       "      <td>0.056140</td>\n",
       "      <td>0.001661</td>\n",
       "      <td>0.001600</td>\n",
       "      <td>0.001284</td>\n",
       "      <td>1.000000</td>\n",
       "      <td>0.191956</td>\n",
       "      <td>0.031581</td>\n",
       "      <td>0.008334</td>\n",
       "      <td>NaN</td>\n",
       "      <td>0.012990</td>\n",
       "    </tr>\n",
       "    <tr>\n",
       "      <th>html_num_tags('body')</th>\n",
       "      <td>0.043752</td>\n",
       "      <td>-0.043295</td>\n",
       "      <td>-0.006032</td>\n",
       "      <td>0.031097</td>\n",
       "      <td>0.031446</td>\n",
       "      <td>-0.000531</td>\n",
       "      <td>0.031360</td>\n",
       "      <td>0.150485</td>\n",
       "      <td>0.109691</td>\n",
       "      <td>-0.018434</td>\n",
       "      <td>...</td>\n",
       "      <td>0.009628</td>\n",
       "      <td>-0.009247</td>\n",
       "      <td>0.013036</td>\n",
       "      <td>-0.006553</td>\n",
       "      <td>0.191956</td>\n",
       "      <td>1.000000</td>\n",
       "      <td>0.029755</td>\n",
       "      <td>-0.006687</td>\n",
       "      <td>NaN</td>\n",
       "      <td>0.110581</td>\n",
       "    </tr>\n",
       "    <tr>\n",
       "      <th>html_num_tags('form')</th>\n",
       "      <td>-0.037282</td>\n",
       "      <td>0.038427</td>\n",
       "      <td>-0.042510</td>\n",
       "      <td>0.033835</td>\n",
       "      <td>0.036627</td>\n",
       "      <td>-0.066137</td>\n",
       "      <td>-0.079358</td>\n",
       "      <td>-0.001790</td>\n",
       "      <td>-0.005181</td>\n",
       "      <td>-0.077854</td>\n",
       "      <td>...</td>\n",
       "      <td>0.231170</td>\n",
       "      <td>-0.023065</td>\n",
       "      <td>0.013915</td>\n",
       "      <td>0.116670</td>\n",
       "      <td>0.031581</td>\n",
       "      <td>0.029755</td>\n",
       "      <td>1.000000</td>\n",
       "      <td>0.087638</td>\n",
       "      <td>NaN</td>\n",
       "      <td>0.116354</td>\n",
       "    </tr>\n",
       "    <tr>\n",
       "      <th>html_num_tags('a')</th>\n",
       "      <td>-0.019775</td>\n",
       "      <td>-0.036904</td>\n",
       "      <td>-0.008870</td>\n",
       "      <td>-0.035063</td>\n",
       "      <td>-0.033953</td>\n",
       "      <td>-0.027895</td>\n",
       "      <td>-0.007495</td>\n",
       "      <td>-0.023486</td>\n",
       "      <td>-0.022982</td>\n",
       "      <td>-0.035891</td>\n",
       "      <td>...</td>\n",
       "      <td>0.087716</td>\n",
       "      <td>0.012907</td>\n",
       "      <td>0.082403</td>\n",
       "      <td>0.840125</td>\n",
       "      <td>0.008334</td>\n",
       "      <td>-0.006687</td>\n",
       "      <td>0.087638</td>\n",
       "      <td>1.000000</td>\n",
       "      <td>NaN</td>\n",
       "      <td>-0.113966</td>\n",
       "    </tr>\n",
       "    <tr>\n",
       "      <th>html_num_tags('applet')</th>\n",
       "      <td>NaN</td>\n",
       "      <td>NaN</td>\n",
       "      <td>NaN</td>\n",
       "      <td>NaN</td>\n",
       "      <td>NaN</td>\n",
       "      <td>NaN</td>\n",
       "      <td>NaN</td>\n",
       "      <td>NaN</td>\n",
       "      <td>NaN</td>\n",
       "      <td>NaN</td>\n",
       "      <td>...</td>\n",
       "      <td>NaN</td>\n",
       "      <td>NaN</td>\n",
       "      <td>NaN</td>\n",
       "      <td>NaN</td>\n",
       "      <td>NaN</td>\n",
       "      <td>NaN</td>\n",
       "      <td>NaN</td>\n",
       "      <td>NaN</td>\n",
       "      <td>NaN</td>\n",
       "      <td>NaN</td>\n",
       "    </tr>\n",
       "    <tr>\n",
       "      <th>Result_v1</th>\n",
       "      <td>-0.006429</td>\n",
       "      <td>0.355480</td>\n",
       "      <td>-0.113835</td>\n",
       "      <td>0.380448</td>\n",
       "      <td>0.384489</td>\n",
       "      <td>-0.047256</td>\n",
       "      <td>-0.133808</td>\n",
       "      <td>0.189689</td>\n",
       "      <td>0.184497</td>\n",
       "      <td>-0.076236</td>\n",
       "      <td>...</td>\n",
       "      <td>-0.202309</td>\n",
       "      <td>-0.111295</td>\n",
       "      <td>-0.105710</td>\n",
       "      <td>-0.061183</td>\n",
       "      <td>0.012990</td>\n",
       "      <td>0.110581</td>\n",
       "      <td>0.116354</td>\n",
       "      <td>-0.113966</td>\n",
       "      <td>NaN</td>\n",
       "      <td>1.000000</td>\n",
       "    </tr>\n",
       "  </tbody>\n",
       "</table>\n",
       "<p>24 rows × 24 columns</p>\n",
       "</div>"
      ],
      "text/plain": [
       "                          url_len  url_num_hyphens_dom  url_path_len  \\\n",
       "url_len                  1.000000            -0.025183      0.944497   \n",
       "url_num_hyphens_dom     -0.025183             1.000000     -0.097643   \n",
       "url_path_len             0.944497            -0.097643      1.000000   \n",
       "url_domain_len           0.001670             0.589203     -0.123280   \n",
       "url_hostname_len         0.002085             0.590278     -0.123081   \n",
       "url_num_dots             0.267134            -0.085324      0.196425   \n",
       "url_num_underscores      0.307256            -0.063695      0.254179   \n",
       "url_query_len            0.318540             0.001715      0.011303   \n",
       "url_num_query_para       0.267502            -0.002627      0.010422   \n",
       "url_ip_present          -0.067771            -0.124600     -0.037249   \n",
       "url_entropy              0.254685             0.071452      0.131595   \n",
       "url_chinese_present           NaN                  NaN           NaN   \n",
       "url_port                 0.051000            -0.022785      0.056566   \n",
       "html_num_tags('iframe')  0.022091            -0.014977      0.033574   \n",
       "html_num_tags('script') -0.026803            -0.110263      0.006749   \n",
       "html_num_tags('embed')  -0.012114            -0.052932     -0.003340   \n",
       "html_num_tags('object') -0.021489            -0.048672     -0.015291   \n",
       "html_num_tags('div')    -0.013241            -0.013765     -0.008044   \n",
       "html_num_tags('head')    0.074980             0.039036      0.078578   \n",
       "html_num_tags('body')    0.043752            -0.043295     -0.006032   \n",
       "html_num_tags('form')   -0.037282             0.038427     -0.042510   \n",
       "html_num_tags('a')      -0.019775            -0.036904     -0.008870   \n",
       "html_num_tags('applet')       NaN                  NaN           NaN   \n",
       "Result_v1               -0.006429             0.355480     -0.113835   \n",
       "\n",
       "                         url_domain_len  url_hostname_len  url_num_dots  \\\n",
       "url_len                        0.001670          0.002085      0.267134   \n",
       "url_num_hyphens_dom            0.589203          0.590278     -0.085324   \n",
       "url_path_len                  -0.123280         -0.123081      0.196425   \n",
       "url_domain_len                 1.000000          0.998956      0.082025   \n",
       "url_hostname_len               0.998956          1.000000      0.078337   \n",
       "url_num_dots                   0.082025          0.078337      1.000000   \n",
       "url_num_underscores           -0.092685         -0.094091      0.261850   \n",
       "url_query_len                  0.014915          0.016032      0.227932   \n",
       "url_num_query_para             0.015721          0.016803      0.197153   \n",
       "url_ip_present                -0.150800         -0.169295      0.184992   \n",
       "url_entropy                    0.160224          0.163410      0.195450   \n",
       "url_chinese_present                 NaN               NaN           NaN   \n",
       "url_port                      -0.002415         -0.024982      0.031340   \n",
       "html_num_tags('iframe')       -0.011562         -0.010897     -0.000463   \n",
       "html_num_tags('script')       -0.103895         -0.101211     -0.086458   \n",
       "html_num_tags('embed')        -0.012265         -0.011445     -0.030750   \n",
       "html_num_tags('object')       -0.029448         -0.030490     -0.017976   \n",
       "html_num_tags('div')          -0.002495         -0.001540     -0.027272   \n",
       "html_num_tags('head')          0.002868          0.002779     -0.024784   \n",
       "html_num_tags('body')          0.031097          0.031446     -0.000531   \n",
       "html_num_tags('form')          0.033835          0.036627     -0.066137   \n",
       "html_num_tags('a')            -0.035063         -0.033953     -0.027895   \n",
       "html_num_tags('applet')             NaN               NaN           NaN   \n",
       "Result_v1                      0.380448          0.384489     -0.047256   \n",
       "\n",
       "                         url_num_underscores  url_query_len  \\\n",
       "url_len                             0.307256       0.318540   \n",
       "url_num_hyphens_dom                -0.063695       0.001715   \n",
       "url_path_len                        0.254179       0.011303   \n",
       "url_domain_len                     -0.092685       0.014915   \n",
       "url_hostname_len                   -0.094091       0.016032   \n",
       "url_num_dots                        0.261850       0.227932   \n",
       "url_num_underscores                 1.000000       0.246116   \n",
       "url_query_len                       0.246116       1.000000   \n",
       "url_num_query_para                  0.245183       0.834315   \n",
       "url_ip_present                     -0.052211      -0.048321   \n",
       "url_entropy                         0.244172       0.358440   \n",
       "url_chinese_present                      NaN            NaN   \n",
       "url_port                            0.091066      -0.008836   \n",
       "html_num_tags('iframe')            -0.027094      -0.028272   \n",
       "html_num_tags('script')            -0.069631      -0.069375   \n",
       "html_num_tags('embed')             -0.029422      -0.024240   \n",
       "html_num_tags('object')            -0.021538      -0.011191   \n",
       "html_num_tags('div')               -0.017179      -0.016998   \n",
       "html_num_tags('head')               0.058713      -0.001409   \n",
       "html_num_tags('body')               0.031360       0.150485   \n",
       "html_num_tags('form')              -0.079358      -0.001790   \n",
       "html_num_tags('a')                 -0.007495      -0.023486   \n",
       "html_num_tags('applet')                  NaN            NaN   \n",
       "Result_v1                          -0.133808       0.189689   \n",
       "\n",
       "                         url_num_query_para  url_ip_present  ...  \\\n",
       "url_len                            0.267502       -0.067771  ...   \n",
       "url_num_hyphens_dom               -0.002627       -0.124600  ...   \n",
       "url_path_len                       0.010422       -0.037249  ...   \n",
       "url_domain_len                     0.015721       -0.150800  ...   \n",
       "url_hostname_len                   0.016803       -0.169295  ...   \n",
       "url_num_dots                       0.197153        0.184992  ...   \n",
       "url_num_underscores                0.245183       -0.052211  ...   \n",
       "url_query_len                      0.834315       -0.048321  ...   \n",
       "url_num_query_para                 1.000000       -0.046998  ...   \n",
       "url_ip_present                    -0.046998        1.000000  ...   \n",
       "url_entropy                        0.323323       -0.165779  ...   \n",
       "url_chinese_present                     NaN             NaN  ...   \n",
       "url_port                          -0.008594        0.099405  ...   \n",
       "html_num_tags('iframe')           -0.030635       -0.027805  ...   \n",
       "html_num_tags('script')           -0.066136       -0.086306  ...   \n",
       "html_num_tags('embed')            -0.023577       -0.032573  ...   \n",
       "html_num_tags('object')           -0.016486        0.041407  ...   \n",
       "html_num_tags('div')              -0.015185       -0.031192  ...   \n",
       "html_num_tags('head')             -0.019294        0.012362  ...   \n",
       "html_num_tags('body')              0.109691       -0.018434  ...   \n",
       "html_num_tags('form')             -0.005181       -0.077854  ...   \n",
       "html_num_tags('a')                -0.022982       -0.035891  ...   \n",
       "html_num_tags('applet')                 NaN             NaN  ...   \n",
       "Result_v1                          0.184497       -0.076236  ...   \n",
       "\n",
       "                         html_num_tags('script')  html_num_tags('embed')  \\\n",
       "url_len                                -0.026803               -0.012114   \n",
       "url_num_hyphens_dom                    -0.110263               -0.052932   \n",
       "url_path_len                            0.006749               -0.003340   \n",
       "url_domain_len                         -0.103895               -0.012265   \n",
       "url_hostname_len                       -0.101211               -0.011445   \n",
       "url_num_dots                           -0.086458               -0.030750   \n",
       "url_num_underscores                    -0.069631               -0.029422   \n",
       "url_query_len                          -0.069375               -0.024240   \n",
       "url_num_query_para                     -0.066136               -0.023577   \n",
       "url_ip_present                         -0.086306               -0.032573   \n",
       "url_entropy                            -0.100682                0.017256   \n",
       "url_chinese_present                          NaN                     NaN   \n",
       "url_port                               -0.012834               -0.005956   \n",
       "html_num_tags('iframe')                 0.266982                0.070828   \n",
       "html_num_tags('script')                 1.000000                0.026666   \n",
       "html_num_tags('embed')                  0.026666                1.000000   \n",
       "html_num_tags('object')                -0.000805                0.489795   \n",
       "html_num_tags('div')                    0.109408               -0.008882   \n",
       "html_num_tags('head')                   0.056140                0.001661   \n",
       "html_num_tags('body')                   0.009628               -0.009247   \n",
       "html_num_tags('form')                   0.231170               -0.023065   \n",
       "html_num_tags('a')                      0.087716                0.012907   \n",
       "html_num_tags('applet')                      NaN                     NaN   \n",
       "Result_v1                              -0.202309               -0.111295   \n",
       "\n",
       "                         html_num_tags('object')  html_num_tags('div')  \\\n",
       "url_len                                -0.021489             -0.013241   \n",
       "url_num_hyphens_dom                    -0.048672             -0.013765   \n",
       "url_path_len                           -0.015291             -0.008044   \n",
       "url_domain_len                         -0.029448             -0.002495   \n",
       "url_hostname_len                       -0.030490             -0.001540   \n",
       "url_num_dots                           -0.017976             -0.027272   \n",
       "url_num_underscores                    -0.021538             -0.017179   \n",
       "url_query_len                          -0.011191             -0.016998   \n",
       "url_num_query_para                     -0.016486             -0.015185   \n",
       "url_ip_present                          0.041407             -0.031192   \n",
       "url_entropy                            -0.029893             -0.021502   \n",
       "url_chinese_present                          NaN                   NaN   \n",
       "url_port                               -0.005739             -0.004837   \n",
       "html_num_tags('iframe')                 0.049475              0.047177   \n",
       "html_num_tags('script')                -0.000805              0.109408   \n",
       "html_num_tags('embed')                  0.489795             -0.008882   \n",
       "html_num_tags('object')                 1.000000              0.040056   \n",
       "html_num_tags('div')                    0.040056              1.000000   \n",
       "html_num_tags('head')                   0.001600              0.001284   \n",
       "html_num_tags('body')                   0.013036             -0.006553   \n",
       "html_num_tags('form')                   0.013915              0.116670   \n",
       "html_num_tags('a')                      0.082403              0.840125   \n",
       "html_num_tags('applet')                      NaN                   NaN   \n",
       "Result_v1                              -0.105710             -0.061183   \n",
       "\n",
       "                         html_num_tags('head')  html_num_tags('body')  \\\n",
       "url_len                               0.074980               0.043752   \n",
       "url_num_hyphens_dom                   0.039036              -0.043295   \n",
       "url_path_len                          0.078578              -0.006032   \n",
       "url_domain_len                        0.002868               0.031097   \n",
       "url_hostname_len                      0.002779               0.031446   \n",
       "url_num_dots                         -0.024784              -0.000531   \n",
       "url_num_underscores                   0.058713               0.031360   \n",
       "url_query_len                        -0.001409               0.150485   \n",
       "url_num_query_para                   -0.019294               0.109691   \n",
       "url_ip_present                        0.012362              -0.018434   \n",
       "url_entropy                          -0.012621               0.063027   \n",
       "url_chinese_present                        NaN                    NaN   \n",
       "url_port                              0.000605              -0.003371   \n",
       "html_num_tags('iframe')              -0.027587              -0.006687   \n",
       "html_num_tags('script')               0.056140               0.009628   \n",
       "html_num_tags('embed')                0.001661              -0.009247   \n",
       "html_num_tags('object')               0.001600               0.013036   \n",
       "html_num_tags('div')                  0.001284              -0.006553   \n",
       "html_num_tags('head')                 1.000000               0.191956   \n",
       "html_num_tags('body')                 0.191956               1.000000   \n",
       "html_num_tags('form')                 0.031581               0.029755   \n",
       "html_num_tags('a')                    0.008334              -0.006687   \n",
       "html_num_tags('applet')                    NaN                    NaN   \n",
       "Result_v1                             0.012990               0.110581   \n",
       "\n",
       "                         html_num_tags('form')  html_num_tags('a')  \\\n",
       "url_len                              -0.037282           -0.019775   \n",
       "url_num_hyphens_dom                   0.038427           -0.036904   \n",
       "url_path_len                         -0.042510           -0.008870   \n",
       "url_domain_len                        0.033835           -0.035063   \n",
       "url_hostname_len                      0.036627           -0.033953   \n",
       "url_num_dots                         -0.066137           -0.027895   \n",
       "url_num_underscores                  -0.079358           -0.007495   \n",
       "url_query_len                        -0.001790           -0.023486   \n",
       "url_num_query_para                   -0.005181           -0.022982   \n",
       "url_ip_present                       -0.077854           -0.035891   \n",
       "url_entropy                          -0.030399           -0.024935   \n",
       "url_chinese_present                        NaN                 NaN   \n",
       "url_port                             -0.012498           -0.007122   \n",
       "html_num_tags('iframe')               0.098308            0.045139   \n",
       "html_num_tags('script')               0.231170            0.087716   \n",
       "html_num_tags('embed')               -0.023065            0.012907   \n",
       "html_num_tags('object')               0.013915            0.082403   \n",
       "html_num_tags('div')                  0.116670            0.840125   \n",
       "html_num_tags('head')                 0.031581            0.008334   \n",
       "html_num_tags('body')                 0.029755           -0.006687   \n",
       "html_num_tags('form')                 1.000000            0.087638   \n",
       "html_num_tags('a')                    0.087638            1.000000   \n",
       "html_num_tags('applet')                    NaN                 NaN   \n",
       "Result_v1                             0.116354           -0.113966   \n",
       "\n",
       "                         html_num_tags('applet')  Result_v1  \n",
       "url_len                                      NaN  -0.006429  \n",
       "url_num_hyphens_dom                          NaN   0.355480  \n",
       "url_path_len                                 NaN  -0.113835  \n",
       "url_domain_len                               NaN   0.380448  \n",
       "url_hostname_len                             NaN   0.384489  \n",
       "url_num_dots                                 NaN  -0.047256  \n",
       "url_num_underscores                          NaN  -0.133808  \n",
       "url_query_len                                NaN   0.189689  \n",
       "url_num_query_para                           NaN   0.184497  \n",
       "url_ip_present                               NaN  -0.076236  \n",
       "url_entropy                                  NaN   0.162198  \n",
       "url_chinese_present                          NaN        NaN  \n",
       "url_port                                     NaN  -0.006642  \n",
       "html_num_tags('iframe')                      NaN  -0.033966  \n",
       "html_num_tags('script')                      NaN  -0.202309  \n",
       "html_num_tags('embed')                       NaN  -0.111295  \n",
       "html_num_tags('object')                      NaN  -0.105710  \n",
       "html_num_tags('div')                         NaN  -0.061183  \n",
       "html_num_tags('head')                        NaN   0.012990  \n",
       "html_num_tags('body')                        NaN   0.110581  \n",
       "html_num_tags('form')                        NaN   0.116354  \n",
       "html_num_tags('a')                           NaN  -0.113966  \n",
       "html_num_tags('applet')                      NaN        NaN  \n",
       "Result_v1                                    NaN   1.000000  \n",
       "\n",
       "[24 rows x 24 columns]"
      ]
     },
     "execution_count": 111,
     "metadata": {},
     "output_type": "execute_result"
    }
   ],
   "source": [
    "df.corr()"
   ]
  },
  {
   "cell_type": "code",
   "execution_count": 113,
   "metadata": {},
   "outputs": [],
   "source": [
    "df.drop(['url_chinese_present', \"html_num_tags('applet')\"], axis = 1, inplace = True)"
   ]
  },
  {
   "cell_type": "code",
   "execution_count": 114,
   "metadata": {
    "tags": []
   },
   "outputs": [
    {
     "data": {
      "text/html": [
       "<div>\n",
       "<style scoped>\n",
       "    .dataframe tbody tr th:only-of-type {\n",
       "        vertical-align: middle;\n",
       "    }\n",
       "\n",
       "    .dataframe tbody tr th {\n",
       "        vertical-align: top;\n",
       "    }\n",
       "\n",
       "    .dataframe thead th {\n",
       "        text-align: right;\n",
       "    }\n",
       "</style>\n",
       "<table border=\"1\" class=\"dataframe\">\n",
       "  <thead>\n",
       "    <tr style=\"text-align: right;\">\n",
       "      <th></th>\n",
       "      <th>url_len</th>\n",
       "      <th>url_num_hyphens_dom</th>\n",
       "      <th>url_path_len</th>\n",
       "      <th>url_domain_len</th>\n",
       "      <th>url_hostname_len</th>\n",
       "      <th>url_num_dots</th>\n",
       "      <th>url_num_underscores</th>\n",
       "      <th>url_query_len</th>\n",
       "      <th>url_num_query_para</th>\n",
       "      <th>url_ip_present</th>\n",
       "      <th>...</th>\n",
       "      <th>html_num_tags('iframe')</th>\n",
       "      <th>html_num_tags('script')</th>\n",
       "      <th>html_num_tags('embed')</th>\n",
       "      <th>html_num_tags('object')</th>\n",
       "      <th>html_num_tags('div')</th>\n",
       "      <th>html_num_tags('head')</th>\n",
       "      <th>html_num_tags('body')</th>\n",
       "      <th>html_num_tags('form')</th>\n",
       "      <th>html_num_tags('a')</th>\n",
       "      <th>Result_v1</th>\n",
       "    </tr>\n",
       "  </thead>\n",
       "  <tbody>\n",
       "    <tr>\n",
       "      <th>0</th>\n",
       "      <td>23.0</td>\n",
       "      <td>0.0</td>\n",
       "      <td>8.0</td>\n",
       "      <td>15.0</td>\n",
       "      <td>15.0</td>\n",
       "      <td>2.0</td>\n",
       "      <td>0.0</td>\n",
       "      <td>0.0</td>\n",
       "      <td>0.0</td>\n",
       "      <td>0.0</td>\n",
       "      <td>...</td>\n",
       "      <td>0.0</td>\n",
       "      <td>7.0</td>\n",
       "      <td>0.0</td>\n",
       "      <td>0.0</td>\n",
       "      <td>0.0</td>\n",
       "      <td>1.0</td>\n",
       "      <td>1.0</td>\n",
       "      <td>0.0</td>\n",
       "      <td>0.0</td>\n",
       "      <td>1</td>\n",
       "    </tr>\n",
       "    <tr>\n",
       "      <th>1</th>\n",
       "      <td>75.0</td>\n",
       "      <td>0.0</td>\n",
       "      <td>58.0</td>\n",
       "      <td>17.0</td>\n",
       "      <td>17.0</td>\n",
       "      <td>6.0</td>\n",
       "      <td>0.0</td>\n",
       "      <td>0.0</td>\n",
       "      <td>0.0</td>\n",
       "      <td>0.0</td>\n",
       "      <td>...</td>\n",
       "      <td>0.0</td>\n",
       "      <td>18.0</td>\n",
       "      <td>0.0</td>\n",
       "      <td>0.0</td>\n",
       "      <td>20.0</td>\n",
       "      <td>1.0</td>\n",
       "      <td>1.0</td>\n",
       "      <td>0.0</td>\n",
       "      <td>21.0</td>\n",
       "      <td>0</td>\n",
       "    </tr>\n",
       "    <tr>\n",
       "      <th>2</th>\n",
       "      <td>20.0</td>\n",
       "      <td>0.0</td>\n",
       "      <td>4.0</td>\n",
       "      <td>16.0</td>\n",
       "      <td>16.0</td>\n",
       "      <td>2.0</td>\n",
       "      <td>0.0</td>\n",
       "      <td>0.0</td>\n",
       "      <td>0.0</td>\n",
       "      <td>0.0</td>\n",
       "      <td>...</td>\n",
       "      <td>1.0</td>\n",
       "      <td>33.0</td>\n",
       "      <td>0.0</td>\n",
       "      <td>0.0</td>\n",
       "      <td>101.0</td>\n",
       "      <td>1.0</td>\n",
       "      <td>1.0</td>\n",
       "      <td>3.0</td>\n",
       "      <td>70.0</td>\n",
       "      <td>0</td>\n",
       "    </tr>\n",
       "    <tr>\n",
       "      <th>3</th>\n",
       "      <td>27.0</td>\n",
       "      <td>0.0</td>\n",
       "      <td>13.0</td>\n",
       "      <td>14.0</td>\n",
       "      <td>14.0</td>\n",
       "      <td>3.0</td>\n",
       "      <td>0.0</td>\n",
       "      <td>0.0</td>\n",
       "      <td>0.0</td>\n",
       "      <td>0.0</td>\n",
       "      <td>...</td>\n",
       "      <td>0.0</td>\n",
       "      <td>15.0</td>\n",
       "      <td>0.0</td>\n",
       "      <td>0.0</td>\n",
       "      <td>151.0</td>\n",
       "      <td>1.0</td>\n",
       "      <td>1.0</td>\n",
       "      <td>1.0</td>\n",
       "      <td>55.0</td>\n",
       "      <td>0</td>\n",
       "    </tr>\n",
       "    <tr>\n",
       "      <th>4</th>\n",
       "      <td>39.0</td>\n",
       "      <td>2.0</td>\n",
       "      <td>12.0</td>\n",
       "      <td>27.0</td>\n",
       "      <td>27.0</td>\n",
       "      <td>2.0</td>\n",
       "      <td>0.0</td>\n",
       "      <td>0.0</td>\n",
       "      <td>0.0</td>\n",
       "      <td>0.0</td>\n",
       "      <td>...</td>\n",
       "      <td>0.0</td>\n",
       "      <td>10.0</td>\n",
       "      <td>0.0</td>\n",
       "      <td>0.0</td>\n",
       "      <td>332.0</td>\n",
       "      <td>1.0</td>\n",
       "      <td>1.0</td>\n",
       "      <td>0.0</td>\n",
       "      <td>321.0</td>\n",
       "      <td>0</td>\n",
       "    </tr>\n",
       "    <tr>\n",
       "      <th>...</th>\n",
       "      <td>...</td>\n",
       "      <td>...</td>\n",
       "      <td>...</td>\n",
       "      <td>...</td>\n",
       "      <td>...</td>\n",
       "      <td>...</td>\n",
       "      <td>...</td>\n",
       "      <td>...</td>\n",
       "      <td>...</td>\n",
       "      <td>...</td>\n",
       "      <td>...</td>\n",
       "      <td>...</td>\n",
       "      <td>...</td>\n",
       "      <td>...</td>\n",
       "      <td>...</td>\n",
       "      <td>...</td>\n",
       "      <td>...</td>\n",
       "      <td>...</td>\n",
       "      <td>...</td>\n",
       "      <td>...</td>\n",
       "      <td>...</td>\n",
       "    </tr>\n",
       "    <tr>\n",
       "      <th>3657</th>\n",
       "      <td>42.0</td>\n",
       "      <td>0.0</td>\n",
       "      <td>21.0</td>\n",
       "      <td>21.0</td>\n",
       "      <td>21.0</td>\n",
       "      <td>1.0</td>\n",
       "      <td>0.0</td>\n",
       "      <td>0.0</td>\n",
       "      <td>0.0</td>\n",
       "      <td>0.0</td>\n",
       "      <td>...</td>\n",
       "      <td>0.0</td>\n",
       "      <td>63.0</td>\n",
       "      <td>0.0</td>\n",
       "      <td>0.0</td>\n",
       "      <td>17.0</td>\n",
       "      <td>1.0</td>\n",
       "      <td>1.0</td>\n",
       "      <td>1.0</td>\n",
       "      <td>45.0</td>\n",
       "      <td>0</td>\n",
       "    </tr>\n",
       "    <tr>\n",
       "      <th>3658</th>\n",
       "      <td>14.0</td>\n",
       "      <td>0.0</td>\n",
       "      <td>0.0</td>\n",
       "      <td>14.0</td>\n",
       "      <td>14.0</td>\n",
       "      <td>3.0</td>\n",
       "      <td>0.0</td>\n",
       "      <td>0.0</td>\n",
       "      <td>0.0</td>\n",
       "      <td>1.0</td>\n",
       "      <td>...</td>\n",
       "      <td>0.0</td>\n",
       "      <td>0.0</td>\n",
       "      <td>0.0</td>\n",
       "      <td>0.0</td>\n",
       "      <td>2.0</td>\n",
       "      <td>1.0</td>\n",
       "      <td>1.0</td>\n",
       "      <td>0.0</td>\n",
       "      <td>1.0</td>\n",
       "      <td>0</td>\n",
       "    </tr>\n",
       "    <tr>\n",
       "      <th>3659</th>\n",
       "      <td>68.0</td>\n",
       "      <td>3.0</td>\n",
       "      <td>16.0</td>\n",
       "      <td>52.0</td>\n",
       "      <td>52.0</td>\n",
       "      <td>2.0</td>\n",
       "      <td>0.0</td>\n",
       "      <td>0.0</td>\n",
       "      <td>0.0</td>\n",
       "      <td>0.0</td>\n",
       "      <td>...</td>\n",
       "      <td>0.0</td>\n",
       "      <td>0.0</td>\n",
       "      <td>0.0</td>\n",
       "      <td>0.0</td>\n",
       "      <td>11.0</td>\n",
       "      <td>1.0</td>\n",
       "      <td>1.0</td>\n",
       "      <td>0.0</td>\n",
       "      <td>3.0</td>\n",
       "      <td>1</td>\n",
       "    </tr>\n",
       "    <tr>\n",
       "      <th>3660</th>\n",
       "      <td>66.0</td>\n",
       "      <td>0.0</td>\n",
       "      <td>48.0</td>\n",
       "      <td>18.0</td>\n",
       "      <td>18.0</td>\n",
       "      <td>2.0</td>\n",
       "      <td>0.0</td>\n",
       "      <td>0.0</td>\n",
       "      <td>0.0</td>\n",
       "      <td>0.0</td>\n",
       "      <td>...</td>\n",
       "      <td>1.0</td>\n",
       "      <td>14.0</td>\n",
       "      <td>0.0</td>\n",
       "      <td>0.0</td>\n",
       "      <td>212.0</td>\n",
       "      <td>1.0</td>\n",
       "      <td>1.0</td>\n",
       "      <td>3.0</td>\n",
       "      <td>475.0</td>\n",
       "      <td>0</td>\n",
       "    </tr>\n",
       "    <tr>\n",
       "      <th>3663</th>\n",
       "      <td>18.0</td>\n",
       "      <td>0.0</td>\n",
       "      <td>0.0</td>\n",
       "      <td>18.0</td>\n",
       "      <td>18.0</td>\n",
       "      <td>2.0</td>\n",
       "      <td>0.0</td>\n",
       "      <td>0.0</td>\n",
       "      <td>0.0</td>\n",
       "      <td>0.0</td>\n",
       "      <td>...</td>\n",
       "      <td>0.0</td>\n",
       "      <td>3.0</td>\n",
       "      <td>0.0</td>\n",
       "      <td>0.0</td>\n",
       "      <td>282.0</td>\n",
       "      <td>1.0</td>\n",
       "      <td>1.0</td>\n",
       "      <td>2.0</td>\n",
       "      <td>46.0</td>\n",
       "      <td>0</td>\n",
       "    </tr>\n",
       "  </tbody>\n",
       "</table>\n",
       "<p>3231 rows × 22 columns</p>\n",
       "</div>"
      ],
      "text/plain": [
       "      url_len  url_num_hyphens_dom  url_path_len  url_domain_len  \\\n",
       "0        23.0                  0.0           8.0            15.0   \n",
       "1        75.0                  0.0          58.0            17.0   \n",
       "2        20.0                  0.0           4.0            16.0   \n",
       "3        27.0                  0.0          13.0            14.0   \n",
       "4        39.0                  2.0          12.0            27.0   \n",
       "...       ...                  ...           ...             ...   \n",
       "3657     42.0                  0.0          21.0            21.0   \n",
       "3658     14.0                  0.0           0.0            14.0   \n",
       "3659     68.0                  3.0          16.0            52.0   \n",
       "3660     66.0                  0.0          48.0            18.0   \n",
       "3663     18.0                  0.0           0.0            18.0   \n",
       "\n",
       "      url_hostname_len  url_num_dots  url_num_underscores  url_query_len  \\\n",
       "0                 15.0           2.0                  0.0            0.0   \n",
       "1                 17.0           6.0                  0.0            0.0   \n",
       "2                 16.0           2.0                  0.0            0.0   \n",
       "3                 14.0           3.0                  0.0            0.0   \n",
       "4                 27.0           2.0                  0.0            0.0   \n",
       "...                ...           ...                  ...            ...   \n",
       "3657              21.0           1.0                  0.0            0.0   \n",
       "3658              14.0           3.0                  0.0            0.0   \n",
       "3659              52.0           2.0                  0.0            0.0   \n",
       "3660              18.0           2.0                  0.0            0.0   \n",
       "3663              18.0           2.0                  0.0            0.0   \n",
       "\n",
       "      url_num_query_para  url_ip_present  ...  html_num_tags('iframe')  \\\n",
       "0                    0.0             0.0  ...                      0.0   \n",
       "1                    0.0             0.0  ...                      0.0   \n",
       "2                    0.0             0.0  ...                      1.0   \n",
       "3                    0.0             0.0  ...                      0.0   \n",
       "4                    0.0             0.0  ...                      0.0   \n",
       "...                  ...             ...  ...                      ...   \n",
       "3657                 0.0             0.0  ...                      0.0   \n",
       "3658                 0.0             1.0  ...                      0.0   \n",
       "3659                 0.0             0.0  ...                      0.0   \n",
       "3660                 0.0             0.0  ...                      1.0   \n",
       "3663                 0.0             0.0  ...                      0.0   \n",
       "\n",
       "      html_num_tags('script')  html_num_tags('embed')  \\\n",
       "0                         7.0                     0.0   \n",
       "1                        18.0                     0.0   \n",
       "2                        33.0                     0.0   \n",
       "3                        15.0                     0.0   \n",
       "4                        10.0                     0.0   \n",
       "...                       ...                     ...   \n",
       "3657                     63.0                     0.0   \n",
       "3658                      0.0                     0.0   \n",
       "3659                      0.0                     0.0   \n",
       "3660                     14.0                     0.0   \n",
       "3663                      3.0                     0.0   \n",
       "\n",
       "      html_num_tags('object')  html_num_tags('div')  html_num_tags('head')  \\\n",
       "0                         0.0                   0.0                    1.0   \n",
       "1                         0.0                  20.0                    1.0   \n",
       "2                         0.0                 101.0                    1.0   \n",
       "3                         0.0                 151.0                    1.0   \n",
       "4                         0.0                 332.0                    1.0   \n",
       "...                       ...                   ...                    ...   \n",
       "3657                      0.0                  17.0                    1.0   \n",
       "3658                      0.0                   2.0                    1.0   \n",
       "3659                      0.0                  11.0                    1.0   \n",
       "3660                      0.0                 212.0                    1.0   \n",
       "3663                      0.0                 282.0                    1.0   \n",
       "\n",
       "      html_num_tags('body')  html_num_tags('form')  html_num_tags('a')  \\\n",
       "0                       1.0                    0.0                 0.0   \n",
       "1                       1.0                    0.0                21.0   \n",
       "2                       1.0                    3.0                70.0   \n",
       "3                       1.0                    1.0                55.0   \n",
       "4                       1.0                    0.0               321.0   \n",
       "...                     ...                    ...                 ...   \n",
       "3657                    1.0                    1.0                45.0   \n",
       "3658                    1.0                    0.0                 1.0   \n",
       "3659                    1.0                    0.0                 3.0   \n",
       "3660                    1.0                    3.0               475.0   \n",
       "3663                    1.0                    2.0                46.0   \n",
       "\n",
       "      Result_v1  \n",
       "0             1  \n",
       "1             0  \n",
       "2             0  \n",
       "3             0  \n",
       "4             0  \n",
       "...         ...  \n",
       "3657          0  \n",
       "3658          0  \n",
       "3659          1  \n",
       "3660          0  \n",
       "3663          0  \n",
       "\n",
       "[3231 rows x 22 columns]"
      ]
     },
     "execution_count": 114,
     "metadata": {},
     "output_type": "execute_result"
    }
   ],
   "source": [
    "df"
   ]
  },
  {
   "cell_type": "markdown",
   "metadata": {
    "tags": []
   },
   "source": [
    "---"
   ]
  },
  {
   "cell_type": "markdown",
   "metadata": {},
   "source": [
    "## 7. train_test_split을 이용하여, train_x, test_x, train_y, test_y로 데이터 분리"
   ]
  },
  {
   "cell_type": "code",
   "execution_count": 122,
   "metadata": {},
   "outputs": [],
   "source": [
    "target = 'Result_v1'\n",
    "x = df.drop(target, axis = 1)\n",
    "y = df.loc[:, target]"
   ]
  },
  {
   "cell_type": "code",
   "execution_count": 125,
   "metadata": {},
   "outputs": [
    {
     "data": {
      "text/plain": [
       "0    1\n",
       "1    0\n",
       "2    0\n",
       "3    0\n",
       "4    0\n",
       "Name: Result_v1, dtype: int64"
      ]
     },
     "execution_count": 125,
     "metadata": {},
     "output_type": "execute_result"
    }
   ],
   "source": [
    "y.head()"
   ]
  },
  {
   "cell_type": "code",
   "execution_count": 127,
   "metadata": {},
   "outputs": [],
   "source": [
    "x_train, x_test, y_train, y_test = train_test_split(x, y, test_size=0.3)"
   ]
  },
  {
   "cell_type": "code",
   "execution_count": 139,
   "metadata": {},
   "outputs": [
    {
     "name": "stdout",
     "output_type": "stream",
     "text": [
      "2261\n",
      "970\n",
      "2261\n",
      "970\n"
     ]
    }
   ],
   "source": [
    "print(x_train.shape[0])\n",
    "print(x_test.shape[0])\n",
    "print(y_train.shape[0])\n",
    "print(y_test.shape[0])"
   ]
  },
  {
   "cell_type": "code",
   "execution_count": null,
   "metadata": {},
   "outputs": [],
   "source": []
  }
 ],
 "metadata": {
  "kernelspec": {
   "display_name": "Python 3 (ipykernel)",
   "language": "python",
   "name": "python3"
  },
  "language_info": {
   "codemirror_mode": {
    "name": "ipython",
    "version": 3
   },
   "file_extension": ".py",
   "mimetype": "text/x-python",
   "name": "python",
   "nbconvert_exporter": "python",
   "pygments_lexer": "ipython3",
   "version": "3.9.7"
  },
  "vscode": {
   "interpreter": {
    "hash": "f08154012ddadd8e950e6e9e035c7a7b32c136e7647e9b7c77e02eb723a8bedb"
   }
  }
 },
 "nbformat": 4,
 "nbformat_minor": 4
}
